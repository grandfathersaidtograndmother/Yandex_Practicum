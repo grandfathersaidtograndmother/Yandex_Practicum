{
 "cells": [
  {
   "cell_type": "markdown",
   "metadata": {},
   "source": [
    "# Описание проекта\n",
    "\n",
    "В рамках данного проекта мы исследуем поведение пользователей мобильного приложения нашего стартапа, который продаёт продукты питания. Основная задача заключается в том, чтобы понять, как пользователи проходят воронку продаж, выявить узкие места и оптимизировать путь к покупке.\n",
    "\n",
    "Основные задачи проекта:\n",
    "\n",
    "1. Анализ воронки продаж: \n",
    "   - Изучить, сколько пользователей доходит до стадии покупки и на каких именно этапах они «застревают». \n",
    "   - Выявить факторы, влияющие на отток пользователей на каждом шаге.\n",
    "\n",
    "2. Исследование результатов A/A/B-эксперимента: \n",
    "   - Проанализировать поведение пользователей в условиях изменений шрифтов в приложении. \n",
    "   - Оценить, как новые шрифты воспринимаются по сравнению с прежними.\n",
    "\n",
    "План работы:\n",
    "\n",
    "1. Провести анализ воронки продаж, выявить ключевые показатели эффективности.\n",
    "2. Реализовать A/A/B-тестирование: разделить пользователей на три группы — две контрольные с предыдущими шрифтами и одну экспериментальную с новыми. \n",
    "3. Сравнить результаты между группами, определить, какой шрифт лучше и почему.\n",
    "4. Рассмотреть, как полученные данные могут быть использованы для дальнейших улучшений приложения.\n",
    "\n",
    "Создание двух контрольных групп (A) вместо одной предоставляет дополнительные преимущества. Это позволит подтвердить точность проведенного тестирования: если результаты обеих контрольных групп совпадают, это увеличивает уверенность в результатах. В противном случае, значительные различия помогут выявить факторы, которые могли исказить данные.\n",
    "\n",
    "При работе с общей аналитикой и A/A/B-экспериментом важно использовать одни и те же данные. Наши аналитики будут учитывать качество работы приложения, опираясь на общие метрики, не забывая о принадлежности пользователей к экспериментальным группам.\n",
    "Ход проекта"
   ]
  },
  {
   "cell_type": "markdown",
   "metadata": {},
   "source": [
    "Описание данных\n",
    "\n",
    "Каждая запись в логе — это действие пользователя, или событие. \n",
    "\n",
    "EventName — название события;\n",
    "\n",
    "DeviceIDHash — уникальный идентификатор пользователя;\n",
    "\n",
    "EventTimestamp — время события;\n",
    "\n",
    "ExpId — номер эксперимента: 246 и 247 — контрольные группы, а 248 — экспериментальная."
   ]
  },
  {
   "cell_type": "markdown",
   "metadata": {},
   "source": []
  },
  {
   "cell_type": "markdown",
   "metadata": {},
   "source": [
    "# Подготовка данных\n",
    "## Загрузка данных"
   ]
  },
  {
   "cell_type": "code",
   "execution_count": 1,
   "metadata": {},
   "outputs": [],
   "source": [
    "# импортируем библиотеки\n",
    "\n",
    "import pandas as pd\n",
    "import numpy as np\n",
    "import math as mth\n",
    "\n",
    "import matplotlib.pyplot as plt\n",
    "\n",
    "from matplotlib.dates import DateFormatter\n",
    "import plotly.express as px\n",
    "from plotly import graph_objects as go\n",
    "\n",
    "import matplotlib as mpl\n",
    "import seaborn as sns\n",
    "import math\n",
    "import datetime as dt\n",
    "import scipy.stats as stats\n",
    "import datetime\n",
    "\n",
    "from scipy import stats as st\n",
    "\n",
    "# убираем scientific notation\n",
    "pd.set_option('display.float_format', lambda x: '%.3f' % x)\n",
    "\n",
    "# снимаем ограничение на количество столбцов и их ширину\n",
    "pd.set_option('display.max_columns', None)\n",
    "pd.set_option('display.max_colwidth', None)"
   ]
  },
  {
   "cell_type": "code",
   "execution_count": 2,
   "metadata": {},
   "outputs": [],
   "source": [
    "# загружаем данные\n",
    "\n",
    "df = pd.read_csv('/datasets/logs_exp.csv', sep='\\t')"
   ]
  },
  {
   "cell_type": "code",
   "execution_count": 3,
   "metadata": {},
   "outputs": [
    {
     "data": {
      "text/html": [
       "<div>\n",
       "<style scoped>\n",
       "    .dataframe tbody tr th:only-of-type {\n",
       "        vertical-align: middle;\n",
       "    }\n",
       "\n",
       "    .dataframe tbody tr th {\n",
       "        vertical-align: top;\n",
       "    }\n",
       "\n",
       "    .dataframe thead th {\n",
       "        text-align: right;\n",
       "    }\n",
       "</style>\n",
       "<table border=\"1\" class=\"dataframe\">\n",
       "  <thead>\n",
       "    <tr style=\"text-align: right;\">\n",
       "      <th></th>\n",
       "      <th>EventName</th>\n",
       "      <th>DeviceIDHash</th>\n",
       "      <th>EventTimestamp</th>\n",
       "      <th>ExpId</th>\n",
       "    </tr>\n",
       "  </thead>\n",
       "  <tbody>\n",
       "    <tr>\n",
       "      <th>12875</th>\n",
       "      <td>MainScreenAppear</td>\n",
       "      <td>65356103704674532</td>\n",
       "      <td>1564652969</td>\n",
       "      <td>246</td>\n",
       "    </tr>\n",
       "    <tr>\n",
       "      <th>200774</th>\n",
       "      <td>MainScreenAppear</td>\n",
       "      <td>5709312081244379159</td>\n",
       "      <td>1565105256</td>\n",
       "      <td>248</td>\n",
       "    </tr>\n",
       "    <tr>\n",
       "      <th>51647</th>\n",
       "      <td>MainScreenAppear</td>\n",
       "      <td>2606535053369966517</td>\n",
       "      <td>1564740879</td>\n",
       "      <td>246</td>\n",
       "    </tr>\n",
       "    <tr>\n",
       "      <th>237381</th>\n",
       "      <td>MainScreenAppear</td>\n",
       "      <td>8509969533334137079</td>\n",
       "      <td>1565196370</td>\n",
       "      <td>248</td>\n",
       "    </tr>\n",
       "    <tr>\n",
       "      <th>116657</th>\n",
       "      <td>MainScreenAppear</td>\n",
       "      <td>1205861688508008444</td>\n",
       "      <td>1564911031</td>\n",
       "      <td>248</td>\n",
       "    </tr>\n",
       "  </tbody>\n",
       "</table>\n",
       "</div>"
      ],
      "text/plain": [
       "               EventName         DeviceIDHash  EventTimestamp  ExpId\n",
       "12875   MainScreenAppear    65356103704674532      1564652969    246\n",
       "200774  MainScreenAppear  5709312081244379159      1565105256    248\n",
       "51647   MainScreenAppear  2606535053369966517      1564740879    246\n",
       "237381  MainScreenAppear  8509969533334137079      1565196370    248\n",
       "116657  MainScreenAppear  1205861688508008444      1564911031    248"
      ]
     },
     "execution_count": 3,
     "metadata": {},
     "output_type": "execute_result"
    }
   ],
   "source": [
    "df.sample(5)"
   ]
  },
  {
   "cell_type": "code",
   "execution_count": 4,
   "metadata": {},
   "outputs": [
    {
     "name": "stdout",
     "output_type": "stream",
     "text": [
      "<class 'pandas.core.frame.DataFrame'>\n",
      "RangeIndex: 244126 entries, 0 to 244125\n",
      "Data columns (total 4 columns):\n",
      " #   Column          Non-Null Count   Dtype \n",
      "---  ------          --------------   ----- \n",
      " 0   EventName       244126 non-null  object\n",
      " 1   DeviceIDHash    244126 non-null  int64 \n",
      " 2   EventTimestamp  244126 non-null  int64 \n",
      " 3   ExpId           244126 non-null  int64 \n",
      "dtypes: int64(3), object(1)\n",
      "memory usage: 7.5+ MB\n"
     ]
    }
   ],
   "source": [
    "df.info()"
   ]
  },
  {
   "cell_type": "markdown",
   "metadata": {},
   "source": [
    "Оценим данные, видно, что в датасете нет пропусков, также нужно будет поменять формат у столбца EventTimestamp, чтобы его можно было воспринимать"
   ]
  },
  {
   "cell_type": "markdown",
   "metadata": {},
   "source": [
    "## Предобработка данных\n",
    "Проверим датасет на наличие полных дубликатов"
   ]
  },
  {
   "cell_type": "code",
   "execution_count": 5,
   "metadata": {},
   "outputs": [
    {
     "name": "stdout",
     "output_type": "stream",
     "text": [
      "Количество полных дубликатов в orders 413\n",
      "Доля полных дубликатов 0.0016917493425526163\n"
     ]
    }
   ],
   "source": [
    "print('Количество полных дубликатов в orders', df.duplicated().sum())\n",
    "print('Доля полных дубликатов', df.duplicated().sum() / len(df))"
   ]
  },
  {
   "cell_type": "markdown",
   "metadata": {},
   "source": [
    "Учитывая, что доля повторов совсем небольшая, удалим их"
   ]
  },
  {
   "cell_type": "code",
   "execution_count": 6,
   "metadata": {},
   "outputs": [],
   "source": [
    "df = df.drop_duplicates().reset_index(drop=True)"
   ]
  },
  {
   "cell_type": "markdown",
   "metadata": {},
   "source": [
    "Изменим название столбцов, приведем их к нижнему регистру, чтобы не потерять читабельность, добавим нижние подчеркивания"
   ]
  },
  {
   "cell_type": "code",
   "execution_count": 7,
   "metadata": {},
   "outputs": [],
   "source": [
    "df = df.rename(columns={'EventName': 'event_name', 'DeviceIDHash': 'device_id_hash', \n",
    "                            'EventTimestamp': 'event_time_stamp', 'ExpId': 'exp_id'})"
   ]
  },
  {
   "cell_type": "markdown",
   "metadata": {},
   "source": [
    "Проверим датасет на неявные дубликаты"
   ]
  },
  {
   "cell_type": "code",
   "execution_count": 8,
   "metadata": {},
   "outputs": [
    {
     "data": {
      "text/plain": [
       "array(['MainScreenAppear', 'PaymentScreenSuccessful', 'CartScreenAppear',\n",
       "       'OffersScreenAppear', 'Tutorial'], dtype=object)"
      ]
     },
     "metadata": {},
     "output_type": "display_data"
    },
    {
     "data": {
      "text/plain": [
       "array([246, 248, 247])"
      ]
     },
     "metadata": {},
     "output_type": "display_data"
    }
   ],
   "source": [
    "display(df['event_name'].unique())\n",
    "display(df['exp_id'].unique())"
   ]
  },
  {
   "cell_type": "markdown",
   "metadata": {},
   "source": [
    "Неявные дубликаты не обнаружены\n",
    "\n",
    "Исправим формат данных в event_time_stamp"
   ]
  },
  {
   "cell_type": "code",
   "execution_count": 9,
   "metadata": {},
   "outputs": [],
   "source": [
    "df['event_time_stamp'] = pd.to_datetime(df['event_time_stamp'], unit='s')"
   ]
  },
  {
   "cell_type": "markdown",
   "metadata": {},
   "source": [
    "Также добавим столбец, в котором будет содержаться только дата"
   ]
  },
  {
   "cell_type": "code",
   "execution_count": 10,
   "metadata": {},
   "outputs": [],
   "source": [
    "df['event_date'] = pd.to_datetime(df['event_time_stamp'].dt.date)"
   ]
  },
  {
   "cell_type": "code",
   "execution_count": 11,
   "metadata": {},
   "outputs": [
    {
     "name": "stdout",
     "output_type": "stream",
     "text": [
      "<class 'pandas.core.frame.DataFrame'>\n",
      "RangeIndex: 243713 entries, 0 to 243712\n",
      "Data columns (total 5 columns):\n",
      " #   Column            Non-Null Count   Dtype         \n",
      "---  ------            --------------   -----         \n",
      " 0   event_name        243713 non-null  object        \n",
      " 1   device_id_hash    243713 non-null  int64         \n",
      " 2   event_time_stamp  243713 non-null  datetime64[ns]\n",
      " 3   exp_id            243713 non-null  int64         \n",
      " 4   event_date        243713 non-null  datetime64[ns]\n",
      "dtypes: datetime64[ns](2), int64(2), object(1)\n",
      "memory usage: 9.3+ MB\n"
     ]
    },
    {
     "data": {
      "text/html": [
       "<div>\n",
       "<style scoped>\n",
       "    .dataframe tbody tr th:only-of-type {\n",
       "        vertical-align: middle;\n",
       "    }\n",
       "\n",
       "    .dataframe tbody tr th {\n",
       "        vertical-align: top;\n",
       "    }\n",
       "\n",
       "    .dataframe thead th {\n",
       "        text-align: right;\n",
       "    }\n",
       "</style>\n",
       "<table border=\"1\" class=\"dataframe\">\n",
       "  <thead>\n",
       "    <tr style=\"text-align: right;\">\n",
       "      <th></th>\n",
       "      <th>event_name</th>\n",
       "      <th>device_id_hash</th>\n",
       "      <th>event_time_stamp</th>\n",
       "      <th>exp_id</th>\n",
       "      <th>event_date</th>\n",
       "    </tr>\n",
       "  </thead>\n",
       "  <tbody>\n",
       "    <tr>\n",
       "      <th>66297</th>\n",
       "      <td>CartScreenAppear</td>\n",
       "      <td>3119275309256631097</td>\n",
       "      <td>2019-08-02 16:49:10</td>\n",
       "      <td>246</td>\n",
       "      <td>2019-08-02</td>\n",
       "    </tr>\n",
       "  </tbody>\n",
       "</table>\n",
       "</div>"
      ],
      "text/plain": [
       "             event_name       device_id_hash    event_time_stamp  exp_id  \\\n",
       "66297  CartScreenAppear  3119275309256631097 2019-08-02 16:49:10     246   \n",
       "\n",
       "      event_date  \n",
       "66297 2019-08-02  "
      ]
     },
     "execution_count": 11,
     "metadata": {},
     "output_type": "execute_result"
    }
   ],
   "source": [
    "df.info()\n",
    "df.sample()"
   ]
  },
  {
   "cell_type": "markdown",
   "metadata": {},
   "source": [
    "Подведем итог, мы отредактировали названия столбцов, изменили формат даты, а также добавили отдельный столбец с датой. Также удалили полные дубликаты и проверили датасет на наличие неявных дубликатов."
   ]
  },
  {
   "cell_type": "markdown",
   "metadata": {},
   "source": [
    "## Изучение и проверка данных\n",
    "\n",
    "Анализ количества событий и пользователей. Среднее число событий на пользователя\n",
    "\n",
    "Для начала, посмотрим еще раз на список уникальных событий"
   ]
  },
  {
   "cell_type": "code",
   "execution_count": 12,
   "metadata": {},
   "outputs": [
    {
     "data": {
      "text/plain": [
       "array(['MainScreenAppear', 'PaymentScreenSuccessful', 'CartScreenAppear',\n",
       "       'OffersScreenAppear', 'Tutorial'], dtype=object)"
      ]
     },
     "execution_count": 12,
     "metadata": {},
     "output_type": "execute_result"
    }
   ],
   "source": [
    "df['event_name'].unique()"
   ]
  },
  {
   "cell_type": "markdown",
   "metadata": {},
   "source": [
    "В датафрейме содержатся 5 событий:\n",
    "\n",
    "    MainScreenAppear\n",
    "    PaymentScreenSuccessful\n",
    "    CartScreenAppear\n",
    "    OffersScreenAppear\n",
    "    Tutorial\n",
    "    \n",
    "Посмотрим, сколько всего записей содержится в датафрейме"
   ]
  },
  {
   "cell_type": "code",
   "execution_count": 13,
   "metadata": {},
   "outputs": [
    {
     "name": "stdout",
     "output_type": "stream",
     "text": [
      "Общее количество записей 243713\n"
     ]
    }
   ],
   "source": [
    "print('Общее количество записей', len(df))"
   ]
  },
  {
   "cell_type": "markdown",
   "metadata": {},
   "source": [
    "Посмотрим на количество записей в разбивке по событиям"
   ]
  },
  {
   "cell_type": "code",
   "execution_count": 14,
   "metadata": {},
   "outputs": [
    {
     "data": {
      "text/html": [
       "<div>\n",
       "<style scoped>\n",
       "    .dataframe tbody tr th:only-of-type {\n",
       "        vertical-align: middle;\n",
       "    }\n",
       "\n",
       "    .dataframe tbody tr th {\n",
       "        vertical-align: top;\n",
       "    }\n",
       "\n",
       "    .dataframe thead th {\n",
       "        text-align: right;\n",
       "    }\n",
       "</style>\n",
       "<table border=\"1\" class=\"dataframe\">\n",
       "  <thead>\n",
       "    <tr style=\"text-align: right;\">\n",
       "      <th></th>\n",
       "      <th>exp_id</th>\n",
       "    </tr>\n",
       "    <tr>\n",
       "      <th>event_name</th>\n",
       "      <th></th>\n",
       "    </tr>\n",
       "  </thead>\n",
       "  <tbody>\n",
       "    <tr>\n",
       "      <th>MainScreenAppear</th>\n",
       "      <td>119101</td>\n",
       "    </tr>\n",
       "    <tr>\n",
       "      <th>OffersScreenAppear</th>\n",
       "      <td>46808</td>\n",
       "    </tr>\n",
       "    <tr>\n",
       "      <th>CartScreenAppear</th>\n",
       "      <td>42668</td>\n",
       "    </tr>\n",
       "    <tr>\n",
       "      <th>PaymentScreenSuccessful</th>\n",
       "      <td>34118</td>\n",
       "    </tr>\n",
       "    <tr>\n",
       "      <th>Tutorial</th>\n",
       "      <td>1018</td>\n",
       "    </tr>\n",
       "  </tbody>\n",
       "</table>\n",
       "</div>"
      ],
      "text/plain": [
       "                         exp_id\n",
       "event_name                     \n",
       "MainScreenAppear         119101\n",
       "OffersScreenAppear        46808\n",
       "CartScreenAppear          42668\n",
       "PaymentScreenSuccessful   34118\n",
       "Tutorial                   1018"
      ]
     },
     "execution_count": 14,
     "metadata": {},
     "output_type": "execute_result"
    }
   ],
   "source": [
    "df.pivot_table(index='event_name', values='exp_id', aggfunc='count').sort_values(by='exp_id', ascending=False)"
   ]
  },
  {
   "cell_type": "markdown",
   "metadata": {},
   "source": [
    "Посмотрим на число уникальных пользователей"
   ]
  },
  {
   "cell_type": "code",
   "execution_count": 15,
   "metadata": {},
   "outputs": [
    {
     "name": "stdout",
     "output_type": "stream",
     "text": [
      "Общее количество пользователей: 7551\n"
     ]
    }
   ],
   "source": [
    "print('Общее количество пользователей:', df['device_id_hash'].nunique())"
   ]
  },
  {
   "cell_type": "code",
   "execution_count": 16,
   "metadata": {},
   "outputs": [
    {
     "name": "stdout",
     "output_type": "stream",
     "text": [
      "Среднее число событий на пользователя: 32 0\n"
     ]
    }
   ],
   "source": [
    "print('Среднее число событий на пользователя:', round((len(df) / df['device_id_hash'].nunique())), 0) "
   ]
  },
  {
   "cell_type": "code",
   "execution_count": 17,
   "metadata": {},
   "outputs": [
    {
     "data": {
      "text/html": [
       "<div>\n",
       "<style scoped>\n",
       "    .dataframe tbody tr th:only-of-type {\n",
       "        vertical-align: middle;\n",
       "    }\n",
       "\n",
       "    .dataframe tbody tr th {\n",
       "        vertical-align: top;\n",
       "    }\n",
       "\n",
       "    .dataframe thead th {\n",
       "        text-align: right;\n",
       "    }\n",
       "</style>\n",
       "<table border=\"1\" class=\"dataframe\">\n",
       "  <thead>\n",
       "    <tr style=\"text-align: right;\">\n",
       "      <th></th>\n",
       "      <th>device_id_hash</th>\n",
       "      <th>event_count</th>\n",
       "    </tr>\n",
       "  </thead>\n",
       "  <tbody>\n",
       "    <tr>\n",
       "      <th>count</th>\n",
       "      <td>7551.000</td>\n",
       "      <td>7551.000</td>\n",
       "    </tr>\n",
       "    <tr>\n",
       "      <th>mean</th>\n",
       "      <td>4677318727102441472.000</td>\n",
       "      <td>32.276</td>\n",
       "    </tr>\n",
       "    <tr>\n",
       "      <th>std</th>\n",
       "      <td>2655343100552021504.000</td>\n",
       "      <td>65.154</td>\n",
       "    </tr>\n",
       "    <tr>\n",
       "      <th>min</th>\n",
       "      <td>6888746892508752.000</td>\n",
       "      <td>1.000</td>\n",
       "    </tr>\n",
       "    <tr>\n",
       "      <th>25%</th>\n",
       "      <td>2397700422051031552.000</td>\n",
       "      <td>9.000</td>\n",
       "    </tr>\n",
       "    <tr>\n",
       "      <th>50%</th>\n",
       "      <td>4688021588771745792.000</td>\n",
       "      <td>20.000</td>\n",
       "    </tr>\n",
       "    <tr>\n",
       "      <th>75%</th>\n",
       "      <td>7007352523282521088.000</td>\n",
       "      <td>37.000</td>\n",
       "    </tr>\n",
       "    <tr>\n",
       "      <th>max</th>\n",
       "      <td>9222603179720523776.000</td>\n",
       "      <td>2307.000</td>\n",
       "    </tr>\n",
       "  </tbody>\n",
       "</table>\n",
       "</div>"
      ],
      "text/plain": [
       "               device_id_hash  event_count\n",
       "count                7551.000     7551.000\n",
       "mean  4677318727102441472.000       32.276\n",
       "std   2655343100552021504.000       65.154\n",
       "min      6888746892508752.000        1.000\n",
       "25%   2397700422051031552.000        9.000\n",
       "50%   4688021588771745792.000       20.000\n",
       "75%   7007352523282521088.000       37.000\n",
       "max   9222603179720523776.000     2307.000"
      ]
     },
     "execution_count": 17,
     "metadata": {},
     "output_type": "execute_result"
    }
   ],
   "source": [
    "df.groupby('device_id_hash').agg(event_count = ('event_name', 'count')).reset_index().describe()"
   ]
  },
  {
   "cell_type": "markdown",
   "metadata": {},
   "source": [
    "## Анализ изучаемого периода\n",
    "Посмотрим, данные за какой период представлены в датасете. Также определим минимальную и максимальную дату"
   ]
  },
  {
   "cell_type": "code",
   "execution_count": 18,
   "metadata": {},
   "outputs": [
    {
     "data": {
      "text/plain": [
       "count                           243713\n",
       "mean     2019-08-03 21:33:56.735012096\n",
       "min                2019-07-25 00:00:00\n",
       "25%                2019-08-02 00:00:00\n",
       "50%                2019-08-04 00:00:00\n",
       "75%                2019-08-06 00:00:00\n",
       "max                2019-08-07 00:00:00\n",
       "Name: event_date, dtype: object"
      ]
     },
     "execution_count": 18,
     "metadata": {},
     "output_type": "execute_result"
    }
   ],
   "source": [
    "df['event_date'].describe(datetime_is_numeric=True)"
   ]
  },
  {
   "cell_type": "markdown",
   "metadata": {},
   "source": [
    "У нас есть записи с 25.07.2019 по 07.08.2019\n",
    "\n",
    "Построим гистограмму распределения событий по дате и времени"
   ]
  },
  {
   "cell_type": "code",
   "execution_count": 19,
   "metadata": {},
   "outputs": [
    {
     "data": {
      "image/png": "[encoded data removed]",
      "text/plain": [
       "<Figure size 1080x360 with 1 Axes>"
      ]
     },
     "metadata": {
      "needs_background": "light"
     },
     "output_type": "display_data"
    }
   ],
   "source": [
    "plt.title('Распределение логов по дате и времени', loc='left')\n",
    "plt.xlabel('Дата')\n",
    "plt.ylabel('Количество записей') \n",
    "df['event_time_stamp'].hist(bins=100, xrot=15,  figsize=(15, 5))\n",
    "plt.show()"
   ]
  },
  {
   "cell_type": "markdown",
   "metadata": {},
   "source": [
    "Здесь видно, что до конца июля у нас очень мало данных. Обозначим начало изучаемого периода как 01.08.2019"
   ]
  },
  {
   "cell_type": "code",
   "execution_count": 20,
   "metadata": {},
   "outputs": [
    {
     "data": {
      "image/png": "[encoded data removed]",
      "text/plain": [
       "<Figure size 1080x360 with 1 Axes>"
      ]
     },
     "metadata": {
      "needs_background": "light"
     },
     "output_type": "display_data"
    }
   ],
   "source": [
    "plt.title('Распределение логов по дате и времени', loc='left')\n",
    "plt.xlabel('Дата')\n",
    "plt.ylabel('Количество записей') \n",
    "df['event_time_stamp'].hist(bins=100, xrot=15,  figsize=(15, 5))\n",
    "plt.xlim([datetime.date(2019, 8, 1), datetime.date(2019, 8, 7)])\n",
    "plt.show()"
   ]
  },
  {
   "cell_type": "markdown",
   "metadata": {},
   "source": [
    "Построим график распределения по времени дня"
   ]
  },
  {
   "cell_type": "code",
   "execution_count": 21,
   "metadata": {},
   "outputs": [
    {
     "data": {
      "image/png": "[encoded data removed]",
      "text/plain": [
       "<Figure size 1080x360 with 1 Axes>"
      ]
     },
     "metadata": {
      "needs_background": "light"
     },
     "output_type": "display_data"
    }
   ],
   "source": [
    "plt.title('Распределение логов по дате и времени', loc='left')\n",
    "plt.xlabel('Время')\n",
    "plt.ylabel('Количество записей') \n",
    "df['event_time_stamp'].dt.hour.hist(bins=24, xrot=15,  figsize=(15, 5))\n",
    "plt.show()"
   ]
  },
  {
   "cell_type": "code",
   "execution_count": 22,
   "metadata": {},
   "outputs": [
    {
     "data": {
      "image/png": "[encoded data removed]",
      "text/plain": [
       "<Figure size 1080x360 with 1 Axes>"
      ]
     },
     "metadata": {
      "needs_background": "light"
     },
     "output_type": "display_data"
    }
   ],
   "source": [
    "# Получаем количество событий для каждого часа дня\n",
    "event_counts_by_hour = df['event_time_stamp'].dt.hour.value_counts().sort_index()\n",
    "\n",
    "# Строим столбчатую диаграмму\n",
    "plt.figure(figsize=(15, 5))\n",
    "event_counts_by_hour.plot(kind='bar')\n",
    "\n",
    "# Настраиваем оформление графика\n",
    "plt.title('Распределение логов по времени', loc='left')\n",
    "plt.xlabel('Время (часы)')\n",
    "plt.ylabel('Количество записей')\n",
    "plt.xticks(range(24), [f\"{i:02d}:00\" for i in range(24)], rotation=0)\n",
    "plt.tight_layout()\n",
    "plt.show()"
   ]
  },
  {
   "cell_type": "code",
   "execution_count": null,
   "metadata": {},
   "outputs": [],
   "source": []
  },
  {
   "cell_type": "markdown",
   "metadata": {},
   "source": [
    "Здесь мы видим, что наибольшая активность достигается днем - в 14 - 15 часов\n",
    "\n",
    "**Вывод**\n",
    "\n",
    "Проведя анализ периода, мы выяснили, что в логе отсутствует значительная часть данных за июль. Исключим эти данные из датафрейма, чтобы избежать аномалий при анализе"
   ]
  },
  {
   "cell_type": "code",
   "execution_count": 23,
   "metadata": {
    "scrolled": true
   },
   "outputs": [
    {
     "data": {
      "image/png": "[encoded data removed]",
      "text/plain": [
       "<Figure size 720x432 with 1 Axes>"
      ]
     },
     "metadata": {
      "needs_background": "light"
     },
     "output_type": "display_data"
    }
   ],
   "source": [
    "# Группируем данные по exp_id и считаем количество событий в каждой группе\n",
    "grouped_data = df['exp_id'].value_counts()\n",
    "\n",
    "# Строим гистограмму\n",
    "plt.figure(figsize=(10, 6))\n",
    "grouped_data.plot(kind='bar', color=['blue', 'orange', 'green'])\n",
    "\n",
    "plt.title('Количество событий по группам', loc='left')\n",
    "plt.xlabel('Группа эксперимента (exp_id)')\n",
    "plt.ylabel('Количество событий')\n",
    "plt.xticks(rotation=0)\n",
    "plt.tight_layout()\n",
    "plt.show()"
   ]
  },
  {
   "cell_type": "code",
   "execution_count": 24,
   "metadata": {},
   "outputs": [
    {
     "data": {
      "text/html": [
       "<div>\n",
       "<style scoped>\n",
       "    .dataframe tbody tr th:only-of-type {\n",
       "        vertical-align: middle;\n",
       "    }\n",
       "\n",
       "    .dataframe tbody tr th {\n",
       "        vertical-align: top;\n",
       "    }\n",
       "\n",
       "    .dataframe thead th {\n",
       "        text-align: right;\n",
       "    }\n",
       "</style>\n",
       "<table border=\"1\" class=\"dataframe\">\n",
       "  <thead>\n",
       "    <tr style=\"text-align: right;\">\n",
       "      <th></th>\n",
       "      <th>event_name</th>\n",
       "      <th>device_id_hash</th>\n",
       "      <th>event_time_stamp</th>\n",
       "      <th>exp_id</th>\n",
       "      <th>event_date</th>\n",
       "    </tr>\n",
       "  </thead>\n",
       "  <tbody>\n",
       "    <tr>\n",
       "      <th>0</th>\n",
       "      <td>MainScreenAppear</td>\n",
       "      <td>4575588528974610257</td>\n",
       "      <td>2019-07-25 04:43:36</td>\n",
       "      <td>246</td>\n",
       "      <td>2019-07-25</td>\n",
       "    </tr>\n",
       "    <tr>\n",
       "      <th>1</th>\n",
       "      <td>MainScreenAppear</td>\n",
       "      <td>7416695313311560658</td>\n",
       "      <td>2019-07-25 11:11:42</td>\n",
       "      <td>246</td>\n",
       "      <td>2019-07-25</td>\n",
       "    </tr>\n",
       "    <tr>\n",
       "      <th>2</th>\n",
       "      <td>PaymentScreenSuccessful</td>\n",
       "      <td>3518123091307005509</td>\n",
       "      <td>2019-07-25 11:28:47</td>\n",
       "      <td>248</td>\n",
       "      <td>2019-07-25</td>\n",
       "    </tr>\n",
       "    <tr>\n",
       "      <th>3</th>\n",
       "      <td>CartScreenAppear</td>\n",
       "      <td>3518123091307005509</td>\n",
       "      <td>2019-07-25 11:28:47</td>\n",
       "      <td>248</td>\n",
       "      <td>2019-07-25</td>\n",
       "    </tr>\n",
       "    <tr>\n",
       "      <th>4</th>\n",
       "      <td>PaymentScreenSuccessful</td>\n",
       "      <td>6217807653094995999</td>\n",
       "      <td>2019-07-25 11:48:42</td>\n",
       "      <td>248</td>\n",
       "      <td>2019-07-25</td>\n",
       "    </tr>\n",
       "  </tbody>\n",
       "</table>\n",
       "</div>"
      ],
      "text/plain": [
       "                event_name       device_id_hash    event_time_stamp  exp_id  \\\n",
       "0         MainScreenAppear  4575588528974610257 2019-07-25 04:43:36     246   \n",
       "1         MainScreenAppear  7416695313311560658 2019-07-25 11:11:42     246   \n",
       "2  PaymentScreenSuccessful  3518123091307005509 2019-07-25 11:28:47     248   \n",
       "3         CartScreenAppear  3518123091307005509 2019-07-25 11:28:47     248   \n",
       "4  PaymentScreenSuccessful  6217807653094995999 2019-07-25 11:48:42     248   \n",
       "\n",
       "  event_date  \n",
       "0 2019-07-25  \n",
       "1 2019-07-25  \n",
       "2 2019-07-25  \n",
       "3 2019-07-25  \n",
       "4 2019-07-25  "
      ]
     },
     "execution_count": 24,
     "metadata": {},
     "output_type": "execute_result"
    }
   ],
   "source": [
    "df.head(5)"
   ]
  },
  {
   "cell_type": "code",
   "execution_count": 25,
   "metadata": {},
   "outputs": [],
   "source": [
    "df['event_date'] = pd.to_datetime(df['event_date']).dt.date"
   ]
  },
  {
   "cell_type": "code",
   "execution_count": 26,
   "metadata": {},
   "outputs": [
    {
     "name": "stdout",
     "output_type": "stream",
     "text": [
      "exp_id        246    247    248\n",
      "event_date                     \n",
      "2019-07-25      4      1      4\n",
      "2019-07-26     14      8      9\n",
      "2019-07-27     24     23      8\n",
      "2019-07-28     33     36     36\n",
      "2019-07-29     55     58     71\n",
      "2019-07-30    129    138    145\n",
      "2019-07-31    620    664    746\n",
      "2019-08-01  11561  12306  12274\n",
      "2019-08-02  10946  10990  13618\n",
      "2019-08-03  10575  11024  11683\n",
      "2019-08-04  11514   9942  11512\n",
      "2019-08-05  12368  10949  12741\n",
      "2019-08-06  11726  11720  12342\n",
      "2019-08-07  10612  10091  10393\n"
     ]
    }
   ],
   "source": [
    "# Создаем сводную таблицу\n",
    "pivot_table = df.pivot_table(index='event_date', columns='exp_id', aggfunc='size', fill_value=0)\n",
    "print(pivot_table)"
   ]
  },
  {
   "cell_type": "code",
   "execution_count": 27,
   "metadata": {},
   "outputs": [
    {
     "data": {
      "image/png": "[encoded data removed]",
      "text/plain": [
       "<Figure size 1080x504 with 1 Axes>"
      ]
     },
     "metadata": {
      "needs_background": "light"
     },
     "output_type": "display_data"
    }
   ],
   "source": [
    "# Построение столбчатой диаграммы\n",
    "plt.figure(figsize=(15, 7))\n",
    "pivot_table.plot(kind='bar', ax=plt.gca())\n",
    "\n",
    "plt.title('Распределение событий по дням с разбивкой по группам', loc='left')\n",
    "plt.xlabel('Дата')\n",
    "plt.ylabel('Количество событий')\n",
    "plt.xticks(rotation=45)\n",
    "plt.tight_layout()\n",
    "\n",
    "# Отображение графика\n",
    "plt.show()"
   ]
  },
  {
   "cell_type": "markdown",
   "metadata": {},
   "source": [
    "# Много ли событий и пользователей мы потеряли, отбросив старые данные?\n",
    "\n",
    "Посмотрим еще раз, сколько всего у нас пользователей"
   ]
  },
  {
   "cell_type": "code",
   "execution_count": 28,
   "metadata": {},
   "outputs": [
    {
     "name": "stdout",
     "output_type": "stream",
     "text": [
      "Всего записей в датасете: 243713\n",
      "Всего пользователей в датасете: 7551\n"
     ]
    }
   ],
   "source": [
    "print('Всего записей в датасете:', len(df['event_name']))\n",
    "print('Всего пользователей в датасете:', df['device_id_hash'].nunique())"
   ]
  },
  {
   "cell_type": "markdown",
   "metadata": {},
   "source": [
    "Теперь посмотрим, какую долю составляют данные за июль от общего числа"
   ]
  },
  {
   "cell_type": "code",
   "execution_count": 29,
   "metadata": {},
   "outputs": [
    {
     "ename": "TypeError",
     "evalue": "'>=' not supported between instances of 'datetime.date' and 'str'",
     "output_type": "error",
     "traceback": [
      "\u001b[0;31m---------------------------------------------------------------------------\u001b[0m",
      "\u001b[0;31mTypeError\u001b[0m                                 Traceback (most recent call last)",
      "\u001b[0;32m/tmp/ipykernel_272/2183925324.py\u001b[0m in \u001b[0;36m<module>\u001b[0;34m\u001b[0m\n\u001b[0;32m----> 1\u001b[0;31m \u001b[0mdf_no_july\u001b[0m \u001b[0;34m=\u001b[0m \u001b[0mdf\u001b[0m\u001b[0;34m[\u001b[0m\u001b[0mdf\u001b[0m\u001b[0;34m[\u001b[0m\u001b[0;34m'event_date'\u001b[0m\u001b[0;34m]\u001b[0m \u001b[0;34m>=\u001b[0m \u001b[0;34m'2019-08-01'\u001b[0m\u001b[0;34m]\u001b[0m\u001b[0;34m\u001b[0m\u001b[0;34m\u001b[0m\u001b[0m\n\u001b[0m\u001b[1;32m      2\u001b[0m \u001b[0;34m\u001b[0m\u001b[0m\n\u001b[1;32m      3\u001b[0m \u001b[0;31m# сколько пользователей и событий потеряем при изменении периода\u001b[0m\u001b[0;34m\u001b[0m\u001b[0;34m\u001b[0m\u001b[0;34m\u001b[0m\u001b[0m\n\u001b[1;32m      4\u001b[0m print(\n\u001b[1;32m      5\u001b[0m     \u001b[0;34m'Сколько пользователей потеряем при изменении периода'\u001b[0m\u001b[0;34m,\u001b[0m\u001b[0;34m\u001b[0m\u001b[0;34m\u001b[0m\u001b[0m\n",
      "\u001b[0;32m/opt/conda/lib/python3.9/site-packages/pandas/core/ops/common.py\u001b[0m in \u001b[0;36mnew_method\u001b[0;34m(self, other)\u001b[0m\n\u001b[1;32m     63\u001b[0m         \u001b[0mother\u001b[0m \u001b[0;34m=\u001b[0m \u001b[0mitem_from_zerodim\u001b[0m\u001b[0;34m(\u001b[0m\u001b[0mother\u001b[0m\u001b[0;34m)\u001b[0m\u001b[0;34m\u001b[0m\u001b[0;34m\u001b[0m\u001b[0m\n\u001b[1;32m     64\u001b[0m \u001b[0;34m\u001b[0m\u001b[0m\n\u001b[0;32m---> 65\u001b[0;31m         \u001b[0;32mreturn\u001b[0m \u001b[0mmethod\u001b[0m\u001b[0;34m(\u001b[0m\u001b[0mself\u001b[0m\u001b[0;34m,\u001b[0m \u001b[0mother\u001b[0m\u001b[0;34m)\u001b[0m\u001b[0;34m\u001b[0m\u001b[0;34m\u001b[0m\u001b[0m\n\u001b[0m\u001b[1;32m     66\u001b[0m \u001b[0;34m\u001b[0m\u001b[0m\n\u001b[1;32m     67\u001b[0m     \u001b[0;32mreturn\u001b[0m \u001b[0mnew_method\u001b[0m\u001b[0;34m\u001b[0m\u001b[0;34m\u001b[0m\u001b[0m\n",
      "\u001b[0;32m/opt/conda/lib/python3.9/site-packages/pandas/core/arraylike.py\u001b[0m in \u001b[0;36m__ge__\u001b[0;34m(self, other)\u001b[0m\n\u001b[1;32m     47\u001b[0m     \u001b[0;34m@\u001b[0m\u001b[0munpack_zerodim_and_defer\u001b[0m\u001b[0;34m(\u001b[0m\u001b[0;34m\"__ge__\"\u001b[0m\u001b[0;34m)\u001b[0m\u001b[0;34m\u001b[0m\u001b[0;34m\u001b[0m\u001b[0m\n\u001b[1;32m     48\u001b[0m     \u001b[0;32mdef\u001b[0m \u001b[0m__ge__\u001b[0m\u001b[0;34m(\u001b[0m\u001b[0mself\u001b[0m\u001b[0;34m,\u001b[0m \u001b[0mother\u001b[0m\u001b[0;34m)\u001b[0m\u001b[0;34m:\u001b[0m\u001b[0;34m\u001b[0m\u001b[0;34m\u001b[0m\u001b[0m\n\u001b[0;32m---> 49\u001b[0;31m         \u001b[0;32mreturn\u001b[0m \u001b[0mself\u001b[0m\u001b[0;34m.\u001b[0m\u001b[0m_cmp_method\u001b[0m\u001b[0;34m(\u001b[0m\u001b[0mother\u001b[0m\u001b[0;34m,\u001b[0m \u001b[0moperator\u001b[0m\u001b[0;34m.\u001b[0m\u001b[0mge\u001b[0m\u001b[0;34m)\u001b[0m\u001b[0;34m\u001b[0m\u001b[0;34m\u001b[0m\u001b[0m\n\u001b[0m\u001b[1;32m     50\u001b[0m \u001b[0;34m\u001b[0m\u001b[0m\n\u001b[1;32m     51\u001b[0m     \u001b[0;31m# -------------------------------------------------------------\u001b[0m\u001b[0;34m\u001b[0m\u001b[0;34m\u001b[0m\u001b[0;34m\u001b[0m\u001b[0m\n",
      "\u001b[0;32m/opt/conda/lib/python3.9/site-packages/pandas/core/series.py\u001b[0m in \u001b[0;36m_cmp_method\u001b[0;34m(self, other, op)\u001b[0m\n\u001b[1;32m   4976\u001b[0m         \u001b[0mrvalues\u001b[0m \u001b[0;34m=\u001b[0m \u001b[0mextract_array\u001b[0m\u001b[0;34m(\u001b[0m\u001b[0mother\u001b[0m\u001b[0;34m,\u001b[0m \u001b[0mextract_numpy\u001b[0m\u001b[0;34m=\u001b[0m\u001b[0;32mTrue\u001b[0m\u001b[0;34m)\u001b[0m\u001b[0;34m\u001b[0m\u001b[0;34m\u001b[0m\u001b[0m\n\u001b[1;32m   4977\u001b[0m \u001b[0;34m\u001b[0m\u001b[0m\n\u001b[0;32m-> 4978\u001b[0;31m         \u001b[0mres_values\u001b[0m \u001b[0;34m=\u001b[0m \u001b[0mops\u001b[0m\u001b[0;34m.\u001b[0m\u001b[0mcomparison_op\u001b[0m\u001b[0;34m(\u001b[0m\u001b[0mlvalues\u001b[0m\u001b[0;34m,\u001b[0m \u001b[0mrvalues\u001b[0m\u001b[0;34m,\u001b[0m \u001b[0mop\u001b[0m\u001b[0;34m)\u001b[0m\u001b[0;34m\u001b[0m\u001b[0;34m\u001b[0m\u001b[0m\n\u001b[0m\u001b[1;32m   4979\u001b[0m \u001b[0;34m\u001b[0m\u001b[0m\n\u001b[1;32m   4980\u001b[0m         \u001b[0;32mreturn\u001b[0m \u001b[0mself\u001b[0m\u001b[0;34m.\u001b[0m\u001b[0m_construct_result\u001b[0m\u001b[0;34m(\u001b[0m\u001b[0mres_values\u001b[0m\u001b[0;34m,\u001b[0m \u001b[0mname\u001b[0m\u001b[0;34m=\u001b[0m\u001b[0mres_name\u001b[0m\u001b[0;34m)\u001b[0m\u001b[0;34m\u001b[0m\u001b[0;34m\u001b[0m\u001b[0m\n",
      "\u001b[0;32m/opt/conda/lib/python3.9/site-packages/pandas/core/ops/array_ops.py\u001b[0m in \u001b[0;36mcomparison_op\u001b[0;34m(left, right, op)\u001b[0m\n\u001b[1;32m    241\u001b[0m \u001b[0;34m\u001b[0m\u001b[0m\n\u001b[1;32m    242\u001b[0m     \u001b[0;32melif\u001b[0m \u001b[0mis_object_dtype\u001b[0m\u001b[0;34m(\u001b[0m\u001b[0mlvalues\u001b[0m\u001b[0;34m.\u001b[0m\u001b[0mdtype\u001b[0m\u001b[0;34m)\u001b[0m\u001b[0;34m:\u001b[0m\u001b[0;34m\u001b[0m\u001b[0;34m\u001b[0m\u001b[0m\n\u001b[0;32m--> 243\u001b[0;31m         \u001b[0mres_values\u001b[0m \u001b[0;34m=\u001b[0m \u001b[0mcomp_method_OBJECT_ARRAY\u001b[0m\u001b[0;34m(\u001b[0m\u001b[0mop\u001b[0m\u001b[0;34m,\u001b[0m \u001b[0mlvalues\u001b[0m\u001b[0;34m,\u001b[0m \u001b[0mrvalues\u001b[0m\u001b[0;34m)\u001b[0m\u001b[0;34m\u001b[0m\u001b[0;34m\u001b[0m\u001b[0m\n\u001b[0m\u001b[1;32m    244\u001b[0m \u001b[0;34m\u001b[0m\u001b[0m\n\u001b[1;32m    245\u001b[0m     \u001b[0;32melse\u001b[0m\u001b[0;34m:\u001b[0m\u001b[0;34m\u001b[0m\u001b[0;34m\u001b[0m\u001b[0m\n",
      "\u001b[0;32m/opt/conda/lib/python3.9/site-packages/pandas/core/ops/array_ops.py\u001b[0m in \u001b[0;36mcomp_method_OBJECT_ARRAY\u001b[0;34m(op, x, y)\u001b[0m\n\u001b[1;32m     53\u001b[0m         \u001b[0mresult\u001b[0m \u001b[0;34m=\u001b[0m \u001b[0mlibops\u001b[0m\u001b[0;34m.\u001b[0m\u001b[0mvec_compare\u001b[0m\u001b[0;34m(\u001b[0m\u001b[0mx\u001b[0m\u001b[0;34m.\u001b[0m\u001b[0mravel\u001b[0m\u001b[0;34m(\u001b[0m\u001b[0;34m)\u001b[0m\u001b[0;34m,\u001b[0m \u001b[0my\u001b[0m\u001b[0;34m.\u001b[0m\u001b[0mravel\u001b[0m\u001b[0;34m(\u001b[0m\u001b[0;34m)\u001b[0m\u001b[0;34m,\u001b[0m \u001b[0mop\u001b[0m\u001b[0;34m)\u001b[0m\u001b[0;34m\u001b[0m\u001b[0;34m\u001b[0m\u001b[0m\n\u001b[1;32m     54\u001b[0m     \u001b[0;32melse\u001b[0m\u001b[0;34m:\u001b[0m\u001b[0;34m\u001b[0m\u001b[0;34m\u001b[0m\u001b[0m\n\u001b[0;32m---> 55\u001b[0;31m         \u001b[0mresult\u001b[0m \u001b[0;34m=\u001b[0m \u001b[0mlibops\u001b[0m\u001b[0;34m.\u001b[0m\u001b[0mscalar_compare\u001b[0m\u001b[0;34m(\u001b[0m\u001b[0mx\u001b[0m\u001b[0;34m.\u001b[0m\u001b[0mravel\u001b[0m\u001b[0;34m(\u001b[0m\u001b[0;34m)\u001b[0m\u001b[0;34m,\u001b[0m \u001b[0my\u001b[0m\u001b[0;34m,\u001b[0m \u001b[0mop\u001b[0m\u001b[0;34m)\u001b[0m\u001b[0;34m\u001b[0m\u001b[0;34m\u001b[0m\u001b[0m\n\u001b[0m\u001b[1;32m     56\u001b[0m     \u001b[0;32mreturn\u001b[0m \u001b[0mresult\u001b[0m\u001b[0;34m.\u001b[0m\u001b[0mreshape\u001b[0m\u001b[0;34m(\u001b[0m\u001b[0mx\u001b[0m\u001b[0;34m.\u001b[0m\u001b[0mshape\u001b[0m\u001b[0;34m)\u001b[0m\u001b[0;34m\u001b[0m\u001b[0;34m\u001b[0m\u001b[0m\n\u001b[1;32m     57\u001b[0m \u001b[0;34m\u001b[0m\u001b[0m\n",
      "\u001b[0;32mpandas/_libs/ops.pyx\u001b[0m in \u001b[0;36mpandas._libs.ops.scalar_compare\u001b[0;34m()\u001b[0m\n",
      "\u001b[0;31mTypeError\u001b[0m: '>=' not supported between instances of 'datetime.date' and 'str'"
     ]
    }
   ],
   "source": [
    "df_no_july = df[df['event_date'] >= '2019-08-01']\n",
    "\n",
    "# сколько пользователей и событий потеряем при изменении периода\n",
    "print(\n",
    "    'Сколько пользователей потеряем при изменении периода', \n",
    "    df['device_id_hash'].nunique() - df_no_july['device_id_hash'].nunique()\n",
    ")\n",
    "print('Сколько событий потеряем при изменении периода', \n",
    "    len(df['event_name']) - len(df_no_july['event_name'])\n",
    ")\n",
    "\n",
    "# доля потерянных данных от общего числа\n",
    "print(\n",
    "    'Доля потерянных пользователей при изменении периода', \n",
    "    (df['device_id_hash'].nunique() - df_no_july['device_id_hash'].nunique()) \n",
    "    / df['device_id_hash'].nunique() * 100\n",
    ")\n",
    "\n",
    "print('Доля потерянных событий при изменении периода', \n",
    "    (len(df['event_name']) - len(df_no_july['event_name'])) \n",
    "      / len(df['event_name']) * 100\n",
    ")"
   ]
  },
  {
   "cell_type": "markdown",
   "metadata": {},
   "source": [
    "Мы видим, что потеря в пользователях и в записях незначительные"
   ]
  },
  {
   "cell_type": "code",
   "execution_count": null,
   "metadata": {},
   "outputs": [],
   "source": [
    "df = df[df['event_date'] >= '2019-08-01']"
   ]
  },
  {
   "cell_type": "code",
   "execution_count": null,
   "metadata": {},
   "outputs": [],
   "source": [
    "print('Записей в датасете ПОСЛЕ удаления:', len(df['event_name']))\n",
    "print('Пользователей в датасете ПОСЛЕ удаления:', df['device_id_hash'].nunique())"
   ]
  },
  {
   "cell_type": "markdown",
   "metadata": {},
   "source": [
    "Как мы видим, после удаления неполных данных за июль, мы потеряли только 17 пользователей. Всего мы удалили 2826 записей.\n",
    "\n",
    "Проверьте, что у вас есть пользователи из всех трёх экспериментальных групп\n",
    "\n",
    "Проверим, что в очищенном датасете остались пользователи из всех трех экспериментальных групп"
   ]
  },
  {
   "cell_type": "code",
   "execution_count": null,
   "metadata": {},
   "outputs": [],
   "source": [
    "# униикальные пользователи по группам\n",
    "display(df.groupby('exp_id').agg({'device_id_hash': 'nunique'}))\n",
    "\n",
    "# общее число пользователей по группам\n",
    "display(df.groupby('exp_id').agg({'device_id_hash': 'count'}))"
   ]
  },
  {
   "cell_type": "markdown",
   "metadata": {},
   "source": [
    "Группы незначительно различаются по количеству уникальных пользователей и числу записей.\n",
    "\n",
    "Группа 248 содержит наибольшее число уникальных пользователей и записей в целом.\n",
    "\n",
    "После удаления данных за июль у нас остались данные о всех трех группах"
   ]
  },
  {
   "cell_type": "markdown",
   "metadata": {},
   "source": [
    "## Анализ воронки событий\n",
    "\n",
    "Посмотрите, какие события есть в логах, как часто они встречаются. \n",
    "Отсортируйте события по частоте\n",
    "Начнем с анализа частоты событий. Посмотрим, какие события встречаются чаще всего."
   ]
  },
  {
   "cell_type": "code",
   "execution_count": null,
   "metadata": {},
   "outputs": [],
   "source": [
    "event_count = df['event_name'].value_counts().reset_index().sort_values(by='event_name', ascending=False)\n",
    "event_count"
   ]
  },
  {
   "cell_type": "code",
   "execution_count": null,
   "metadata": {},
   "outputs": [],
   "source": [
    "f, ax = plt.subplots(figsize = (15, 8))\n",
    "ax = sns.barplot(x = 'event_name', y = event_count['index'], \\\n",
    "                 data = event_count, \\\n",
    "                 orient = 'h', palette = 'Paired')\n",
    "plt.title('Частота событий')\n",
    "ax.set(xlabel = 'Количество', ylabel = 'Событие')\n",
    "plt.xticks(rotation=45)\n",
    "plt.grid()\n",
    "sns.despine()\n",
    "plt.show()"
   ]
  },
  {
   "cell_type": "markdown",
   "metadata": {},
   "source": [
    "При анализе суммарного количества событий мы получаем следующую последовательность:\n",
    "\n",
    "    MainScreenAppear - 117328\n",
    "    OffersScreenAppear - 46333\n",
    "    CartScreenAppear - 42303\n",
    "    PaymentScreenSuccessful - 33918\n",
    "    Tutorial - 1005"
   ]
  },
  {
   "cell_type": "markdown",
   "metadata": {},
   "source": [
    "**Посчитайте, сколько пользователей совершали каждое из этих событий. \n",
    "Отсортируйте события по числу пользователей. Посчитайте долю пользователей, которые хоть раз совершали событие.**\n",
    "\n",
    "Посчитаем число пользователей для каждого события, а также долю пользователей\n"
   ]
  },
  {
   "cell_type": "code",
   "execution_count": null,
   "metadata": {},
   "outputs": [],
   "source": [
    "event_users = (\n",
    "    df.\n",
    "    groupby('event_name').\n",
    "    agg({'device_id_hash': 'nunique'})\n",
    "    .reset_index()\n",
    "    .rename(columns={'device_id_hash' : 'total_users'})\n",
    "    .sort_values(by='total_users', ascending=False)\n",
    ")\n",
    "event_users['ratio'] = event_users['total_users'] / df['device_id_hash'].nunique() * 100\n",
    "event_users"
   ]
  },
  {
   "cell_type": "markdown",
   "metadata": {},
   "source": [
    "Как и на предыдущем шаге мы получили последовательность:\n",
    "\n",
    "    MainScreenAppear - 7419 (98.474%)\n",
    "    OffersScreenAppear - 4593 (60.964%)\n",
    "    CartScreenAppear - 3734 (49.562%)\n",
    "    PaymentScreenSuccessful - 3539 (46.974%)\n",
    "    Tutorial - 840 (11.149%)"
   ]
  },
  {
   "cell_type": "markdown",
   "metadata": {},
   "source": [
    "**Предположите, в каком порядке происходят события. Все ли они выстраиваются в последовательную цепочку? Их не нужно учитывать при расчёте воронки.**\n",
    "\n",
    "Сильнее всего отличаются показатели у события Tutorial, это событие прошли лишь 11% всех пользователей. Можно сделать предположение (исходя из названия события), что Tutorial - это необязательное событие, которое встречается новым пользователям и в рамках которого, пользователь учится работать с приложением. Многие пользователи пропускают его, поэтому у этого события такие низкие показатели.\n",
    "\n",
    "Предлагаю убрать его из воронки."
   ]
  },
  {
   "cell_type": "code",
   "execution_count": null,
   "metadata": {},
   "outputs": [],
   "source": [
    "event_users = event_users[event_users['event_name'] != 'Tutorial']\n",
    "\n",
    "f, ax = plt.subplots(figsize = (15, 8))\n",
    "\n",
    "sns.barplot(x = 'total_users', y = event_users['event_name'], \\\n",
    "                 data = event_users, \\\n",
    "                 orient = 'h', palette = 'Paired')\n",
    "\n",
    "plt.title('Частота событий')\n",
    "ax.set(xlabel = 'Пользователи', ylabel = 'Событие')\n",
    "plt.xticks(rotation=45)\n",
    "plt.grid()\n",
    "sns.despine()\n",
    "plt.show()"
   ]
  },
  {
   "cell_type": "code",
   "execution_count": null,
   "metadata": {},
   "outputs": [],
   "source": [
    "fig = go.Figure(go.Funnel(y = event_users['event_name'],\n",
    "                          x = event_users['total_users'],\n",
    "                          opacity = 0.6,\n",
    "                          textposition = 'inside',\n",
    "                          textinfo = 'value + percent previous'))\n",
    "fig.update_layout(title_text='Воронка')\n",
    "fig.show()"
   ]
  },
  {
   "cell_type": "markdown",
   "metadata": {},
   "source": [
    "**Какая доля пользователей проходит на следующий шаг воронки (от числа пользователей на предыдущем).**\n",
    "\n",
    "Посчитаем, какая доля пользователей проходит на следующий этап (от числа пользователей на предыдущем шаге)."
   ]
  },
  {
   "cell_type": "code",
   "execution_count": null,
   "metadata": {},
   "outputs": [],
   "source": [
    "# процент перехода с шага 1 на 2\n",
    "print(\n",
    "    'Процент перехода с шага MainScreenAppear на OffersScreenAppear', \n",
    "    round(float(event_users['total_users'][event_users['event_name'] == 'OffersScreenAppear']) / \n",
    "     float(event_users['total_users'][event_users['event_name'] == 'MainScreenAppear']) * 100, 2)\n",
    ")\n",
    "\n",
    "# процент перехода с шага 2 на 3\n",
    "print(\n",
    "    'Процент перехода с шага OffersScreenAppear на CartScreenAppear', \n",
    "    round(float(event_users['total_users'][event_users['event_name'] == 'CartScreenAppear']) / \n",
    "     float(event_users['total_users'][event_users['event_name'] == 'OffersScreenAppear']) * 100, 2)\n",
    ")\n",
    "\n",
    "# процент перехода с шага 3 на 4\n",
    "print(\n",
    "    'Процент перехода с шага CartScreenAppear на PaymentScreenSuccessful', \n",
    "    round(float(event_users['total_users'][event_users['event_name'] == 'PaymentScreenSuccessful']) / \n",
    "     float(event_users['total_users'][event_users['event_name'] == 'CartScreenAppear']) * 100, 2)\n",
    ")"
   ]
  },
  {
   "cell_type": "markdown",
   "metadata": {},
   "source": [
    "**На каком шаге теряете больше всего пользователей?**\n",
    "\n",
    "Больше всего пользователей отваливается при переходе с шага MainScreenAppear на OffersScreenAppear - ~ 38%"
   ]
  },
  {
   "cell_type": "markdown",
   "metadata": {},
   "source": [
    "**Какая доля пользователей доходит от первого события до оплаты?**"
   ]
  },
  {
   "cell_type": "code",
   "execution_count": null,
   "metadata": {},
   "outputs": [],
   "source": [
    "print(\n",
    "    'Процент перехода с шага MainScreenAppear на PaymentScreenSuccessful', \n",
    "    round(float(event_users['total_users'][event_users['event_name'] == 'PaymentScreenSuccessful']) / \n",
    "     float(event_users['total_users'][event_users['event_name'] == 'MainScreenAppear']) * 100, 2)\n",
    ")"
   ]
  },
  {
   "cell_type": "markdown",
   "metadata": {},
   "source": [
    "Примерно 48% пользователей доходит от первого шага до оплаты"
   ]
  },
  {
   "cell_type": "markdown",
   "metadata": {},
   "source": [
    "## Изучите результаты эксперимента\n",
    "\n",
    "Сколько пользователей в каждой экспериментальной группе?\n",
    "\n",
    "Посмотрим, сколько пользователей содержится в каждой из групп\n"
   ]
  },
  {
   "cell_type": "code",
   "execution_count": null,
   "metadata": {},
   "outputs": [],
   "source": [
    "df.groupby('exp_id').agg(count=('device_id_hash', 'nunique'))"
   ]
  },
  {
   "cell_type": "markdown",
   "metadata": {},
   "source": [
    "**Есть 2 контрольные группы для А/А-эксперимента, чтобы проверить корректность всех механизмов и расчётов. Проверьте, находят ли статистические критерии разницу между выборками 246 и 247.\n",
    "Проверим, находят ли статистические критерии разницу между группой 246 и 247**\n",
    "\n",
    "Критерии успешного A/A-теста:\n",
    "\n",
    "    Количество пользователей в различных группах различается не более, чем на 1%;\n",
    "    Для всех групп фиксируют и отправляют в системы аналитики данные об одном и том же;\n",
    "    Различие ключевых метрик по группам не превышает 1% и не имеет статистической значимости;\n",
    "    Попавший в одну из групп посетитель остаётся в этой группе до конца теста. Если пользователь видит разные версии исследуемой страницы в ходе одного исследования, неизвестно, какая именно повлияла на его решения. Значит, и результаты такого теста нельзя интерпретировать однозначно.\n",
    "\n",
    "Проверим, есть ли пользователи, которые состоят сразу в нескольких группах"
   ]
  },
  {
   "cell_type": "code",
   "execution_count": null,
   "metadata": {},
   "outputs": [],
   "source": [
    "# посмострим, есть ли значения, которые встречаются в обеих контрольных группах\n",
    "print('Пересечение между группой 246 и 247:', len(\n",
    "    np.intersect1d(df\n",
    "                   .query('exp_id == 246')['device_id_hash']\n",
    "                   .unique(), df.query('exp_id == \"247\"')['device_id_hash'].unique())))\n",
    "\n",
    "# посмострим, есть ли значения, которые встречаются в первой контрольной группе и в эксперементальной\n",
    "print('Пересечение между группой 246 и 248:', len(\n",
    "    np.intersect1d(df\n",
    "                   .query('exp_id == 246')['device_id_hash']\n",
    "                   .unique(), df.query('exp_id == \"248\"')['device_id_hash'].unique())))\n",
    "\n",
    "# посмострим, есть ли значения, которые встречаются во второй контрольной группе и в эксперементальной\n",
    "print('Пересечение между группой 247 и 248:', len(\n",
    "    np.intersect1d(df\n",
    "                   .query('exp_id == 247')['device_id_hash']\n",
    "                   .unique(), df.query('exp_id == \"248\"')['device_id_hash'].unique())))"
   ]
  },
  {
   "cell_type": "markdown",
   "metadata": {},
   "source": [
    "Мы видим, что наши группы содержат уникальных пользователей и не пересекаются между собой\n",
    "\n",
    "Сгруппируем данные по экспериментальным группам и событиям, а затем визуализируем их"
   ]
  },
  {
   "cell_type": "code",
   "execution_count": null,
   "metadata": {},
   "outputs": [],
   "source": [
    "exp_group = (\n",
    "    df.groupby(['event_name', 'exp_id'])\n",
    "    .agg({'device_id_hash': 'nunique'})\n",
    "    .reset_index()\n",
    "    .rename(columns={'device_id_hash' : 'total_users'})\n",
    "    .sort_values(by=['exp_id','total_users'], ascending=False)\n",
    ")\n",
    "\n",
    "\n",
    "# исключим событие 'Tutorial'\n",
    "exp_group = exp_group[exp_group['event_name'] != 'Tutorial']"
   ]
  },
  {
   "cell_type": "code",
   "execution_count": null,
   "metadata": {},
   "outputs": [],
   "source": [
    "fig = go.Figure()\n",
    "\n",
    "fig.add_trace(go.Funnel(name = '246',\n",
    "                        y = exp_group.query('exp_id == 246')['event_name'],\n",
    "                        x = exp_group.query('exp_id == 246')['total_users'],\n",
    "                        opacity = 0.8,\n",
    "                        textposition = 'inside',\n",
    "                        textinfo = 'value + percent previous'))\n",
    "\n",
    "fig.add_trace(go.Funnel(name = '247',\n",
    "                        y = exp_group.query('exp_id == 247')['event_name'],\n",
    "                        x = exp_group.query('exp_id == 247')['total_users'],\n",
    "                        opacity = 0.8,\n",
    "                        textposition = 'inside',\n",
    "                        textinfo = 'value + percent previous'))\n",
    "\n",
    "\n",
    "fig.add_trace(go.Funnel(name = '248',\n",
    "                        y = exp_group.query('exp_id == 248')['event_name'],\n",
    "                        x = exp_group.query('exp_id == 248')['total_users'],\n",
    "                        opacity = 0.8,\n",
    "                        textposition = 'inside',\n",
    "                        textinfo = 'value + percent previous'))\n",
    "                        \n",
    "fig.update_layout(title_text='Воронка событий по группам')\n",
    "fig.show()"
   ]
  },
  {
   "cell_type": "markdown",
   "metadata": {},
   "source": [
    "Мы видим, что пользователи равномерно распределены между группами. Однако, прежде чем приступить к проведению A/B теста, проверим, есть ли разница между выборками и контрольными группами (246, 247).\n",
    "\n",
    "Воспользуемся Z-критерием. Сейчас в воронке у нас 4 события, а пользователи разделены на 3 группы. Таким образом, мы проведем сравнение каждой из групп с другой, также проведем сравнение объединенной группы (246 и 247) с группой 248. Таким образом мы получим 16 итераций сравнений."
   ]
  },
  {
   "cell_type": "code",
   "execution_count": null,
   "metadata": {},
   "outputs": [],
   "source": [
    "# функция принимает датафреймы с группами, событие, статистическую значимость и значение для поправки Бонферрони\n",
    "\n",
    "def z_test_func(df1, df2, event, alpha, n):\n",
    "    \n",
    "    # произведем поправку Бонферрони\n",
    "    bonferroni_alpha = alpha / n\n",
    "    \n",
    "    #число пользователей в 1 и 2 группе\n",
    "    n_users = np.array([df1['device_id_hash'].nunique(), \n",
    "                        df2['device_id_hash'].nunique()])\n",
    "    \n",
    "    # число пользователей, которые совершили событие в 1 и 2 группе\n",
    "    success = np.array([df1[df1['event_name'] == event]['device_id_hash'].nunique(), \n",
    "                        df2[df2['event_name'] == event]['device_id_hash'].nunique()])\n",
    "    \n",
    "    # пропорции успехов в группах:\n",
    "    p1 = success[0]/n_users[0]\n",
    "    p2 = success[1]/n_users[1]\n",
    "    \n",
    "    # пропорции успехов в объединенном датасете\n",
    "    p_combined = (success[0] + success[1]) / (n_users[0] + n_users[1])\n",
    "\n",
    "    # разница пропорций\n",
    "    difference = p1 - p2 \n",
    "\n",
    "    #считаем статистику в ст.отклонениях стандартного нормального распределения\n",
    "    z_value = difference / mth.sqrt(p_combined * (1 - p_combined) * (1/n_users[0] + 1/n_users[1]))\n",
    "    \n",
    "    #задаем стандартное нормальное распределение (среднее 0, ст.отклонение 1)\n",
    "    distr = st.norm(0, 1)\n",
    "    \n",
    "    p_value = (1 - distr.cdf(abs(z_value))) * 2\n",
    "        \n",
    "    print('Событие:', event)\n",
    "    print('p-значение: ', p_value)\n",
    "\n",
    "    if p_value < bonferroni_alpha:\n",
    "        print(\"Отвергаем нулевую гипотезу: между долями есть значимая разница\")\n",
    "    else:\n",
    "        print(\"Не получилось отвергнуть нулевую гипотезу, нет оснований считать доли разными\")"
   ]
  },
  {
   "cell_type": "markdown",
   "metadata": {},
   "source": [
    "Применим написанную выше функцию. Перед началом теста, сформулируем наши гипотезы:\n",
    "\n",
    "**H0 - между группами нет статистически значимых различий**\n",
    "\n",
    "**H1 - между группами есть статистически значимых различий**\n",
    "\n",
    "Проведем сравнение по следующему плану:\n",
    "\n",
    "    Сравнение группы 246 и группы 247\n",
    "    Сравнение группы 246 и группы 248\n",
    "    Сравнение группы 247 и группы 248\n",
    "    Сравнение объединенной группы (246 и 247) и экспериментальной 248\n",
    "Cравнение группы 246 и группы 247"
   ]
  },
  {
   "cell_type": "code",
   "execution_count": null,
   "metadata": {},
   "outputs": [],
   "source": [
    "for event in exp_group['event_name'].unique():\n",
    "    z_test_func(df[df['exp_id'] == 246], df[df['exp_id'] == 247], event, .05, 16)\n",
    "    print()"
   ]
  },
  {
   "cell_type": "markdown",
   "metadata": {},
   "source": [
    "Здесь мы сравнили две контрольные группы - т.е. провели A/A тест. мы видим, что между выборками нет статистически значимых отличий, следовательно, разделение по группам работало корректно\n",
    "\n",
    "Теперь сравним каждую из контрольных групп с экспериментальной, по отдельности\n",
    "\n",
    "Сравнение группы 246 и группы 248"
   ]
  },
  {
   "cell_type": "code",
   "execution_count": null,
   "metadata": {},
   "outputs": [],
   "source": [
    "for event in exp_group['event_name'].unique():\n",
    "    z_test_func(df[df['exp_id'] == 246], df[df['exp_id'] == 248], event, .05, 16)\n",
    "    print()"
   ]
  },
  {
   "cell_type": "markdown",
   "metadata": {},
   "source": [
    "Между первой контрольной группой (246) и экспериментальной группой (248) нет различий\n",
    "\n",
    "Сравнение группы 247 и группы 248"
   ]
  },
  {
   "cell_type": "code",
   "execution_count": null,
   "metadata": {},
   "outputs": [],
   "source": [
    "for event in exp_group['event_name'].unique():\n",
    "    z_test_func(df[df['exp_id'] == 247], df[df['exp_id'] == 248], event, .05, 16)\n",
    "    print()"
   ]
  },
  {
   "cell_type": "markdown",
   "metadata": {},
   "source": [
    "Как и в предыдущем тесте, нет различий между контрольной (247) и экспериментальной (248) группами\n",
    "\n",
    "Теперь объединим контрольные группы (246 и 247) и сравним их с экспериментальной (248)"
   ]
  },
  {
   "cell_type": "code",
   "execution_count": null,
   "metadata": {},
   "outputs": [],
   "source": [
    "for event in exp_group['event_name'].unique():\n",
    "    z_test_func(df[df['exp_id'] != 248], df[df['exp_id'] == 248], event, .05, 16)\n",
    "    print()"
   ]
  },
  {
   "cell_type": "markdown",
   "metadata": {},
   "source": [
    "Здесь, как и во всех тестах ранее, не получилось опровергнуть нулевую гипотезу\n",
    "\n",
    "**Вывод**\n",
    "\n",
    "Изучив все комбинации групп, можно сделать вывод, что ни в одном из случаем, значимых различий между группами не наблюдается. Получается, что изменение шрифта не повлияло на пользователей."
   ]
  },
  {
   "cell_type": "markdown",
   "metadata": {},
   "source": [
    "# Общий вывод\n",
    "\n",
    "В ходе исследования мы проанализировали поведение пользователей мобильного приложения и результаты A/A/B-эксперимента. Задача теста - определить, понравится ли пользователям новый шрифт.\n",
    "\n",
    "**Структура теста**\n",
    "\n",
    "Пользователей разбили на 3 группы:\n",
    "\n",
    "2 контрольные (246, 247) со старыми шрифтами и одну экспериментальную (248) — с новыми.\n",
    "\n",
    "Задача - выяснить, какой шрифт лучше.\n",
    "\n",
    "**Анализ поведения пользователей**\n",
    "\n",
    "Данные о пользователях отслеживались в период с 25.07.2019 по 07.08.2019 Важно отметить, что данные за июль были неполными и мы решили изучать поведение в период с 01.08.2019 по 07.08.2019 Здесь мы также изучили процент потерянных данных, всего было утрачено около 1% записей, поэтому подобные изменения не должны были повлиять на результаты исследования.\n",
    "\n",
    "    MainScreenAppear - 7419 - (98.47%)\n",
    "    OffersScreenAppear - 4593 - (60.96%)\n",
    "    CartScreenAppear 3734 - (49.56%)\n",
    "    PaymentScreenSuccessful - 3539 (46.97%)\n",
    "    Tutorial - 840 (11.15%)\n",
    "    \n",
    "Последнее событие, 'Tutorial', мы исключили из анализа. Дело в том, что это необязательное событие, которое многие пользователи пропускают.\n",
    "\n",
    "Анализируя воронку мы увидели, что больше всего пользователей отваливаются после первого этапа MainScreenAppear, т.е. 38: пользователей. Дальше по воронке показатели стабильнее. 81.3% переходят с OffersScreenAppear на CartScreenAppear. А переход к оплате (шаг PaymentScreenSuccessful) с предыдущего шага составляет 94.8%\n",
    "\n",
    "Если же смотреть, какая часть пользователей доходит от начала взаимодействия до оплаты, то получится 48%\n",
    "\n",
    "Результаты A/B теста показали, что изменение шрифта не повлияло на пользователей, выборки, как контрольные так и экспериментальная показали результаты, между которыми нет значительной статистической разницы.\n",
    "\n",
    "**Рекомендации**\n",
    "\n",
    "Нужно изучить причину, по которой данные за июль оказались неполными. В дальнейшем подобные проблемы могут привести к сложностям в исследованиях и расчетах метрик приложения.\n",
    "\n",
    "Также важно изучить высокий показатель отказов при переходе с шага MainScreenAppear на OffersScreenAppear. Это может быть связано как с тем, что пользователю не интересно смотреть на офферы, так и с техническими проблемами."
   ]
  },
  {
   "cell_type": "markdown",
   "metadata": {},
   "source": [
    "<div style=\"border:solid Purple 2px; padding: 40px\">\n",
    "\n",
    "<h2> Общий комментарий ревьюера 😊<a class=\"tocSkip\"> </h2>\n",
    "    <br/>\n",
    "Замечательная работа по проекту, отлично справился с расчетами и графиками)\n",
    "    \n",
    "<br>   \n",
    "             \n",
    "**Дополнительные материалы:**\n",
    " \n",
    "[Вебинары под эгидой Практикума](https://vk.com/yandex.praktikum?w=wall-176471180_2144), \n",
    "    \n",
    "[Лекции Анатолия Карпова 1](https://www.youtube.com/watch?v=jnFVmtaeSA0&list=WL&index=19&t=2s) [2](https://www.youtube.com/watch?v=gljfGAkgX_o&list=WL&index=4)\n",
    "    \n",
    "Материалы [gopractice](https://gopractice.ru/summary/)\n",
    "\n",
    "Лекцию Карта статистических методов [Смотреть видео](https://www.youtube.com/watch?v=-zps6hm0nX8&t=1269s)\n",
    "        \n",
    "Статья «Множественные эксперименты: теория и практика» [Читать статью](https://habr.com/ru/company/yandex/blog/476826/)\n",
    "    \n",
    "Статья «Как не надо анализировать A/B тесты. Проблема подглядывания» [Читать статью](https://gopractice.ru/how-not-to-analyze-abtests/)\n",
    "    \n",
    "Видеодоклад «Дешёвые и дорогие тесты гипотез», Светлана Аюпова из Skyeng [Смотреть видео](https://youtu.be/MD6ysrdI4Ro)"
   ]
  },
  {
   "cell_type": "code",
   "execution_count": null,
   "metadata": {},
   "outputs": [],
   "source": []
  }
 ],
 "metadata": {
  "ExecuteTimeLog": [
   {
    "duration": 1489,
    "start_time": "2024-08-27T11:52:44.749Z"
   },
   {
    "duration": 1038,
    "start_time": "2024-08-27T12:39:34.810Z"
   },
   {
    "duration": 19,
    "start_time": "2024-08-27T12:39:47.003Z"
   },
   {
    "duration": 35,
    "start_time": "2024-08-27T12:39:59.552Z"
   },
   {
    "duration": 121,
    "start_time": "2024-08-27T12:41:14.705Z"
   },
   {
    "duration": 160,
    "start_time": "2024-08-27T12:41:45.566Z"
   },
   {
    "duration": 86,
    "start_time": "2024-08-27T12:41:58.607Z"
   },
   {
    "duration": 12,
    "start_time": "2024-08-27T12:42:27.209Z"
   },
   {
    "duration": 35,
    "start_time": "2024-08-27T12:42:49.187Z"
   },
   {
    "duration": 13,
    "start_time": "2024-08-27T12:48:09.731Z"
   },
   {
    "duration": 100,
    "start_time": "2024-08-27T12:48:32.711Z"
   },
   {
    "duration": 38,
    "start_time": "2024-08-27T12:48:41.106Z"
   },
   {
    "duration": 1434,
    "start_time": "2024-08-28T09:07:28.547Z"
   },
   {
    "duration": 981,
    "start_time": "2024-08-28T09:07:31.839Z"
   },
   {
    "duration": 18,
    "start_time": "2024-08-28T09:07:34.162Z"
   },
   {
    "duration": 22,
    "start_time": "2024-08-28T09:07:35.778Z"
   },
   {
    "duration": 125,
    "start_time": "2024-08-28T09:07:37.065Z"
   },
   {
    "duration": 70,
    "start_time": "2024-08-28T09:07:38.333Z"
   },
   {
    "duration": 7,
    "start_time": "2024-08-28T09:07:39.214Z"
   },
   {
    "duration": 22,
    "start_time": "2024-08-28T09:07:40.167Z"
   },
   {
    "duration": 10,
    "start_time": "2024-08-28T09:07:42.626Z"
   },
   {
    "duration": 106,
    "start_time": "2024-08-28T09:07:44.801Z"
   },
   {
    "duration": 36,
    "start_time": "2024-08-28T09:07:46.252Z"
   },
   {
    "duration": 19,
    "start_time": "2024-08-28T09:07:49.330Z"
   },
   {
    "duration": 3,
    "start_time": "2024-08-28T09:10:11.535Z"
   },
   {
    "duration": 37,
    "start_time": "2024-08-28T09:18:25.919Z"
   },
   {
    "duration": 7,
    "start_time": "2024-08-28T09:25:21.500Z"
   },
   {
    "duration": 8,
    "start_time": "2024-08-28T09:25:51.046Z"
   },
   {
    "duration": 37,
    "start_time": "2024-08-28T09:27:02.610Z"
   },
   {
    "duration": 12,
    "start_time": "2024-08-28T09:39:16.563Z"
   },
   {
    "duration": 422,
    "start_time": "2024-08-28T09:39:46.314Z"
   },
   {
    "duration": 312,
    "start_time": "2024-08-28T09:40:17.672Z"
   },
   {
    "duration": 212,
    "start_time": "2024-08-28T09:48:59.607Z"
   },
   {
    "duration": 204,
    "start_time": "2024-08-28T09:52:36.325Z"
   },
   {
    "duration": 47,
    "start_time": "2024-08-28T10:51:32.459Z"
   },
   {
    "duration": 1244,
    "start_time": "2024-08-28T10:51:42.761Z"
   },
   {
    "duration": 189,
    "start_time": "2024-08-28T10:51:44.008Z"
   },
   {
    "duration": 17,
    "start_time": "2024-08-28T10:51:44.199Z"
   },
   {
    "duration": 35,
    "start_time": "2024-08-28T10:51:44.218Z"
   },
   {
    "duration": 132,
    "start_time": "2024-08-28T10:51:44.255Z"
   },
   {
    "duration": 81,
    "start_time": "2024-08-28T10:51:44.389Z"
   },
   {
    "duration": 6,
    "start_time": "2024-08-28T10:51:44.471Z"
   },
   {
    "duration": 23,
    "start_time": "2024-08-28T10:51:44.479Z"
   },
   {
    "duration": 10,
    "start_time": "2024-08-28T10:51:44.503Z"
   },
   {
    "duration": 129,
    "start_time": "2024-08-28T10:51:44.514Z"
   },
   {
    "duration": 39,
    "start_time": "2024-08-28T10:51:44.645Z"
   },
   {
    "duration": 19,
    "start_time": "2024-08-28T10:51:44.685Z"
   },
   {
    "duration": 3,
    "start_time": "2024-08-28T10:51:44.705Z"
   },
   {
    "duration": 133,
    "start_time": "2024-08-28T10:51:44.710Z"
   },
   {
    "duration": 6,
    "start_time": "2024-08-28T10:51:44.844Z"
   },
   {
    "duration": 7,
    "start_time": "2024-08-28T10:51:44.852Z"
   },
   {
    "duration": 34,
    "start_time": "2024-08-28T10:51:44.861Z"
   },
   {
    "duration": 11,
    "start_time": "2024-08-28T10:51:44.896Z"
   },
   {
    "duration": 415,
    "start_time": "2024-08-28T10:51:44.908Z"
   },
   {
    "duration": 306,
    "start_time": "2024-08-28T10:51:45.324Z"
   },
   {
    "duration": 212,
    "start_time": "2024-08-28T10:51:45.632Z"
   },
   {
    "duration": 11,
    "start_time": "2024-08-28T10:51:45.846Z"
   },
   {
    "duration": 37,
    "start_time": "2024-08-28T10:53:11.692Z"
   },
   {
    "duration": 12,
    "start_time": "2024-08-28T10:59:50.944Z"
   },
   {
    "duration": 8,
    "start_time": "2024-08-28T10:59:59.519Z"
   },
   {
    "duration": 43,
    "start_time": "2024-08-28T11:12:37.853Z"
   },
   {
    "duration": 27,
    "start_time": "2024-08-28T11:36:10.039Z"
   },
   {
    "duration": 30,
    "start_time": "2024-08-28T11:36:14.769Z"
   },
   {
    "duration": 182,
    "start_time": "2024-08-28T11:43:56.516Z"
   },
   {
    "duration": 47,
    "start_time": "2024-08-28T11:44:38.044Z"
   },
   {
    "duration": 61,
    "start_time": "2024-08-28T11:46:39.849Z"
   },
   {
    "duration": 60,
    "start_time": "2024-08-28T11:46:47.526Z"
   },
   {
    "duration": 63,
    "start_time": "2024-08-28T11:46:53.082Z"
   },
   {
    "duration": 47,
    "start_time": "2024-08-28T11:47:32.644Z"
   },
   {
    "duration": 267,
    "start_time": "2024-08-28T11:58:06.200Z"
   },
   {
    "duration": 192,
    "start_time": "2024-08-28T11:58:22.944Z"
   },
   {
    "duration": 8,
    "start_time": "2024-08-28T12:06:06.532Z"
   },
   {
    "duration": 5,
    "start_time": "2024-08-28T12:11:45.228Z"
   },
   {
    "duration": 45,
    "start_time": "2024-08-28T12:12:42.052Z"
   },
   {
    "duration": 50,
    "start_time": "2024-08-28T12:13:02.858Z"
   },
   {
    "duration": 47,
    "start_time": "2024-08-28T12:40:14.397Z"
   },
   {
    "duration": 1501,
    "start_time": "2024-08-29T06:43:19.880Z"
   },
   {
    "duration": 759,
    "start_time": "2024-08-29T06:43:21.383Z"
   },
   {
    "duration": 21,
    "start_time": "2024-08-29T06:43:22.145Z"
   },
   {
    "duration": 24,
    "start_time": "2024-08-29T06:43:22.168Z"
   },
   {
    "duration": 138,
    "start_time": "2024-08-29T06:43:22.195Z"
   },
   {
    "duration": 98,
    "start_time": "2024-08-29T06:43:22.335Z"
   },
   {
    "duration": 7,
    "start_time": "2024-08-29T06:43:22.435Z"
   },
   {
    "duration": 25,
    "start_time": "2024-08-29T06:43:22.444Z"
   },
   {
    "duration": 35,
    "start_time": "2024-08-29T06:43:22.471Z"
   },
   {
    "duration": 120,
    "start_time": "2024-08-29T06:43:22.508Z"
   },
   {
    "duration": 39,
    "start_time": "2024-08-29T06:43:22.629Z"
   },
   {
    "duration": 37,
    "start_time": "2024-08-29T06:43:22.669Z"
   },
   {
    "duration": 4,
    "start_time": "2024-08-29T06:43:22.707Z"
   },
   {
    "duration": 43,
    "start_time": "2024-08-29T06:43:22.713Z"
   },
   {
    "duration": 8,
    "start_time": "2024-08-29T06:43:22.758Z"
   },
   {
    "duration": 8,
    "start_time": "2024-08-29T06:43:22.768Z"
   },
   {
    "duration": 41,
    "start_time": "2024-08-29T06:43:22.806Z"
   },
   {
    "duration": 16,
    "start_time": "2024-08-29T06:43:22.849Z"
   },
   {
    "duration": 464,
    "start_time": "2024-08-29T06:43:22.867Z"
   },
   {
    "duration": 304,
    "start_time": "2024-08-29T06:43:23.332Z"
   },
   {
    "duration": 214,
    "start_time": "2024-08-29T06:43:23.638Z"
   },
   {
    "duration": 6,
    "start_time": "2024-08-29T06:43:23.854Z"
   },
   {
    "duration": 46,
    "start_time": "2024-08-29T06:43:23.862Z"
   },
   {
    "duration": 14,
    "start_time": "2024-08-29T06:43:23.910Z"
   },
   {
    "duration": 7,
    "start_time": "2024-08-29T06:43:23.926Z"
   },
   {
    "duration": 41,
    "start_time": "2024-08-29T06:43:23.935Z"
   },
   {
    "duration": 56,
    "start_time": "2024-08-29T06:43:23.978Z"
   },
   {
    "duration": 207,
    "start_time": "2024-08-29T06:43:24.035Z"
   },
   {
    "duration": 69,
    "start_time": "2024-08-29T06:43:24.243Z"
   },
   {
    "duration": 292,
    "start_time": "2024-08-29T06:43:24.313Z"
   },
   {
    "duration": 155,
    "start_time": "2024-08-29T06:43:24.606Z"
   },
   {
    "duration": 10,
    "start_time": "2024-08-29T06:43:24.764Z"
   },
   {
    "duration": 7,
    "start_time": "2024-08-29T06:43:24.775Z"
   },
   {
    "duration": 126,
    "start_time": "2024-08-29T06:43:24.784Z"
   },
   {
    "duration": 110,
    "start_time": "2024-08-29T06:43:24.913Z"
   },
   {
    "duration": 82,
    "start_time": "2024-08-29T07:21:05.314Z"
   },
   {
    "duration": 25,
    "start_time": "2024-08-29T07:21:12.982Z"
   },
   {
    "duration": 34,
    "start_time": "2024-08-29T07:21:24.651Z"
   },
   {
    "duration": 7,
    "start_time": "2024-08-29T07:26:09.286Z"
   },
   {
    "duration": 129,
    "start_time": "2024-08-29T08:22:44.981Z"
   },
   {
    "duration": 109,
    "start_time": "2024-08-29T08:26:17.482Z"
   },
   {
    "duration": 103,
    "start_time": "2024-08-29T08:26:46.960Z"
   },
   {
    "duration": 143,
    "start_time": "2024-08-29T08:27:17.599Z"
   },
   {
    "duration": 1490,
    "start_time": "2024-08-29T15:01:35.335Z"
   },
   {
    "duration": 718,
    "start_time": "2024-08-29T15:01:36.827Z"
   },
   {
    "duration": 19,
    "start_time": "2024-08-29T15:01:37.547Z"
   },
   {
    "duration": 22,
    "start_time": "2024-08-29T15:01:37.568Z"
   },
   {
    "duration": 158,
    "start_time": "2024-08-29T15:01:37.592Z"
   },
   {
    "duration": 94,
    "start_time": "2024-08-29T15:01:37.752Z"
   },
   {
    "duration": 6,
    "start_time": "2024-08-29T15:01:37.848Z"
   },
   {
    "duration": 37,
    "start_time": "2024-08-29T15:01:37.856Z"
   },
   {
    "duration": 10,
    "start_time": "2024-08-29T15:01:37.894Z"
   },
   {
    "duration": 125,
    "start_time": "2024-08-29T15:01:37.907Z"
   },
   {
    "duration": 63,
    "start_time": "2024-08-29T15:01:38.033Z"
   },
   {
    "duration": 20,
    "start_time": "2024-08-29T15:01:38.098Z"
   },
   {
    "duration": 27,
    "start_time": "2024-08-29T15:01:38.120Z"
   },
   {
    "duration": 41,
    "start_time": "2024-08-29T15:01:38.149Z"
   },
   {
    "duration": 8,
    "start_time": "2024-08-29T15:01:38.192Z"
   },
   {
    "duration": 9,
    "start_time": "2024-08-29T15:01:38.201Z"
   },
   {
    "duration": 64,
    "start_time": "2024-08-29T15:01:38.212Z"
   },
   {
    "duration": 13,
    "start_time": "2024-08-29T15:01:38.278Z"
   },
   {
    "duration": 511,
    "start_time": "2024-08-29T15:01:38.293Z"
   },
   {
    "duration": 350,
    "start_time": "2024-08-29T15:01:38.806Z"
   },
   {
    "duration": 223,
    "start_time": "2024-08-29T15:01:39.158Z"
   },
   {
    "duration": 8,
    "start_time": "2024-08-29T15:01:39.383Z"
   },
   {
    "duration": 53,
    "start_time": "2024-08-29T15:01:39.393Z"
   },
   {
    "duration": 16,
    "start_time": "2024-08-29T15:01:39.447Z"
   },
   {
    "duration": 8,
    "start_time": "2024-08-29T15:01:39.465Z"
   },
   {
    "duration": 47,
    "start_time": "2024-08-29T15:01:39.475Z"
   },
   {
    "duration": 49,
    "start_time": "2024-08-29T15:01:39.524Z"
   },
   {
    "duration": 199,
    "start_time": "2024-08-29T15:01:39.576Z"
   },
   {
    "duration": 69,
    "start_time": "2024-08-29T15:01:39.777Z"
   },
   {
    "duration": 258,
    "start_time": "2024-08-29T15:01:39.848Z"
   },
   {
    "duration": 447,
    "start_time": "2024-08-29T15:01:40.108Z"
   },
   {
    "duration": 8,
    "start_time": "2024-08-29T15:01:40.557Z"
   },
   {
    "duration": 15,
    "start_time": "2024-08-29T15:01:40.567Z"
   },
   {
    "duration": 178,
    "start_time": "2024-08-29T15:01:40.583Z"
   },
   {
    "duration": 59,
    "start_time": "2024-08-29T15:01:40.763Z"
   },
   {
    "duration": 84,
    "start_time": "2024-08-29T15:01:40.824Z"
   },
   {
    "duration": 36,
    "start_time": "2024-08-29T15:01:40.910Z"
   },
   {
    "duration": 9,
    "start_time": "2024-08-29T15:01:40.948Z"
   },
   {
    "duration": 146,
    "start_time": "2024-08-29T15:01:40.959Z"
   },
   {
    "duration": 122,
    "start_time": "2024-08-29T15:01:41.107Z"
   },
   {
    "duration": 118,
    "start_time": "2024-08-29T15:01:41.230Z"
   },
   {
    "duration": 156,
    "start_time": "2024-08-29T15:01:41.350Z"
   },
   {
    "duration": 1414,
    "start_time": "2024-08-31T09:27:45.896Z"
   },
   {
    "duration": 1037,
    "start_time": "2024-08-31T09:27:47.312Z"
   },
   {
    "duration": 16,
    "start_time": "2024-08-31T09:27:48.351Z"
   },
   {
    "duration": 20,
    "start_time": "2024-08-31T09:27:48.369Z"
   },
   {
    "duration": 122,
    "start_time": "2024-08-31T09:27:48.391Z"
   },
   {
    "duration": 80,
    "start_time": "2024-08-31T09:27:48.514Z"
   },
   {
    "duration": 5,
    "start_time": "2024-08-31T09:27:48.596Z"
   },
   {
    "duration": 44,
    "start_time": "2024-08-31T09:27:48.603Z"
   },
   {
    "duration": 10,
    "start_time": "2024-08-31T09:27:48.649Z"
   },
   {
    "duration": 126,
    "start_time": "2024-08-31T09:27:48.660Z"
   },
   {
    "duration": 33,
    "start_time": "2024-08-31T09:27:48.787Z"
   },
   {
    "duration": 28,
    "start_time": "2024-08-31T09:27:48.836Z"
   },
   {
    "duration": 12,
    "start_time": "2024-08-31T09:27:48.865Z"
   },
   {
    "duration": 39,
    "start_time": "2024-08-31T09:27:48.879Z"
   },
   {
    "duration": 7,
    "start_time": "2024-08-31T09:27:48.920Z"
   },
   {
    "duration": 10,
    "start_time": "2024-08-31T09:27:48.932Z"
   },
   {
    "duration": 35,
    "start_time": "2024-08-31T09:27:48.948Z"
   },
   {
    "duration": 10,
    "start_time": "2024-08-31T09:27:48.985Z"
   },
   {
    "duration": 417,
    "start_time": "2024-08-31T09:27:48.996Z"
   },
   {
    "duration": 359,
    "start_time": "2024-08-31T09:27:49.415Z"
   },
   {
    "duration": 210,
    "start_time": "2024-08-31T09:27:49.776Z"
   },
   {
    "duration": 473,
    "start_time": "2024-08-31T09:27:49.987Z"
   },
   {
    "duration": 7,
    "start_time": "2024-08-31T09:27:50.461Z"
   },
   {
    "duration": 42,
    "start_time": "2024-08-31T09:27:50.469Z"
   },
   {
    "duration": 19,
    "start_time": "2024-08-31T09:27:50.513Z"
   },
   {
    "duration": 10,
    "start_time": "2024-08-31T09:27:50.535Z"
   },
   {
    "duration": 39,
    "start_time": "2024-08-31T09:27:50.547Z"
   },
   {
    "duration": 51,
    "start_time": "2024-08-31T09:27:50.587Z"
   },
   {
    "duration": 247,
    "start_time": "2024-08-31T09:27:50.639Z"
   },
   {
    "duration": 72,
    "start_time": "2024-08-31T09:27:50.887Z"
   },
   {
    "duration": 177,
    "start_time": "2024-08-31T09:27:50.960Z"
   },
   {
    "duration": 160,
    "start_time": "2024-08-31T09:27:51.143Z"
   },
   {
    "duration": 7,
    "start_time": "2024-08-31T09:27:51.305Z"
   },
   {
    "duration": 25,
    "start_time": "2024-08-31T09:27:51.314Z"
   },
   {
    "duration": 97,
    "start_time": "2024-08-31T09:27:51.341Z"
   },
   {
    "duration": 53,
    "start_time": "2024-08-31T09:27:51.442Z"
   },
   {
    "duration": 90,
    "start_time": "2024-08-31T09:27:51.496Z"
   },
   {
    "duration": 19,
    "start_time": "2024-08-31T09:27:51.588Z"
   },
   {
    "duration": 17,
    "start_time": "2024-08-31T09:27:51.624Z"
   },
   {
    "duration": 100,
    "start_time": "2024-08-31T09:27:51.648Z"
   },
   {
    "duration": 112,
    "start_time": "2024-08-31T09:27:51.753Z"
   },
   {
    "duration": 102,
    "start_time": "2024-08-31T09:27:51.866Z"
   },
   {
    "duration": 135,
    "start_time": "2024-08-31T09:27:51.970Z"
   },
   {
    "duration": 43,
    "start_time": "2024-08-31T10:45:13.359Z"
   },
   {
    "duration": 1133,
    "start_time": "2024-08-31T10:49:46.988Z"
   },
   {
    "duration": 169,
    "start_time": "2024-08-31T10:49:48.122Z"
   },
   {
    "duration": 17,
    "start_time": "2024-08-31T10:49:48.292Z"
   },
   {
    "duration": 25,
    "start_time": "2024-08-31T10:49:48.311Z"
   },
   {
    "duration": 121,
    "start_time": "2024-08-31T10:49:48.337Z"
   },
   {
    "duration": 72,
    "start_time": "2024-08-31T10:49:48.460Z"
   },
   {
    "duration": 10,
    "start_time": "2024-08-31T10:49:48.533Z"
   },
   {
    "duration": 23,
    "start_time": "2024-08-31T10:49:48.544Z"
   },
   {
    "duration": 11,
    "start_time": "2024-08-31T10:49:48.568Z"
   },
   {
    "duration": 123,
    "start_time": "2024-08-31T10:49:48.580Z"
   },
   {
    "duration": 43,
    "start_time": "2024-08-31T10:49:48.705Z"
   },
   {
    "duration": 18,
    "start_time": "2024-08-31T10:49:48.750Z"
   },
   {
    "duration": 3,
    "start_time": "2024-08-31T10:49:48.770Z"
   },
   {
    "duration": 57,
    "start_time": "2024-08-31T10:49:48.777Z"
   },
   {
    "duration": 7,
    "start_time": "2024-08-31T10:49:48.835Z"
   },
   {
    "duration": 20,
    "start_time": "2024-08-31T10:49:48.843Z"
   },
   {
    "duration": 30,
    "start_time": "2024-08-31T10:49:48.864Z"
   },
   {
    "duration": 10,
    "start_time": "2024-08-31T10:49:48.895Z"
   },
   {
    "duration": 362,
    "start_time": "2024-08-31T10:49:48.906Z"
   },
   {
    "duration": 282,
    "start_time": "2024-08-31T10:49:49.270Z"
   },
   {
    "duration": 216,
    "start_time": "2024-08-31T10:49:49.554Z"
   },
   {
    "duration": 411,
    "start_time": "2024-08-31T10:49:49.772Z"
   },
   {
    "duration": 9,
    "start_time": "2024-08-31T10:49:50.185Z"
   },
   {
    "duration": 48,
    "start_time": "2024-08-31T10:49:50.196Z"
   },
   {
    "duration": 10,
    "start_time": "2024-08-31T10:49:50.245Z"
   },
   {
    "duration": 6,
    "start_time": "2024-08-31T10:49:50.257Z"
   },
   {
    "duration": 39,
    "start_time": "2024-08-31T10:49:50.265Z"
   },
   {
    "duration": 42,
    "start_time": "2024-08-31T10:49:50.305Z"
   },
   {
    "duration": 247,
    "start_time": "2024-08-31T10:49:50.348Z"
   },
   {
    "duration": 65,
    "start_time": "2024-08-31T10:49:50.596Z"
   },
   {
    "duration": 164,
    "start_time": "2024-08-31T10:49:50.663Z"
   },
   {
    "duration": 133,
    "start_time": "2024-08-31T10:49:50.828Z"
   },
   {
    "duration": 7,
    "start_time": "2024-08-31T10:49:50.962Z"
   },
   {
    "duration": 20,
    "start_time": "2024-08-31T10:49:50.971Z"
   },
   {
    "duration": 61,
    "start_time": "2024-08-31T10:49:50.993Z"
   },
   {
    "duration": 85,
    "start_time": "2024-08-31T10:49:51.055Z"
   },
   {
    "duration": 77,
    "start_time": "2024-08-31T10:49:51.142Z"
   },
   {
    "duration": 22,
    "start_time": "2024-08-31T10:49:51.220Z"
   },
   {
    "duration": 19,
    "start_time": "2024-08-31T10:49:51.243Z"
   },
   {
    "duration": 104,
    "start_time": "2024-08-31T10:49:51.264Z"
   },
   {
    "duration": 99,
    "start_time": "2024-08-31T10:49:51.372Z"
   },
   {
    "duration": 101,
    "start_time": "2024-08-31T10:49:51.473Z"
   },
   {
    "duration": 129,
    "start_time": "2024-08-31T10:49:51.575Z"
   },
   {
    "duration": 48,
    "start_time": "2024-08-31T10:50:51.507Z"
   },
   {
    "duration": 48,
    "start_time": "2024-09-01T06:51:30.646Z"
   },
   {
    "duration": 1298,
    "start_time": "2024-09-01T06:51:37.397Z"
   },
   {
    "duration": 767,
    "start_time": "2024-09-01T06:51:38.697Z"
   },
   {
    "duration": 17,
    "start_time": "2024-09-01T06:51:39.466Z"
   },
   {
    "duration": 21,
    "start_time": "2024-09-01T06:51:39.484Z"
   },
   {
    "duration": 124,
    "start_time": "2024-09-01T06:51:39.507Z"
   },
   {
    "duration": 78,
    "start_time": "2024-09-01T06:51:39.633Z"
   },
   {
    "duration": 10,
    "start_time": "2024-09-01T06:51:39.712Z"
   },
   {
    "duration": 22,
    "start_time": "2024-09-01T06:51:39.723Z"
   },
   {
    "duration": 23,
    "start_time": "2024-09-01T06:51:39.746Z"
   },
   {
    "duration": 127,
    "start_time": "2024-09-01T06:51:39.771Z"
   },
   {
    "duration": 35,
    "start_time": "2024-09-01T06:51:39.899Z"
   },
   {
    "duration": 33,
    "start_time": "2024-09-01T06:51:39.935Z"
   },
   {
    "duration": 3,
    "start_time": "2024-09-01T06:51:39.969Z"
   },
   {
    "duration": 40,
    "start_time": "2024-09-01T06:51:39.975Z"
   },
   {
    "duration": 6,
    "start_time": "2024-09-01T06:51:40.016Z"
   },
   {
    "duration": 6,
    "start_time": "2024-09-01T06:51:40.023Z"
   },
   {
    "duration": 35,
    "start_time": "2024-09-01T06:51:40.030Z"
   },
   {
    "duration": 11,
    "start_time": "2024-09-01T06:51:40.066Z"
   },
   {
    "duration": 385,
    "start_time": "2024-09-01T06:51:40.079Z"
   },
   {
    "duration": 330,
    "start_time": "2024-09-01T06:51:40.465Z"
   },
   {
    "duration": 249,
    "start_time": "2024-09-01T06:51:40.796Z"
   },
   {
    "duration": 104,
    "start_time": "2024-09-01T06:51:41.047Z"
   },
   {
    "duration": 0,
    "start_time": "2024-09-01T06:51:41.153Z"
   },
   {
    "duration": 0,
    "start_time": "2024-09-01T06:51:41.161Z"
   },
   {
    "duration": 0,
    "start_time": "2024-09-01T06:51:41.162Z"
   },
   {
    "duration": 0,
    "start_time": "2024-09-01T06:51:41.163Z"
   },
   {
    "duration": 0,
    "start_time": "2024-09-01T06:51:41.164Z"
   },
   {
    "duration": 0,
    "start_time": "2024-09-01T06:51:41.165Z"
   },
   {
    "duration": 0,
    "start_time": "2024-09-01T06:51:41.166Z"
   },
   {
    "duration": 0,
    "start_time": "2024-09-01T06:51:41.167Z"
   },
   {
    "duration": 0,
    "start_time": "2024-09-01T06:51:41.168Z"
   },
   {
    "duration": 0,
    "start_time": "2024-09-01T06:51:41.169Z"
   },
   {
    "duration": 0,
    "start_time": "2024-09-01T06:51:41.170Z"
   },
   {
    "duration": 0,
    "start_time": "2024-09-01T06:51:41.171Z"
   },
   {
    "duration": 0,
    "start_time": "2024-09-01T06:51:41.172Z"
   },
   {
    "duration": 0,
    "start_time": "2024-09-01T06:51:41.173Z"
   },
   {
    "duration": 0,
    "start_time": "2024-09-01T06:51:41.174Z"
   },
   {
    "duration": 0,
    "start_time": "2024-09-01T06:51:41.175Z"
   },
   {
    "duration": 0,
    "start_time": "2024-09-01T06:51:41.176Z"
   },
   {
    "duration": 0,
    "start_time": "2024-09-01T06:51:41.177Z"
   },
   {
    "duration": 0,
    "start_time": "2024-09-01T06:51:41.178Z"
   },
   {
    "duration": 0,
    "start_time": "2024-09-01T06:51:41.179Z"
   },
   {
    "duration": 0,
    "start_time": "2024-09-01T06:51:41.181Z"
   },
   {
    "duration": 1094,
    "start_time": "2024-09-01T06:54:45.662Z"
   },
   {
    "duration": 356,
    "start_time": "2024-09-01T06:54:51.190Z"
   },
   {
    "duration": 450,
    "start_time": "2024-09-01T06:55:03.782Z"
   },
   {
    "duration": 932,
    "start_time": "2024-09-01T07:05:43.163Z"
   },
   {
    "duration": 262,
    "start_time": "2024-09-01T07:06:22.024Z"
   },
   {
    "duration": 260,
    "start_time": "2024-09-01T07:09:59.551Z"
   },
   {
    "duration": 665,
    "start_time": "2024-09-01T07:11:04.094Z"
   },
   {
    "duration": 1340,
    "start_time": "2024-09-01T09:16:40.820Z"
   },
   {
    "duration": 182,
    "start_time": "2024-09-01T09:16:42.162Z"
   },
   {
    "duration": 18,
    "start_time": "2024-09-01T09:16:42.345Z"
   },
   {
    "duration": 22,
    "start_time": "2024-09-01T09:16:42.365Z"
   },
   {
    "duration": 145,
    "start_time": "2024-09-01T09:16:42.388Z"
   },
   {
    "duration": 83,
    "start_time": "2024-09-01T09:16:42.535Z"
   },
   {
    "duration": 7,
    "start_time": "2024-09-01T09:16:42.620Z"
   },
   {
    "duration": 48,
    "start_time": "2024-09-01T09:16:42.628Z"
   },
   {
    "duration": 10,
    "start_time": "2024-09-01T09:16:42.678Z"
   },
   {
    "duration": 126,
    "start_time": "2024-09-01T09:16:42.691Z"
   },
   {
    "duration": 46,
    "start_time": "2024-09-01T09:16:42.818Z"
   },
   {
    "duration": 34,
    "start_time": "2024-09-01T09:16:42.866Z"
   },
   {
    "duration": 4,
    "start_time": "2024-09-01T09:16:42.903Z"
   },
   {
    "duration": 80,
    "start_time": "2024-09-01T09:16:42.909Z"
   },
   {
    "duration": 10,
    "start_time": "2024-09-01T09:16:42.990Z"
   },
   {
    "duration": 9,
    "start_time": "2024-09-01T09:16:43.001Z"
   },
   {
    "duration": 75,
    "start_time": "2024-09-01T09:16:43.012Z"
   },
   {
    "duration": 12,
    "start_time": "2024-09-01T09:16:43.089Z"
   },
   {
    "duration": 439,
    "start_time": "2024-09-01T09:16:43.103Z"
   },
   {
    "duration": 311,
    "start_time": "2024-09-01T09:16:43.546Z"
   },
   {
    "duration": 213,
    "start_time": "2024-09-01T09:16:43.859Z"
   },
   {
    "duration": 431,
    "start_time": "2024-09-01T09:16:44.074Z"
   },
   {
    "duration": 380,
    "start_time": "2024-09-01T09:16:44.507Z"
   },
   {
    "duration": 7,
    "start_time": "2024-09-01T09:16:44.889Z"
   },
   {
    "duration": 66,
    "start_time": "2024-09-01T09:16:44.897Z"
   },
   {
    "duration": 13,
    "start_time": "2024-09-01T09:16:44.965Z"
   },
   {
    "duration": 22,
    "start_time": "2024-09-01T09:16:44.980Z"
   },
   {
    "duration": 61,
    "start_time": "2024-09-01T09:16:45.007Z"
   },
   {
    "duration": 32,
    "start_time": "2024-09-01T09:16:45.070Z"
   },
   {
    "duration": 231,
    "start_time": "2024-09-01T09:16:45.103Z"
   },
   {
    "duration": 82,
    "start_time": "2024-09-01T09:16:45.336Z"
   },
   {
    "duration": 183,
    "start_time": "2024-09-01T09:16:45.420Z"
   },
   {
    "duration": 344,
    "start_time": "2024-09-01T09:16:45.604Z"
   },
   {
    "duration": 10,
    "start_time": "2024-09-01T09:16:45.950Z"
   },
   {
    "duration": 40,
    "start_time": "2024-09-01T09:16:45.962Z"
   },
   {
    "duration": 153,
    "start_time": "2024-09-01T09:16:46.004Z"
   },
   {
    "duration": 51,
    "start_time": "2024-09-01T09:16:46.159Z"
   },
   {
    "duration": 87,
    "start_time": "2024-09-01T09:16:46.212Z"
   },
   {
    "duration": 23,
    "start_time": "2024-09-01T09:16:46.302Z"
   },
   {
    "duration": 21,
    "start_time": "2024-09-01T09:16:46.327Z"
   },
   {
    "duration": 119,
    "start_time": "2024-09-01T09:16:46.350Z"
   },
   {
    "duration": 150,
    "start_time": "2024-09-01T09:16:46.470Z"
   },
   {
    "duration": 128,
    "start_time": "2024-09-01T09:16:46.623Z"
   },
   {
    "duration": 162,
    "start_time": "2024-09-01T09:16:46.753Z"
   },
   {
    "duration": 1472,
    "start_time": "2024-09-02T13:29:31.394Z"
   },
   {
    "duration": 955,
    "start_time": "2024-09-02T13:29:32.868Z"
   },
   {
    "duration": 18,
    "start_time": "2024-09-02T13:29:33.825Z"
   },
   {
    "duration": 25,
    "start_time": "2024-09-02T13:29:33.845Z"
   },
   {
    "duration": 117,
    "start_time": "2024-09-02T13:29:33.872Z"
   },
   {
    "duration": 76,
    "start_time": "2024-09-02T13:29:33.991Z"
   },
   {
    "duration": 7,
    "start_time": "2024-09-02T13:29:34.068Z"
   },
   {
    "duration": 37,
    "start_time": "2024-09-02T13:29:34.077Z"
   },
   {
    "duration": 11,
    "start_time": "2024-09-02T13:29:34.115Z"
   },
   {
    "duration": 125,
    "start_time": "2024-09-02T13:29:34.129Z"
   },
   {
    "duration": 34,
    "start_time": "2024-09-02T13:29:34.255Z"
   },
   {
    "duration": 31,
    "start_time": "2024-09-02T13:29:34.291Z"
   },
   {
    "duration": 3,
    "start_time": "2024-09-02T13:29:34.323Z"
   },
   {
    "duration": 75,
    "start_time": "2024-09-02T13:29:34.327Z"
   },
   {
    "duration": 6,
    "start_time": "2024-09-02T13:29:34.404Z"
   },
   {
    "duration": 9,
    "start_time": "2024-09-02T13:29:34.411Z"
   },
   {
    "duration": 33,
    "start_time": "2024-09-02T13:29:34.422Z"
   },
   {
    "duration": 10,
    "start_time": "2024-09-02T13:29:34.457Z"
   },
   {
    "duration": 407,
    "start_time": "2024-09-02T13:29:34.468Z"
   },
   {
    "duration": 314,
    "start_time": "2024-09-02T13:29:34.876Z"
   },
   {
    "duration": 207,
    "start_time": "2024-09-02T13:29:35.192Z"
   },
   {
    "duration": 481,
    "start_time": "2024-09-02T13:29:35.408Z"
   },
   {
    "duration": 348,
    "start_time": "2024-09-02T13:29:35.890Z"
   },
   {
    "duration": 7,
    "start_time": "2024-09-02T13:29:36.239Z"
   },
   {
    "duration": 36,
    "start_time": "2024-09-02T13:29:36.247Z"
   },
   {
    "duration": 25,
    "start_time": "2024-09-02T13:29:36.285Z"
   },
   {
    "duration": 8,
    "start_time": "2024-09-02T13:29:36.311Z"
   },
   {
    "duration": 41,
    "start_time": "2024-09-02T13:29:36.322Z"
   },
   {
    "duration": 50,
    "start_time": "2024-09-02T13:29:36.364Z"
   },
   {
    "duration": 185,
    "start_time": "2024-09-02T13:29:36.415Z"
   },
   {
    "duration": 63,
    "start_time": "2024-09-02T13:29:36.602Z"
   },
   {
    "duration": 182,
    "start_time": "2024-09-02T13:29:36.666Z"
   },
   {
    "duration": 174,
    "start_time": "2024-09-02T13:29:36.850Z"
   },
   {
    "duration": 9,
    "start_time": "2024-09-02T13:29:37.027Z"
   },
   {
    "duration": 23,
    "start_time": "2024-09-02T13:29:37.038Z"
   },
   {
    "duration": 100,
    "start_time": "2024-09-02T13:29:37.063Z"
   },
   {
    "duration": 94,
    "start_time": "2024-09-02T13:29:37.165Z"
   },
   {
    "duration": 98,
    "start_time": "2024-09-02T13:29:37.261Z"
   },
   {
    "duration": 23,
    "start_time": "2024-09-02T13:29:37.361Z"
   },
   {
    "duration": 23,
    "start_time": "2024-09-02T13:29:37.385Z"
   },
   {
    "duration": 123,
    "start_time": "2024-09-02T13:29:37.409Z"
   },
   {
    "duration": 105,
    "start_time": "2024-09-02T13:29:37.533Z"
   },
   {
    "duration": 113,
    "start_time": "2024-09-02T13:29:37.639Z"
   },
   {
    "duration": 161,
    "start_time": "2024-09-02T13:29:37.753Z"
   },
   {
    "duration": 371,
    "start_time": "2024-09-02T13:29:53.057Z"
   },
   {
    "duration": 337,
    "start_time": "2024-09-02T13:30:43.007Z"
   },
   {
    "duration": 457,
    "start_time": "2024-09-02T13:31:19.240Z"
   },
   {
    "duration": 9,
    "start_time": "2024-09-02T13:32:00.039Z"
   },
   {
    "duration": 1190,
    "start_time": "2024-09-02T13:33:51.017Z"
   },
   {
    "duration": 182,
    "start_time": "2024-09-02T13:33:52.209Z"
   },
   {
    "duration": 20,
    "start_time": "2024-09-02T13:33:52.392Z"
   },
   {
    "duration": 22,
    "start_time": "2024-09-02T13:33:52.414Z"
   },
   {
    "duration": 124,
    "start_time": "2024-09-02T13:33:52.438Z"
   },
   {
    "duration": 78,
    "start_time": "2024-09-02T13:33:52.563Z"
   },
   {
    "duration": 12,
    "start_time": "2024-09-02T13:33:52.642Z"
   },
   {
    "duration": 41,
    "start_time": "2024-09-02T13:33:52.656Z"
   },
   {
    "duration": 26,
    "start_time": "2024-09-02T13:33:52.699Z"
   },
   {
    "duration": 135,
    "start_time": "2024-09-02T13:33:52.728Z"
   },
   {
    "duration": 42,
    "start_time": "2024-09-02T13:33:52.865Z"
   },
   {
    "duration": 30,
    "start_time": "2024-09-02T13:33:52.909Z"
   },
   {
    "duration": 12,
    "start_time": "2024-09-02T13:33:52.940Z"
   },
   {
    "duration": 60,
    "start_time": "2024-09-02T13:33:52.953Z"
   },
   {
    "duration": 6,
    "start_time": "2024-09-02T13:33:53.015Z"
   },
   {
    "duration": 16,
    "start_time": "2024-09-02T13:33:53.022Z"
   },
   {
    "duration": 49,
    "start_time": "2024-09-02T13:33:53.039Z"
   },
   {
    "duration": 11,
    "start_time": "2024-09-02T13:33:53.089Z"
   },
   {
    "duration": 399,
    "start_time": "2024-09-02T13:33:53.101Z"
   },
   {
    "duration": 296,
    "start_time": "2024-09-02T13:33:53.501Z"
   },
   {
    "duration": 212,
    "start_time": "2024-09-02T13:33:53.798Z"
   },
   {
    "duration": 436,
    "start_time": "2024-09-02T13:33:54.012Z"
   },
   {
    "duration": 468,
    "start_time": "2024-09-02T13:33:54.450Z"
   },
   {
    "duration": 9,
    "start_time": "2024-09-02T13:33:54.919Z"
   },
   {
    "duration": 808,
    "start_time": "2024-09-02T13:33:54.929Z"
   },
   {
    "duration": 8,
    "start_time": "2024-09-02T13:33:55.739Z"
   },
   {
    "duration": 92,
    "start_time": "2024-09-02T13:33:55.749Z"
   },
   {
    "duration": 63,
    "start_time": "2024-09-02T13:33:55.845Z"
   },
   {
    "duration": 32,
    "start_time": "2024-09-02T13:33:55.909Z"
   },
   {
    "duration": 84,
    "start_time": "2024-09-02T13:33:55.943Z"
   },
   {
    "duration": 31,
    "start_time": "2024-09-02T13:33:56.028Z"
   },
   {
    "duration": 213,
    "start_time": "2024-09-02T13:33:56.061Z"
   },
   {
    "duration": 71,
    "start_time": "2024-09-02T13:33:56.275Z"
   },
   {
    "duration": 171,
    "start_time": "2024-09-02T13:33:56.347Z"
   },
   {
    "duration": 146,
    "start_time": "2024-09-02T13:33:56.519Z"
   },
   {
    "duration": 7,
    "start_time": "2024-09-02T13:33:56.667Z"
   },
   {
    "duration": 6,
    "start_time": "2024-09-02T13:33:56.676Z"
   },
   {
    "duration": 123,
    "start_time": "2024-09-02T13:33:56.684Z"
   },
   {
    "duration": 53,
    "start_time": "2024-09-02T13:33:56.809Z"
   },
   {
    "duration": 81,
    "start_time": "2024-09-02T13:33:56.863Z"
   },
   {
    "duration": 22,
    "start_time": "2024-09-02T13:33:56.945Z"
   },
   {
    "duration": 8,
    "start_time": "2024-09-02T13:33:56.968Z"
   },
   {
    "duration": 133,
    "start_time": "2024-09-02T13:33:56.978Z"
   },
   {
    "duration": 122,
    "start_time": "2024-09-02T13:33:57.112Z"
   },
   {
    "duration": 141,
    "start_time": "2024-09-02T13:33:57.236Z"
   },
   {
    "duration": 177,
    "start_time": "2024-09-02T13:33:57.379Z"
   },
   {
    "duration": 1232,
    "start_time": "2024-09-02T13:34:54.090Z"
   },
   {
    "duration": 174,
    "start_time": "2024-09-02T13:34:55.324Z"
   },
   {
    "duration": 21,
    "start_time": "2024-09-02T13:34:55.500Z"
   },
   {
    "duration": 22,
    "start_time": "2024-09-02T13:34:55.522Z"
   },
   {
    "duration": 192,
    "start_time": "2024-09-02T13:34:55.546Z"
   },
   {
    "duration": 177,
    "start_time": "2024-09-02T13:34:55.740Z"
   },
   {
    "duration": 6,
    "start_time": "2024-09-02T13:34:55.919Z"
   },
   {
    "duration": 82,
    "start_time": "2024-09-02T13:34:55.926Z"
   },
   {
    "duration": 10,
    "start_time": "2024-09-02T13:34:56.009Z"
   },
   {
    "duration": 208,
    "start_time": "2024-09-02T13:34:56.021Z"
   },
   {
    "duration": 92,
    "start_time": "2024-09-02T13:34:56.231Z"
   },
   {
    "duration": 19,
    "start_time": "2024-09-02T13:34:56.325Z"
   },
   {
    "duration": 62,
    "start_time": "2024-09-02T13:34:56.345Z"
   },
   {
    "duration": 35,
    "start_time": "2024-09-02T13:34:56.409Z"
   },
   {
    "duration": 62,
    "start_time": "2024-09-02T13:34:56.446Z"
   },
   {
    "duration": 6,
    "start_time": "2024-09-02T13:34:56.510Z"
   },
   {
    "duration": 34,
    "start_time": "2024-09-02T13:34:56.518Z"
   },
   {
    "duration": 12,
    "start_time": "2024-09-02T13:34:56.608Z"
   },
   {
    "duration": 708,
    "start_time": "2024-09-02T13:34:56.622Z"
   },
   {
    "duration": 313,
    "start_time": "2024-09-02T13:34:57.332Z"
   },
   {
    "duration": 212,
    "start_time": "2024-09-02T13:34:57.647Z"
   },
   {
    "duration": 445,
    "start_time": "2024-09-02T13:34:57.860Z"
   },
   {
    "duration": 337,
    "start_time": "2024-09-02T13:34:58.307Z"
   },
   {
    "duration": 9,
    "start_time": "2024-09-02T13:34:58.645Z"
   },
   {
    "duration": 382,
    "start_time": "2024-09-02T13:34:58.655Z"
   },
   {
    "duration": 8,
    "start_time": "2024-09-02T13:34:59.038Z"
   },
   {
    "duration": 35,
    "start_time": "2024-09-02T13:34:59.047Z"
   },
   {
    "duration": 29,
    "start_time": "2024-09-02T13:34:59.085Z"
   },
   {
    "duration": 8,
    "start_time": "2024-09-02T13:34:59.116Z"
   },
   {
    "duration": 43,
    "start_time": "2024-09-02T13:34:59.126Z"
   },
   {
    "duration": 46,
    "start_time": "2024-09-02T13:34:59.171Z"
   },
   {
    "duration": 191,
    "start_time": "2024-09-02T13:34:59.219Z"
   },
   {
    "duration": 60,
    "start_time": "2024-09-02T13:34:59.412Z"
   },
   {
    "duration": 182,
    "start_time": "2024-09-02T13:34:59.473Z"
   },
   {
    "duration": 149,
    "start_time": "2024-09-02T13:34:59.657Z"
   },
   {
    "duration": 7,
    "start_time": "2024-09-02T13:34:59.808Z"
   },
   {
    "duration": 6,
    "start_time": "2024-09-02T13:34:59.816Z"
   },
   {
    "duration": 105,
    "start_time": "2024-09-02T13:34:59.824Z"
   },
   {
    "duration": 82,
    "start_time": "2024-09-02T13:34:59.930Z"
   },
   {
    "duration": 65,
    "start_time": "2024-09-02T13:35:00.014Z"
   },
   {
    "duration": 35,
    "start_time": "2024-09-02T13:35:00.081Z"
   },
   {
    "duration": 14,
    "start_time": "2024-09-02T13:35:00.118Z"
   },
   {
    "duration": 115,
    "start_time": "2024-09-02T13:35:00.133Z"
   },
   {
    "duration": 110,
    "start_time": "2024-09-02T13:35:00.250Z"
   },
   {
    "duration": 107,
    "start_time": "2024-09-02T13:35:00.362Z"
   },
   {
    "duration": 169,
    "start_time": "2024-09-02T13:35:00.470Z"
   },
   {
    "duration": 22,
    "start_time": "2024-09-02T13:36:10.197Z"
   },
   {
    "duration": 347,
    "start_time": "2024-09-02T13:36:40.565Z"
   },
   {
    "duration": 377,
    "start_time": "2024-09-02T13:37:48.156Z"
   },
   {
    "duration": 20,
    "start_time": "2024-09-02T13:40:15.085Z"
   },
   {
    "duration": 16,
    "start_time": "2024-09-02T13:40:39.943Z"
   },
   {
    "duration": 366,
    "start_time": "2024-09-02T13:40:41.620Z"
   },
   {
    "duration": 152,
    "start_time": "2024-09-02T13:42:49.802Z"
   },
   {
    "duration": 1249,
    "start_time": "2024-09-02T13:46:20.663Z"
   },
   {
    "duration": 184,
    "start_time": "2024-09-02T13:46:21.913Z"
   },
   {
    "duration": 18,
    "start_time": "2024-09-02T13:46:22.098Z"
   },
   {
    "duration": 21,
    "start_time": "2024-09-02T13:46:22.118Z"
   },
   {
    "duration": 134,
    "start_time": "2024-09-02T13:46:22.141Z"
   },
   {
    "duration": 86,
    "start_time": "2024-09-02T13:46:22.276Z"
   },
   {
    "duration": 6,
    "start_time": "2024-09-02T13:46:22.363Z"
   },
   {
    "duration": 47,
    "start_time": "2024-09-02T13:46:22.371Z"
   },
   {
    "duration": 24,
    "start_time": "2024-09-02T13:46:22.420Z"
   },
   {
    "duration": 138,
    "start_time": "2024-09-02T13:46:22.446Z"
   },
   {
    "duration": 43,
    "start_time": "2024-09-02T13:46:22.586Z"
   },
   {
    "duration": 20,
    "start_time": "2024-09-02T13:46:22.630Z"
   },
   {
    "duration": 3,
    "start_time": "2024-09-02T13:46:22.652Z"
   },
   {
    "duration": 63,
    "start_time": "2024-09-02T13:46:22.658Z"
   },
   {
    "duration": 8,
    "start_time": "2024-09-02T13:46:22.723Z"
   },
   {
    "duration": 13,
    "start_time": "2024-09-02T13:46:22.733Z"
   },
   {
    "duration": 42,
    "start_time": "2024-09-02T13:46:22.747Z"
   },
   {
    "duration": 25,
    "start_time": "2024-09-02T13:46:22.791Z"
   },
   {
    "duration": 438,
    "start_time": "2024-09-02T13:46:22.818Z"
   },
   {
    "duration": 351,
    "start_time": "2024-09-02T13:46:23.258Z"
   },
   {
    "duration": 417,
    "start_time": "2024-09-02T13:46:23.611Z"
   },
   {
    "duration": 694,
    "start_time": "2024-09-02T13:46:24.030Z"
   },
   {
    "duration": 536,
    "start_time": "2024-09-02T13:46:24.726Z"
   },
   {
    "duration": 8,
    "start_time": "2024-09-02T13:46:25.264Z"
   },
   {
    "duration": 50,
    "start_time": "2024-09-02T13:46:25.273Z"
   },
   {
    "duration": 458,
    "start_time": "2024-09-02T13:46:25.324Z"
   },
   {
    "duration": 9,
    "start_time": "2024-09-02T13:46:25.784Z"
   },
   {
    "duration": 41,
    "start_time": "2024-09-02T13:46:25.806Z"
   },
   {
    "duration": 14,
    "start_time": "2024-09-02T13:46:25.849Z"
   },
   {
    "duration": 10,
    "start_time": "2024-09-02T13:46:25.864Z"
   },
   {
    "duration": 61,
    "start_time": "2024-09-02T13:46:25.875Z"
   },
   {
    "duration": 28,
    "start_time": "2024-09-02T13:46:25.937Z"
   },
   {
    "duration": 197,
    "start_time": "2024-09-02T13:46:25.967Z"
   },
   {
    "duration": 73,
    "start_time": "2024-09-02T13:46:26.166Z"
   },
   {
    "duration": 184,
    "start_time": "2024-09-02T13:46:26.241Z"
   },
   {
    "duration": 149,
    "start_time": "2024-09-02T13:46:26.427Z"
   },
   {
    "duration": 8,
    "start_time": "2024-09-02T13:46:26.578Z"
   },
   {
    "duration": 29,
    "start_time": "2024-09-02T13:46:26.587Z"
   },
   {
    "duration": 107,
    "start_time": "2024-09-02T13:46:26.617Z"
   },
   {
    "duration": 53,
    "start_time": "2024-09-02T13:46:26.726Z"
   },
   {
    "duration": 67,
    "start_time": "2024-09-02T13:46:26.809Z"
   },
   {
    "duration": 37,
    "start_time": "2024-09-02T13:46:26.877Z"
   },
   {
    "duration": 6,
    "start_time": "2024-09-02T13:46:26.915Z"
   },
   {
    "duration": 117,
    "start_time": "2024-09-02T13:46:26.923Z"
   },
   {
    "duration": 112,
    "start_time": "2024-09-02T13:46:27.041Z"
   },
   {
    "duration": 110,
    "start_time": "2024-09-02T13:46:27.154Z"
   },
   {
    "duration": 201,
    "start_time": "2024-09-02T13:46:27.266Z"
   },
   {
    "duration": 21,
    "start_time": "2024-09-02T13:50:43.108Z"
   },
   {
    "duration": 16,
    "start_time": "2024-09-02T13:51:00.685Z"
   },
   {
    "duration": 446,
    "start_time": "2024-09-02T13:51:04.528Z"
   },
   {
    "duration": 337,
    "start_time": "2024-09-02T13:51:27.597Z"
   },
   {
    "duration": 326,
    "start_time": "2024-09-02T13:53:46.329Z"
   },
   {
    "duration": 2,
    "start_time": "2024-09-02T13:54:08.661Z"
   },
   {
    "duration": 369,
    "start_time": "2024-09-02T13:54:12.081Z"
   },
   {
    "duration": 481,
    "start_time": "2024-09-02T13:56:48.700Z"
   },
   {
    "duration": 384,
    "start_time": "2024-09-02T13:57:01.031Z"
   },
   {
    "duration": 368,
    "start_time": "2024-09-02T13:57:09.863Z"
   },
   {
    "duration": 355,
    "start_time": "2024-09-02T13:59:51.823Z"
   },
   {
    "duration": 350,
    "start_time": "2024-09-02T14:00:08.086Z"
   },
   {
    "duration": 21,
    "start_time": "2024-09-02T14:00:44.320Z"
   },
   {
    "duration": 828,
    "start_time": "2024-09-02T14:04:21.418Z"
   },
   {
    "duration": 382,
    "start_time": "2024-09-02T14:04:40.828Z"
   },
   {
    "duration": 251,
    "start_time": "2024-09-02T14:06:38.507Z"
   },
   {
    "duration": 18,
    "start_time": "2024-09-02T14:16:34.455Z"
   },
   {
    "duration": 236,
    "start_time": "2024-09-02T14:17:09.426Z"
   },
   {
    "duration": 230,
    "start_time": "2024-09-02T14:17:51.741Z"
   },
   {
    "duration": 4,
    "start_time": "2024-09-02T14:18:28.580Z"
   },
   {
    "duration": 4,
    "start_time": "2024-09-02T14:18:44.434Z"
   },
   {
    "duration": 1970,
    "start_time": "2024-09-02T14:18:51.589Z"
   },
   {
    "duration": 285,
    "start_time": "2024-09-02T14:18:53.561Z"
   },
   {
    "duration": 67,
    "start_time": "2024-09-02T14:18:53.848Z"
   },
   {
    "duration": 23,
    "start_time": "2024-09-02T14:18:53.916Z"
   },
   {
    "duration": 295,
    "start_time": "2024-09-02T14:18:53.942Z"
   },
   {
    "duration": 183,
    "start_time": "2024-09-02T14:18:54.238Z"
   },
   {
    "duration": 7,
    "start_time": "2024-09-02T14:18:54.422Z"
   },
   {
    "duration": 78,
    "start_time": "2024-09-02T14:18:54.430Z"
   },
   {
    "duration": 10,
    "start_time": "2024-09-02T14:18:54.510Z"
   },
   {
    "duration": 206,
    "start_time": "2024-09-02T14:18:54.522Z"
   },
   {
    "duration": 91,
    "start_time": "2024-09-02T14:18:54.729Z"
   },
   {
    "duration": 19,
    "start_time": "2024-09-02T14:18:54.821Z"
   },
   {
    "duration": 6,
    "start_time": "2024-09-02T14:18:54.842Z"
   },
   {
    "duration": 90,
    "start_time": "2024-09-02T14:18:54.852Z"
   },
   {
    "duration": 7,
    "start_time": "2024-09-02T14:18:54.943Z"
   },
   {
    "duration": 61,
    "start_time": "2024-09-02T14:18:54.951Z"
   },
   {
    "duration": 36,
    "start_time": "2024-09-02T14:18:55.013Z"
   },
   {
    "duration": 66,
    "start_time": "2024-09-02T14:18:55.050Z"
   },
   {
    "duration": 447,
    "start_time": "2024-09-02T14:18:55.118Z"
   },
   {
    "duration": 320,
    "start_time": "2024-09-02T14:18:55.567Z"
   },
   {
    "duration": 221,
    "start_time": "2024-09-02T14:18:55.888Z"
   },
   {
    "duration": 441,
    "start_time": "2024-09-02T14:18:56.111Z"
   },
   {
    "duration": 312,
    "start_time": "2024-09-02T14:18:56.554Z"
   },
   {
    "duration": 9,
    "start_time": "2024-09-02T14:18:56.908Z"
   },
   {
    "duration": 21,
    "start_time": "2024-09-02T14:18:56.919Z"
   },
   {
    "duration": 447,
    "start_time": "2024-09-02T14:18:56.941Z"
   },
   {
    "duration": 0,
    "start_time": "2024-09-02T14:18:57.390Z"
   },
   {
    "duration": 0,
    "start_time": "2024-09-02T14:18:57.391Z"
   },
   {
    "duration": 0,
    "start_time": "2024-09-02T14:18:57.392Z"
   },
   {
    "duration": 0,
    "start_time": "2024-09-02T14:18:57.393Z"
   },
   {
    "duration": 0,
    "start_time": "2024-09-02T14:18:57.395Z"
   },
   {
    "duration": 0,
    "start_time": "2024-09-02T14:18:57.407Z"
   },
   {
    "duration": 0,
    "start_time": "2024-09-02T14:18:57.408Z"
   },
   {
    "duration": 0,
    "start_time": "2024-09-02T14:18:57.409Z"
   },
   {
    "duration": 0,
    "start_time": "2024-09-02T14:18:57.410Z"
   },
   {
    "duration": 0,
    "start_time": "2024-09-02T14:18:57.411Z"
   },
   {
    "duration": 0,
    "start_time": "2024-09-02T14:18:57.412Z"
   },
   {
    "duration": 0,
    "start_time": "2024-09-02T14:18:57.413Z"
   },
   {
    "duration": 0,
    "start_time": "2024-09-02T14:18:57.414Z"
   },
   {
    "duration": 0,
    "start_time": "2024-09-02T14:18:57.415Z"
   },
   {
    "duration": 0,
    "start_time": "2024-09-02T14:18:57.416Z"
   },
   {
    "duration": 0,
    "start_time": "2024-09-02T14:18:57.417Z"
   },
   {
    "duration": 0,
    "start_time": "2024-09-02T14:18:57.418Z"
   },
   {
    "duration": 0,
    "start_time": "2024-09-02T14:18:57.419Z"
   },
   {
    "duration": 0,
    "start_time": "2024-09-02T14:18:57.420Z"
   },
   {
    "duration": 0,
    "start_time": "2024-09-02T14:18:57.421Z"
   },
   {
    "duration": 0,
    "start_time": "2024-09-02T14:18:57.423Z"
   },
   {
    "duration": 23,
    "start_time": "2024-09-02T14:19:32.162Z"
   },
   {
    "duration": 34,
    "start_time": "2024-09-02T14:19:44.504Z"
   },
   {
    "duration": 304,
    "start_time": "2024-09-02T14:19:48.958Z"
   },
   {
    "duration": 313,
    "start_time": "2024-09-02T14:20:54.299Z"
   },
   {
    "duration": 397,
    "start_time": "2024-09-02T14:21:04.043Z"
   },
   {
    "duration": 23,
    "start_time": "2024-09-02T14:21:12.439Z"
   },
   {
    "duration": 92,
    "start_time": "2024-09-02T14:26:41.608Z"
   },
   {
    "duration": 42,
    "start_time": "2024-09-02T14:26:43.292Z"
   },
   {
    "duration": 379,
    "start_time": "2024-09-02T14:26:45.904Z"
   },
   {
    "duration": 36,
    "start_time": "2024-09-02T14:27:18.789Z"
   },
   {
    "duration": 30,
    "start_time": "2024-09-02T14:30:05.124Z"
   },
   {
    "duration": 518,
    "start_time": "2024-09-02T14:30:15.533Z"
   },
   {
    "duration": 419,
    "start_time": "2024-09-02T14:31:58.186Z"
   },
   {
    "duration": 370,
    "start_time": "2024-09-02T14:32:01.374Z"
   },
   {
    "duration": 438,
    "start_time": "2024-09-02T14:42:22.853Z"
   },
   {
    "duration": 446,
    "start_time": "2024-09-02T14:42:34.316Z"
   },
   {
    "duration": 1404,
    "start_time": "2024-09-02T15:13:03.953Z"
   },
   {
    "duration": 195,
    "start_time": "2024-09-02T15:13:05.359Z"
   },
   {
    "duration": 17,
    "start_time": "2024-09-02T15:13:05.555Z"
   },
   {
    "duration": 33,
    "start_time": "2024-09-02T15:13:05.574Z"
   },
   {
    "duration": 133,
    "start_time": "2024-09-02T15:13:05.610Z"
   },
   {
    "duration": 80,
    "start_time": "2024-09-02T15:13:05.745Z"
   },
   {
    "duration": 6,
    "start_time": "2024-09-02T15:13:05.826Z"
   },
   {
    "duration": 108,
    "start_time": "2024-09-02T15:13:05.833Z"
   },
   {
    "duration": 23,
    "start_time": "2024-09-02T15:13:05.943Z"
   },
   {
    "duration": 170,
    "start_time": "2024-09-02T15:13:05.967Z"
   },
   {
    "duration": 103,
    "start_time": "2024-09-02T15:13:06.139Z"
   },
   {
    "duration": 71,
    "start_time": "2024-09-02T15:13:06.243Z"
   },
   {
    "duration": 31,
    "start_time": "2024-09-02T15:13:06.316Z"
   },
   {
    "duration": 78,
    "start_time": "2024-09-02T15:13:06.350Z"
   },
   {
    "duration": 7,
    "start_time": "2024-09-02T15:13:06.429Z"
   },
   {
    "duration": 70,
    "start_time": "2024-09-02T15:13:06.437Z"
   },
   {
    "duration": 32,
    "start_time": "2024-09-02T15:13:06.509Z"
   },
   {
    "duration": 66,
    "start_time": "2024-09-02T15:13:06.542Z"
   },
   {
    "duration": 862,
    "start_time": "2024-09-02T15:13:06.609Z"
   },
   {
    "duration": 300,
    "start_time": "2024-09-02T15:13:07.472Z"
   },
   {
    "duration": 208,
    "start_time": "2024-09-02T15:13:07.773Z"
   },
   {
    "duration": 468,
    "start_time": "2024-09-02T15:13:07.983Z"
   },
   {
    "duration": 301,
    "start_time": "2024-09-02T15:13:08.452Z"
   },
   {
    "duration": 8,
    "start_time": "2024-09-02T15:13:08.754Z"
   },
   {
    "duration": 104,
    "start_time": "2024-09-02T15:13:08.763Z"
   },
   {
    "duration": 49,
    "start_time": "2024-09-02T15:13:08.869Z"
   },
   {
    "duration": 455,
    "start_time": "2024-09-02T15:13:08.920Z"
   },
   {
    "duration": 7,
    "start_time": "2024-09-02T15:13:09.377Z"
   },
   {
    "duration": 464,
    "start_time": "2024-09-02T15:13:09.385Z"
   },
   {
    "duration": 0,
    "start_time": "2024-09-02T15:13:09.851Z"
   },
   {
    "duration": 0,
    "start_time": "2024-09-02T15:13:09.852Z"
   },
   {
    "duration": 0,
    "start_time": "2024-09-02T15:13:09.853Z"
   },
   {
    "duration": 0,
    "start_time": "2024-09-02T15:13:09.854Z"
   },
   {
    "duration": 0,
    "start_time": "2024-09-02T15:13:09.855Z"
   },
   {
    "duration": 0,
    "start_time": "2024-09-02T15:13:09.856Z"
   },
   {
    "duration": 0,
    "start_time": "2024-09-02T15:13:09.857Z"
   },
   {
    "duration": 0,
    "start_time": "2024-09-02T15:13:09.858Z"
   },
   {
    "duration": 0,
    "start_time": "2024-09-02T15:13:09.859Z"
   },
   {
    "duration": 0,
    "start_time": "2024-09-02T15:13:09.860Z"
   },
   {
    "duration": 0,
    "start_time": "2024-09-02T15:13:09.861Z"
   },
   {
    "duration": 0,
    "start_time": "2024-09-02T15:13:09.862Z"
   },
   {
    "duration": 0,
    "start_time": "2024-09-02T15:13:09.863Z"
   },
   {
    "duration": 0,
    "start_time": "2024-09-02T15:13:09.864Z"
   },
   {
    "duration": 0,
    "start_time": "2024-09-02T15:13:09.865Z"
   },
   {
    "duration": 0,
    "start_time": "2024-09-02T15:13:09.865Z"
   },
   {
    "duration": 0,
    "start_time": "2024-09-02T15:13:09.866Z"
   },
   {
    "duration": 0,
    "start_time": "2024-09-02T15:13:09.867Z"
   },
   {
    "duration": 0,
    "start_time": "2024-09-02T15:13:09.868Z"
   },
   {
    "duration": 418,
    "start_time": "2024-09-02T15:14:33.278Z"
   },
   {
    "duration": 315,
    "start_time": "2024-09-02T15:15:20.757Z"
   },
   {
    "duration": 1159,
    "start_time": "2024-09-02T15:24:03.662Z"
   },
   {
    "duration": 185,
    "start_time": "2024-09-02T15:24:04.823Z"
   },
   {
    "duration": 17,
    "start_time": "2024-09-02T15:24:05.009Z"
   },
   {
    "duration": 21,
    "start_time": "2024-09-02T15:24:05.028Z"
   },
   {
    "duration": 145,
    "start_time": "2024-09-02T15:24:05.051Z"
   },
   {
    "duration": 78,
    "start_time": "2024-09-02T15:24:05.198Z"
   },
   {
    "duration": 7,
    "start_time": "2024-09-02T15:24:05.278Z"
   },
   {
    "duration": 45,
    "start_time": "2024-09-02T15:24:05.286Z"
   },
   {
    "duration": 10,
    "start_time": "2024-09-02T15:24:05.333Z"
   },
   {
    "duration": 117,
    "start_time": "2024-09-02T15:24:05.346Z"
   },
   {
    "duration": 43,
    "start_time": "2024-09-02T15:24:05.464Z"
   },
   {
    "duration": 19,
    "start_time": "2024-09-02T15:24:05.509Z"
   },
   {
    "duration": 4,
    "start_time": "2024-09-02T15:24:05.529Z"
   },
   {
    "duration": 52,
    "start_time": "2024-09-02T15:24:05.534Z"
   },
   {
    "duration": 20,
    "start_time": "2024-09-02T15:24:05.588Z"
   },
   {
    "duration": 7,
    "start_time": "2024-09-02T15:24:05.609Z"
   },
   {
    "duration": 48,
    "start_time": "2024-09-02T15:24:05.618Z"
   },
   {
    "duration": 11,
    "start_time": "2024-09-02T15:24:05.668Z"
   },
   {
    "duration": 405,
    "start_time": "2024-09-02T15:24:05.680Z"
   },
   {
    "duration": 310,
    "start_time": "2024-09-02T15:24:06.086Z"
   },
   {
    "duration": 211,
    "start_time": "2024-09-02T15:24:06.398Z"
   },
   {
    "duration": 441,
    "start_time": "2024-09-02T15:24:06.611Z"
   },
   {
    "duration": 370,
    "start_time": "2024-09-02T15:24:07.054Z"
   },
   {
    "duration": 8,
    "start_time": "2024-09-02T15:24:07.426Z"
   },
   {
    "duration": 95,
    "start_time": "2024-09-02T15:24:07.436Z"
   },
   {
    "duration": 40,
    "start_time": "2024-09-02T15:24:07.533Z"
   },
   {
    "duration": 436,
    "start_time": "2024-09-02T15:24:07.575Z"
   },
   {
    "duration": 6,
    "start_time": "2024-09-02T15:24:08.015Z"
   },
   {
    "duration": 436,
    "start_time": "2024-09-02T15:24:08.023Z"
   },
   {
    "duration": 0,
    "start_time": "2024-09-02T15:24:08.460Z"
   },
   {
    "duration": 0,
    "start_time": "2024-09-02T15:24:08.461Z"
   },
   {
    "duration": 0,
    "start_time": "2024-09-02T15:24:08.463Z"
   },
   {
    "duration": 0,
    "start_time": "2024-09-02T15:24:08.464Z"
   },
   {
    "duration": 0,
    "start_time": "2024-09-02T15:24:08.465Z"
   },
   {
    "duration": 0,
    "start_time": "2024-09-02T15:24:08.466Z"
   },
   {
    "duration": 0,
    "start_time": "2024-09-02T15:24:08.467Z"
   },
   {
    "duration": 0,
    "start_time": "2024-09-02T15:24:08.468Z"
   },
   {
    "duration": 0,
    "start_time": "2024-09-02T15:24:08.469Z"
   },
   {
    "duration": 0,
    "start_time": "2024-09-02T15:24:08.471Z"
   },
   {
    "duration": 0,
    "start_time": "2024-09-02T15:24:08.472Z"
   },
   {
    "duration": 0,
    "start_time": "2024-09-02T15:24:08.473Z"
   },
   {
    "duration": 0,
    "start_time": "2024-09-02T15:24:08.474Z"
   },
   {
    "duration": 0,
    "start_time": "2024-09-02T15:24:08.475Z"
   },
   {
    "duration": 0,
    "start_time": "2024-09-02T15:24:08.477Z"
   },
   {
    "duration": 0,
    "start_time": "2024-09-02T15:24:08.478Z"
   },
   {
    "duration": 0,
    "start_time": "2024-09-02T15:24:08.479Z"
   },
   {
    "duration": 0,
    "start_time": "2024-09-02T15:24:08.480Z"
   },
   {
    "duration": 0,
    "start_time": "2024-09-02T15:24:08.481Z"
   },
   {
    "duration": 1264,
    "start_time": "2024-09-02T15:48:14.009Z"
   },
   {
    "duration": 189,
    "start_time": "2024-09-02T15:48:15.275Z"
   },
   {
    "duration": 16,
    "start_time": "2024-09-02T15:48:15.466Z"
   },
   {
    "duration": 25,
    "start_time": "2024-09-02T15:48:15.483Z"
   },
   {
    "duration": 140,
    "start_time": "2024-09-02T15:48:15.510Z"
   },
   {
    "duration": 82,
    "start_time": "2024-09-02T15:48:15.652Z"
   },
   {
    "duration": 7,
    "start_time": "2024-09-02T15:48:15.735Z"
   },
   {
    "duration": 25,
    "start_time": "2024-09-02T15:48:15.744Z"
   },
   {
    "duration": 9,
    "start_time": "2024-09-02T15:48:15.771Z"
   },
   {
    "duration": 123,
    "start_time": "2024-09-02T15:48:15.781Z"
   },
   {
    "duration": 36,
    "start_time": "2024-09-02T15:48:15.907Z"
   },
   {
    "duration": 19,
    "start_time": "2024-09-02T15:48:15.944Z"
   },
   {
    "duration": 2,
    "start_time": "2024-09-02T15:48:15.965Z"
   },
   {
    "duration": 60,
    "start_time": "2024-09-02T15:48:15.970Z"
   },
   {
    "duration": 6,
    "start_time": "2024-09-02T15:48:16.032Z"
   },
   {
    "duration": 6,
    "start_time": "2024-09-02T15:48:16.039Z"
   },
   {
    "duration": 39,
    "start_time": "2024-09-02T15:48:16.047Z"
   },
   {
    "duration": 29,
    "start_time": "2024-09-02T15:48:16.088Z"
   },
   {
    "duration": 406,
    "start_time": "2024-09-02T15:48:16.119Z"
   },
   {
    "duration": 319,
    "start_time": "2024-09-02T15:48:16.527Z"
   },
   {
    "duration": 216,
    "start_time": "2024-09-02T15:48:16.847Z"
   },
   {
    "duration": 450,
    "start_time": "2024-09-02T15:48:17.065Z"
   },
   {
    "duration": 328,
    "start_time": "2024-09-02T15:48:17.517Z"
   },
   {
    "duration": 8,
    "start_time": "2024-09-02T15:48:17.847Z"
   },
   {
    "duration": 101,
    "start_time": "2024-09-02T15:48:17.857Z"
   },
   {
    "duration": 50,
    "start_time": "2024-09-02T15:48:17.959Z"
   },
   {
    "duration": 449,
    "start_time": "2024-09-02T15:48:18.011Z"
   },
   {
    "duration": 6,
    "start_time": "2024-09-02T15:48:18.462Z"
   },
   {
    "duration": 400,
    "start_time": "2024-09-02T15:48:18.470Z"
   },
   {
    "duration": 0,
    "start_time": "2024-09-02T15:48:18.872Z"
   },
   {
    "duration": 0,
    "start_time": "2024-09-02T15:48:18.873Z"
   },
   {
    "duration": 0,
    "start_time": "2024-09-02T15:48:18.874Z"
   },
   {
    "duration": 0,
    "start_time": "2024-09-02T15:48:18.875Z"
   },
   {
    "duration": 0,
    "start_time": "2024-09-02T15:48:18.876Z"
   },
   {
    "duration": 0,
    "start_time": "2024-09-02T15:48:18.878Z"
   },
   {
    "duration": 0,
    "start_time": "2024-09-02T15:48:18.879Z"
   },
   {
    "duration": 0,
    "start_time": "2024-09-02T15:48:18.880Z"
   },
   {
    "duration": 0,
    "start_time": "2024-09-02T15:48:18.880Z"
   },
   {
    "duration": 0,
    "start_time": "2024-09-02T15:48:18.881Z"
   },
   {
    "duration": 0,
    "start_time": "2024-09-02T15:48:18.882Z"
   },
   {
    "duration": 0,
    "start_time": "2024-09-02T15:48:18.883Z"
   },
   {
    "duration": 0,
    "start_time": "2024-09-02T15:48:18.884Z"
   },
   {
    "duration": 0,
    "start_time": "2024-09-02T15:48:18.885Z"
   },
   {
    "duration": 0,
    "start_time": "2024-09-02T15:48:18.886Z"
   },
   {
    "duration": 0,
    "start_time": "2024-09-02T15:48:18.887Z"
   },
   {
    "duration": 0,
    "start_time": "2024-09-02T15:48:18.889Z"
   },
   {
    "duration": 0,
    "start_time": "2024-09-02T15:48:18.889Z"
   },
   {
    "duration": 0,
    "start_time": "2024-09-02T15:48:18.891Z"
   }
  ],
  "kernelspec": {
   "display_name": "Python 3 (ipykernel)",
   "language": "python",
   "name": "python3"
  },
  "language_info": {
   "codemirror_mode": {
    "name": "ipython",
    "version": 3
   },
   "file_extension": ".py",
   "mimetype": "text/x-python",
   "name": "python",
   "nbconvert_exporter": "python",
   "pygments_lexer": "ipython3",
   "version": "3.9.5"
  },
  "toc": {
   "base_numbering": 1,
   "nav_menu": {},
   "number_sections": true,
   "sideBar": true,
   "skip_h1_title": true,
   "title_cell": "Table of Contents",
   "title_sidebar": "Contents",
   "toc_cell": false,
   "toc_position": {},
   "toc_section_display": true,
   "toc_window_display": true
  }
 },
 "nbformat": 4,
 "nbformat_minor": 2
}

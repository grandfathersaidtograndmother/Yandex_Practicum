{
 "cells": [
  {
   "cell_type": "markdown",
   "metadata": {},
   "source": [
    " по ссылкам ниже интересные материалы по А/В тестам  \n",
    "    \n",
    "https://habr.com/ru/company/avito/blog/571094/\n",
    "\n",
    "https://habr.com/ru/company/yandex/blog/476826/\n",
    "\n",
    "https://academy.yandex.ru/journal/kak-provesti-a-b-testirovanie-6-prostykh-shagov\n",
    "\n",
    "https://habr.com/ru/company/yandex/blog/342704/\n",
    "\n",
    "https://r-analytics.blogspot.com/2013/10/blog-post_13.html \n"
   ]
  },
  {
   "cell_type": "markdown",
   "metadata": {},
   "source": [
    "# Принятие решений в бизнесе\n",
    "**Я — аналитик крупного интернет-магазина. Вместе с отделом маркетинга мы подготовили список гипотез для увеличения выручки.\n",
    "Приоритизируем гипотезы, запустим A/B-тест и проанализируем результаты.**\n"
   ]
  },
  {
   "cell_type": "code",
   "execution_count": 1,
   "metadata": {},
   "outputs": [],
   "source": [
    " # импорт библиотек\n",
    "import pandas as pd\n",
    "import numpy as np\n",
    "import matplotlib.pyplot as plt\n",
    "from scipy import stats as st\n",
    "import datetime as dt\n",
    "import seaborn as sns\n",
    "import scipy.stats as stats"
   ]
  },
  {
   "cell_type": "code",
   "execution_count": 2,
   "metadata": {},
   "outputs": [],
   "source": [
    "# чтение файла с данными и сохранение в датафреймы\n",
    "\n",
    "hyp = pd.read_csv('/datasets/hypothesis.csv')\n",
    "orders = pd.read_csv('/datasets/orders.csv')\n",
    "visitors = pd.read_csv('/datasets/visitors.csv')"
   ]
  },
  {
   "cell_type": "code",
   "execution_count": 3,
   "metadata": {
    "scrolled": true
   },
   "outputs": [
    {
     "name": "stdout",
     "output_type": "stream",
     "text": [
      "Название датафрейма hypothesis, количество дубликатов 0\n"
     ]
    },
    {
     "data": {
      "text/html": [
       "<div>\n",
       "<style scoped>\n",
       "    .dataframe tbody tr th:only-of-type {\n",
       "        vertical-align: middle;\n",
       "    }\n",
       "\n",
       "    .dataframe tbody tr th {\n",
       "        vertical-align: top;\n",
       "    }\n",
       "\n",
       "    .dataframe thead th {\n",
       "        text-align: right;\n",
       "    }\n",
       "</style>\n",
       "<table border=\"1\" class=\"dataframe\">\n",
       "  <thead>\n",
       "    <tr style=\"text-align: right;\">\n",
       "      <th></th>\n",
       "      <th>Hypothesis</th>\n",
       "      <th>Reach</th>\n",
       "      <th>Impact</th>\n",
       "      <th>Confidence</th>\n",
       "      <th>Efforts</th>\n",
       "    </tr>\n",
       "  </thead>\n",
       "  <tbody>\n",
       "    <tr>\n",
       "      <th>0</th>\n",
       "      <td>Добавить два новых канала привлечения трафика,...</td>\n",
       "      <td>3</td>\n",
       "      <td>10</td>\n",
       "      <td>8</td>\n",
       "      <td>6</td>\n",
       "    </tr>\n",
       "    <tr>\n",
       "      <th>1</th>\n",
       "      <td>Запустить собственную службу доставки, что сок...</td>\n",
       "      <td>2</td>\n",
       "      <td>5</td>\n",
       "      <td>4</td>\n",
       "      <td>10</td>\n",
       "    </tr>\n",
       "    <tr>\n",
       "      <th>2</th>\n",
       "      <td>Добавить блоки рекомендаций товаров на сайт ин...</td>\n",
       "      <td>8</td>\n",
       "      <td>3</td>\n",
       "      <td>7</td>\n",
       "      <td>3</td>\n",
       "    </tr>\n",
       "    <tr>\n",
       "      <th>3</th>\n",
       "      <td>Изменить структура категорий, что увеличит кон...</td>\n",
       "      <td>8</td>\n",
       "      <td>3</td>\n",
       "      <td>3</td>\n",
       "      <td>8</td>\n",
       "    </tr>\n",
       "    <tr>\n",
       "      <th>4</th>\n",
       "      <td>Изменить цвет фона главной страницы, чтобы уве...</td>\n",
       "      <td>3</td>\n",
       "      <td>1</td>\n",
       "      <td>1</td>\n",
       "      <td>1</td>\n",
       "    </tr>\n",
       "  </tbody>\n",
       "</table>\n",
       "</div>"
      ],
      "text/plain": [
       "                                          Hypothesis  Reach  Impact  \\\n",
       "0  Добавить два новых канала привлечения трафика,...      3      10   \n",
       "1  Запустить собственную службу доставки, что сок...      2       5   \n",
       "2  Добавить блоки рекомендаций товаров на сайт ин...      8       3   \n",
       "3  Изменить структура категорий, что увеличит кон...      8       3   \n",
       "4  Изменить цвет фона главной страницы, чтобы уве...      3       1   \n",
       "\n",
       "   Confidence  Efforts  \n",
       "0           8        6  \n",
       "1           4       10  \n",
       "2           7        3  \n",
       "3           3        8  \n",
       "4           1        1  "
      ]
     },
     "metadata": {},
     "output_type": "display_data"
    },
    {
     "name": "stdout",
     "output_type": "stream",
     "text": [
      "<class 'pandas.core.frame.DataFrame'>\n",
      "RangeIndex: 9 entries, 0 to 8\n",
      "Data columns (total 5 columns):\n",
      " #   Column      Non-Null Count  Dtype \n",
      "---  ------      --------------  ----- \n",
      " 0   Hypothesis  9 non-null      object\n",
      " 1   Reach       9 non-null      int64 \n",
      " 2   Impact      9 non-null      int64 \n",
      " 3   Confidence  9 non-null      int64 \n",
      " 4   Efforts     9 non-null      int64 \n",
      "dtypes: int64(4), object(1)\n",
      "memory usage: 488.0+ bytes\n"
     ]
    },
    {
     "data": {
      "text/plain": [
       "None"
      ]
     },
     "metadata": {},
     "output_type": "display_data"
    },
    {
     "name": "stdout",
     "output_type": "stream",
     "text": [
      "- - - - - - - - - - - - - - - - - - - - - - - - - - - - - - - - - - - - - - - - - - - - - - - - - - \n",
      "Название датафрейма orders, количество дубликатов 0\n"
     ]
    },
    {
     "data": {
      "text/html": [
       "<div>\n",
       "<style scoped>\n",
       "    .dataframe tbody tr th:only-of-type {\n",
       "        vertical-align: middle;\n",
       "    }\n",
       "\n",
       "    .dataframe tbody tr th {\n",
       "        vertical-align: top;\n",
       "    }\n",
       "\n",
       "    .dataframe thead th {\n",
       "        text-align: right;\n",
       "    }\n",
       "</style>\n",
       "<table border=\"1\" class=\"dataframe\">\n",
       "  <thead>\n",
       "    <tr style=\"text-align: right;\">\n",
       "      <th></th>\n",
       "      <th>transactionId</th>\n",
       "      <th>visitorId</th>\n",
       "      <th>date</th>\n",
       "      <th>revenue</th>\n",
       "      <th>group</th>\n",
       "    </tr>\n",
       "  </thead>\n",
       "  <tbody>\n",
       "    <tr>\n",
       "      <th>0</th>\n",
       "      <td>3667963787</td>\n",
       "      <td>3312258926</td>\n",
       "      <td>2019-08-15</td>\n",
       "      <td>1650</td>\n",
       "      <td>B</td>\n",
       "    </tr>\n",
       "    <tr>\n",
       "      <th>1</th>\n",
       "      <td>2804400009</td>\n",
       "      <td>3642806036</td>\n",
       "      <td>2019-08-15</td>\n",
       "      <td>730</td>\n",
       "      <td>B</td>\n",
       "    </tr>\n",
       "    <tr>\n",
       "      <th>2</th>\n",
       "      <td>2961555356</td>\n",
       "      <td>4069496402</td>\n",
       "      <td>2019-08-15</td>\n",
       "      <td>400</td>\n",
       "      <td>A</td>\n",
       "    </tr>\n",
       "    <tr>\n",
       "      <th>3</th>\n",
       "      <td>3797467345</td>\n",
       "      <td>1196621759</td>\n",
       "      <td>2019-08-15</td>\n",
       "      <td>9759</td>\n",
       "      <td>B</td>\n",
       "    </tr>\n",
       "    <tr>\n",
       "      <th>4</th>\n",
       "      <td>2282983706</td>\n",
       "      <td>2322279887</td>\n",
       "      <td>2019-08-15</td>\n",
       "      <td>2308</td>\n",
       "      <td>B</td>\n",
       "    </tr>\n",
       "  </tbody>\n",
       "</table>\n",
       "</div>"
      ],
      "text/plain": [
       "   transactionId   visitorId        date  revenue group\n",
       "0     3667963787  3312258926  2019-08-15     1650     B\n",
       "1     2804400009  3642806036  2019-08-15      730     B\n",
       "2     2961555356  4069496402  2019-08-15      400     A\n",
       "3     3797467345  1196621759  2019-08-15     9759     B\n",
       "4     2282983706  2322279887  2019-08-15     2308     B"
      ]
     },
     "metadata": {},
     "output_type": "display_data"
    },
    {
     "name": "stdout",
     "output_type": "stream",
     "text": [
      "<class 'pandas.core.frame.DataFrame'>\n",
      "RangeIndex: 1197 entries, 0 to 1196\n",
      "Data columns (total 5 columns):\n",
      " #   Column         Non-Null Count  Dtype \n",
      "---  ------         --------------  ----- \n",
      " 0   transactionId  1197 non-null   int64 \n",
      " 1   visitorId      1197 non-null   int64 \n",
      " 2   date           1197 non-null   object\n",
      " 3   revenue        1197 non-null   int64 \n",
      " 4   group          1197 non-null   object\n",
      "dtypes: int64(3), object(2)\n",
      "memory usage: 46.9+ KB\n"
     ]
    },
    {
     "data": {
      "text/plain": [
       "None"
      ]
     },
     "metadata": {},
     "output_type": "display_data"
    },
    {
     "name": "stdout",
     "output_type": "stream",
     "text": [
      "- - - - - - - - - - - - - - - - - - - - - - - - - - - - - - - - - - - - - - - - - - - - - - - - - - \n",
      "Название датафрейма visitors, количество дубликатов 0\n"
     ]
    },
    {
     "data": {
      "text/html": [
       "<div>\n",
       "<style scoped>\n",
       "    .dataframe tbody tr th:only-of-type {\n",
       "        vertical-align: middle;\n",
       "    }\n",
       "\n",
       "    .dataframe tbody tr th {\n",
       "        vertical-align: top;\n",
       "    }\n",
       "\n",
       "    .dataframe thead th {\n",
       "        text-align: right;\n",
       "    }\n",
       "</style>\n",
       "<table border=\"1\" class=\"dataframe\">\n",
       "  <thead>\n",
       "    <tr style=\"text-align: right;\">\n",
       "      <th></th>\n",
       "      <th>date</th>\n",
       "      <th>group</th>\n",
       "      <th>visitors</th>\n",
       "    </tr>\n",
       "  </thead>\n",
       "  <tbody>\n",
       "    <tr>\n",
       "      <th>0</th>\n",
       "      <td>2019-08-01</td>\n",
       "      <td>A</td>\n",
       "      <td>719</td>\n",
       "    </tr>\n",
       "    <tr>\n",
       "      <th>1</th>\n",
       "      <td>2019-08-02</td>\n",
       "      <td>A</td>\n",
       "      <td>619</td>\n",
       "    </tr>\n",
       "    <tr>\n",
       "      <th>2</th>\n",
       "      <td>2019-08-03</td>\n",
       "      <td>A</td>\n",
       "      <td>507</td>\n",
       "    </tr>\n",
       "    <tr>\n",
       "      <th>3</th>\n",
       "      <td>2019-08-04</td>\n",
       "      <td>A</td>\n",
       "      <td>717</td>\n",
       "    </tr>\n",
       "    <tr>\n",
       "      <th>4</th>\n",
       "      <td>2019-08-05</td>\n",
       "      <td>A</td>\n",
       "      <td>756</td>\n",
       "    </tr>\n",
       "  </tbody>\n",
       "</table>\n",
       "</div>"
      ],
      "text/plain": [
       "         date group  visitors\n",
       "0  2019-08-01     A       719\n",
       "1  2019-08-02     A       619\n",
       "2  2019-08-03     A       507\n",
       "3  2019-08-04     A       717\n",
       "4  2019-08-05     A       756"
      ]
     },
     "metadata": {},
     "output_type": "display_data"
    },
    {
     "name": "stdout",
     "output_type": "stream",
     "text": [
      "<class 'pandas.core.frame.DataFrame'>\n",
      "RangeIndex: 62 entries, 0 to 61\n",
      "Data columns (total 3 columns):\n",
      " #   Column    Non-Null Count  Dtype \n",
      "---  ------    --------------  ----- \n",
      " 0   date      62 non-null     object\n",
      " 1   group     62 non-null     object\n",
      " 2   visitors  62 non-null     int64 \n",
      "dtypes: int64(1), object(2)\n",
      "memory usage: 1.6+ KB\n"
     ]
    },
    {
     "data": {
      "text/plain": [
       "None"
      ]
     },
     "metadata": {},
     "output_type": "display_data"
    },
    {
     "name": "stdout",
     "output_type": "stream",
     "text": [
      "- - - - - - - - - - - - - - - - - - - - - - - - - - - - - - - - - - - - - - - - - - - - - - - - - - \n"
     ]
    }
   ],
   "source": [
    "# просмотр информации о таблицах и проверка наличия дубликатов\n",
    "d = {'hypothesis' : hyp, 'orders' : orders, 'visitors' : visitors}\n",
    "for a, i in d.items():\n",
    "    print(f'Название датафрейма {a}, количество дубликатов {i.duplicated().sum()}')\n",
    "    display(i.head())\n",
    "    display(i.info())\n",
    "    print('- ' * 50)"
   ]
  },
  {
   "cell_type": "markdown",
   "metadata": {},
   "source": [
    " Согласно документации к данным:\n",
    "1. Таблица hypothesis.csv содержит данные о гипотезах:\n",
    "\n",
    "    Hypothesis — краткое описание гипотезы;\n",
    "\n",
    "    Reach — охват пользователей по 10-балльной шкале;\n",
    "\n",
    "    Impact — влияние на пользователей по 10-балльной шкале;\n",
    "\n",
    "    Confidence — уверенность в гипотезе по 10-балльной шкале;\n",
    "\n",
    "    Efforts — затраты ресурсов на проверку гипотезы по 10-балльной шкале. Чем больше значение Efforts, тем дороже проверка гипотезы.\n",
    "\n",
    "\n",
    "2. Таблица  orders.csv содержит данные о заказах в период проведения A/B теста:\n",
    "\n",
    "    transactionId — идентификатор заказа;\n",
    "\n",
    "    visitorId — идентификатор пользователя, совершившего заказ;\n",
    "\n",
    "    date — дата, когда был совершён заказ;\n",
    "\n",
    "    revenue — выручка заказа;\n",
    "\n",
    "    group — группа A/B-теста, в которую попал заказ.\n",
    "    \n",
    "\n",
    "3. Таблица visitors.csv содержит данные о посетителях сайта в период A/B теста:\n",
    "\n",
    "    date — дата;\n",
    "\n",
    "    group — группа A/B-теста;\n",
    "\n",
    "    visitors — количество пользователей в указанную дату в указанной группе A/B-теста"
   ]
  },
  {
   "cell_type": "markdown",
   "metadata": {},
   "source": [
    "Пропусков в данных нет, но названия столбцов не соответствуют snake case. Исправим это."
   ]
  },
  {
   "cell_type": "code",
   "execution_count": 4,
   "metadata": {},
   "outputs": [],
   "source": [
    "hyp.columns = [x.lower() for x in hyp.columns.values]\n",
    "orders.columns = [x.replace('Id', '_id') for x in orders.columns.values]"
   ]
  },
  {
   "cell_type": "code",
   "execution_count": 5,
   "metadata": {},
   "outputs": [],
   "source": [
    "# преобразование данных о времени\n",
    "orders['date'] = pd.to_datetime(orders['date']).dt.date\n",
    "visitors['date'] = pd.to_datetime(visitors['date']).dt.date"
   ]
  },
  {
   "cell_type": "markdown",
   "metadata": {},
   "source": [
    " Данные к анализу подготовлены."
   ]
  },
  {
   "cell_type": "markdown",
   "metadata": {},
   "source": [
    "# Часть 1. Приоритизация гипотез.\n",
    "**В файле /datasets/hypothesis.csv 9 гипотез по увеличению выручки интернет-магазина с указанными параметрами Reach, Impact, Confidence, Effort.**"
   ]
  },
  {
   "cell_type": "markdown",
   "metadata": {},
   "source": [
    "## Применим фреймворк ICE для приоритизации гипотез. Отсортируем их по убыванию приоритета."
   ]
  },
  {
   "cell_type": "code",
   "execution_count": 6,
   "metadata": {},
   "outputs": [
    {
     "data": {
      "text/html": [
       "<div>\n",
       "<style scoped>\n",
       "    .dataframe tbody tr th:only-of-type {\n",
       "        vertical-align: middle;\n",
       "    }\n",
       "\n",
       "    .dataframe tbody tr th {\n",
       "        vertical-align: top;\n",
       "    }\n",
       "\n",
       "    .dataframe thead th {\n",
       "        text-align: right;\n",
       "    }\n",
       "</style>\n",
       "<table border=\"1\" class=\"dataframe\">\n",
       "  <thead>\n",
       "    <tr style=\"text-align: right;\">\n",
       "      <th></th>\n",
       "      <th>hypothesis</th>\n",
       "      <th>ICE</th>\n",
       "    </tr>\n",
       "  </thead>\n",
       "  <tbody>\n",
       "    <tr>\n",
       "      <th>8</th>\n",
       "      <td>Запустить акцию, дающую скидку на товар в день...</td>\n",
       "      <td>16.200000</td>\n",
       "    </tr>\n",
       "    <tr>\n",
       "      <th>0</th>\n",
       "      <td>Добавить два новых канала привлечения трафика,...</td>\n",
       "      <td>13.333333</td>\n",
       "    </tr>\n",
       "    <tr>\n",
       "      <th>7</th>\n",
       "      <td>Добавить форму подписки на все основные страни...</td>\n",
       "      <td>11.200000</td>\n",
       "    </tr>\n",
       "    <tr>\n",
       "      <th>6</th>\n",
       "      <td>Показать на главной странице баннеры с актуаль...</td>\n",
       "      <td>8.000000</td>\n",
       "    </tr>\n",
       "    <tr>\n",
       "      <th>2</th>\n",
       "      <td>Добавить блоки рекомендаций товаров на сайт ин...</td>\n",
       "      <td>7.000000</td>\n",
       "    </tr>\n",
       "    <tr>\n",
       "      <th>1</th>\n",
       "      <td>Запустить собственную службу доставки, что сок...</td>\n",
       "      <td>2.000000</td>\n",
       "    </tr>\n",
       "    <tr>\n",
       "      <th>5</th>\n",
       "      <td>Добавить страницу отзывов клиентов о магазине,...</td>\n",
       "      <td>1.333333</td>\n",
       "    </tr>\n",
       "    <tr>\n",
       "      <th>3</th>\n",
       "      <td>Изменить структура категорий, что увеличит кон...</td>\n",
       "      <td>1.125000</td>\n",
       "    </tr>\n",
       "    <tr>\n",
       "      <th>4</th>\n",
       "      <td>Изменить цвет фона главной страницы, чтобы уве...</td>\n",
       "      <td>1.000000</td>\n",
       "    </tr>\n",
       "  </tbody>\n",
       "</table>\n",
       "</div>"
      ],
      "text/plain": [
       "                                          hypothesis        ICE\n",
       "8  Запустить акцию, дающую скидку на товар в день...  16.200000\n",
       "0  Добавить два новых канала привлечения трафика,...  13.333333\n",
       "7  Добавить форму подписки на все основные страни...  11.200000\n",
       "6  Показать на главной странице баннеры с актуаль...   8.000000\n",
       "2  Добавить блоки рекомендаций товаров на сайт ин...   7.000000\n",
       "1  Запустить собственную службу доставки, что сок...   2.000000\n",
       "5  Добавить страницу отзывов клиентов о магазине,...   1.333333\n",
       "3  Изменить структура категорий, что увеличит кон...   1.125000\n",
       "4  Изменить цвет фона главной страницы, чтобы уве...   1.000000"
      ]
     },
     "execution_count": 6,
     "metadata": {},
     "output_type": "execute_result"
    }
   ],
   "source": [
    "hyp['ICE'] = hyp.impact * hyp.confidence / hyp.efforts\n",
    "\n",
    "hyp[['hypothesis', 'ICE']].sort_values(by='ICE', ascending=False)"
   ]
  },
  {
   "cell_type": "markdown",
   "metadata": {},
   "source": [
    "## Применим фреймворк RICE для приоритизации гипотез. Отсортируем их по убыванию приоритета."
   ]
  },
  {
   "cell_type": "code",
   "execution_count": 7,
   "metadata": {},
   "outputs": [
    {
     "data": {
      "text/html": [
       "<div>\n",
       "<style scoped>\n",
       "    .dataframe tbody tr th:only-of-type {\n",
       "        vertical-align: middle;\n",
       "    }\n",
       "\n",
       "    .dataframe tbody tr th {\n",
       "        vertical-align: top;\n",
       "    }\n",
       "\n",
       "    .dataframe thead th {\n",
       "        text-align: right;\n",
       "    }\n",
       "</style>\n",
       "<table border=\"1\" class=\"dataframe\">\n",
       "  <thead>\n",
       "    <tr style=\"text-align: right;\">\n",
       "      <th></th>\n",
       "      <th>hypothesis</th>\n",
       "      <th>RICE</th>\n",
       "    </tr>\n",
       "  </thead>\n",
       "  <tbody>\n",
       "    <tr>\n",
       "      <th>7</th>\n",
       "      <td>Добавить форму подписки на все основные страни...</td>\n",
       "      <td>112.0</td>\n",
       "    </tr>\n",
       "    <tr>\n",
       "      <th>2</th>\n",
       "      <td>Добавить блоки рекомендаций товаров на сайт ин...</td>\n",
       "      <td>56.0</td>\n",
       "    </tr>\n",
       "    <tr>\n",
       "      <th>0</th>\n",
       "      <td>Добавить два новых канала привлечения трафика,...</td>\n",
       "      <td>40.0</td>\n",
       "    </tr>\n",
       "    <tr>\n",
       "      <th>6</th>\n",
       "      <td>Показать на главной странице баннеры с актуаль...</td>\n",
       "      <td>40.0</td>\n",
       "    </tr>\n",
       "    <tr>\n",
       "      <th>8</th>\n",
       "      <td>Запустить акцию, дающую скидку на товар в день...</td>\n",
       "      <td>16.2</td>\n",
       "    </tr>\n",
       "    <tr>\n",
       "      <th>3</th>\n",
       "      <td>Изменить структура категорий, что увеличит кон...</td>\n",
       "      <td>9.0</td>\n",
       "    </tr>\n",
       "    <tr>\n",
       "      <th>1</th>\n",
       "      <td>Запустить собственную службу доставки, что сок...</td>\n",
       "      <td>4.0</td>\n",
       "    </tr>\n",
       "    <tr>\n",
       "      <th>5</th>\n",
       "      <td>Добавить страницу отзывов клиентов о магазине,...</td>\n",
       "      <td>4.0</td>\n",
       "    </tr>\n",
       "    <tr>\n",
       "      <th>4</th>\n",
       "      <td>Изменить цвет фона главной страницы, чтобы уве...</td>\n",
       "      <td>3.0</td>\n",
       "    </tr>\n",
       "  </tbody>\n",
       "</table>\n",
       "</div>"
      ],
      "text/plain": [
       "                                          hypothesis   RICE\n",
       "7  Добавить форму подписки на все основные страни...  112.0\n",
       "2  Добавить блоки рекомендаций товаров на сайт ин...   56.0\n",
       "0  Добавить два новых канала привлечения трафика,...   40.0\n",
       "6  Показать на главной странице баннеры с актуаль...   40.0\n",
       "8  Запустить акцию, дающую скидку на товар в день...   16.2\n",
       "3  Изменить структура категорий, что увеличит кон...    9.0\n",
       "1  Запустить собственную службу доставки, что сок...    4.0\n",
       "5  Добавить страницу отзывов клиентов о магазине,...    4.0\n",
       "4  Изменить цвет фона главной страницы, чтобы уве...    3.0"
      ]
     },
     "execution_count": 7,
     "metadata": {},
     "output_type": "execute_result"
    }
   ],
   "source": [
    "hyp['RICE'] = hyp.reach * hyp.impact * hyp.confidence / hyp.efforts\n",
    "\n",
    "hyp[['hypothesis', 'RICE']].sort_values(by='RICE', ascending=False)"
   ]
  },
  {
   "cell_type": "code",
   "execution_count": 8,
   "metadata": {},
   "outputs": [],
   "source": [
    " # визуализируем изменение порядка гипотез\n",
    "t_ICE = hyp[['hypothesis', 'ICE']].sort_values(by='ICE').reset_index(drop=True).reset_index().drop('ICE', axis=1)\n",
    "t_RICE = hyp[['hypothesis', 'RICE']].sort_values(by='RICE').reset_index(drop=True).reset_index().drop('RICE', axis=1)\n",
    "t_all = t_ICE.merge(t_RICE, on='hypothesis')\n",
    "t_all = t_all.set_axis(['ICE', 'hypothesis', 'RICE'], axis=1)"
   ]
  },
  {
   "cell_type": "code",
   "execution_count": 9,
   "metadata": {},
   "outputs": [
    {
     "data": {
      "image/png": "[encoded data removed]",
      "text/plain": [
       "<Figure size 1080x720 with 1 Axes>"
      ]
     },
     "metadata": {
      "needs_background": "light"
     },
     "output_type": "display_data"
    }
   ],
   "source": [
    " fig, ax = plt.subplots(figsize=(15, 10))\n",
    "\n",
    "for i in hyp.index:\n",
    "    ax.plot(t_all.iloc[i, [0, 2]], marker ='o', label=f'{t_all.iloc[i, 1]}')\n",
    "plt.ylabel('Значимость гипотезы')\n",
    "plt.ylim(-1, 15)\n",
    "plt.xlim(-3, 4)\n",
    "plt.grid(linestyle='-', linewidth=0.5)\n",
    "plt.legend(loc='upper right', fontsize='large')\n",
    "plt.title('Изменение приоритета гипотез')\n",
    "plt.show()"
   ]
  },
  {
   "cell_type": "markdown",
   "metadata": {},
   "source": [
    " ## Вывод:\n",
    " \n",
    "При обоих методах в лидерах гипотезы 7 и 0 - \"Добавить форму подписки на все основные страницы, чтобы собрать базу клиентов для email-рассылок\" и \"Добавить два новых канала привлечения трафика, что позволит привлекать на 30% больше пользователей\"\n",
    ", при том, что форму подписки на основных страницах увидят почти все посетители сайта, а новые каналы трафика, вероятно, 30% пользователей.\n",
    "\n",
    "Гипотеза \"Запустить акцию, дающую скидку на товар в день рождения\", несмотря на то, что затрагивает вроде бы всех пользователей, затрагивает их не одномоментно, к тому же информацию о новой ации нужно еще до них донести. Поэтому при применении метода RICE вместо ICE эта гипотеза опускается с 1 на 5 место. Так как мы предполагаем, что блоки рекомендаций увидит очень большая доля пользователей, \n",
    "\n",
    "гипотеза 2 \"Добавить блоки рекомендаций товаров на сайт интернет магазина, чтобы повысить конверсию и средний чек заказа\" поднимается с пятого места до второго."
   ]
  },
  {
   "cell_type": "markdown",
   "metadata": {},
   "source": [
    "\n",
    "# Часть 2. Анализ A/B-теста\n",
    "\n",
    "Мы провели A/B-тест и получили результаты, которые описаны в файлах /datasets/orders.csv и /datasets/visitors.csv.\n",
    "\n",
    "Проанализируем A/B-тест.Первым делом проверим, нет ли пользователей, попавших одновременно в обе группы."
   ]
  },
  {
   "cell_type": "code",
   "execution_count": 10,
   "metadata": {},
   "outputs": [
    {
     "name": "stdout",
     "output_type": "stream",
     "text": [
      "Пользователей, попавших в обе группы: 58\n",
      "Сумма заказов этих пользователей 1558935\n",
      "Количество их заказов 181\n"
     ]
    }
   ],
   "source": [
    " doubles = orders.groupby(['visitor_id']).agg({'group' : 'nunique', 'transaction_id' : 'count', 'revenue' : 'sum'}).reset_index()\n",
    "print(f'Пользователей, попавших в обе группы: {doubles[doubles.group != 1][\"visitor_id\"].count()}')\n",
    "print(f\"Сумма заказов этих пользователей {doubles[doubles.group != 1]['revenue'].sum()}\")\n",
    "print(f\"Количество их заказов {doubles[doubles.group != 1]['transaction_id'].sum()}\")"
   ]
  },
  {
   "cell_type": "markdown",
   "metadata": {},
   "source": [
    "**58 пользователей попали в обе группы. Всего эти пользователи совершили 181 заказ на более чем 1,5 млн рублей. Неизвестно, какая из версий исследуемой страницы повлияла на их решения, значит, результаты исследования нельзя интерпретировать однозначно. Следует исключить этих пользователей из исследования.**"
   ]
  },
  {
   "cell_type": "code",
   "execution_count": 11,
   "metadata": {},
   "outputs": [],
   "source": [
    " d_list = list(doubles[doubles.group != 1]['visitor_id'])\n",
    "orders_good = orders.query('visitor_id not in @d_list')"
   ]
  },
  {
   "cell_type": "markdown",
   "metadata": {},
   "source": [
    " ## Кумулятивная выручка"
   ]
  },
  {
   "cell_type": "code",
   "execution_count": 12,
   "metadata": {},
   "outputs": [],
   "source": [
    "# кумулятивные по дням данные о заказах\n",
    "orders_agg_a = orders_good[orders_good['group'] == 'A'].groupby('date').agg({'transaction_id' : 'nunique', \n",
    "                                       'visitor_id' : 'nunique', \n",
    "                                       'revenue' : 'sum'}).sort_values(by='date').cumsum().reset_index()\n",
    "\n",
    "\n",
    "orders_agg_b = orders_good[orders_good['group'] == 'B'].groupby('date').agg({'transaction_id' : 'nunique', \n",
    "                                       'visitor_id' : 'nunique', \n",
    "                                       'revenue' : 'sum'}).sort_values(by='date').cumsum().reset_index()"
   ]
  },
  {
   "cell_type": "code",
   "execution_count": 13,
   "metadata": {},
   "outputs": [
    {
     "data": {
      "image/png": "[encoded data removed]",
      "text/plain": [
       "<Figure size 1080x360 with 1 Axes>"
      ]
     },
     "metadata": {
      "needs_background": "light"
     },
     "output_type": "display_data"
    }
   ],
   "source": [
    " # построим графики\n",
    "fig, ax = plt.subplots(figsize=(15, 5))\n",
    "ax.plot(orders_agg_a.date, orders_agg_a.revenue, label = 'A')\n",
    "ax.plot(orders_agg_b.date, orders_agg_b.revenue, label = 'B')\n",
    "plt.legend()\n",
    "plt.title('Кумулятивная выручка')\n",
    "plt.show()"
   ]
  },
  {
   "cell_type": "markdown",
   "metadata": {},
   "source": [
    " Выручка в обеих группах увеличивается на протяжении всего теста. Однако в группе B есть резкий всплеск, который может свидетельствовать о всплеске числа заказов или о появлении неожидано дорогих заказов."
   ]
  },
  {
   "cell_type": "markdown",
   "metadata": {},
   "source": [
    "## Кумулятивный средний чек\n",
    "Построим графики среднего чека по группам — разделим кумулятивную выручку на кумулятивное число заказов"
   ]
  },
  {
   "cell_type": "code",
   "execution_count": 14,
   "metadata": {},
   "outputs": [
    {
     "data": {
      "image/png": "[encoded data removed]",
      "text/plain": [
       "<Figure size 1080x360 with 1 Axes>"
      ]
     },
     "metadata": {
      "needs_background": "light"
     },
     "output_type": "display_data"
    }
   ],
   "source": [
    "fig, ax = plt.subplots(figsize=(15, 5))\n",
    "ax.plot(orders_agg_a.date, orders_agg_a.revenue / orders_agg_a.transaction_id, label = 'A')\n",
    "ax.plot(orders_agg_b.date, orders_agg_b.revenue / orders_agg_b.transaction_id, label = 'B')\n",
    "plt.legend()\n",
    "plt.title('Кумулятивный средний чек')\n",
    "plt.show()"
   ]
  },
  {
   "cell_type": "markdown",
   "metadata": {},
   "source": [
    " Средний чек в группе A за первые две недели подрос и стабилизировался, а в группе B резко подскочил и стал плавно снижаться к концу теста. Вероятно, в группу B попали какие-то крупные заказы, судя по резкому всплеску на графике."
   ]
  },
  {
   "cell_type": "markdown",
   "metadata": {},
   "source": [
    " ## Отношение средних чеков"
   ]
  },
  {
   "cell_type": "code",
   "execution_count": 15,
   "metadata": {},
   "outputs": [],
   "source": [
    " # собираем общую таблицу\n",
    "orders_agg = orders_agg_a.merge(orders_agg_b, on='date', how='left', suffixes=('_A', '_B'))\n",
    "orders_agg['rel_rev'] = (\n",
    "    (orders_agg.revenue_B  / orders_agg.transaction_id_B ) \n",
    "    / (orders_agg.revenue_A  / orders_agg.transaction_id_A ) - 1\n",
    ")\n"
   ]
  },
  {
   "cell_type": "code",
   "execution_count": 16,
   "metadata": {},
   "outputs": [
    {
     "data": {
      "image/png": "[encoded data removed]",
      "text/plain": [
       "<Figure size 1080x360 with 1 Axes>"
      ]
     },
     "metadata": {
      "needs_background": "light"
     },
     "output_type": "display_data"
    }
   ],
   "source": [
    " # строим график\n",
    "orders_agg.plot('date', 'rel_rev', figsize=(15, 5))\n",
    "plt.title('Относительный средний чек')\n",
    "plt.axhline(y=0, color='black', linestyle='--') \n",
    "plt.show()"
   ]
  },
  {
   "cell_type": "markdown",
   "metadata": {},
   "source": [
    " Скачок около 19 августа продолжает сохраняться. В этот момент наверняка случился какой-то экстремально крупный заказ."
   ]
  },
  {
   "cell_type": "markdown",
   "metadata": {},
   "source": [
    " ## Кумулятивная конверсия"
   ]
  },
  {
   "cell_type": "code",
   "execution_count": 17,
   "metadata": {},
   "outputs": [],
   "source": [
    "#добавляем данные о посетителях\n",
    "orders_agg_a['vis_agg_a'] = visitors[visitors['group'] == 'A']['visitors'].reset_index(drop=True).cumsum(axis=0)\n",
    "orders_agg_b['vis_agg_b'] = visitors[visitors['group'] == 'B']['visitors'].reset_index(drop=True).cumsum(axis=0)"
   ]
  },
  {
   "cell_type": "code",
   "execution_count": 18,
   "metadata": {},
   "outputs": [],
   "source": [
    "# считаем конверсию\n",
    "orders_agg_a['conversion_A'] = orders_agg_a.transaction_id / orders_agg_a.vis_agg_a\n",
    "orders_agg_b['conversion_B'] = orders_agg_b.transaction_id / orders_agg_b.vis_agg_b"
   ]
  },
  {
   "cell_type": "code",
   "execution_count": 19,
   "metadata": {
    "scrolled": true
   },
   "outputs": [
    {
     "data": {
      "image/png": "[encoded data removed]",
      "text/plain": [
       "<Figure size 1080x360 with 1 Axes>"
      ]
     },
     "metadata": {
      "needs_background": "light"
     },
     "output_type": "display_data"
    }
   ],
   "source": [
    "# строим график\n",
    "fig, ax = plt.subplots(figsize=(15, 5))\n",
    "ax.plot(orders_agg_a.date, orders_agg_a['conversion_A'], label = 'A')\n",
    "ax.plot(orders_agg_b.date, orders_agg_b['conversion_B'], label = 'B')\n",
    "plt.legend()\n",
    "plt.title('График кумулятивного среднего количества заказов на посетителя')\n",
    "plt.show()"
   ]
  },
  {
   "cell_type": "markdown",
   "metadata": {},
   "source": [
    "Группы стартовали с очень разных значений, но затем группа A постепенно просела, а группа B стабилизировалась - причем стабильно выше группы A."
   ]
  },
  {
   "cell_type": "markdown",
   "metadata": {},
   "source": [
    " ## Относительная конверсия"
   ]
  },
  {
   "cell_type": "code",
   "execution_count": 20,
   "metadata": {},
   "outputs": [
    {
     "data": {
      "image/png": "[encoded data removed]",
      "text/plain": [
       "<Figure size 1080x360 with 1 Axes>"
      ]
     },
     "metadata": {
      "needs_background": "light"
     },
     "output_type": "display_data"
    }
   ],
   "source": [
    " orders_agg['rel_conv'] = orders_agg_b['conversion_B'] / orders_agg_a['conversion_A'] - 1\n",
    "# строим график\n",
    "orders_agg.plot('date', 'rel_conv', figsize=(15, 5))\n",
    "plt.title('График относительного изменения кумулятивного среднего чека группы B к группе A')\n",
    "plt.axhline(y=0, color='black', linestyle='--') \n",
    "plt.show()"
   ]
  },
  {
   "cell_type": "markdown",
   "metadata": {},
   "source": [
    " В целом отношение конверсий стабилизировалось - причем группа A проигрывает группе B на протяжении почти всего теста.  \n",
    " \n",
    "## Вывод\n",
    "\n",
    "Анализ графиков кумулятивных метрик (среднего чека, конверсии) позволяет предположить, что среди заказов в группе B есть экстремально большие, которые сильно влияют на прирост среднего чека. Конверсия в группах к концу теста стабилизировалась, причем в группе A она выше."
   ]
  },
  {
   "cell_type": "markdown",
   "metadata": {},
   "source": [
    " ## Анализ выбросов Распределение заказов по пользователям\n",
    "Подсчитаем количество заказов по пользователям."
   ]
  },
  {
   "cell_type": "code",
   "execution_count": 21,
   "metadata": {},
   "outputs": [
    {
     "data": {
      "text/plain": [
       "visitor_id\n",
       "3967698036    3\n",
       "249864742     3\n",
       "2108163459    3\n",
       "2988190573    3\n",
       "3908431265    3\n",
       "611059232     3\n",
       "2742574263    3\n",
       "678354126     2\n",
       "1404560065    2\n",
       "1985475298    2\n",
       "Name: transaction_id, dtype: int64"
      ]
     },
     "execution_count": 21,
     "metadata": {},
     "output_type": "execute_result"
    }
   ],
   "source": [
    " orders_by_user = orders_good.groupby('visitor_id')['transaction_id'].nunique()\n",
    "orders_by_user.sort_values(ascending=False).head(10)"
   ]
  },
  {
   "cell_type": "markdown",
   "metadata": {},
   "source": [
    " Построим точечную диаграмму числа заказов на одного пользователя"
   ]
  },
  {
   "cell_type": "code",
   "execution_count": 22,
   "metadata": {},
   "outputs": [
    {
     "data": {
      "image/png": "[encoded data removed]",
      "text/plain": [
       "<Figure size 432x288 with 1 Axes>"
      ]
     },
     "metadata": {
      "needs_background": "light"
     },
     "output_type": "display_data"
    }
   ],
   "source": [
    "plt.scatter(pd.Series(range(0,len(orders_by_user))), orders_by_user)\n",
    "plt.title('Распределение числа заказов по пользователям')\n",
    "plt.show()"
   ]
  },
  {
   "cell_type": "markdown",
   "metadata": {},
   "source": [
    " Большинство пользователей сделали 1 заказ, некоторые - 2, и всего 7 человек - 3 заказа.  \n",
    " \n",
    " ## Посчитаем выборочные перцентили количества заказов на одного пользователя"
   ]
  },
  {
   "cell_type": "code",
   "execution_count": 23,
   "metadata": {},
   "outputs": [
    {
     "name": "stdout",
     "output_type": "stream",
     "text": [
      "3.70%\n"
     ]
    }
   ],
   "source": [
    "# доля пользователей с более чем 1 заказом\n",
    "print('{:.2%}'.format(len(orders_by_user[orders_by_user > 1]) / len(orders_by_user)))"
   ]
  },
  {
   "cell_type": "markdown",
   "metadata": {},
   "source": [
    " Менее 4% пользователей оформили больше 1 заказа. Следует отсеять как аномальных пользователей с 2 и 3 заказами.  \n",
    "\n",
    " ## Распределение стоимостей заказов\n",
    "Посмотрим на информацию о стоимостях заказов"
   ]
  },
  {
   "cell_type": "code",
   "execution_count": 24,
   "metadata": {},
   "outputs": [
    {
     "data": {
      "text/plain": [
       "count    1.016000e+03\n",
       "mean     8.300815e+03\n",
       "std      4.212199e+04\n",
       "min      5.000000e+01\n",
       "5%       3.000000e+02\n",
       "50%      2.955000e+03\n",
       "90%      1.799000e+04\n",
       "95%      2.678500e+04\n",
       "99%      5.390400e+04\n",
       "max      1.294500e+06\n",
       "Name: revenue, dtype: float64"
      ]
     },
     "execution_count": 24,
     "metadata": {},
     "output_type": "execute_result"
    }
   ],
   "source": [
    "orders_good['revenue'].describe(percentiles=[0.05, 0.50, 0.90, 0.95, 0.99])"
   ]
  },
  {
   "cell_type": "markdown",
   "metadata": {},
   "source": [
    " 95-й и 99-й перцентили стоимости заказов - 26785 и 53904 рубля соответственно. \n",
    " \n",
    " Построим точечную диаграмму распределения стоимостей заказов"
   ]
  },
  {
   "cell_type": "code",
   "execution_count": 25,
   "metadata": {},
   "outputs": [
    {
     "data": {
      "image/png": "[encoded data removed]",
      "text/plain": [
       "<Figure size 432x288 with 1 Axes>"
      ]
     },
     "metadata": {
      "needs_background": "light"
     },
     "output_type": "display_data"
    }
   ],
   "source": [
    "plt.scatter(pd.Series(range(0,len(orders_good))), orders_good['revenue'])\n",
    "plt.title('Распределение стоимости заказов')\n",
    "plt.show()"
   ]
  },
  {
   "cell_type": "code",
   "execution_count": 26,
   "metadata": {},
   "outputs": [
    {
     "name": "stdout",
     "output_type": "stream",
     "text": [
      "5.02%\n"
     ]
    }
   ],
   "source": [
    "# доля заказов дороже, чем 27000\n",
    "print('{:.2%}'.format(len(orders_good[orders_good.revenue > 27000]) / len(orders_good)))"
   ]
  },
  {
   "cell_type": "markdown",
   "metadata": {},
   "source": [
    " Примерно чем 5% заказов дороже, чем 26785 рублей, и есть один выброс - заказ стоимостью почти 1,3 миллиона! Скорее всего, именно он причина скачка на графиках. Кроме того, как аномальные можно отсеять заказы стоимостью выше 27000 рублей."
   ]
  },
  {
   "cell_type": "markdown",
   "metadata": {},
   "source": [
    " ## Статистический анализ\n",
    " \n",
    "В предыдущих разделах проекта мы изучали результаты A/B теста. Общий вывод - в данных есть выбросы, аномальные значения.\n",
    "\n",
    "В данном разделе проверим, как влияют и влияют ли вообще эти выбросы на конверсию в группах.\n",
    "\n",
    "Начнем с расчета статистической значимости по сырым данным - т.е. по тем, из которых мы не удаляли аномальные значения.\n",
    "\n",
    "Сформулируем нулевую и альтернативную гипотезы:\n",
    "\n",
    "**H0 - между группами нет различий в среднем количестве заказов**\n",
    "\n",
    "**H1 - между группами есть различия в среднем количестве заказов**\n",
    "\n",
    "Начнем с подготовки данных. Как известно, данные о продажах и средних редко бывают распределены нормально, поэтому, для проверки гипотез воспользуемся непараметрическим тестом Уилкоксона-Манна-Уитни.\n",
    "\n",
    "Уровень значимости установим как 0.05"
   ]
  },
  {
   "cell_type": "code",
   "execution_count": 27,
   "metadata": {},
   "outputs": [
    {
     "data": {
      "text/html": [
       "<div>\n",
       "<style scoped>\n",
       "    .dataframe tbody tr th:only-of-type {\n",
       "        vertical-align: middle;\n",
       "    }\n",
       "\n",
       "    .dataframe tbody tr th {\n",
       "        vertical-align: top;\n",
       "    }\n",
       "\n",
       "    .dataframe thead th {\n",
       "        text-align: right;\n",
       "    }\n",
       "</style>\n",
       "<table border=\"1\" class=\"dataframe\">\n",
       "  <thead>\n",
       "    <tr style=\"text-align: right;\">\n",
       "      <th></th>\n",
       "      <th>date</th>\n",
       "      <th>group</th>\n",
       "      <th>transaction_id</th>\n",
       "      <th>visitor_id</th>\n",
       "      <th>revenue</th>\n",
       "    </tr>\n",
       "  </thead>\n",
       "  <tbody>\n",
       "    <tr>\n",
       "      <th>0</th>\n",
       "      <td>2019-08-01</td>\n",
       "      <td>A</td>\n",
       "      <td>23</td>\n",
       "      <td>19</td>\n",
       "      <td>142779</td>\n",
       "    </tr>\n",
       "    <tr>\n",
       "      <th>1</th>\n",
       "      <td>2019-08-01</td>\n",
       "      <td>B</td>\n",
       "      <td>17</td>\n",
       "      <td>17</td>\n",
       "      <td>59758</td>\n",
       "    </tr>\n",
       "    <tr>\n",
       "      <th>2</th>\n",
       "      <td>2019-08-02</td>\n",
       "      <td>A</td>\n",
       "      <td>19</td>\n",
       "      <td>18</td>\n",
       "      <td>91602</td>\n",
       "    </tr>\n",
       "    <tr>\n",
       "      <th>3</th>\n",
       "      <td>2019-08-02</td>\n",
       "      <td>B</td>\n",
       "      <td>23</td>\n",
       "      <td>22</td>\n",
       "      <td>162043</td>\n",
       "    </tr>\n",
       "    <tr>\n",
       "      <th>4</th>\n",
       "      <td>2019-08-03</td>\n",
       "      <td>A</td>\n",
       "      <td>24</td>\n",
       "      <td>24</td>\n",
       "      <td>112473</td>\n",
       "    </tr>\n",
       "  </tbody>\n",
       "</table>\n",
       "</div>"
      ],
      "text/plain": [
       "         date group  transaction_id  visitor_id  revenue\n",
       "0  2019-08-01     A              23          19   142779\n",
       "1  2019-08-01     B              17          17    59758\n",
       "2  2019-08-02     A              19          18    91602\n",
       "3  2019-08-02     B              23          22   162043\n",
       "4  2019-08-03     A              24          24   112473"
      ]
     },
     "execution_count": 27,
     "metadata": {},
     "output_type": "execute_result"
    }
   ],
   "source": [
    " # таблица со сгруппированными по дня и группам заказами\n",
    "orders_date = orders_good.groupby(['date', 'group']).agg({'transaction_id' : 'nunique', \n",
    "                                       'visitor_id' : 'nunique', \n",
    "                                       'revenue' : 'sum'}).sort_values(by=['date','group']).reset_index()\n",
    "orders_date.head(5)"
   ]
  },
  {
   "cell_type": "code",
   "execution_count": 28,
   "metadata": {},
   "outputs": [],
   "source": [
    " # по группе A\n",
    "\n",
    "data_a = orders_agg_a[['date', 'transaction_id', 'revenue', 'vis_agg_a']].merge(orders_date[orders_date['group']=='A']\n",
    "                                                                                [['date', 'transaction_id', 'revenue']], \n",
    "                  on='date', how='left')\n",
    "\n",
    "data_a = data_a.merge(visitors[visitors['group'] == 'A'][['date', 'visitors']], on='date', how='left')\n",
    "\n",
    "data_a.set_axis(['date', 'orders_agg', 'revenue_agg', 'visiters_agg', 'orders_daily', 'revenue_daily', 'visitors_daily'], \n",
    "                axis='columns', inplace=True)"
   ]
  },
  {
   "cell_type": "code",
   "execution_count": 29,
   "metadata": {},
   "outputs": [],
   "source": [
    " # по группе B\n",
    "data_b = orders_agg_b[['date', 'transaction_id', 'revenue', 'vis_agg_b']].merge(orders_date[orders_date['group']=='B']\n",
    "                                                                                [['date', 'transaction_id', 'revenue']], \n",
    "                  on='date', how='left')\n",
    "\n",
    "\n",
    "data_b = data_b.merge(visitors[visitors['group'] == 'B'][['date', 'visitors']], on='date', how='left')\n",
    "\n",
    "data_b.set_axis(['date', 'orders_agg', 'revenue_agg', 'visiters_agg', 'orders_daily', 'revenue_daily', 'visitors_daily'], \n",
    "                axis='columns', inplace=True)"
   ]
  },
  {
   "cell_type": "code",
   "execution_count": 30,
   "metadata": {},
   "outputs": [],
   "source": [
    "# создание списков для анализа конверсии\n",
    "order_users_A = (\n",
    "    orders_good[orders_good['group'] == 'A'].groupby('visitor_id', as_index=False)\n",
    "    .agg({'transaction_id': pd.Series.nunique})\n",
    ")\n",
    "\n",
    "order_users_B = (\n",
    "    orders_good[orders_good['group'] == 'B'].groupby('visitor_id', as_index=False)\n",
    "    .agg({'transaction_id': pd.Series.nunique})\n",
    ")\n",
    "\n",
    "sample_A = pd.concat([order_users_A['transaction_id'], \n",
    "                     pd.Series(0,index=np.arange(data_a['visitors_daily'].sum() - len(order_users_A['transaction_id'])), \n",
    "                               name='orders')], axis=0)\n",
    "\n",
    "sample_B = pd.concat([order_users_B['transaction_id'], \n",
    "                     pd.Series(0,index=np.arange(data_b['visitors_daily'].sum() - len(order_users_B['transaction_id'])), \n",
    "                               name='orders')], axis=0)"
   ]
  },
  {
   "cell_type": "code",
   "execution_count": 31,
   "metadata": {},
   "outputs": [
    {
     "name": "stdout",
     "output_type": "stream",
     "text": [
      "p-value:  0.011\n",
      "Отвергаем нулевую гипотезу\n",
      "относительный выигрыш группы B: 0.160\n"
     ]
    }
   ],
   "source": [
    "alpha = .05 \n",
    "results = stats.mannwhitneyu(sample_A, sample_B)\n",
    "\n",
    "\n",
    "print('p-value: ', \"{0:.3f}\".format(results.pvalue))\n",
    "\n",
    "if results.pvalue < alpha:\n",
    "    print(\"Отвергаем нулевую гипотезу\")\n",
    "else:\n",
    "    print(\"Не получилось отвергнуть нулевую гипотезу\") \n",
    "\n",
    "print('относительный выигрыш группы B:', \"{0:.3f}\".format(sample_B.mean() / sample_A.mean() - 1))"
   ]
  },
  {
   "cell_type": "markdown",
   "metadata": {},
   "source": [
    "Анализируя различия в количестве заказов между группами мы видим, что нулевая гипотеза отвергнута p-value = 0.011 что меньше 0,05, т.е. между группами есть разница в количестве заказов. Относительный выигрыш группы B - 0.16, т.е. группа B получила на 16% больше заказов на посетителя"
   ]
  },
  {
   "cell_type": "code",
   "execution_count": 32,
   "metadata": {},
   "outputs": [
    {
     "name": "stdout",
     "output_type": "stream",
     "text": [
      "0.011\n"
     ]
    }
   ],
   "source": [
    "print(\"{0:.3f}\".format(st.mannwhitneyu(sample_A, sample_B, alternative=\"two-sided\")[1]))"
   ]
  },
  {
   "cell_type": "markdown",
   "metadata": {},
   "source": [
    " С применением двусторонней проверки p-value в два раза больше, но все еще меньше 0.05  \n",
    " \n",
    " Найдём относительные различия в среднем чеке между группами: \n",
    " \n",
    " **Нулевая гипотеза H0 - статистически значимых различий в среднем чеке между группами нет.**\n",
    " \n",
    " **Гипотеза H1 - статистически значимые различия есть.**"
   ]
  },
  {
   "cell_type": "code",
   "execution_count": 33,
   "metadata": {},
   "outputs": [
    {
     "name": "stdout",
     "output_type": "stream",
     "text": [
      "p-значение:  0.729\n",
      "Не получилось отвергнуть нулевую гипотезу\n",
      "относительный выигрыш группы B: 0.259\n"
     ]
    }
   ],
   "source": [
    "alpha = .05 \n",
    "results = stats.mannwhitneyu(orders[orders['group']=='A']['revenue'], orders[orders['group']=='B']['revenue'])\n",
    "\n",
    "\n",
    "print('p-значение: ', \"{0:.3f}\".format(results.pvalue))\n",
    "\n",
    "if results.pvalue < alpha:\n",
    "    print(\"Отвергаем нулевую гипотезу\")\n",
    "else:\n",
    "    print(\"Не получилось отвергнуть нулевую гипотезу\") \n",
    "\n",
    "print('относительный выигрыш группы B:', \"{0:.3f}\".format(\n",
    "    orders[orders['group']=='B']['revenue']\n",
    "    .mean()/orders[orders['group']=='A']['revenue']\n",
    "    .mean()-1)\n",
    "     )   "
   ]
  },
  {
   "cell_type": "markdown",
   "metadata": {},
   "source": [
    "Анализируя \"сырые\" данные мы видим, что нулевую гипотезу не получилось опровергнуть, между группами нет разницы. \n",
    "\n",
    "При этом относительный выигрыш группы B составил 25.9%"
   ]
  },
  {
   "cell_type": "markdown",
   "metadata": {},
   "source": [
    " ## Анализ на данных без выбросов\n",
    " \n",
    "Ранее мы приняли за аномальных пользователей тех, кто совершил более 1 заказа или совершил заказ дороже 27000 рублей.\n",
    "\n",
    "Узнаем, сколько всего аномальных пользователей."
   ]
  },
  {
   "cell_type": "code",
   "execution_count": 34,
   "metadata": {},
   "outputs": [
    {
     "name": "stdout",
     "output_type": "stream",
     "text": [
      "0    249864742\n",
      "1    366673373\n",
      "2    406208401\n",
      "3    522292794\n",
      "4    611059232\n",
      "Name: visitors_id, dtype: int64\n"
     ]
    },
    {
     "data": {
      "text/plain": [
       "86"
      ]
     },
     "execution_count": 34,
     "metadata": {},
     "output_type": "execute_result"
    }
   ],
   "source": [
    "# пользователи с несколькими заказами\n",
    "\n",
    "mult_orders = orders_good.groupby('visitor_id')['transaction_id'].count().reset_index()\n",
    "mult_orders = mult_orders[mult_orders['transaction_id'] > 1]['visitor_id']\n",
    "\n",
    "# пользователи с дорогими заказами\n",
    "\n",
    "expensive_orders = orders_good[orders_good['revenue'] > 27000]['visitor_id'].reset_index(drop=True)\n",
    "\n",
    "abnormal_users = pd.Series((list(mult_orders) + list(expensive_orders)), name='visitors_id').drop_duplicates()\n",
    "print(abnormal_users.head())\n",
    "len(abnormal_users)"
   ]
  },
  {
   "cell_type": "markdown",
   "metadata": {},
   "source": [
    " Всего таких пользователей 86.\n",
    " \n",
    " Узнаем, как их действия повлияли на результаты теста. \n",
    " \n",
    " Посчитаем статистическую значимость различий в конверсии между группами теста по очищенным данным. \n",
    " \n",
    " Сначала подготовим выборки количества заказов по пользователям по группам теста:"
   ]
  },
  {
   "cell_type": "code",
   "execution_count": 35,
   "metadata": {},
   "outputs": [],
   "source": [
    "sample_A_filt = pd.concat([order_users_A.query('not visitor_id in @abnormal_users')['transaction_id'], \n",
    "                          pd.Series(0, index=np.arange(data_a['visitors_daily'].sum() - len(order_users_A['transaction_id'])), \n",
    "                                    name='orders')], axis=0)\n",
    "sample_B_filt = pd.concat([order_users_B.query('not visitor_id in @abnormal_users')['transaction_id'], \n",
    "                          pd.Series(0, index=np.arange(data_b['visitors_daily'].sum() - len(order_users_B['transaction_id'])), \n",
    "                                    name='orders')], axis=0)"
   ]
  },
  {
   "cell_type": "markdown",
   "metadata": {},
   "source": [
    "Применим статистический критерий Манна-Уитни к полученным выборкам:\n",
    "\n",
    "Гипотезы:\n",
    "\n",
    "**H0 - между группами нет различий в среднем количестве заказов**\n",
    "\n",
    "**H1 - между группами есть различий в среднем количестве заказов**"
   ]
  },
  {
   "cell_type": "code",
   "execution_count": 36,
   "metadata": {},
   "outputs": [
    {
     "name": "stdout",
     "output_type": "stream",
     "text": [
      "p-значение:  0.016\n",
      "Отвергаем нулевую гипотезу\n",
      "относительный выигрыш группы B: 0.174\n"
     ]
    }
   ],
   "source": [
    "alpha = .05 \n",
    "results = stats.mannwhitneyu(sample_A_filt, sample_B_filt)\n",
    "\n",
    "\n",
    "print('p-значение: ', \"{0:.3f}\".format(results.pvalue))\n",
    "\n",
    "if results.pvalue < alpha:\n",
    "    print(\"Отвергаем нулевую гипотезу\")\n",
    "else:\n",
    "    print(\"Не получилось отвергнуть нулевую гипотезу\") \n",
    "\n",
    "print('относительный выигрыш группы B:', \"{0:.3f}\".format(sample_B_filt.mean()/sample_A_filt.mean()-1))"
   ]
  },
  {
   "cell_type": "markdown",
   "metadata": {},
   "source": [
    "\n",
    "По \"очищенным\" данным различия между группами A и B также есть: \n",
    " p-value заметно меньше 0.05, и нулевую гипотезу о том, что статистически значимых различий в среднем количестве заказов между группами нет, следует отвергнуть. \n",
    " \n",
    " Относительный выигрыш группы B увеличился и равен 17,4%. \n",
    " \n",
    " Проверим, как изменились результаты по среднему чеку.\n",
    " \n"
   ]
  },
  {
   "cell_type": "code",
   "execution_count": 37,
   "metadata": {},
   "outputs": [
    {
     "name": "stdout",
     "output_type": "stream",
     "text": [
      "0.727\n",
      "-0.034\n"
     ]
    }
   ],
   "source": [
    " print('{0:.3f}'.format(st.mannwhitneyu(orders_good.query('group == \"A\" and not visitor_id in @abnormal_users')['revenue'], \n",
    "                                      orders_good.query('group == \"B\" and not visitor_id in @abnormal_users')['revenue'])[1]))\n",
    "\n",
    "print('{0:.3f}'.format(orders_good.query('group == \"B\" and not visitor_id in @abnormal_users')['revenue'].mean() / \n",
    "                       orders_good.query('group == \"A\" and not visitor_id in @abnormal_users')['revenue'].mean() - 1))"
   ]
  },
  {
   "cell_type": "markdown",
   "metadata": {},
   "source": [
    "P-value уменьшился, но остался значительно больше 0.05. \n",
    "\n",
    "Значит, причин отвергать нулевую гипотезу и считать, что в среднем чеке есть различия, по-прежнему нет.\n",
    "\n",
    "А вот средний чек группы B без выбросов стал ниже среднего чека группы A, хотя и ненамного."
   ]
  },
  {
   "cell_type": "code",
   "execution_count": 38,
   "metadata": {},
   "outputs": [],
   "source": [
    " # отфильтруем из списка заказов заказы \"аномальных\" пользователей\n",
    "orders_super_good = orders_good.query('not visitor_id in @abnormal_users')\n",
    "# составим сводную кумулятивную таблицу\n",
    "o_pivot = orders_super_good.pivot_table(index='date', columns='group', \n",
    "                                        aggfunc={'transaction_id': 'nunique','revenue': 'sum'}).sort_index()\n",
    "o_pivot = o_pivot.cumsum().reset_index()\n",
    "o_pivot['rel_rev'] = (\n",
    "    (o_pivot[('revenue', 'B')]  / o_pivot[('transaction_id', 'B')] ) \n",
    "    / (o_pivot[('revenue', 'A')]  / o_pivot[('transaction_id', 'A')] ) - 1\n",
    ")"
   ]
  },
  {
   "cell_type": "code",
   "execution_count": 39,
   "metadata": {},
   "outputs": [
    {
     "data": {
      "image/png": "[encoded data removed]",
      "text/plain": [
       "<Figure size 1080x360 with 1 Axes>"
      ]
     },
     "metadata": {
      "needs_background": "light"
     },
     "output_type": "display_data"
    }
   ],
   "source": [
    " # построим график\n",
    "o_pivot.plot('date', 'rel_rev', figsize=(15, 5))\n",
    "plt.title('Относительный средний чек без аномальных пользователей')\n",
    "plt.axhline(y=0, color='black', linestyle='--') \n",
    "plt.show()"
   ]
  },
  {
   "cell_type": "markdown",
   "metadata": {},
   "source": [
    " # Выводы\n",
    " \n",
    "1. Есть статистически значимое различие по конверсии между группами как по сырым данным, так и после фильтрации аномалий.\n",
    "\n",
    "2. Как по сырым, так и по данным без аномалий нет статистически значимого различия по среднему чеку между группами. \n",
    "\n",
    "3. График различия конверсии между группами показывает, что результаты группы B лучше группы A: имеют тенденцию к росту, либо зафиксировались около среднего значения.\n",
    "\n",
    "4. График различия среднего чека до фильтрации аномалий колеблется: именно благодаря ему мы нашли аномалии. Сделать из этого графика определённые выводы нельзя.\n",
    "\n",
    "5. График различия среднего чека после фильтрации постепенно стабилизировался около 0 - значимых различий между средними чеками в разных группах нет. \n",
    "\n",
    "В целом тест можно остановить. Мы увидели прирост конверсии в группе B, но на среднем чеке проверяемая гипотеза не сказалась."
   ]
  },
  {
   "cell_type": "markdown",
   "metadata": {},
   "source": [
    "# Результаты:\n",
    "    \n",
    "Проведена приоритизация гипотез по фреймворкам ICE и RICE.\n",
    "\n",
    "Проведен анализ результатов A/B-теста, построены графики кумулятивной выручки, среднего чека, конверсии по группам. Выявлены аномальные заказы и пользователи, добавшие шум и искажения в данные теста.\n",
    "\n",
    "Рассчитана статистическая значимость различий конверсий и средних чеков по сырым и очищенным данным:  значимых различий между средними чеками в разных группах нет.\n",
    "\n",
    "На основании анализа принято решение о нецелесообразности дальнейшего проведения теста."
   ]
  },
  {
   "cell_type": "markdown",
   "metadata": {},
   "source": [
    " по ссылкам ниже интересные материалы по А/В тестам\n",
    "  \n",
    "    \n",
    "https://habr.com/ru/company/avito/blog/571094/\n",
    "\n",
    "https://habr.com/ru/company/yandex/blog/476826/\n",
    "\n",
    "https://academy.yandex.ru/journal/kak-provesti-a-b-testirovanie-6-prostykh-shagov\n",
    "\n",
    "https://habr.com/ru/company/yandex/blog/342704/\n",
    "\n",
    "https://r-analytics.blogspot.com/2013/10/blog-post_13.html \n"
   ]
  }
 ],
 "metadata": {
  "ExecuteTimeLog": [
   {
    "duration": 1313,
    "start_time": "2024-08-22T10:25:06.082Z"
   },
   {
    "duration": 68,
    "start_time": "2024-08-22T10:26:35.987Z"
   },
   {
    "duration": 239,
    "start_time": "2024-08-22T10:26:49.744Z"
   },
   {
    "duration": 58,
    "start_time": "2024-08-22T10:29:01.775Z"
   },
   {
    "duration": 5,
    "start_time": "2024-08-22T10:36:49.917Z"
   },
   {
    "duration": 6,
    "start_time": "2024-08-22T10:36:59.030Z"
   },
   {
    "duration": 1425,
    "start_time": "2024-08-24T08:24:37.092Z"
   },
   {
    "duration": 223,
    "start_time": "2024-08-24T08:24:39.418Z"
   },
   {
    "duration": 50,
    "start_time": "2024-08-24T08:24:43.047Z"
   },
   {
    "duration": 5,
    "start_time": "2024-08-24T08:24:50.757Z"
   },
   {
    "duration": 7,
    "start_time": "2024-08-24T08:24:52.327Z"
   },
   {
    "duration": 31,
    "start_time": "2024-08-24T08:25:00.931Z"
   },
   {
    "duration": 12,
    "start_time": "2024-08-24T08:25:27.740Z"
   },
   {
    "duration": 12,
    "start_time": "2024-08-24T08:26:01.745Z"
   },
   {
    "duration": 12,
    "start_time": "2024-08-24T08:26:20.036Z"
   },
   {
    "duration": 426,
    "start_time": "2024-08-24T08:26:28.795Z"
   },
   {
    "duration": 13,
    "start_time": "2024-08-24T08:39:31.613Z"
   },
   {
    "duration": 70,
    "start_time": "2024-08-24T08:40:01.026Z"
   },
   {
    "duration": 7,
    "start_time": "2024-08-24T08:40:40.880Z"
   },
   {
    "duration": 14,
    "start_time": "2024-08-24T08:41:47.591Z"
   },
   {
    "duration": 339,
    "start_time": "2024-08-24T08:42:04.112Z"
   },
   {
    "duration": 202,
    "start_time": "2024-08-24T08:43:23.084Z"
   },
   {
    "duration": 8,
    "start_time": "2024-08-24T08:44:41.569Z"
   },
   {
    "duration": 18,
    "start_time": "2024-08-24T08:44:48.938Z"
   },
   {
    "duration": 360,
    "start_time": "2024-08-24T08:45:02.998Z"
   },
   {
    "duration": 8,
    "start_time": "2024-08-24T08:45:07.399Z"
   },
   {
    "duration": 7,
    "start_time": "2024-08-24T08:47:29.410Z"
   },
   {
    "duration": 6,
    "start_time": "2024-08-24T08:47:36.295Z"
   },
   {
    "duration": 221,
    "start_time": "2024-08-24T08:47:45.048Z"
   },
   {
    "duration": 298,
    "start_time": "2024-08-24T08:49:17.997Z"
   },
   {
    "duration": 70,
    "start_time": "2024-08-24T08:51:14.987Z"
   },
   {
    "duration": 6,
    "start_time": "2024-08-24T08:52:04.806Z"
   },
   {
    "duration": 138,
    "start_time": "2024-08-24T08:52:37.619Z"
   },
   {
    "duration": 4,
    "start_time": "2024-08-24T08:53:15.356Z"
   },
   {
    "duration": 66,
    "start_time": "2024-08-24T08:54:14.467Z"
   },
   {
    "duration": 9,
    "start_time": "2024-08-24T08:54:40.387Z"
   },
   {
    "duration": 70,
    "start_time": "2024-08-24T08:56:00.902Z"
   },
   {
    "duration": 216,
    "start_time": "2024-08-24T08:57:30.235Z"
   },
   {
    "duration": 4,
    "start_time": "2024-08-24T08:57:42.348Z"
   },
   {
    "duration": 65,
    "start_time": "2024-08-24T08:58:05.440Z"
   },
   {
    "duration": 18,
    "start_time": "2024-08-24T08:59:21.480Z"
   },
   {
    "duration": 13,
    "start_time": "2024-08-24T08:59:29.026Z"
   },
   {
    "duration": 13,
    "start_time": "2024-08-24T08:59:40.956Z"
   },
   {
    "duration": 137,
    "start_time": "2024-08-24T08:59:49.802Z"
   },
   {
    "duration": 24,
    "start_time": "2024-08-24T09:00:32.496Z"
   },
   {
    "duration": 14,
    "start_time": "2024-08-24T09:01:12.556Z"
   },
   {
    "duration": 24,
    "start_time": "2024-08-24T09:03:38.241Z"
   },
   {
    "duration": 11,
    "start_time": "2024-08-24T09:04:42.061Z"
   },
   {
    "duration": 95,
    "start_time": "2024-08-24T09:05:26.404Z"
   },
   {
    "duration": 10,
    "start_time": "2024-08-24T09:06:04.565Z"
   },
   {
    "duration": 104,
    "start_time": "2024-08-24T09:06:38.945Z"
   },
   {
    "duration": 12,
    "start_time": "2024-08-24T09:06:42.858Z"
   },
   {
    "duration": 75,
    "start_time": "2024-08-24T09:08:08.074Z"
   },
   {
    "duration": 12,
    "start_time": "2024-08-24T09:18:10.201Z"
   },
   {
    "duration": 11,
    "start_time": "2024-08-24T09:19:14.340Z"
   },
   {
    "duration": 33,
    "start_time": "2024-08-24T09:19:22.546Z"
   },
   {
    "duration": 15,
    "start_time": "2024-08-24T09:19:56.348Z"
   },
   {
    "duration": 20,
    "start_time": "2024-08-24T09:22:13.375Z"
   },
   {
    "duration": 363,
    "start_time": "2024-08-24T09:22:19.923Z"
   },
   {
    "duration": 1210,
    "start_time": "2024-08-24T09:31:13.466Z"
   },
   {
    "duration": 74,
    "start_time": "2024-08-24T09:31:14.678Z"
   },
   {
    "duration": 51,
    "start_time": "2024-08-24T09:31:14.754Z"
   },
   {
    "duration": 3,
    "start_time": "2024-08-24T09:31:14.807Z"
   },
   {
    "duration": 13,
    "start_time": "2024-08-24T09:31:14.812Z"
   },
   {
    "duration": 28,
    "start_time": "2024-08-24T09:31:14.826Z"
   },
   {
    "duration": 17,
    "start_time": "2024-08-24T09:31:14.856Z"
   },
   {
    "duration": 42,
    "start_time": "2024-08-24T09:31:14.875Z"
   },
   {
    "duration": 390,
    "start_time": "2024-08-24T09:31:14.918Z"
   },
   {
    "duration": 11,
    "start_time": "2024-08-24T09:31:15.310Z"
   },
   {
    "duration": 7,
    "start_time": "2024-08-24T09:31:15.323Z"
   },
   {
    "duration": 76,
    "start_time": "2024-08-24T09:31:15.332Z"
   },
   {
    "duration": 281,
    "start_time": "2024-08-24T09:31:15.410Z"
   },
   {
    "duration": 227,
    "start_time": "2024-08-24T09:31:15.695Z"
   },
   {
    "duration": 7,
    "start_time": "2024-08-24T09:31:15.924Z"
   },
   {
    "duration": 353,
    "start_time": "2024-08-24T09:31:15.933Z"
   },
   {
    "duration": 6,
    "start_time": "2024-08-24T09:31:16.288Z"
   },
   {
    "duration": 5,
    "start_time": "2024-08-24T09:31:16.295Z"
   },
   {
    "duration": 212,
    "start_time": "2024-08-24T09:31:16.302Z"
   },
   {
    "duration": 334,
    "start_time": "2024-08-24T09:31:16.516Z"
   },
   {
    "duration": 14,
    "start_time": "2024-08-24T09:31:16.852Z"
   },
   {
    "duration": 139,
    "start_time": "2024-08-24T09:31:16.867Z"
   },
   {
    "duration": 4,
    "start_time": "2024-08-24T09:31:17.008Z"
   },
   {
    "duration": 26,
    "start_time": "2024-08-24T09:31:17.013Z"
   },
   {
    "duration": 206,
    "start_time": "2024-08-24T09:31:17.041Z"
   },
   {
    "duration": 4,
    "start_time": "2024-08-24T09:31:17.249Z"
   },
   {
    "duration": 18,
    "start_time": "2024-08-24T09:31:17.264Z"
   },
   {
    "duration": 13,
    "start_time": "2024-08-24T09:31:17.283Z"
   },
   {
    "duration": 14,
    "start_time": "2024-08-24T09:31:17.297Z"
   },
   {
    "duration": 153,
    "start_time": "2024-08-24T09:31:17.312Z"
   },
   {
    "duration": 26,
    "start_time": "2024-08-24T09:31:17.466Z"
   },
   {
    "duration": 25,
    "start_time": "2024-08-24T09:31:17.493Z"
   },
   {
    "duration": 10,
    "start_time": "2024-08-24T09:31:17.519Z"
   },
   {
    "duration": 67,
    "start_time": "2024-08-24T09:31:17.531Z"
   },
   {
    "duration": 16,
    "start_time": "2024-08-24T09:31:17.600Z"
   },
   {
    "duration": 13,
    "start_time": "2024-08-24T09:31:17.618Z"
   },
   {
    "duration": 31,
    "start_time": "2024-08-24T09:31:17.633Z"
   },
   {
    "duration": 16,
    "start_time": "2024-08-24T09:31:17.666Z"
   },
   {
    "duration": 19,
    "start_time": "2024-08-24T09:31:17.684Z"
   },
   {
    "duration": 368,
    "start_time": "2024-08-24T09:31:17.704Z"
   },
   {
    "duration": 1292,
    "start_time": "2024-08-26T12:39:58.066Z"
   },
   {
    "duration": 238,
    "start_time": "2024-08-26T12:39:59.360Z"
   },
   {
    "duration": 50,
    "start_time": "2024-08-26T12:39:59.600Z"
   },
   {
    "duration": 4,
    "start_time": "2024-08-26T12:39:59.652Z"
   },
   {
    "duration": 12,
    "start_time": "2024-08-26T12:39:59.659Z"
   },
   {
    "duration": 28,
    "start_time": "2024-08-26T12:39:59.672Z"
   },
   {
    "duration": 12,
    "start_time": "2024-08-26T12:39:59.702Z"
   },
   {
    "duration": 19,
    "start_time": "2024-08-26T12:39:59.716Z"
   },
   {
    "duration": 352,
    "start_time": "2024-08-26T12:39:59.737Z"
   },
   {
    "duration": 12,
    "start_time": "2024-08-26T12:40:00.091Z"
   },
   {
    "duration": 35,
    "start_time": "2024-08-26T12:40:00.105Z"
   },
   {
    "duration": 63,
    "start_time": "2024-08-26T12:40:00.141Z"
   },
   {
    "duration": 297,
    "start_time": "2024-08-26T12:40:00.205Z"
   },
   {
    "duration": 216,
    "start_time": "2024-08-26T12:40:00.505Z"
   },
   {
    "duration": 8,
    "start_time": "2024-08-26T12:40:00.723Z"
   },
   {
    "duration": 369,
    "start_time": "2024-08-26T12:40:00.732Z"
   },
   {
    "duration": 8,
    "start_time": "2024-08-26T12:40:01.103Z"
   },
   {
    "duration": 24,
    "start_time": "2024-08-26T12:40:01.113Z"
   },
   {
    "duration": 211,
    "start_time": "2024-08-26T12:40:01.139Z"
   },
   {
    "duration": 313,
    "start_time": "2024-08-26T12:40:01.352Z"
   },
   {
    "duration": 7,
    "start_time": "2024-08-26T12:40:01.666Z"
   },
   {
    "duration": 144,
    "start_time": "2024-08-26T12:40:01.675Z"
   },
   {
    "duration": 4,
    "start_time": "2024-08-26T12:40:01.821Z"
   },
   {
    "duration": 25,
    "start_time": "2024-08-26T12:40:01.826Z"
   },
   {
    "duration": 254,
    "start_time": "2024-08-26T12:40:01.853Z"
   },
   {
    "duration": 4,
    "start_time": "2024-08-26T12:40:02.109Z"
   },
   {
    "duration": 92,
    "start_time": "2024-08-26T12:40:02.115Z"
   },
   {
    "duration": 130,
    "start_time": "2024-08-26T12:40:02.209Z"
   },
   {
    "duration": 74,
    "start_time": "2024-08-26T12:40:02.341Z"
   },
   {
    "duration": 130,
    "start_time": "2024-08-26T12:40:02.417Z"
   },
   {
    "duration": 25,
    "start_time": "2024-08-26T12:40:02.548Z"
   },
   {
    "duration": 37,
    "start_time": "2024-08-26T12:40:02.575Z"
   },
   {
    "duration": 113,
    "start_time": "2024-08-26T12:40:02.613Z"
   },
   {
    "duration": 12,
    "start_time": "2024-08-26T12:40:02.728Z"
   },
   {
    "duration": 10,
    "start_time": "2024-08-26T12:40:02.742Z"
   },
   {
    "duration": 16,
    "start_time": "2024-08-26T12:40:02.754Z"
   },
   {
    "duration": 45,
    "start_time": "2024-08-26T12:40:02.772Z"
   },
   {
    "duration": 88,
    "start_time": "2024-08-26T12:40:02.819Z"
   },
   {
    "duration": 21,
    "start_time": "2024-08-26T12:40:02.909Z"
   },
   {
    "duration": 328,
    "start_time": "2024-08-26T12:40:02.932Z"
   },
   {
    "duration": 300,
    "start_time": "2024-08-26T12:43:19.442Z"
   },
   {
    "duration": 287,
    "start_time": "2024-08-26T12:45:28.140Z"
   },
   {
    "duration": 97,
    "start_time": "2024-08-26T12:51:03.202Z"
   },
   {
    "duration": 4,
    "start_time": "2024-08-26T12:52:00.138Z"
   },
   {
    "duration": 32,
    "start_time": "2024-08-26T12:52:15.815Z"
   },
   {
    "duration": 24,
    "start_time": "2024-08-26T12:52:28.539Z"
   },
   {
    "duration": 24,
    "start_time": "2024-08-26T13:00:35.420Z"
   },
   {
    "duration": 11,
    "start_time": "2024-08-26T13:07:11.932Z"
   },
   {
    "duration": 8,
    "start_time": "2024-08-26T13:10:36.878Z"
   },
   {
    "duration": 916,
    "start_time": "2024-08-26T13:11:33.612Z"
   },
   {
    "duration": 24,
    "start_time": "2024-08-26T13:17:24.141Z"
   },
   {
    "duration": 222,
    "start_time": "2024-08-26T13:21:44.313Z"
   },
   {
    "duration": 26,
    "start_time": "2024-08-26T13:22:03.392Z"
   },
   {
    "duration": 1221,
    "start_time": "2024-08-26T13:23:41.029Z"
   },
   {
    "duration": 77,
    "start_time": "2024-08-26T13:23:42.252Z"
   },
   {
    "duration": 59,
    "start_time": "2024-08-26T13:23:42.330Z"
   },
   {
    "duration": 4,
    "start_time": "2024-08-26T13:23:42.390Z"
   },
   {
    "duration": 16,
    "start_time": "2024-08-26T13:23:42.396Z"
   },
   {
    "duration": 44,
    "start_time": "2024-08-26T13:23:42.414Z"
   },
   {
    "duration": 15,
    "start_time": "2024-08-26T13:23:42.461Z"
   },
   {
    "duration": 50,
    "start_time": "2024-08-26T13:23:42.478Z"
   },
   {
    "duration": 383,
    "start_time": "2024-08-26T13:23:42.530Z"
   },
   {
    "duration": 16,
    "start_time": "2024-08-26T13:23:42.916Z"
   },
   {
    "duration": 13,
    "start_time": "2024-08-26T13:23:42.934Z"
   },
   {
    "duration": 45,
    "start_time": "2024-08-26T13:23:42.949Z"
   },
   {
    "duration": 319,
    "start_time": "2024-08-26T13:23:42.997Z"
   },
   {
    "duration": 207,
    "start_time": "2024-08-26T13:23:43.319Z"
   },
   {
    "duration": 19,
    "start_time": "2024-08-26T13:23:43.528Z"
   },
   {
    "duration": 318,
    "start_time": "2024-08-26T13:23:43.549Z"
   },
   {
    "duration": 6,
    "start_time": "2024-08-26T13:23:43.869Z"
   },
   {
    "duration": 13,
    "start_time": "2024-08-26T13:23:43.877Z"
   },
   {
    "duration": 209,
    "start_time": "2024-08-26T13:23:43.892Z"
   },
   {
    "duration": 331,
    "start_time": "2024-08-26T13:23:44.103Z"
   },
   {
    "duration": 12,
    "start_time": "2024-08-26T13:23:44.436Z"
   },
   {
    "duration": 149,
    "start_time": "2024-08-26T13:23:44.449Z"
   },
   {
    "duration": 5,
    "start_time": "2024-08-26T13:23:44.600Z"
   },
   {
    "duration": 22,
    "start_time": "2024-08-26T13:23:44.606Z"
   },
   {
    "duration": 214,
    "start_time": "2024-08-26T13:23:44.630Z"
   },
   {
    "duration": 4,
    "start_time": "2024-08-26T13:23:44.847Z"
   },
   {
    "duration": 29,
    "start_time": "2024-08-26T13:23:44.853Z"
   },
   {
    "duration": 12,
    "start_time": "2024-08-26T13:23:44.884Z"
   },
   {
    "duration": 29,
    "start_time": "2024-08-26T13:23:44.898Z"
   },
   {
    "duration": 216,
    "start_time": "2024-08-26T13:23:44.937Z"
   },
   {
    "duration": 31,
    "start_time": "2024-08-26T13:23:45.156Z"
   },
   {
    "duration": 112,
    "start_time": "2024-08-26T13:23:45.189Z"
   },
   {
    "duration": 14,
    "start_time": "2024-08-26T13:23:45.303Z"
   },
   {
    "duration": 52,
    "start_time": "2024-08-26T13:23:45.318Z"
   },
   {
    "duration": 32,
    "start_time": "2024-08-26T13:23:45.372Z"
   },
   {
    "duration": 49,
    "start_time": "2024-08-26T13:23:45.406Z"
   },
   {
    "duration": 16,
    "start_time": "2024-08-26T13:23:45.457Z"
   },
   {
    "duration": 26,
    "start_time": "2024-08-26T13:23:45.475Z"
   },
   {
    "duration": 353,
    "start_time": "2024-08-26T13:23:45.503Z"
   }
  ],
  "kernelspec": {
   "display_name": "Python 3 (ipykernel)",
   "language": "python",
   "name": "python3"
  },
  "language_info": {
   "codemirror_mode": {
    "name": "ipython",
    "version": 3
   },
   "file_extension": ".py",
   "mimetype": "text/x-python",
   "name": "python",
   "nbconvert_exporter": "python",
   "pygments_lexer": "ipython3",
   "version": "3.9.5"
  },
  "toc": {
   "base_numbering": 1,
   "nav_menu": {},
   "number_sections": true,
   "sideBar": true,
   "skip_h1_title": true,
   "title_cell": "Table of Contents",
   "title_sidebar": "Contents",
   "toc_cell": false,
   "toc_position": {},
   "toc_section_display": true,
   "toc_window_display": true
  }
 },
 "nbformat": 4,
 "nbformat_minor": 2
}

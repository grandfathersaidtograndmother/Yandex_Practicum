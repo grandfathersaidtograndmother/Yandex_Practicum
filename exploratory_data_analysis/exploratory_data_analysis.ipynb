{
 "cells": [
  {
   "cell_type": "markdown",
   "metadata": {
    "id": "-VFbjcb3Awb7"
   },
   "source": [
    "# Исследование объявлений о продаже квартир\n",
    "\n",
    "В вашем распоряжении данные сервиса Яндекс Недвижимость — архив объявлений о продаже квартир в Санкт-Петербурге и соседних населённых пунктах за несколько лет. Вам нужно научиться определять рыночную стоимость объектов недвижимости. Для этого проведите исследовательский анализ данных и установите параметры, влияющие на цену объектов. Это позволит построить автоматизированную систему: она отследит аномалии и мошенническую деятельность.\n",
    "\n",
    "По каждой квартире на продажу доступны два вида данных. Первые вписаны пользователем, вторые — получены автоматически на основе картографических данных. Например, расстояние до центра, аэропорта и других объектов — эти данные автоматически получены из геосервисов. Количество парков и водоёмов также заполняется без участия пользователя."
   ]
  },
  {
   "cell_type": "code",
   "execution_count": 1,
   "metadata": {},
   "outputs": [
    {
     "name": "stdout",
     "output_type": "stream",
     "text": [
      "Requirement already satisfied: missingno in /opt/conda/lib/python3.9/site-packages (0.5.2)\n",
      "Requirement already satisfied: matplotlib in /opt/conda/lib/python3.9/site-packages (from missingno) (3.3.4)\n",
      "Requirement already satisfied: seaborn in /opt/conda/lib/python3.9/site-packages (from missingno) (0.11.1)\n",
      "Requirement already satisfied: scipy in /opt/conda/lib/python3.9/site-packages (from missingno) (1.9.1)\n",
      "Requirement already satisfied: numpy in /opt/conda/lib/python3.9/site-packages (from missingno) (1.21.1)\n",
      "Requirement already satisfied: pillow>=6.2.0 in /opt/conda/lib/python3.9/site-packages (from matplotlib->missingno) (8.4.0)\n",
      "Requirement already satisfied: kiwisolver>=1.0.1 in /opt/conda/lib/python3.9/site-packages (from matplotlib->missingno) (1.4.4)\n",
      "Requirement already satisfied: pyparsing!=2.0.4,!=2.1.2,!=2.1.6,>=2.0.3 in /opt/conda/lib/python3.9/site-packages (from matplotlib->missingno) (2.4.7)\n",
      "Requirement already satisfied: python-dateutil>=2.1 in /opt/conda/lib/python3.9/site-packages (from matplotlib->missingno) (2.8.1)\n",
      "Requirement already satisfied: cycler>=0.10 in /opt/conda/lib/python3.9/site-packages (from matplotlib->missingno) (0.11.0)\n",
      "Requirement already satisfied: six>=1.5 in /opt/conda/lib/python3.9/site-packages (from python-dateutil>=2.1->matplotlib->missingno) (1.16.0)\n",
      "Requirement already satisfied: pandas>=0.23 in /opt/conda/lib/python3.9/site-packages (from seaborn->missingno) (1.2.4)\n",
      "Requirement already satisfied: pytz>=2017.3 in /opt/conda/lib/python3.9/site-packages (from pandas>=0.23->seaborn->missingno) (2021.1)\n",
      "Note: you may need to restart the kernel to use updated packages.\n"
     ]
    }
   ],
   "source": [
    "pip install missingno"
   ]
  },
  {
   "cell_type": "code",
   "execution_count": 2,
   "metadata": {
    "id": "7MZxY65pAwb9"
   },
   "outputs": [],
   "source": [
    "import pandas as pd #импорт библиотеки pandas для работы с датафреймом\n",
    "\n",
    "import missingno as msno\n",
    "import matplotlib.pyplot as plt"
   ]
  },
  {
   "cell_type": "code",
   "execution_count": 3,
   "metadata": {},
   "outputs": [],
   "source": [
    "#присвоим перменную и прочитаем данные и разделим их через параметр sep='\\t'\n",
    "data = pd.read_csv('/datasets/real_estate_data.csv', sep='\\t')"
   ]
  },
  {
   "cell_type": "code",
   "execution_count": 4,
   "metadata": {},
   "outputs": [
    {
     "name": "stdout",
     "output_type": "stream",
     "text": [
      "   total_images  last_price  total_area first_day_exposition  rooms  \\\n",
      "0            20  13000000.0       108.0  2019-03-07T00:00:00      3   \n",
      "1             7   3350000.0        40.4  2018-12-04T00:00:00      1   \n",
      "2            10   5196000.0        56.0  2015-08-20T00:00:00      2   \n",
      "3             0  64900000.0       159.0  2015-07-24T00:00:00      3   \n",
      "4             2  10000000.0       100.0  2018-06-19T00:00:00      2   \n",
      "\n",
      "   ceiling_height  floors_total  living_area  floor is_apartment  ...  \\\n",
      "0            2.70          16.0         51.0      8          NaN  ...   \n",
      "1             NaN          11.0         18.6      1          NaN  ...   \n",
      "2             NaN           5.0         34.3      4          NaN  ...   \n",
      "3             NaN          14.0          NaN      9          NaN  ...   \n",
      "4            3.03          14.0         32.0     13          NaN  ...   \n",
      "\n",
      "   kitchen_area  balcony    locality_name  airports_nearest  \\\n",
      "0          25.0      NaN  Санкт-Петербург           18863.0   \n",
      "1          11.0      2.0   посёлок Шушары           12817.0   \n",
      "2           8.3      0.0  Санкт-Петербург           21741.0   \n",
      "3           NaN      0.0  Санкт-Петербург           28098.0   \n",
      "4          41.0      NaN  Санкт-Петербург           31856.0   \n",
      "\n",
      "  cityCenters_nearest  parks_around3000  parks_nearest  ponds_around3000  \\\n",
      "0             16028.0               1.0          482.0               2.0   \n",
      "1             18603.0               0.0            NaN               0.0   \n",
      "2             13933.0               1.0           90.0               2.0   \n",
      "3              6800.0               2.0           84.0               3.0   \n",
      "4              8098.0               2.0          112.0               1.0   \n",
      "\n",
      "   ponds_nearest  days_exposition  \n",
      "0          755.0              NaN  \n",
      "1            NaN             81.0  \n",
      "2          574.0            558.0  \n",
      "3          234.0            424.0  \n",
      "4           48.0            121.0  \n",
      "\n",
      "[5 rows x 22 columns]\n"
     ]
    }
   ],
   "source": [
    "print(data.head(5))#посмотрим первые 5 строк таблицы"
   ]
  },
  {
   "cell_type": "code",
   "execution_count": 5,
   "metadata": {},
   "outputs": [
    {
     "name": "stdout",
     "output_type": "stream",
     "text": [
      "<class 'pandas.core.frame.DataFrame'>\n",
      "RangeIndex: 23699 entries, 0 to 23698\n",
      "Data columns (total 22 columns):\n",
      " #   Column                Non-Null Count  Dtype  \n",
      "---  ------                --------------  -----  \n",
      " 0   total_images          23699 non-null  int64  \n",
      " 1   last_price            23699 non-null  float64\n",
      " 2   total_area            23699 non-null  float64\n",
      " 3   first_day_exposition  23699 non-null  object \n",
      " 4   rooms                 23699 non-null  int64  \n",
      " 5   ceiling_height        14504 non-null  float64\n",
      " 6   floors_total          23613 non-null  float64\n",
      " 7   living_area           21796 non-null  float64\n",
      " 8   floor                 23699 non-null  int64  \n",
      " 9   is_apartment          2775 non-null   object \n",
      " 10  studio                23699 non-null  bool   \n",
      " 11  open_plan             23699 non-null  bool   \n",
      " 12  kitchen_area          21421 non-null  float64\n",
      " 13  balcony               12180 non-null  float64\n",
      " 14  locality_name         23650 non-null  object \n",
      " 15  airports_nearest      18157 non-null  float64\n",
      " 16  cityCenters_nearest   18180 non-null  float64\n",
      " 17  parks_around3000      18181 non-null  float64\n",
      " 18  parks_nearest         8079 non-null   float64\n",
      " 19  ponds_around3000      18181 non-null  float64\n",
      " 20  ponds_nearest         9110 non-null   float64\n",
      " 21  days_exposition       20518 non-null  float64\n",
      "dtypes: bool(2), float64(14), int64(3), object(3)\n",
      "memory usage: 3.7+ MB\n"
     ]
    }
   ],
   "source": [
    "data.info() #изучим общую информацию о датафрейме"
   ]
  },
  {
   "cell_type": "code",
   "execution_count": 6,
   "metadata": {},
   "outputs": [
    {
     "data": {
      "image/png": "[encoded data removed]",
      "text/plain": [
       "<Figure size 1080x1440 with 20 Axes>"
      ]
     },
     "metadata": {
      "needs_background": "light"
     },
     "output_type": "display_data"
    }
   ],
   "source": [
    "data.hist(figsize=(15, 20))\n",
    "plt.show()"
   ]
  },
  {
   "cell_type": "code",
   "execution_count": 7,
   "metadata": {},
   "outputs": [],
   "source": [
    "# Рассмотрим описание данных\n",
    "description_data = ['Описание данных',\n",
    "'airports_nearest — расстояние до ближайшего аэропорта в метрах (м)',\n",
    "'balcony — число балконов',\n",
    "'ceiling_height — высота потолков (м)',\n",
    "'cityCenters_nearest — расстояние до центра города (м)',\n",
    "'days_exposition — сколько дней было размещено объявление (от публикации до снятия)',\n",
    "'first_day_exposition — дата публикации',\n",
    "'floor — этаж',\n",
    "'floors_total — всего этажей в доме',\n",
    "'is_apartment — апартаменты (булев тип)',\n",
    "'kitchen_area — площадь кухни в квадратных метрах (м²)',\n",
    "'last_price — цена на момент снятия с публикации',\n",
    "'living_area — жилая площадь в квадратных метрах (м²)',\n",
    "'locality_name — название населённого пункта',\n",
    "'open_plan — свободная планировка (булев тип)',\n",
    "'parks_around3000 — число парков в радиусе 3 км',\n",
    "'parks_nearest — расстояние до ближайшего парка (м)',\n",
    "'ponds_around3000 — число водоёмов в радиусе 3 км',\n",
    "'ponds_nearest — расстояние до ближайшего водоёма (м)',\n",
    "'rooms — число комнат',\n",
    "'studio — квартира-студия (булев тип)',\n",
    "'total_area — общая площадь квартиры в квадратных метрах (м²)',\n",
    "'total_images — число фотографий квартиры в объявлении']\n"
   ]
  },
  {
   "cell_type": "markdown",
   "metadata": {},
   "source": [
    "**Вывод:** 1. Данные разделены не запятой,а знаком табуляции, поэтому применили доп. параметр sep для прочтения данных.\n",
    "\n",
    "После открытия данных видим, что много столбцов с пропущенными значениями,\n",
    "\n",
    "также есть столбцы с типом bool, их нужно будеть заменить на числовой тип данных,\n",
    "\n",
    "также есть колонка первый день экспозиции - там дата и время, нужно поменять тип данных со строкового на дататайм.\n"
   ]
  },
  {
   "cell_type": "markdown",
   "metadata": {
    "id": "-O5NtivEAwb9"
   },
   "source": [
    "### Выполните предобработку данных\n",
    "\n",
    "Шаг 2. Выполните предобработку данных\n",
    "\n",
    "Найдите и изучите пропущенные значения в столбцах:\n",
    "\n",
    "<Определите, в каких столбцах есть пропуски.\n",
    "\n",
    "<Заполните пропущенные значения там, где это возможно. Например, если продавец не указал число балконов, то, скорее всего, в его квартире их нет. Такие пропуски можно заменить на число 0. Если логичную замену предложить невозможно, то оставьте пропуски.\n",
    "\n",
    "<Пропущенные значения — тоже важный сигнал, который нужно учитывать.\n",
    "\n",
    "<В ячейке с типом markdown укажите причины, которые могли привести к пропускам в данных.\n",
    "\n",
    "<Рассмотрите типы данных в каждом столбце:\n",
    "\n",
    "<Найдите столбцы, в которых нужно изменить тип данных.\n",
    "\n",
    "<Преобразуйте тип данных в выбранных столбцах.\n",
    "\n",
    "<В ячейке с типом markdown поясните, почему нужно изменить тип данных.\n",
    "\n",
    "<Изучите уникальные значения в столбце с названиями и устраните неявные дубликаты.\n",
    "Например, «поселок Рябово» и «поселок городского типа Рябово», \n",
    "«поселок Тельмана» и «посёлок Тельмана» — это обозначения одних и тех же населённых пунктов. \n",
    "<Вы можете заменить названия в существующем столбце или создать новый с названиями без дубликатов."
   ]
  },
  {
   "cell_type": "markdown",
   "metadata": {},
   "source": [
    "#### Определение столбцов с пропусками"
   ]
  },
  {
   "cell_type": "code",
   "execution_count": 8,
   "metadata": {
    "id": "7v3vAeTuAwb-"
   },
   "outputs": [
    {
     "data": {
      "text/plain": [
       "total_images                0\n",
       "last_price                  0\n",
       "total_area                  0\n",
       "first_day_exposition        0\n",
       "rooms                       0\n",
       "ceiling_height           9195\n",
       "floors_total               86\n",
       "living_area              1903\n",
       "floor                       0\n",
       "is_apartment            20924\n",
       "studio                      0\n",
       "open_plan                   0\n",
       "kitchen_area             2278\n",
       "balcony                 11519\n",
       "locality_name              49\n",
       "airports_nearest         5542\n",
       "cityCenters_nearest      5519\n",
       "parks_around3000         5518\n",
       "parks_nearest           15620\n",
       "ponds_around3000         5518\n",
       "ponds_nearest           14589\n",
       "days_exposition          3181\n",
       "dtype: int64"
      ]
     },
     "execution_count": 8,
     "metadata": {},
     "output_type": "execute_result"
    }
   ],
   "source": [
    "# Выведем количество о пропущенных значений для каждого столбца. Используем isna() - найти строки с пропущенными \n",
    "# sum() - подсчитать количество пропущенных значений в каждом столбце\n",
    "data.isna().sum()"
   ]
  },
  {
   "cell_type": "code",
   "execution_count": 9,
   "metadata": {
    "scrolled": true
   },
   "outputs": [
    {
     "data": {
      "text/plain": [
       "<AxesSubplot:>"
      ]
     },
     "execution_count": 9,
     "metadata": {},
     "output_type": "execute_result"
    },
    {
     "data": {
      "image/png": "[encoded data removed]",
      "text/plain": [
       "<Figure size 1800x720 with 2 Axes>"
      ]
     },
     "metadata": {
      "needs_background": "light"
     },
     "output_type": "display_data"
    }
   ],
   "source": [
    "msno.matrix(data, labels=True)"
   ]
  },
  {
   "cell_type": "markdown",
   "metadata": {},
   "source": [
    "Для визуализации пропусков используй https://russianblogs.com/article/5001266235/"
   ]
  },
  {
   "cell_type": "markdown",
   "metadata": {},
   "source": [
    "**Вывод:** Найдено 14 столбцов с пропущенными значениями из 24,\n",
    "\n",
    "8 из которых не имеют пропущенных значений. \n",
    "\n",
    "Из графика видно, что больше всего пропущенных значений в is_apartment"
   ]
  },
  {
   "cell_type": "code",
   "execution_count": 10,
   "metadata": {},
   "outputs": [
    {
     "data": {
      "text/plain": [
       "array([  2.7 ,    nan,   3.03,   2.5 ,   2.67,   2.56,   3.05,   2.75,\n",
       "         2.6 ,   2.9 ,   2.8 ,   2.55,   3.  ,   2.65,   3.2 ,   2.61,\n",
       "         3.25,   3.45,   2.77,   2.85,   2.64,   2.57,   4.15,   3.5 ,\n",
       "         3.3 ,   2.71,   4.  ,   2.47,   2.73,   2.84,   3.1 ,   2.34,\n",
       "         3.4 ,   3.06,   2.72,   2.54,   2.51,   2.78,   2.76,  25.  ,\n",
       "         2.58,   3.7 ,   2.52,   5.2 ,   2.87,   2.66,   2.59,   2.  ,\n",
       "         2.45,   3.6 ,   2.92,   3.11,   3.13,   3.8 ,   3.15,   3.55,\n",
       "         3.16,   3.62,   3.12,   2.53,   2.74,   2.96,   2.46,   5.3 ,\n",
       "         5.  ,   2.79,   2.95,   4.06,   2.94,   3.82,   3.54,   3.53,\n",
       "         2.83,   4.7 ,   2.4 ,   3.38,   3.01,   5.6 ,   3.65,   3.9 ,\n",
       "         3.18,   3.35,   2.3 ,   3.57,   2.48,   2.62,   2.82,   3.98,\n",
       "         2.63,   3.83,   3.52,   3.95,   3.75,   2.88,   3.67,   3.87,\n",
       "         3.66,   3.85,   3.86,   4.19,   3.24,   4.8 ,   4.5 ,   4.2 ,\n",
       "         3.36,  32.  ,   3.08,   3.68,   3.07,   3.37,   3.09,   8.  ,\n",
       "         3.26,   3.34,   2.81,   3.44,   2.97,   3.14,   4.37,   2.68,\n",
       "         3.22,   3.27,  27.  ,   4.1 ,   2.93,   3.46,  24.  ,   3.47,\n",
       "         3.33,   3.63,   3.32,  26.  ,   1.2 ,   8.3 ,   2.98,   2.86,\n",
       "         3.17,   4.4 ,   3.28,   3.04,   4.45,   5.5 ,   3.84,   3.23,\n",
       "         3.02,   3.21,   3.43,   3.78,   4.3 ,   3.39,   2.69,   3.31,\n",
       "         4.65,   3.56,   2.2 ,   3.51,   3.93,   3.42,   2.99,   3.49,\n",
       "        14.  ,   4.14,   2.91,   3.88,   1.75,   4.25,   3.29,  20.  ,\n",
       "         2.25,   3.76,   3.69,   6.  ,  22.6 ,   2.89,   3.58,   5.8 ,\n",
       "        27.5 ,   2.49,   4.9 ,   3.48,  10.3 ,   1.  , 100.  ,   3.59])"
      ]
     },
     "execution_count": 10,
     "metadata": {},
     "output_type": "execute_result"
    }
   ],
   "source": [
    "data['ceiling_height'].unique() # найдем уникальные значения столбца с высотой потолков"
   ]
  },
  {
   "cell_type": "markdown",
   "metadata": {},
   "source": [
    "**В столбце ceiling_height есть аномальные значения высота потолков которых от 6 метров.\n",
    "Удалим строки, в которых встречаются такие аномальные значения из датафрейма data.\n",
    "Также те что похожи на опечаток заменим на обычные значения например 25 сделаем 2.5**"
   ]
  },
  {
   "cell_type": "code",
   "execution_count": 11,
   "metadata": {},
   "outputs": [],
   "source": [
    "data = data[(data['ceiling_height'] != 14) & (data['ceiling_height'] != 100) & (data['ceiling_height'] != 100) \n",
    "            & (data['ceiling_height'] != 20)\n",
    "           & (data['ceiling_height'] != 10.3) & (data['ceiling_height'] != 14) & (data['ceiling_height'] != 8.3)\n",
    "           & (data['ceiling_height'] != 1)  & (data['ceiling_height'] != 8) & (data['ceiling_height'] != 1.2)]\n",
    "\n",
    "data['ceiling_height'] = data['ceiling_height'].replace(25, 2.5)\n",
    "data['ceiling_height'] = data['ceiling_height'].replace(27.  , 2.7)\n",
    "data['ceiling_height'] = data['ceiling_height'].replace(22.6 , 2.26)\n",
    "data['ceiling_height'] = data['ceiling_height'].replace(24, 2.4)\n",
    "data['ceiling_height'] = data['ceiling_height'].replace(27.5 , 2.75)\n",
    "data['ceiling_height'] = data['ceiling_height'].replace(32.  , 3.2)\n",
    "data['ceiling_height'] = data['ceiling_height'].replace(26.  , 2.6)\n"
   ]
  },
  {
   "cell_type": "markdown",
   "metadata": {},
   "source": [
    "**Ещё раз выведим перечень уникальных значений столбца `ceiling_height`, чтобы убедиться, что артефакты удалены.**"
   ]
  },
  {
   "cell_type": "code",
   "execution_count": 12,
   "metadata": {},
   "outputs": [
    {
     "data": {
      "text/plain": [
       "array([2.7 ,  nan, 3.03, 2.5 , 2.67, 2.56, 3.05, 2.75, 2.6 , 2.9 , 2.8 ,\n",
       "       2.55, 3.  , 2.65, 3.2 , 2.61, 3.25, 3.45, 2.77, 2.85, 2.64, 2.57,\n",
       "       4.15, 3.5 , 3.3 , 2.71, 4.  , 2.47, 2.73, 2.84, 3.1 , 2.34, 3.4 ,\n",
       "       3.06, 2.72, 2.54, 2.51, 2.78, 2.76, 2.58, 3.7 , 2.52, 5.2 , 2.87,\n",
       "       2.66, 2.59, 2.  , 2.45, 3.6 , 2.92, 3.11, 3.13, 3.8 , 3.15, 3.55,\n",
       "       3.16, 3.62, 3.12, 2.53, 2.74, 2.96, 2.46, 5.3 , 5.  , 2.79, 2.95,\n",
       "       4.06, 2.94, 3.82, 3.54, 3.53, 2.83, 4.7 , 2.4 , 3.38, 3.01, 5.6 ,\n",
       "       3.65, 3.9 , 3.18, 3.35, 2.3 , 3.57, 2.48, 2.62, 2.82, 3.98, 2.63,\n",
       "       3.83, 3.52, 3.95, 3.75, 2.88, 3.67, 3.87, 3.66, 3.85, 3.86, 4.19,\n",
       "       3.24, 4.8 , 4.5 , 4.2 , 3.36, 3.08, 3.68, 3.07, 3.37, 3.09, 3.26,\n",
       "       3.34, 2.81, 3.44, 2.97, 3.14, 4.37, 2.68, 3.22, 3.27, 4.1 , 2.93,\n",
       "       3.46, 3.47, 3.33, 3.63, 3.32, 2.98, 2.86, 3.17, 4.4 , 3.28, 3.04,\n",
       "       4.45, 5.5 , 3.84, 3.23, 3.02, 3.21, 3.43, 3.78, 4.3 , 3.39, 2.69,\n",
       "       3.31, 4.65, 3.56, 2.2 , 3.51, 3.93, 3.42, 2.99, 3.49, 4.14, 2.91,\n",
       "       3.88, 1.75, 4.25, 3.29, 2.25, 3.76, 3.69, 6.  , 2.26, 2.89, 3.58,\n",
       "       5.8 , 2.49, 4.9 , 3.48, 3.59])"
      ]
     },
     "execution_count": 12,
     "metadata": {},
     "output_type": "execute_result"
    }
   ],
   "source": [
    "data['ceiling_height'].unique() # найдем уникальные значения столбца с высотой потолков"
   ]
  },
  {
   "cell_type": "code",
   "execution_count": 13,
   "metadata": {},
   "outputs": [
    {
     "name": "stdout",
     "output_type": "stream",
     "text": [
      "2.65\n"
     ]
    }
   ],
   "source": [
    "# Рассмотрим медианное значение и сохраним его в переменную\n",
    "median_ceiling_height = data['ceiling_height'].median() \n",
    "print(median_ceiling_height)"
   ]
  },
  {
   "cell_type": "markdown",
   "metadata": {},
   "source": [
    "#### Замена пропущенных значений"
   ]
  },
  {
   "cell_type": "markdown",
   "metadata": {},
   "source": [
    "##### Замена пропущенных значений ceiling_heigh\n",
    "**Заменим пропущенные значения в столбце ceiling_height на медианное значение. Выведим на экран количество пропущенных значений по каждому столбцу.**"
   ]
  },
  {
   "cell_type": "code",
   "execution_count": 14,
   "metadata": {},
   "outputs": [
    {
     "data": {
      "text/plain": [
       "total_images                0\n",
       "last_price                  0\n",
       "total_area                  0\n",
       "first_day_exposition        0\n",
       "rooms                       0\n",
       "ceiling_height              0\n",
       "floors_total               86\n",
       "living_area              1903\n",
       "floor                       0\n",
       "is_apartment            20916\n",
       "studio                      0\n",
       "open_plan                   0\n",
       "kitchen_area             2276\n",
       "balcony                 11514\n",
       "locality_name              49\n",
       "airports_nearest         5540\n",
       "cityCenters_nearest      5517\n",
       "parks_around3000         5516\n",
       "parks_nearest           15615\n",
       "ponds_around3000         5516\n",
       "ponds_nearest           14583\n",
       "days_exposition          3180\n",
       "dtype: int64"
      ]
     },
     "execution_count": 14,
     "metadata": {},
     "output_type": "execute_result"
    }
   ],
   "source": [
    "# fillna() Этот метод позволяет заменить пропущенные данные на указанное значение\n",
    "data['ceiling_height'] = data['ceiling_height'].fillna(value=median_ceiling_height)\n",
    "data.isna().sum()"
   ]
  },
  {
   "cell_type": "code",
   "execution_count": 15,
   "metadata": {},
   "outputs": [
    {
     "data": {
      "text/plain": [
       "count    23689.000000\n",
       "mean         2.696871\n",
       "std          0.221214\n",
       "min          1.750000\n",
       "25%          2.600000\n",
       "50%          2.650000\n",
       "75%          2.700000\n",
       "max          6.000000\n",
       "Name: ceiling_height, dtype: float64"
      ]
     },
     "execution_count": 15,
     "metadata": {},
     "output_type": "execute_result"
    }
   ],
   "source": [
    "data['ceiling_height'].describe()"
   ]
  },
  {
   "cell_type": "markdown",
   "metadata": {},
   "source": [
    "**Вывод :** \n",
    "В столбце ceiling_height (высота потолков) удалили строки, в которых встречаются аномальные значения.\n",
    "\n",
    "Также те, что похожи на опечаток заменили на обычные значения например 25 м сделали 2.5 м.\n",
    "\n",
    "Заменили пропущенные значения на медианное значение.\n",
    "\n",
    "min высота потолков = 1.750000\n",
    "\n",
    "25% объявлений имеют высоту потолков = 2.510000\n",
    "\n",
    "50% объявлений имеют высоту потолков = 2.650000\n",
    "\n",
    "75% объявлений имеют высоту потолков = 2.800000\n",
    "\n",
    "max высота потолков = 6.000000\n",
    "\n",
    "Всего 23689 значений"
   ]
  },
  {
   "cell_type": "markdown",
   "metadata": {},
   "source": [
    "**Далее рассмотрим столбец 'floors_total' — всего этажей в доме',\n",
    "Вызвав к столбцу floors_total метод value_counts(), который возвращает уникальные значения и количество их упоминаний, определим, сколько всего квартир с различными этажами домов.**"
   ]
  },
  {
   "cell_type": "code",
   "execution_count": 16,
   "metadata": {},
   "outputs": [
    {
     "data": {
      "text/plain": [
       "count    23603.000000\n",
       "mean        10.673770\n",
       "std          6.597576\n",
       "min          1.000000\n",
       "25%          5.000000\n",
       "50%          9.000000\n",
       "75%         16.000000\n",
       "max         60.000000\n",
       "Name: floors_total, dtype: float64"
      ]
     },
     "execution_count": 16,
     "metadata": {},
     "output_type": "execute_result"
    }
   ],
   "source": [
    "# Рассмотрим столбец через  функцию describe\n",
    "data['floors_total'].describe()\n"
   ]
  },
  {
   "cell_type": "code",
   "execution_count": 17,
   "metadata": {},
   "outputs": [
    {
     "data": {
      "text/plain": [
       "count    23689.000000\n",
       "mean         5.892060\n",
       "std          4.885004\n",
       "min          1.000000\n",
       "25%          2.000000\n",
       "50%          4.000000\n",
       "75%          8.000000\n",
       "max         33.000000\n",
       "Name: floor, dtype: float64"
      ]
     },
     "execution_count": 17,
     "metadata": {},
     "output_type": "execute_result"
    }
   ],
   "source": [
    "# рассмотрим значения по этажам квартиры\n",
    "data['floor'].describe()"
   ]
  },
  {
   "cell_type": "markdown",
   "metadata": {},
   "source": [
    "**Заменим пропущенные значения в floors_total на значения из floor**"
   ]
  },
  {
   "cell_type": "markdown",
   "metadata": {},
   "source": [
    "##### Замена пропущенных значений floors_total"
   ]
  },
  {
   "cell_type": "code",
   "execution_count": 18,
   "metadata": {},
   "outputs": [
    {
     "data": {
      "text/plain": [
       "count    23689.000000\n",
       "mean        10.671409\n",
       "std          6.596203\n",
       "min          1.000000\n",
       "25%          5.000000\n",
       "50%          9.000000\n",
       "75%         16.000000\n",
       "max         60.000000\n",
       "Name: floors_total, dtype: float64"
      ]
     },
     "execution_count": 18,
     "metadata": {},
     "output_type": "execute_result"
    }
   ],
   "source": [
    "# fillna() Этот метод позволяет заменить пропущенные данные на указанное значение\n",
    "data['floors_total'].fillna(data['floor'], inplace=True)\n",
    "data['floors_total'].describe()"
   ]
  },
  {
   "cell_type": "markdown",
   "metadata": {},
   "source": [
    "**Вывод :**\n",
    "В столбце floors_total (Всего этажей дома) заменили пропущенные значения на значения этажа из столбца floor\n",
    "\n",
    "min количество этажей 1 этаж\n",
    "\n",
    "25% объявлений имеют в доме всего = 5 этажей\n",
    "\n",
    "50% объявлений имеют в доме всего = 9 этажей\n",
    "\n",
    "75% объявлений имеют в доме всего = 16 этажей\n",
    "\n",
    "max количество этажей = 60 этажей\n",
    "\n",
    "Всего 23689 значений"
   ]
  },
  {
   "cell_type": "markdown",
   "metadata": {},
   "source": [
    "**Рассмотрим подробнее столбец 'living_area' через describe()**"
   ]
  },
  {
   "cell_type": "code",
   "execution_count": 19,
   "metadata": {},
   "outputs": [
    {
     "data": {
      "text/plain": [
       "count    21786.000000\n",
       "mean        34.460835\n",
       "std         22.033568\n",
       "min          2.000000\n",
       "25%         18.600000\n",
       "50%         30.000000\n",
       "75%         42.300000\n",
       "max        409.700000\n",
       "Name: living_area, dtype: float64"
      ]
     },
     "execution_count": 19,
     "metadata": {},
     "output_type": "execute_result"
    }
   ],
   "source": [
    "data['living_area'].describe() # living_area — жилая площадь в квадратных метрах (м²)'"
   ]
  },
  {
   "cell_type": "markdown",
   "metadata": {},
   "source": [
    "**Т.к это количественный показатель будет лучше заменить его на медианное значение вместо пропущенных значений.**"
   ]
  },
  {
   "cell_type": "markdown",
   "metadata": {},
   "source": [
    "##### Замена пропущенных значений living_area"
   ]
  },
  {
   "cell_type": "code",
   "execution_count": 20,
   "metadata": {},
   "outputs": [
    {
     "data": {
      "text/plain": [
       "30.0"
      ]
     },
     "execution_count": 20,
     "metadata": {},
     "output_type": "execute_result"
    }
   ],
   "source": [
    "median_living_area = data['living_area'].median() \n",
    "data['living_area'] = data['living_area'].fillna(value=median_living_area)\n",
    "median_living_area"
   ]
  },
  {
   "cell_type": "code",
   "execution_count": 21,
   "metadata": {},
   "outputs": [
    {
     "data": {
      "text/plain": [
       "count    23689.000000\n",
       "mean        34.102484\n",
       "std         21.164757\n",
       "min          2.000000\n",
       "25%         19.000000\n",
       "50%         30.000000\n",
       "75%         41.100000\n",
       "max        409.700000\n",
       "Name: living_area, dtype: float64"
      ]
     },
     "execution_count": 21,
     "metadata": {},
     "output_type": "execute_result"
    }
   ],
   "source": [
    " # Убедимся, что все пропущенные значения заменены на медианное значение столбца 'living_area' сравним count до замены и после\n",
    "data['living_area'].describe() "
   ]
  },
  {
   "cell_type": "markdown",
   "metadata": {},
   "source": [
    "**Вывод :**\n",
    "\n",
    "В столбце living_area — жилая площадь в квадратных метрах (м²) заменили пропущенные значения на медианное значение 9.\n",
    "\n",
    "min жилая площадь =  2.0 м² \n",
    "\n",
    "25% жилой площади = 19.0 м²\n",
    "\n",
    "50% жилой площади = 30.0 м²\n",
    "\n",
    "75% жилой площади = 41.1 м²\n",
    "\n",
    "max жилая площадь =  409.7 м²\n",
    "\n",
    "Всего 23689 значений"
   ]
  },
  {
   "cell_type": "code",
   "execution_count": 22,
   "metadata": {},
   "outputs": [
    {
     "data": {
      "text/plain": [
       "count    21413.000000\n",
       "mean        10.570445\n",
       "std          5.906320\n",
       "min          1.300000\n",
       "25%          7.000000\n",
       "50%          9.100000\n",
       "75%         12.000000\n",
       "max        112.000000\n",
       "Name: kitchen_area, dtype: float64"
      ]
     },
     "execution_count": 22,
     "metadata": {},
     "output_type": "execute_result"
    }
   ],
   "source": [
    "data['kitchen_area'].describe() #'kitchen_area — площадь кухни в квадратных метрах (м²)'"
   ]
  },
  {
   "cell_type": "markdown",
   "metadata": {},
   "source": [
    "**Т.к это количественный показатель будет лучше заменить его на медианное значение вместо пропущенных значений.**"
   ]
  },
  {
   "cell_type": "markdown",
   "metadata": {},
   "source": [
    "##### Замена пропущенных значений kitchen_area"
   ]
  },
  {
   "cell_type": "code",
   "execution_count": 23,
   "metadata": {},
   "outputs": [
    {
     "data": {
      "text/plain": [
       "9.1"
      ]
     },
     "execution_count": 23,
     "metadata": {},
     "output_type": "execute_result"
    }
   ],
   "source": [
    "median_kitchen_area = data['kitchen_area'].median()\n",
    "data['kitchen_area'] = data['kitchen_area'].fillna(value=median_kitchen_area)\n",
    "median_kitchen_area"
   ]
  },
  {
   "cell_type": "code",
   "execution_count": 24,
   "metadata": {},
   "outputs": [
    {
     "data": {
      "text/plain": [
       "count    23689.000000\n",
       "mean        10.429167\n",
       "std          5.632105\n",
       "min          1.300000\n",
       "25%          7.400000\n",
       "50%          9.100000\n",
       "75%         11.440000\n",
       "max        112.000000\n",
       "Name: kitchen_area, dtype: float64"
      ]
     },
     "execution_count": 24,
     "metadata": {},
     "output_type": "execute_result"
    }
   ],
   "source": [
    "# Убедимся, что все пропущенные значения заменены на медианное значение столбца 'kitchen_area' сравним count до замены и после\n",
    "data['kitchen_area'].describe()"
   ]
  },
  {
   "cell_type": "markdown",
   "metadata": {},
   "source": [
    "**Вывод:**\n",
    "\n",
    "В столбце living_area — площадь кухни в квадратных метрах (м²) заменили пропущенные значения на медианное значение 9.\n",
    "\n",
    "min площадь кухни 1.3 м²\n",
    "\n",
    "25% площади кухни 7.4 м² \n",
    "\n",
    "50% площади кухни 9.1 м²\n",
    "\n",
    "75% площади кухни 11.4 м²\n",
    "\n",
    "max площадь кухни 112.0 м²\n",
    "\n",
    "Всего 23689 значений"
   ]
  },
  {
   "cell_type": "markdown",
   "metadata": {},
   "source": [
    "##### Замена пропущенных значений balcony"
   ]
  },
  {
   "cell_type": "code",
   "execution_count": 25,
   "metadata": {},
   "outputs": [
    {
     "data": {
      "text/plain": [
       "count    12175.000000\n",
       "mean         1.149405\n",
       "std          1.070354\n",
       "min          0.000000\n",
       "25%          0.000000\n",
       "50%          1.000000\n",
       "75%          2.000000\n",
       "max          5.000000\n",
       "Name: balcony, dtype: float64"
      ]
     },
     "execution_count": 25,
     "metadata": {},
     "output_type": "execute_result"
    }
   ],
   "source": [
    "data['balcony'].describe()"
   ]
  },
  {
   "cell_type": "markdown",
   "metadata": {},
   "source": [
    "Имеем минимальное значение 0, заменим пропущенные значения на 0 т.к скорее всего написали нет балкона и все значения стали Nan, хотя тип данных числовой."
   ]
  },
  {
   "cell_type": "code",
   "execution_count": 26,
   "metadata": {},
   "outputs": [
    {
     "data": {
      "text/plain": [
       "count    23689.000000\n",
       "mean         0.590738\n",
       "std          0.958555\n",
       "min          0.000000\n",
       "25%          0.000000\n",
       "50%          0.000000\n",
       "75%          1.000000\n",
       "max          5.000000\n",
       "Name: balcony, dtype: float64"
      ]
     },
     "execution_count": 26,
     "metadata": {},
     "output_type": "execute_result"
    }
   ],
   "source": [
    "data['balcony'] = data['balcony'].fillna(value=0)\n",
    "data['balcony'].describe()"
   ]
  },
  {
   "cell_type": "markdown",
   "metadata": {},
   "source": [
    "**Вывод :**\n",
    "    Заменены пропущенные значения на 0  т.к скорее всего написали нет балкона и все значения стали Nan, хотя тип данных числовой.\n",
    "    \n",
    "min равно 0 балконов\n",
    "\n",
    "25% имеют 0 балконов\n",
    "\n",
    "50% имеют 1 балкон\n",
    "\n",
    "75% имеют 2 балкона\n",
    "\n",
    "max равно 5 балконов\n",
    "\n",
    "Всего 23689 значений"
   ]
  },
  {
   "cell_type": "markdown",
   "metadata": {},
   "source": [
    "##### Замена пропущенных значений is_apartment и преобразование типа данных\n",
    "\n",
    "**Тут лучше поменять буллевые значения на 0 и 1, а пропущенные на 0 т.к скорее всего написали нет вместо булевого значения**"
   ]
  },
  {
   "cell_type": "code",
   "execution_count": 27,
   "metadata": {},
   "outputs": [
    {
     "data": {
      "text/plain": [
       "array([nan, False, True], dtype=object)"
      ]
     },
     "execution_count": 27,
     "metadata": {},
     "output_type": "execute_result"
    }
   ],
   "source": [
    "data['is_apartment'].unique()"
   ]
  },
  {
   "cell_type": "markdown",
   "metadata": {},
   "source": [
    "**Заменим значения Nan на 0 методом fillna(value=0)**"
   ]
  },
  {
   "cell_type": "code",
   "execution_count": 28,
   "metadata": {},
   "outputs": [],
   "source": [
    "data['is_apartment'] = data['is_apartment'].fillna(value=0)"
   ]
  },
  {
   "cell_type": "markdown",
   "metadata": {},
   "source": [
    "Поменяем тип данных на int через метод преобразования типа данных astype()"
   ]
  },
  {
   "cell_type": "code",
   "execution_count": 29,
   "metadata": {},
   "outputs": [
    {
     "data": {
      "text/plain": [
       "0        0\n",
       "1        0\n",
       "2        0\n",
       "3        0\n",
       "4        0\n",
       "        ..\n",
       "23694    0\n",
       "23695    0\n",
       "23696    0\n",
       "23697    0\n",
       "23698    0\n",
       "Name: is_apartment, Length: 23689, dtype: int64"
      ]
     },
     "execution_count": 29,
     "metadata": {},
     "output_type": "execute_result"
    }
   ],
   "source": [
    "data['is_apartment'].astype(int) # В результате: True становится равным 1, а False — 0."
   ]
  },
  {
   "cell_type": "code",
   "execution_count": 30,
   "metadata": {},
   "outputs": [
    {
     "data": {
      "text/plain": [
       "count     23689\n",
       "unique        2\n",
       "top           0\n",
       "freq      23640\n",
       "Name: is_apartment, dtype: int64"
      ]
     },
     "execution_count": 30,
     "metadata": {},
     "output_type": "execute_result"
    }
   ],
   "source": [
    "data['is_apartment'].describe()"
   ]
  },
  {
   "cell_type": "markdown",
   "metadata": {},
   "source": [
    "#### Переименуем столбец, чтобы не было заглавных букв \"cityCenters_nearest\""
   ]
  },
  {
   "cell_type": "code",
   "execution_count": 31,
   "metadata": {},
   "outputs": [
    {
     "data": {
      "text/plain": [
       "count    18172.000000\n",
       "mean     14191.307121\n",
       "std       8609.465199\n",
       "min        181.000000\n",
       "25%       9237.000000\n",
       "50%      13098.500000\n",
       "75%      16293.000000\n",
       "max      65968.000000\n",
       "Name: city_centers_nearest, dtype: float64"
      ]
     },
     "execution_count": 31,
     "metadata": {},
     "output_type": "execute_result"
    }
   ],
   "source": [
    "data = data.rename(columns={'cityCenters_nearest':'city_centers_nearest'})\n",
    "data['city_centers_nearest'].describe()"
   ]
  },
  {
   "cell_type": "markdown",
   "metadata": {},
   "source": [
    "##### Замена пропущенных значений 'city_сenters_nearest'\n",
    "**Заменим пропущенные значения на медианное значение столбца**"
   ]
  },
  {
   "cell_type": "code",
   "execution_count": 32,
   "metadata": {},
   "outputs": [
    {
     "data": {
      "text/plain": [
       "count    23689.000000\n",
       "mean     13936.800097\n",
       "std       7554.656127\n",
       "min        181.000000\n",
       "25%      10927.000000\n",
       "50%      13098.500000\n",
       "75%      15250.000000\n",
       "max      65968.000000\n",
       "Name: city_centers_nearest, dtype: float64"
      ]
     },
     "execution_count": 32,
     "metadata": {},
     "output_type": "execute_result"
    }
   ],
   "source": [
    "median_city_centers_nearest = data['city_centers_nearest'].median() \n",
    "data['city_centers_nearest'] = data['city_centers_nearest'].fillna(value=median_city_centers_nearest)\n",
    "# Убедимся, что все пропущенные значения заменены на медианное значение столбца 'cityCenters_nearest'\n",
    "data['city_centers_nearest'].describe()"
   ]
  },
  {
   "cell_type": "markdown",
   "metadata": {},
   "source": [
    "**Вывод :** Переимновали столбец на правильное название столбцов\n",
    "\n",
    "Заменили пропущенные значения на медианное значение 13098.5\n",
    "\n",
    "min расстояние до центра 181 м\n",
    "\n",
    "25% квартир имеюют расстояние до центра примерно 10927 м\n",
    "\n",
    "50% квартир имеюют расстояние до центра примерно 13098 м\n",
    "\n",
    "75% квартир имеюют расстояние до центра примерно 15250 м\n",
    "\n",
    "max расстояние до центра 65968 м\n",
    "\n",
    "Всего 23689 значений\n"
   ]
  },
  {
   "cell_type": "markdown",
   "metadata": {},
   "source": [
    "#### Поиск и замена/удаление дубликатов "
   ]
  },
  {
   "cell_type": "markdown",
   "metadata": {},
   "source": [
    "##### Поиск и замена дубликатов locality_name"
   ]
  },
  {
   "cell_type": "code",
   "execution_count": 33,
   "metadata": {},
   "outputs": [
    {
     "data": {
      "text/plain": [
       "array(['Бокситогорск', 'Волосово', 'Волхов', 'Всеволожск', 'Выборг',\n",
       "       'Высоцк', 'Гатчина', 'Зеленогорск', 'Ивангород', 'Каменногорск',\n",
       "       'Кингисепп', 'Кириши', 'Кировск', 'Колпино', 'Коммунар',\n",
       "       'Красное Село', 'Кронштадт', 'Кудрово', 'Лодейное Поле',\n",
       "       'Ломоносов', 'Луга', 'Любань', 'Мурино', 'Никольское',\n",
       "       'Новая Ладога', 'Отрадное', 'Павловск', 'Петергоф', 'Пикалёво',\n",
       "       'Подпорожье', 'Приморск', 'Приозерск', 'Пушкин', 'Санкт-Петербург',\n",
       "       'Светогорск', 'Сертолово', 'Сестрорецк', 'Сланцы', 'Сосновый Бор',\n",
       "       'Сясьстрой', 'Тихвин', 'Тосно', 'Шлиссельбург',\n",
       "       'городской поселок Большая Ижора', 'городской поселок Янино-1',\n",
       "       'городской посёлок Будогощь', 'городской посёлок Виллози',\n",
       "       'городской посёлок Лесогорский', 'городской посёлок Мга',\n",
       "       'городской посёлок Назия', 'городской посёлок Новоселье',\n",
       "       'городской посёлок Павлово', 'городской посёлок Рощино',\n",
       "       'городской посёлок Свирьстрой', 'городской посёлок Советский',\n",
       "       'городской посёлок Фёдоровское', 'городской посёлок Янино-1',\n",
       "       'деревня Агалатово', 'деревня Аро', 'деревня Батово',\n",
       "       'деревня Бегуницы', 'деревня Белогорка', 'деревня Большая Вруда',\n",
       "       'деревня Большая Пустомержа', 'деревня Большие Колпаны',\n",
       "       'деревня Большое Рейзино', 'деревня Большой Сабск', 'деревня Бор',\n",
       "       'деревня Борисова Грива', 'деревня Ваганово', 'деревня Вартемяги',\n",
       "       'деревня Вахнова Кара', 'деревня Выскатка', 'деревня Гарболово',\n",
       "       'деревня Глинка', 'деревня Горбунки', 'деревня Гостилицы',\n",
       "       'деревня Заклинье', 'деревня Заневка', 'деревня Зимитицы',\n",
       "       'деревня Извара', 'деревня Иссад', 'деревня Калитино',\n",
       "       'деревня Кальтино', 'деревня Камышовка', 'деревня Каськово',\n",
       "       'деревня Келози', 'деревня Кипень', 'деревня Кисельня',\n",
       "       'деревня Колтуши', 'деревня Коркино', 'деревня Котлы',\n",
       "       'деревня Кривко', 'деревня Кудрово', 'деревня Кузьмолово',\n",
       "       'деревня Курковицы', 'деревня Куровицы', 'деревня Куттузи',\n",
       "       'деревня Лаврики', 'деревня Лаголово', 'деревня Лампово',\n",
       "       'деревня Лесколово', 'деревня Лопухинка', 'деревня Лупполово',\n",
       "       'деревня Малая Романовка', 'деревня Малое Верево',\n",
       "       'деревня Малое Карлино', 'деревня Малые Колпаны',\n",
       "       'деревня Мануйлово', 'деревня Меньково', 'деревня Мины',\n",
       "       'деревня Мистолово', 'деревня Ненимяки', 'деревня Нижние Осельки',\n",
       "       'деревня Нижняя', 'деревня Низино', 'деревня Новое Девяткино',\n",
       "       'деревня Новолисино', 'деревня Нурма', 'деревня Оржицы',\n",
       "       'деревня Парицы', 'деревня Пельгора', 'деревня Пеники',\n",
       "       'деревня Пижма', 'деревня Пикколово', 'деревня Пудомяги',\n",
       "       'деревня Пустынка', 'деревня Пчева', 'деревня Рабитицы',\n",
       "       'деревня Разбегаево', 'деревня Раздолье', 'деревня Разметелево',\n",
       "       'деревня Рапполово', 'деревня Реброво', 'деревня Русско',\n",
       "       'деревня Сижно', 'деревня Снегирёвка', 'деревня Старая',\n",
       "       'деревня Старая Пустошь', 'деревня Старое Хинколово',\n",
       "       'деревня Старополье', 'деревня Старосиверская',\n",
       "       'деревня Старые Бегуницы', 'деревня Суоранда',\n",
       "       'деревня Сяськелево', 'деревня Тарасово', 'деревня Терпилицы',\n",
       "       'деревня Тихковицы', 'деревня Тойворово', 'деревня Торосово',\n",
       "       'деревня Торошковичи', 'деревня Трубников Бор',\n",
       "       'деревня Фалилеево', 'деревня Фёдоровское', 'деревня Хапо-Ое',\n",
       "       'деревня Хязельки', 'деревня Чудской Бор', 'деревня Шпаньково',\n",
       "       'деревня Щеглово', 'деревня Юкки', 'деревня Ялгино',\n",
       "       'деревня Яльгелево', 'деревня Ям-Тесово',\n",
       "       'коттеджный поселок Кивеннапа Север', 'коттеджный поселок Счастье',\n",
       "       'коттеджный посёлок Лесное', 'поселок Аннино', 'поселок Барышево',\n",
       "       'поселок Бугры', 'поселок Возрождение', 'поселок Войсковицы',\n",
       "       'поселок Володарское', 'поселок Гаврилово', 'поселок Гарболово',\n",
       "       'поселок Гладкое', 'поселок Глажево', 'поселок Глебычево',\n",
       "       'поселок Гончарово', 'поселок Громово', 'поселок Дружноселье',\n",
       "       'поселок Елизаветино', 'поселок Жилгородок', 'поселок Жилпосёлок',\n",
       "       'поселок Житково', 'поселок Заводской', 'поселок Запорожское',\n",
       "       'поселок Зимитицы', 'поселок Ильичёво', 'поселок Калитино',\n",
       "       'поселок Каложицы', 'поселок Кингисеппский', 'поселок Кирпичное',\n",
       "       'поселок Кобралово', 'поселок Кобринское', 'поселок Коммунары',\n",
       "       'поселок Коробицыно', 'поселок Котельский',\n",
       "       'поселок Красная Долина', 'поселок Красносельское',\n",
       "       'поселок Лесное', 'поселок Лисий Нос', 'поселок Лукаши',\n",
       "       'поселок Любань', 'поселок Мельниково', 'поселок Мичуринское',\n",
       "       'поселок Молодцово', 'поселок Мурино', 'поселок Новый Свет',\n",
       "       'поселок Новый Учхоз', 'поселок Оредеж',\n",
       "       'поселок Пансионат Зелёный Бор', 'поселок Первомайское',\n",
       "       'поселок Перово', 'поселок Петровское', 'поселок Победа',\n",
       "       'поселок Поляны', 'поселок Почап', 'поселок Починок',\n",
       "       'поселок Пушное', 'поселок Пчевжа', 'поселок Рабитицы',\n",
       "       'поселок Романовка', 'поселок Ромашки', 'поселок Рябово',\n",
       "       'поселок Севастьяново', 'поселок Селезнёво', 'поселок Сельцо',\n",
       "       'поселок Семиозерье', 'поселок Семрино', 'поселок Серебрянский',\n",
       "       'поселок Совхозный', 'поселок Старая Малукса',\n",
       "       'поселок Стеклянный', 'поселок Сумино', 'поселок Суходолье',\n",
       "       'поселок Тельмана', 'поселок Терволово', 'поселок Торковичи',\n",
       "       'поселок Тёсово-4', 'поселок Углово', 'поселок Усть-Луга',\n",
       "       'поселок Ушаки', 'поселок Цвелодубово', 'поселок Цвылёво',\n",
       "       'поселок городского типа Большая Ижора',\n",
       "       'поселок городского типа Вырица',\n",
       "       'поселок городского типа Дружная Горка',\n",
       "       'поселок городского типа Дубровка',\n",
       "       'поселок городского типа Ефимовский',\n",
       "       'поселок городского типа Кондратьево',\n",
       "       'поселок городского типа Красный Бор',\n",
       "       'поселок городского типа Кузьмоловский',\n",
       "       'поселок городского типа Лебяжье',\n",
       "       'поселок городского типа Лесогорский',\n",
       "       'поселок городского типа Назия',\n",
       "       'поселок городского типа Никольский',\n",
       "       'поселок городского типа Приладожский',\n",
       "       'поселок городского типа Рахья', 'поселок городского типа Рощино',\n",
       "       'поселок городского типа Рябово',\n",
       "       'поселок городского типа Синявино',\n",
       "       'поселок городского типа Советский',\n",
       "       'поселок городского типа Токсово',\n",
       "       'поселок городского типа Форносово',\n",
       "       'поселок городского типа имени Свердлова',\n",
       "       'поселок станции Вещево', 'поселок станции Корнево',\n",
       "       'поселок станции Лужайка', 'поселок станции Приветнинское',\n",
       "       'посёлок Александровская', 'посёлок Алексеевка', 'посёлок Аннино',\n",
       "       'посёлок Белоостров', 'посёлок Бугры', 'посёлок Возрождение',\n",
       "       'посёлок Войскорово', 'посёлок Высокоключевой',\n",
       "       'посёлок Гаврилово', 'посёлок Дзержинского', 'посёлок Жилгородок',\n",
       "       'посёлок Ильичёво', 'посёлок Кикерино', 'посёлок Кобралово',\n",
       "       'посёлок Коробицыно', 'посёлок Левашово', 'посёлок Ленинское',\n",
       "       'посёлок Лисий Нос', 'посёлок Мельниково', 'посёлок Металлострой',\n",
       "       'посёлок Мичуринское', 'посёлок Молодёжное', 'посёлок Мурино',\n",
       "       'посёлок Мыза-Ивановка', 'посёлок Новогорелово',\n",
       "       'посёлок Новый Свет', 'посёлок Пансионат Зелёный Бор',\n",
       "       'посёлок Парголово', 'посёлок Перово', 'посёлок Песочный',\n",
       "       'посёлок Петро-Славянка', 'посёлок Петровское',\n",
       "       'посёлок Платформа 69-й километр', 'посёлок Плодовое',\n",
       "       'посёлок Плоское', 'посёлок Победа', 'посёлок Поляны',\n",
       "       'посёлок Понтонный', 'посёлок Пригородный', 'посёлок Пудость',\n",
       "       'посёлок Репино', 'посёлок Ропша', 'посёлок Сапёрное',\n",
       "       'посёлок Сапёрный', 'посёлок Сосново', 'посёлок Старая Малукса',\n",
       "       'посёлок Стеклянный', 'посёлок Стрельна', 'посёлок Суйда',\n",
       "       'посёлок Сумино', 'посёлок Тельмана', 'посёлок Терволово',\n",
       "       'посёлок Торфяное', 'посёлок Усть-Ижора', 'посёлок Усть-Луга',\n",
       "       'посёлок Форт Красная Горка', 'посёлок Шугозеро', 'посёлок Шушары',\n",
       "       'посёлок Щеглово', 'посёлок городского типа Важины',\n",
       "       'посёлок городского типа Вознесенье',\n",
       "       'посёлок городского типа Вырица',\n",
       "       'посёлок городского типа Красный Бор',\n",
       "       'посёлок городского типа Кузнечное',\n",
       "       'посёлок городского типа Кузьмоловский',\n",
       "       'посёлок городского типа Лебяжье', 'посёлок городского типа Мга',\n",
       "       'посёлок городского типа Павлово',\n",
       "       'посёлок городского типа Рощино', 'посёлок городского типа Рябово',\n",
       "       'посёлок городского типа Сиверский',\n",
       "       'посёлок городского типа Тайцы', 'посёлок городского типа Токсово',\n",
       "       'посёлок городского типа Ульяновка',\n",
       "       'посёлок городского типа Форносово',\n",
       "       'посёлок городского типа имени Морозова',\n",
       "       'посёлок городского типа имени Свердлова',\n",
       "       'посёлок при железнодорожной станции Вещево',\n",
       "       'посёлок при железнодорожной станции Приветнинское',\n",
       "       'посёлок станции Громово', 'посёлок станции Свирь',\n",
       "       'садоводческое некоммерческое товарищество Лесная Поляна',\n",
       "       'садовое товарищество Новая Ропша',\n",
       "       'садовое товарищество Приладожский', 'садовое товарищество Рахья',\n",
       "       'садовое товарищество Садко', 'село Копорье', 'село Никольское',\n",
       "       'село Павлово', 'село Паша', 'село Путилово', 'село Рождествено',\n",
       "       'село Русско-Высоцкое', 'село Старая Ладога', 'село Шум', nan],\n",
       "      dtype=object)"
      ]
     },
     "execution_count": 33,
     "metadata": {},
     "output_type": "execute_result"
    }
   ],
   "source": [
    "# Найдем unique() и отсортируем sort_values() уникальные значения по алфавиту \n",
    "data['locality_name'].sort_values().unique()"
   ]
  },
  {
   "cell_type": "code",
   "execution_count": 34,
   "metadata": {},
   "outputs": [
    {
     "data": {
      "text/plain": [
       "array(['Бокситогорск', 'Волосово', 'Волхов', 'Всеволожск', 'Выборг',\n",
       "       'Высоцк', 'Гатчина', 'Зеленогорск', 'Ивангород', 'Каменногорск',\n",
       "       'Кингисепп', 'Кириши', 'Кировск', 'Колпино', 'Коммунар',\n",
       "       'Красное Село', 'Кронштадт', 'Кудрово', 'Лодейное Поле',\n",
       "       'Ломоносов', 'Луга', 'Любань', 'Мурино', 'Никольское',\n",
       "       'Новая Ладога', 'Отрадное', 'Павловск', 'Петергоф', 'Пикалево',\n",
       "       'Подпорожье', 'Приморск', 'Приозерск', 'Пушкин', 'Санкт-Петербург',\n",
       "       'Светогорск', 'Сертолово', 'Сестрорецк', 'Сланцы', 'Сосновый Бор',\n",
       "       'Сясьстрой', 'Тихвин', 'Тосно', 'Шлиссельбург',\n",
       "       'деревня Агалатово', 'деревня Аро', 'деревня Батово',\n",
       "       'деревня Бегуницы', 'деревня Белогорка', 'деревня Большая Вруда',\n",
       "       'деревня Большая Пустомержа', 'деревня Большие Колпаны',\n",
       "       'деревня Большое Рейзино', 'деревня Большой Сабск', 'деревня Бор',\n",
       "       'деревня Борисова Грива', 'деревня Ваганово', 'деревня Вартемяги',\n",
       "       'деревня Вахнова Кара', 'деревня Выскатка', 'деревня Гарболово',\n",
       "       'деревня Глинка', 'деревня Горбунки', 'деревня Гостилицы',\n",
       "       'деревня Заклинье', 'деревня Заневка', 'деревня Зимитицы',\n",
       "       'деревня Извара', 'деревня Иссад', 'деревня Калитино',\n",
       "       'деревня Кальтино', 'деревня Камышовка', 'деревня Каськово',\n",
       "       'деревня Келози', 'деревня Кипень', 'деревня Кисельня',\n",
       "       'деревня Колтуши', 'деревня Коркино', 'деревня Котлы',\n",
       "       'деревня Кривко', 'деревня Кудрово', 'деревня Кузьмолово',\n",
       "       'деревня Курковицы', 'деревня Куровицы', 'деревня Куттузи',\n",
       "       'деревня Лаврики', 'деревня Лаголово', 'деревня Лампово',\n",
       "       'деревня Лесколово', 'деревня Лопухинка', 'деревня Лупполово',\n",
       "       'деревня Малая Романовка', 'деревня Малое Верево',\n",
       "       'деревня Малое Карлино', 'деревня Малые Колпаны',\n",
       "       'деревня Мануйлово', 'деревня Меньково', 'деревня Мины',\n",
       "       'деревня Мистолово', 'деревня Ненимяки', 'деревня Нижние Осельки',\n",
       "       'деревня Нижняя', 'деревня Низино', 'деревня Новое Девяткино',\n",
       "       'деревня Новолисино', 'деревня Нурма', 'деревня Оржицы',\n",
       "       'деревня Парицы', 'деревня Пельгора', 'деревня Пеники',\n",
       "       'деревня Пижма', 'деревня Пикколово', 'деревня Пудомяги',\n",
       "       'деревня Пустынка', 'деревня Пчева', 'деревня Рабитицы',\n",
       "       'деревня Разбегаево', 'деревня Раздолье', 'деревня Разметелево',\n",
       "       'деревня Рапполово', 'деревня Реброво', 'деревня Русско',\n",
       "       'деревня Сижно', 'деревня Снегиревка', 'деревня Старая',\n",
       "       'деревня Старая Пустошь', 'деревня Старое Хинколово',\n",
       "       'деревня Старополье', 'деревня Старосиверская',\n",
       "       'деревня Старые Бегуницы', 'деревня Суоранда',\n",
       "       'деревня Сяськелево', 'деревня Тарасово', 'деревня Терпилицы',\n",
       "       'деревня Тихковицы', 'деревня Тойворово', 'деревня Торосово',\n",
       "       'деревня Торошковичи', 'деревня Трубников Бор',\n",
       "       'деревня Фалилеево', 'деревня Федоровское', 'деревня Хапо-Ое',\n",
       "       'деревня Хязельки', 'деревня Чудской Бор', 'деревня Шпаньково',\n",
       "       'деревня Щеглово', 'деревня Юкки', 'деревня Ялгино',\n",
       "       'деревня Яльгелево', 'деревня Ям-Тесово',\n",
       "       'коттеджный поселок Кивеннапа Север', 'коттеджный поселок Лесное',\n",
       "       'коттеджный поселок Счастье', 'поселок Александровская',\n",
       "       'поселок Алексеевка', 'поселок Аннино', 'поселок Барышево',\n",
       "       'поселок Белоостров', 'поселок Большая Ижора', 'поселок Бугры',\n",
       "       'поселок Будогощь', 'поселок Важины', 'поселок Вещево',\n",
       "       'поселок Виллози', 'поселок Вознесенье', 'поселок Возрождение',\n",
       "       'поселок Войсковицы', 'поселок Войскорово', 'поселок Володарское',\n",
       "       'поселок Вырица', 'поселок Высокоключевой', 'поселок Гаврилово',\n",
       "       'поселок Гарболово', 'поселок Гладкое', 'поселок Глажево',\n",
       "       'поселок Глебычево', 'поселок Гончарово', 'поселок Громово',\n",
       "       'поселок Дзержинского', 'поселок Дружная Горка',\n",
       "       'поселок Дружноселье', 'поселок Дубровка', 'поселок Елизаветино',\n",
       "       'поселок Ефимовский', 'поселок Жилгородок', 'поселок Жилпоселок',\n",
       "       'поселок Житково', 'поселок Заводской', 'поселок Запорожское',\n",
       "       'поселок Зимитицы', 'поселок Ильичево', 'поселок Калитино',\n",
       "       'поселок Каложицы', 'поселок Кикерино', 'поселок Кингисеппский',\n",
       "       'поселок Кирпичное', 'поселок Кобралово', 'поселок Кобринское',\n",
       "       'поселок Коммунары', 'поселок Кондратьево', 'поселок Корнево',\n",
       "       'поселок Коробицыно', 'поселок Котельский',\n",
       "       'поселок Красная Долина', 'поселок Красносельское',\n",
       "       'поселок Красный Бор', 'поселок Кузнечное',\n",
       "       'поселок Кузьмоловский', 'поселок Лебяжье', 'поселок Левашово',\n",
       "       'поселок Ленинское', 'поселок Лесное', 'поселок Лесогорский',\n",
       "       'поселок Лисий Нос', 'поселок Лужайка', 'поселок Лукаши',\n",
       "       'поселок Любань', 'поселок Мга', 'поселок Мельниково',\n",
       "       'поселок Металлострой', 'поселок Мичуринское',\n",
       "       'поселок Молодежное', 'поселок Молодцово', 'поселок Мурино',\n",
       "       'поселок Мыза-Ивановка', 'поселок Назия', 'поселок Никольский',\n",
       "       'поселок Новогорелово', 'поселок Новоселье', 'поселок Новый Свет',\n",
       "       'поселок Новый Учхоз', 'поселок Оредеж', 'поселок Павлово',\n",
       "       'поселок Пансионат Зеленый Бор', 'поселок Парголово',\n",
       "       'поселок Первомайское', 'поселок Перово', 'поселок Песочный',\n",
       "       'поселок Петро-Славянка', 'поселок Петровское',\n",
       "       'поселок Платформа 69-й километр', 'поселок Плодовое',\n",
       "       'поселок Плоское', 'поселок Победа', 'поселок Поляны',\n",
       "       'поселок Понтонный', 'поселок Почап', 'поселок Починок',\n",
       "       'поселок Приветнинское', 'поселок Пригородный',\n",
       "       'поселок Приладожский', 'поселок Пудость', 'поселок Пушное',\n",
       "       'поселок Пчевжа', 'поселок Рабитицы', 'поселок Рахья',\n",
       "       'поселок Репино', 'поселок Романовка', 'поселок Ромашки',\n",
       "       'поселок Ропша', 'поселок Рощино', 'поселок Рябово',\n",
       "       'поселок Саперное', 'поселок Саперный', 'поселок Свирь',\n",
       "       'поселок Свирьстрой', 'поселок Севастьяново', 'поселок Селезнево',\n",
       "       'поселок Сельцо', 'поселок Семиозерье', 'поселок Семрино',\n",
       "       'поселок Серебрянский', 'поселок Сиверский', 'поселок Синявино',\n",
       "       'поселок Советский', 'поселок Совхозный', 'поселок Сосново',\n",
       "       'поселок Старая Малукса', 'поселок Стеклянный', 'поселок Стрельна',\n",
       "       'поселок Суйда', 'поселок Сумино', 'поселок Суходолье',\n",
       "       'поселок Тайцы', 'поселок Тельмана', 'поселок Терволово',\n",
       "       'поселок Тесово-4', 'поселок Токсово', 'поселок Торковичи',\n",
       "       'поселок Торфяное', 'поселок Углово', 'поселок Ульяновка',\n",
       "       'поселок Усть-Ижора', 'поселок Усть-Луга', 'поселок Ушаки',\n",
       "       'поселок Федоровское', 'поселок Форносово',\n",
       "       'поселок Форт Красная Горка', 'поселок Цвелодубово',\n",
       "       'поселок Цвылево', 'поселок Шугозеро', 'поселок Шушары',\n",
       "       'поселок Щеглово', 'поселок Янино-1', 'поселок имени Морозова',\n",
       "       'поселок имени Свердлова',\n",
       "       'садоводческое некоммерческое товарищество Лесная Поляна',\n",
       "       'садовое товарищество Новая Ропша',\n",
       "       'садовое товарищество Приладожский', 'садовое товарищество Рахья',\n",
       "       'садовое товарищество Садко', 'село Копорье', 'село Никольское',\n",
       "       'село Павлово', 'село Паша', 'село Путилово', 'село Рождествено',\n",
       "       'село Русско-Высоцкое', 'село Старая Ладога', 'село Шум', nan],\n",
       "      dtype=object)"
      ]
     },
     "execution_count": 34,
     "metadata": {},
     "output_type": "execute_result"
    }
   ],
   "source": [
    "# Заменим неявные дубликаты используя метод replace(значение которое заменяем, на какое заменяем)\n",
    "data['locality_name'] = (\n",
    "    data['locality_name']\n",
    "    .str.replace('ё', 'е')\n",
    "    .replace(['поселок городского типа', 'посёлок городского типа','поселок при железнодорожной станции',\n",
    "              'городской поселок', 'поселок станции'], 'поселок', regex=True)\n",
    ") \n",
    "# Выведем чтобы проверить результат\n",
    "data['locality_name'].sort_values().unique()"
   ]
  },
  {
   "cell_type": "markdown",
   "metadata": {},
   "source": [
    "**Вывод :**\n",
    "    \n",
    "Нашли и заменили неявные дубликаты в основном они состояли в буквах 'ё', 'е'.\n",
    "\n",
    "Проверили снова и заменили повторяющиеся названия поселков"
   ]
  },
  {
   "cell_type": "code",
   "execution_count": 35,
   "metadata": {},
   "outputs": [
    {
     "name": "stdout",
     "output_type": "stream",
     "text": [
      "<class 'pandas.core.frame.DataFrame'>\n",
      "Int64Index: 23689 entries, 0 to 23698\n",
      "Data columns (total 22 columns):\n",
      " #   Column                Non-Null Count  Dtype  \n",
      "---  ------                --------------  -----  \n",
      " 0   total_images          23689 non-null  int64  \n",
      " 1   last_price            23689 non-null  float64\n",
      " 2   total_area            23689 non-null  float64\n",
      " 3   first_day_exposition  23689 non-null  object \n",
      " 4   rooms                 23689 non-null  int64  \n",
      " 5   ceiling_height        23689 non-null  float64\n",
      " 6   floors_total          23689 non-null  float64\n",
      " 7   living_area           23689 non-null  float64\n",
      " 8   floor                 23689 non-null  int64  \n",
      " 9   is_apartment          23689 non-null  object \n",
      " 10  studio                23689 non-null  bool   \n",
      " 11  open_plan             23689 non-null  bool   \n",
      " 12  kitchen_area          23689 non-null  float64\n",
      " 13  balcony               23689 non-null  float64\n",
      " 14  locality_name         23640 non-null  object \n",
      " 15  airports_nearest      18149 non-null  float64\n",
      " 16  city_centers_nearest  23689 non-null  float64\n",
      " 17  parks_around3000      18173 non-null  float64\n",
      " 18  parks_nearest         8074 non-null   float64\n",
      " 19  ponds_around3000      18173 non-null  float64\n",
      " 20  ponds_nearest         9106 non-null   float64\n",
      " 21  days_exposition       20509 non-null  float64\n",
      "dtypes: bool(2), float64(14), int64(3), object(3)\n",
      "memory usage: 3.8+ MB\n"
     ]
    }
   ],
   "source": [
    "data.info()"
   ]
  },
  {
   "cell_type": "markdown",
   "metadata": {},
   "source": [
    "#### Преобразование типа данных столбцов studio и open_plan\n",
    "**Тут лучше поменять буллевые значения на 0 и 1**"
   ]
  },
  {
   "cell_type": "code",
   "execution_count": 36,
   "metadata": {},
   "outputs": [
    {
     "data": {
      "text/plain": [
       "0        0\n",
       "1        0\n",
       "2        0\n",
       "3        0\n",
       "4        0\n",
       "        ..\n",
       "23694    0\n",
       "23695    0\n",
       "23696    0\n",
       "23697    0\n",
       "23698    0\n",
       "Name: studio, Length: 23689, dtype: int64"
      ]
     },
     "execution_count": 36,
     "metadata": {},
     "output_type": "execute_result"
    }
   ],
   "source": [
    "data['studio'].astype(int) # В результате: True становится равным 1, а False — 0."
   ]
  },
  {
   "cell_type": "code",
   "execution_count": 37,
   "metadata": {},
   "outputs": [
    {
     "data": {
      "text/plain": [
       "0        0\n",
       "1        0\n",
       "2        0\n",
       "3        0\n",
       "4        0\n",
       "        ..\n",
       "23694    0\n",
       "23695    0\n",
       "23696    0\n",
       "23697    0\n",
       "23698    0\n",
       "Name: open_plan, Length: 23689, dtype: int64"
      ]
     },
     "execution_count": 37,
     "metadata": {},
     "output_type": "execute_result"
    }
   ],
   "source": [
    "data['open_plan'].astype(int) # В результате: True становится равным 1, а False — 0."
   ]
  },
  {
   "cell_type": "markdown",
   "metadata": {},
   "source": [
    "**Вывод :** \n",
    "    Заменили булевые значения на числовые  В результате: True становится равным 1, а False — 0."
   ]
  },
  {
   "cell_type": "markdown",
   "metadata": {},
   "source": [
    "**Вывод Предобработка данных:**\n",
    "**2. Определение столбцов с пропусками (Пункт 2.1)** \n",
    "\n",
    "Найдено 14 столбцов с пропущенными значениями из 24, 8 из которых не имеют пропущенных значений\n",
    "\n",
    "**2.1 Заменили пропущенные значения ceiling_heigh на медианное значение (Пункт 2.2.1)**\n",
    "\n",
    "В столбце ceiling_height (высота потолков) удалили строки, в которых встречаются аномальные значения.\n",
    "\n",
    "Также те, что похожи на опечаток заменили на обычные значения например 25 м сделали 2.5 м.\n",
    "\n",
    "**2.2 Заменили пропущенные значения floors_total на медианное значение (Пункт 2.2.2)**\n",
    "\n",
    "В столбце floors_total (Всего этажей дома) заменили пропущенные значения на значения из столбца floor.\n",
    "\n",
    "**2.3 Заменили пропущенные значения living_area на медианное значение (Пункт 2.2.3)**\n",
    "\n",
    "В столбце living_area — жилая площадь в квадратных метрах (м²) заменили пропущенные значения на медианное значение.\n",
    "\n",
    "\n",
    "**2.4 Замена пропущенных значений kitchen_area на медианное значение (Пункт 2.2.4)**\n",
    "\n",
    "В столбце kitchen_area — площадь кухни в квадратных метрах (м²) заменили пропущенные значения на медианное значение.\n",
    "\n",
    "\n",
    "**2.5 Замена пропущенных значений balcony на 0 (Пункт 2.2.5)**\n",
    "\n",
    "Заменены пропущенные значения столбца (balcony - количество балконов в квартире) на 0 т.к скорее всего написали нет балкона и все значения стали Nan, хотя тип данных числовой.\n",
    "\n",
    "**2.6  Замена пропущенных значений is_apartment и преобразование типа данных (Пункт 2.2.6)**\n",
    "\n",
    "Поменяли буллевые значения на 0 и 1, а пропущенные можно на 0 т.к скорее всего написали нет вместо булевого значения\n",
    "\n",
    "\n",
    "**2.7 Переименуем столбец \"cityCenters_nearest\" чтобы не было заглавных букв \"city_сenters_nearest\" (Пункт 2.3)**\n",
    "\n",
    "Заменили пропущенные значения на медианное значение 13098.5 (Пункт 2.3.1)\n",
    "\n",
    "**2.8 Поиск и замена/удаление дубликатов  locality_name (Пункт 2.4)**\n",
    "\n",
    "Нашли и заменили неявные дубликаты в основном они состояли в буквах 'ё', 'е'.\n",
    "\n",
    "Нашли и заменили повторяющиеся названия поселков \n",
    "\n",
    "**2.9 Преобразование типа данных столбцов studio и open_plan (Пункт 2.4)**\n",
    "\n",
    "Заменили булевые значения на числовые  В результате: True становится равным 1, а False — 0.\n",
    "\n",
    "Сделали предобработку данных и готовы с ними работать"
   ]
  },
  {
   "cell_type": "markdown",
   "metadata": {
    "id": "QCcvyY6YAwb-"
   },
   "source": [
    "### Добавьте в таблицу новые столбцы"
   ]
  },
  {
   "cell_type": "markdown",
   "metadata": {
    "id": "Z8eJek3IAwb-"
   },
   "source": [
    "Шаг 3. Добавьте в таблицу новые столбцы со следующими параметрами:\n",
    "    \n",
    "цена одного квадратного метра (нужно поделить стоимость объекта на его общую площадь,\n",
    "                               \n",
    "                               а затем округлить до двух знаков после запятой);\n",
    "\n",
    "день недели публикации объявления (0 — понедельник, 1 — вторник и так далее);\n",
    "\n",
    "месяц публикации объявления;\n",
    "\n",
    "год публикации объявления;\n",
    "\n",
    "тип этажа квартиры (значения — «‎первый», «последний», «другой»);\n",
    "\n",
    "расстояние до центра города в километрах (переведите из м в км и округлите до ближайших целых значений)."
   ]
  },
  {
   "cell_type": "code",
   "execution_count": 38,
   "metadata": {},
   "outputs": [
    {
     "data": {
      "text/plain": [
       "['Описание данных',\n",
       " 'airports_nearest — расстояние до ближайшего аэропорта в метрах (м)',\n",
       " 'balcony — число балконов',\n",
       " 'ceiling_height — высота потолков (м)',\n",
       " 'cityCenters_nearest — расстояние до центра города (м)',\n",
       " 'days_exposition — сколько дней было размещено объявление (от публикации до снятия)',\n",
       " 'first_day_exposition — дата публикации',\n",
       " 'floor — этаж',\n",
       " 'floors_total — всего этажей в доме',\n",
       " 'is_apartment — апартаменты (булев тип)',\n",
       " 'kitchen_area — площадь кухни в квадратных метрах (м²)',\n",
       " 'last_price — цена на момент снятия с публикации',\n",
       " 'living_area — жилая площадь в квадратных метрах (м²)',\n",
       " 'locality_name — название населённого пункта',\n",
       " 'open_plan — свободная планировка (булев тип)',\n",
       " 'parks_around3000 — число парков в радиусе 3 км',\n",
       " 'parks_nearest — расстояние до ближайшего парка (м)',\n",
       " 'ponds_around3000 — число водоёмов в радиусе 3 км',\n",
       " 'ponds_nearest — расстояние до ближайшего водоёма (м)',\n",
       " 'rooms — число комнат',\n",
       " 'studio — квартира-студия (булев тип)',\n",
       " 'total_area — общая площадь квартиры в квадратных метрах (м²)',\n",
       " 'total_images — число фотографий квартиры в объявлении']"
      ]
     },
     "execution_count": 38,
     "metadata": {},
     "output_type": "execute_result"
    }
   ],
   "source": [
    "description_data"
   ]
  },
  {
   "cell_type": "markdown",
   "metadata": {},
   "source": [
    "#### Добавим новый столбец 'price_one_metr2'"
   ]
  },
  {
   "cell_type": "markdown",
   "metadata": {},
   "source": [
    "**Добавим новый столбец 'price_one_metr2' - цена одного квадратного метра**\n",
    "\n",
    "**(нужно поделить стоимость объекта ('last_price') на его общую площадь ('total_area'),**\n",
    "\n",
    "**а затем округлить до двух знаков после запятой);**"
   ]
  },
  {
   "cell_type": "code",
   "execution_count": 39,
   "metadata": {},
   "outputs": [
    {
     "data": {
      "text/plain": [
       "0        120370.37\n",
       "1         82920.79\n",
       "2         92785.71\n",
       "3        408176.10\n",
       "4        100000.00\n",
       "           ...    \n",
       "23694     72490.85\n",
       "23695     52542.37\n",
       "23696     44091.71\n",
       "23697    149511.40\n",
       "23698     41795.67\n",
       "Name: price_one_metr2, Length: 23689, dtype: float64"
      ]
     },
     "execution_count": 39,
     "metadata": {},
     "output_type": "execute_result"
    }
   ],
   "source": [
    "data['price_one_metr2'] = round((data['last_price'] / data['total_area']), 2)\n",
    "data['price_one_metr2']"
   ]
  },
  {
   "cell_type": "code",
   "execution_count": 40,
   "metadata": {},
   "outputs": [
    {
     "data": {
      "text/plain": [
       "0        2019-03-07T00:00:00\n",
       "1        2018-12-04T00:00:00\n",
       "2        2015-08-20T00:00:00\n",
       "3        2015-07-24T00:00:00\n",
       "4        2018-06-19T00:00:00\n",
       "                ...         \n",
       "23694    2017-03-21T00:00:00\n",
       "23695    2018-01-15T00:00:00\n",
       "23696    2018-02-11T00:00:00\n",
       "23697    2017-03-28T00:00:00\n",
       "23698    2017-07-21T00:00:00\n",
       "Name: first_day_exposition, Length: 23689, dtype: object"
      ]
     },
     "execution_count": 40,
     "metadata": {},
     "output_type": "execute_result"
    }
   ],
   "source": [
    "data['first_day_exposition']"
   ]
  },
  {
   "cell_type": "markdown",
   "metadata": {},
   "source": [
    "#### Добавим новый столбец 'weekday'\n",
    "**день недели публикации объявления (0 — понедельник, 1 — вторник и так далее**"
   ]
  },
  {
   "cell_type": "markdown",
   "metadata": {},
   "source": [
    "**Изменим тип данных со строкового на datatime**"
   ]
  },
  {
   "cell_type": "code",
   "execution_count": 41,
   "metadata": {},
   "outputs": [
    {
     "data": {
      "text/plain": [
       "0       2019-03-07\n",
       "1       2018-12-04\n",
       "2       2015-08-20\n",
       "3       2015-07-24\n",
       "4       2018-06-19\n",
       "           ...    \n",
       "23694   2017-03-21\n",
       "23695   2018-01-15\n",
       "23696   2018-02-11\n",
       "23697   2017-03-28\n",
       "23698   2017-07-21\n",
       "Name: first_day_exposition, Length: 23689, dtype: datetime64[ns]"
      ]
     },
     "execution_count": 41,
     "metadata": {},
     "output_type": "execute_result"
    }
   ],
   "source": [
    "data['first_day_exposition'] = pd.to_datetime(data['first_day_exposition'], format='%Y-%m-%dT%H:%M:%S')\n",
    "data['first_day_exposition']"
   ]
  },
  {
   "cell_type": "code",
   "execution_count": 42,
   "metadata": {},
   "outputs": [
    {
     "data": {
      "text/plain": [
       "0        3\n",
       "1        1\n",
       "2        3\n",
       "3        4\n",
       "4        1\n",
       "        ..\n",
       "23694    1\n",
       "23695    0\n",
       "23696    6\n",
       "23697    1\n",
       "23698    4\n",
       "Name: weekday, Length: 23689, dtype: int64"
      ]
     },
     "execution_count": 42,
     "metadata": {},
     "output_type": "execute_result"
    }
   ],
   "source": [
    "data['weekday'] = data['first_day_exposition'].dt.weekday\n",
    "data['weekday']"
   ]
  },
  {
   "cell_type": "markdown",
   "metadata": {},
   "source": [
    "#### Добавим новый столбец \"month''\n",
    "**месяц публикации объявления**"
   ]
  },
  {
   "cell_type": "code",
   "execution_count": 43,
   "metadata": {},
   "outputs": [
    {
     "data": {
      "text/plain": [
       "0         3\n",
       "1        12\n",
       "2         8\n",
       "3         7\n",
       "4         6\n",
       "         ..\n",
       "23694     3\n",
       "23695     1\n",
       "23696     2\n",
       "23697     3\n",
       "23698     7\n",
       "Name: month, Length: 23689, dtype: int64"
      ]
     },
     "execution_count": 43,
     "metadata": {},
     "output_type": "execute_result"
    }
   ],
   "source": [
    "data[\"month\"] = data['first_day_exposition'].dt.month\n",
    "data[\"month\"]"
   ]
  },
  {
   "cell_type": "markdown",
   "metadata": {},
   "source": [
    "#### Добавим новый столбец \"year\"\n",
    "**Год публикации объявления**"
   ]
  },
  {
   "cell_type": "code",
   "execution_count": 44,
   "metadata": {},
   "outputs": [
    {
     "data": {
      "text/plain": [
       "0        2019\n",
       "1        2018\n",
       "2        2015\n",
       "3        2015\n",
       "4        2018\n",
       "         ... \n",
       "23694    2017\n",
       "23695    2018\n",
       "23696    2018\n",
       "23697    2017\n",
       "23698    2017\n",
       "Name: year, Length: 23689, dtype: int64"
      ]
     },
     "execution_count": 44,
     "metadata": {},
     "output_type": "execute_result"
    }
   ],
   "source": [
    "data[\"year\"] = data['first_day_exposition'].dt.year\n",
    "data[\"year\"]"
   ]
  },
  {
   "cell_type": "markdown",
   "metadata": {},
   "source": [
    "#### Добавим новый столбец \"floor_type\"\n",
    "**тип этажа квартиры (значения — «‎первый», «последний», «другой»)**"
   ]
  },
  {
   "cell_type": "code",
   "execution_count": 45,
   "metadata": {},
   "outputs": [
    {
     "data": {
      "text/plain": [
       "0        другой\n",
       "1        первый\n",
       "2        другой\n",
       "3        другой\n",
       "4        другой\n",
       "          ...  \n",
       "23694    другой\n",
       "23695    другой\n",
       "23696    первый\n",
       "23697    другой\n",
       "23698    первый\n",
       "Name: floor_type, Length: 23689, dtype: object"
      ]
     },
     "execution_count": 45,
     "metadata": {},
     "output_type": "execute_result"
    }
   ],
   "source": [
    "# Функция для определения типа этажа\n",
    "def get_floor_type(row):\n",
    "    if row['floor'] == 1:\n",
    "        return 'первый'\n",
    "    elif row['floor'] == row['floors_total']:\n",
    "        return 'последний'\n",
    "    else:\n",
    "        return 'другой'\n",
    "\n",
    "# Применяем функцию к каждой строке и создаем новый столбец\n",
    "data['floor_type'] = data.apply(get_floor_type, axis=1)\n",
    "\n",
    "data['floor_type']"
   ]
  },
  {
   "cell_type": "markdown",
   "metadata": {},
   "source": [
    "#### Добавим новый столбец \"city_centers_nearest_km\"\n",
    "**расстояние до центра города в километрах (переведите из м в км и округлите до ближайших целых значений)**"
   ]
  },
  {
   "cell_type": "code",
   "execution_count": 46,
   "metadata": {},
   "outputs": [
    {
     "data": {
      "text/plain": [
       "0        16.0\n",
       "1        19.0\n",
       "2        14.0\n",
       "3         7.0\n",
       "4         8.0\n",
       "         ... \n",
       "23694     4.0\n",
       "23695    13.0\n",
       "23696    13.0\n",
       "23697    10.0\n",
       "23698    13.0\n",
       "Name: city_centers_nearest_km, Length: 23689, dtype: float64"
      ]
     },
     "execution_count": 46,
     "metadata": {},
     "output_type": "execute_result"
    }
   ],
   "source": [
    "data['city_centers_nearest_km'] = round(data['city_centers_nearest']/1000)\n",
    "data['city_centers_nearest_km']"
   ]
  },
  {
   "cell_type": "markdown",
   "metadata": {},
   "source": [
    "\n"
   ]
  },
  {
   "cell_type": "markdown",
   "metadata": {},
   "source": [
    "**Вывод:**\n",
    "Добавили новый столбец price_one_metr2 - цена одного квадратного метра (Пункт 3.1)**\n",
    "\n",
    "Добавили новый столбец weekday - день недели публикации объявления (Пункт 3.2)**\n",
    "\n",
    "Добавили новый столбец month - месяц публикации объявления (Пункт 3.3)**\n",
    "\n",
    "Добавили новый столбец year - год публикации объявления (Пункт 3.4)**\n",
    "\n",
    "Добавили новый столбец floor_type тип этажа квартиры (значения — «‎первый», «последний», «другой») (Пункт 3.4)**\n",
    "\n",
    "Добавили новый столбец city_centers_nearest_km расстояние до центра города в километрах"
   ]
  },
  {
   "cell_type": "markdown",
   "metadata": {
    "id": "pPyxrKWTAwb-"
   },
   "source": [
    "### Проведите исследовательский анализ данных"
   ]
  },
  {
   "cell_type": "markdown",
   "metadata": {
    "id": "V2f0D3kLAwb-"
   },
   "source": [
    "Изучите перечисленные ниже параметры объектов и постройте отдельные гистограммы для каждого из этих параметров.\n",
    "\n",
    "В некоторых параметрах встречаются редкие и выбивающиеся значения.\n",
    "\n",
    "При построении гистограмм удалите их.\n",
    "\n",
    "Например, в столбце ceiling_height может быть указана высота потолков 25 м и 32 м. \n",
    "Логично предположить,что на самом деле это вещественные значения: 2.5 м и 3.2 м.\n",
    "\n",
    "Попробуйте обработать аномалии в этом и других столбцах,\n",
    "если они есть. \n",
    "\n",
    "Если природа аномалии понятна и данные действительно искажены, то восстановите    корректное значение.\n",
    "В противном случае удалите редкие и выбивающиеся значения.\n",
    "\n",
    "Список параметров:\n",
    "\n",
    "1. общей площади; total_area \n",
    "\n",
    "2. жилой площади; living_area\n",
    "\n",
    "3. площади кухни; kitchen_area\n",
    "\n",
    "4. цена объекта; last_price\n",
    "\n",
    "5. количество комнат; rooms\n",
    "\n",
    "6. высота потолков; ceiling_height\n",
    "\n",
    "7. тип этажа квартиры («первый», «последний», «другой»); floor_type\n",
    "\n",
    "8. общее количество этажей в доме; floors_total\n",
    "\n",
    "9. расстояние до центра города в метрах; city_сenters_nearest\n",
    "\n",
    "10. расстояние до ближайшего парка parks_nearest\n",
    "\n",
    "Опишите все ваши наблюдения по параметрам в ячейке с типом markdown.\n"
   ]
  },
  {
   "cell_type": "markdown",
   "metadata": {},
   "source": [
    "#### Гистограмма 1 общей площади - total_area\n"
   ]
  },
  {
   "cell_type": "code",
   "execution_count": 47,
   "metadata": {},
   "outputs": [
    {
     "data": {
      "text/plain": [
       "count    23689.000000\n",
       "mean        60.352467\n",
       "std         35.659158\n",
       "min         12.000000\n",
       "25%         40.000000\n",
       "50%         52.000000\n",
       "75%         69.900000\n",
       "max        900.000000\n",
       "Name: total_area, dtype: float64"
      ]
     },
     "execution_count": 47,
     "metadata": {},
     "output_type": "execute_result"
    }
   ],
   "source": [
    "data['total_area'].describe()"
   ]
  },
  {
   "cell_type": "code",
   "execution_count": 48,
   "metadata": {
    "scrolled": true
   },
   "outputs": [
    {
     "data": {
      "image/png": "[encoded data removed]",
      "text/plain": [
       "<Figure size 1080x720 with 1 Axes>"
      ]
     },
     "metadata": {
      "needs_background": "light"
     },
     "output_type": "display_data"
    }
   ],
   "source": [
    "data['total_area'].plot(kind='hist',\n",
    "                        title='Гистограмма 1 общей площади ',\n",
    "                        range = (0, 900), \n",
    "                        bins=100,\n",
    "                        grid=True,\n",
    "                        figsize=(15, 10))\n",
    "\n",
    "plt.show()"
   ]
  },
  {
   "cell_type": "markdown",
   "metadata": {},
   "source": [
    "**Вывод :**\n",
    "1. В среднем продают квартиры с площадью от 35 до 60 м2\n",
    "2. Больше половины продают квартиры с площадью приблизительно равной 69 м2\n",
    "3. Половина продает квартиры с площадью 52 м2\n",
    "4. Четверть продает квартиры с площадью 40 м2\n",
    "5. Самая минимальная площадь продажи квартиры 12 м2 \n",
    "6. Самая максимальная площадь продажи квартиры 900 м2\n",
    "\n",
    "Данные имеют нормальное распределение. Нет пропущенных значений. "
   ]
  },
  {
   "cell_type": "markdown",
   "metadata": {},
   "source": [
    "####  Гистограмма 2 жилой площади - living_area"
   ]
  },
  {
   "cell_type": "code",
   "execution_count": 49,
   "metadata": {},
   "outputs": [
    {
     "data": {
      "text/plain": [
       "count    23689.000000\n",
       "mean        34.102484\n",
       "std         21.164757\n",
       "min          2.000000\n",
       "25%         19.000000\n",
       "50%         30.000000\n",
       "75%         41.100000\n",
       "max        409.700000\n",
       "Name: living_area, dtype: float64"
      ]
     },
     "execution_count": 49,
     "metadata": {},
     "output_type": "execute_result"
    }
   ],
   "source": [
    "data['living_area'].describe()"
   ]
  },
  {
   "cell_type": "code",
   "execution_count": 50,
   "metadata": {},
   "outputs": [
    {
     "data": {
      "image/png": "[encoded data removed]",
      "text/plain": [
       "<Figure size 432x288 with 1 Axes>"
      ]
     },
     "metadata": {
      "needs_background": "light"
     },
     "output_type": "display_data"
    }
   ],
   "source": [
    "data['living_area'].plot(kind='hist',\n",
    "                        title='Гистограмма 2 жилой площади',\n",
    "                        range = (0, 410), \n",
    "                        \n",
    "                        grid=True,\n",
    "                        )\n",
    "\n",
    "plt.show()"
   ]
  },
  {
   "cell_type": "markdown",
   "metadata": {},
   "source": [
    "**Вывод :**\n",
    "1. В среднем жилая площадь квартиры с площадью от 21 до 34 м2\n",
    "2. Больше половины объявлений жилая площадь квартиры ~ 41 м2\n",
    "3. Половина объявлений жилая площадь квартиры ~ 30 м2\n",
    "4. Четверть объявлений жилая площадь квартиры ~ 19 м2\n",
    "5. Самая минимальная площадь продажи квартиры - 2 м2 \n",
    "6. Самая максимальная площадь продажи квартиры  - 409 м2\n",
    "\n",
    "Данные имеют распределение Пуассона. Пропущенные значения в размере 1903 были заменены на медианное значение median_living_area"
   ]
  },
  {
   "cell_type": "markdown",
   "metadata": {},
   "source": [
    "#### Гистограмма 3 площади кухни; kitchen_area"
   ]
  },
  {
   "cell_type": "code",
   "execution_count": 51,
   "metadata": {},
   "outputs": [
    {
     "data": {
      "text/plain": [
       "count    23689.000000\n",
       "mean        10.429167\n",
       "std          5.632105\n",
       "min          1.300000\n",
       "25%          7.400000\n",
       "50%          9.100000\n",
       "75%         11.440000\n",
       "max        112.000000\n",
       "Name: kitchen_area, dtype: float64"
      ]
     },
     "execution_count": 51,
     "metadata": {},
     "output_type": "execute_result"
    }
   ],
   "source": [
    "data['kitchen_area'].describe()"
   ]
  },
  {
   "cell_type": "code",
   "execution_count": 52,
   "metadata": {},
   "outputs": [
    {
     "data": {
      "image/png": "[encoded data removed]",
      "text/plain": [
       "<Figure size 432x288 with 1 Axes>"
      ]
     },
     "metadata": {
      "needs_background": "light"
     },
     "output_type": "display_data"
    }
   ],
   "source": [
    "data['kitchen_area'].plot(kind='hist',\n",
    "                        title='Гистограмма 3 площади кухни',\n",
    "                        range = (0, 120), \n",
    "                        \n",
    "                        grid=True,\n",
    "                        )\n",
    "\n",
    "plt.show()"
   ]
  },
  {
   "cell_type": "markdown",
   "metadata": {},
   "source": [
    "**Вывод :**\n",
    "1. В среднем площади кухни квартиры от 5 до 10 м2\n",
    "2. Больше площади кухни квартиры ~ 11 м2\n",
    "3. Половина объявлений площади кухни квартиры ~ 9 м2\n",
    "4. Четверть объявлений площади кухни квартиры ~ 7 м2\n",
    "5. Самая минимальная площадь кухни квартиры - 1 м2 \n",
    "6. Самая максимальная площадь кухни квартиры  - 112 м2\n",
    "\n",
    "Данные имеют распределение пуассона. Пропущенные значения в размере 2272 были заменены на медианное значение median_kitchen_area"
   ]
  },
  {
   "cell_type": "markdown",
   "metadata": {},
   "source": [
    "#### Гистограмма 4 цена объекта; last_price"
   ]
  },
  {
   "cell_type": "code",
   "execution_count": 53,
   "metadata": {},
   "outputs": [
    {
     "data": {
      "text/plain": [
       "count    2.368900e+04\n",
       "mean     6.541858e+06\n",
       "std      1.088906e+07\n",
       "min      1.219000e+04\n",
       "25%      3.400000e+06\n",
       "50%      4.650000e+06\n",
       "75%      6.800000e+06\n",
       "max      7.630000e+08\n",
       "Name: last_price, dtype: float64"
      ]
     },
     "execution_count": 53,
     "metadata": {},
     "output_type": "execute_result"
    }
   ],
   "source": [
    "data['last_price'].describe()"
   ]
  },
  {
   "cell_type": "code",
   "execution_count": 54,
   "metadata": {},
   "outputs": [
    {
     "data": {
      "image/png": "[encoded data removed]",
      "text/plain": [
       "<Figure size 432x288 with 1 Axes>"
      ]
     },
     "metadata": {
      "needs_background": "light"
     },
     "output_type": "display_data"
    }
   ],
   "source": [
    "data['last_price'].plot(kind='hist',\n",
    "                        title='Гистограмма 4 цена объекта',\n",
    "                        grid=True,\n",
    "                        )\n",
    "\n",
    "plt.show()"
   ]
  },
  {
   "cell_type": "markdown",
   "metadata": {},
   "source": [
    "**Вывод :** Сложно что-то сказать по гистограмме, лучше сравнить цену с остальными показателями дальше и построить по ним график зависимости."
   ]
  },
  {
   "cell_type": "markdown",
   "metadata": {},
   "source": [
    "#### Гистограмма 5 количество комнат; rooms"
   ]
  },
  {
   "cell_type": "code",
   "execution_count": 55,
   "metadata": {},
   "outputs": [
    {
     "data": {
      "text/plain": [
       "count    23689.000000\n",
       "mean         2.070750\n",
       "std          1.078509\n",
       "min          0.000000\n",
       "25%          1.000000\n",
       "50%          2.000000\n",
       "75%          3.000000\n",
       "max         19.000000\n",
       "Name: rooms, dtype: float64"
      ]
     },
     "execution_count": 55,
     "metadata": {},
     "output_type": "execute_result"
    }
   ],
   "source": [
    "data['rooms'].describe()"
   ]
  },
  {
   "cell_type": "code",
   "execution_count": 56,
   "metadata": {},
   "outputs": [
    {
     "data": {
      "image/png": "[encoded data removed]",
      "text/plain": [
       "<Figure size 432x288 with 1 Axes>"
      ]
     },
     "metadata": {
      "needs_background": "light"
     },
     "output_type": "display_data"
    }
   ],
   "source": [
    "data['rooms'].plot(kind='hist',\n",
    "                        title='Гистограмма 5 количество комнат',\n",
    "                        range = (0, 18), \n",
    "                        grid=True,\n",
    "                        )\n",
    "\n",
    "plt.show()"
   ]
  },
  {
   "cell_type": "markdown",
   "metadata": {},
   "source": [
    "**Вывод :**\n",
    "1. В большинстве преобладают квартиры с 1 и 2 комнатами \n",
    "2. Далее уже 3 комнатные\n",
    "3. После уже те что больше 3 комнат.\n",
    "4. Минимальное значение 0 - студии, комнаты и т.п\n",
    "5. Максимальное значение - 19 комнат\n",
    "\n",
    "Данные имеют нормальное распределение."
   ]
  },
  {
   "cell_type": "markdown",
   "metadata": {},
   "source": [
    "#### Гистограмма 6 тип этажа квартиры («первый», «последний», «другой»); floor_type"
   ]
  },
  {
   "cell_type": "code",
   "execution_count": 57,
   "metadata": {},
   "outputs": [
    {
     "data": {
      "text/plain": [
       "count      23689\n",
       "unique         3\n",
       "top       другой\n",
       "freq       17356\n",
       "Name: floor_type, dtype: object"
      ]
     },
     "execution_count": 57,
     "metadata": {},
     "output_type": "execute_result"
    }
   ],
   "source": [
    "data['floor_type'].describe()"
   ]
  },
  {
   "cell_type": "code",
   "execution_count": 58,
   "metadata": {},
   "outputs": [
    {
     "data": {
      "text/plain": [
       "<AxesSubplot:>"
      ]
     },
     "execution_count": 58,
     "metadata": {},
     "output_type": "execute_result"
    },
    {
     "data": {
      "image/png": "[encoded data removed]",
      "text/plain": [
       "<Figure size 432x288 with 1 Axes>"
      ]
     },
     "metadata": {
      "needs_background": "light"
     },
     "output_type": "display_data"
    }
   ],
   "source": [
    "pd.Series(data['floor_type']).hist() # здесь не получается создать гистограмму через plot\n"
   ]
  },
  {
   "cell_type": "markdown",
   "metadata": {},
   "source": [
    "**Вывод :** \n",
    "Больше всего типов этажа квартир Другое (все кроме первого и последнего)\n",
    "Квартир с этажами на первом этаже меньше, чем квартир на последних этажах."
   ]
  },
  {
   "cell_type": "markdown",
   "metadata": {},
   "source": [
    "#### Гистограмма 7 общее количество этажей в доме; floors_total"
   ]
  },
  {
   "cell_type": "code",
   "execution_count": 59,
   "metadata": {},
   "outputs": [
    {
     "data": {
      "text/plain": [
       "count    23689.000000\n",
       "mean        10.671409\n",
       "std          6.596203\n",
       "min          1.000000\n",
       "25%          5.000000\n",
       "50%          9.000000\n",
       "75%         16.000000\n",
       "max         60.000000\n",
       "Name: floors_total, dtype: float64"
      ]
     },
     "execution_count": 59,
     "metadata": {},
     "output_type": "execute_result"
    }
   ],
   "source": [
    "data['floors_total'].describe()"
   ]
  },
  {
   "cell_type": "code",
   "execution_count": 60,
   "metadata": {},
   "outputs": [
    {
     "data": {
      "image/png": "[encoded data removed]",
      "text/plain": [
       "<Figure size 432x288 with 1 Axes>"
      ]
     },
     "metadata": {
      "needs_background": "light"
     },
     "output_type": "display_data"
    }
   ],
   "source": [
    "data['floors_total'].plot(kind='hist',\n",
    "                        title='Гистограмма 7 общее количество этажей в доме',\n",
    "                        range = (0, 61), \n",
    "                        \n",
    "                        grid=True,\n",
    "                        )\n",
    "\n",
    "plt.show()"
   ]
  },
  {
   "cell_type": "markdown",
   "metadata": {},
   "source": [
    "**Вывод :**\n",
    "1. В большинстве преобладают дома с 16 этажами 75%\n",
    "2. Далее уже 9-10 этажные 50%\n",
    "3. А 5 этажные занимают 1/4 часть всего рынка недвижимости\n",
    "4. Минимальное значение 1 этажные\n",
    "5. Максимальное значение - 60 этажные здания\n",
    "\n",
    "Данные имеют распределение пуассона. Были пропущенные значения, которые были заменены на медианное значение - 9 "
   ]
  },
  {
   "cell_type": "markdown",
   "metadata": {},
   "source": [
    "#### Гистограмма 8 расстояние до центра города в метрах; city_centers_nearesta"
   ]
  },
  {
   "cell_type": "code",
   "execution_count": 61,
   "metadata": {},
   "outputs": [
    {
     "data": {
      "text/plain": [
       "count    23689.000000\n",
       "mean     13936.800097\n",
       "std       7554.656127\n",
       "min        181.000000\n",
       "25%      10927.000000\n",
       "50%      13098.500000\n",
       "75%      15250.000000\n",
       "max      65968.000000\n",
       "Name: city_centers_nearest, dtype: float64"
      ]
     },
     "execution_count": 61,
     "metadata": {},
     "output_type": "execute_result"
    }
   ],
   "source": [
    "data['city_centers_nearest'].describe()"
   ]
  },
  {
   "cell_type": "code",
   "execution_count": 62,
   "metadata": {},
   "outputs": [
    {
     "data": {
      "image/png": "[encoded data removed]",
      "text/plain": [
       "<Figure size 432x288 with 1 Axes>"
      ]
     },
     "metadata": {
      "needs_background": "light"
     },
     "output_type": "display_data"
    }
   ],
   "source": [
    "data['city_centers_nearest'].plot(kind='hist',\n",
    "                        title='Гистограмма 8 расстояние до центра города в метрах',\n",
    "                        grid=True,\n",
    "                        )\n",
    "\n",
    "plt.show()"
   ]
  },
  {
   "cell_type": "markdown",
   "metadata": {},
   "source": [
    "**Вывод :**\n",
    "1. Среднее расстояние квартир от центра города  13 937 м, что довольно близко.\n",
    "2. Максимальное расстояние от центра города 65 968 м, это в 5 раз больше среднего значения.\n",
    "3. Минимальное значение 181 метр - центр города. Возможно и квартиры там дороже.\n",
    "4. в большинстве преодладают квартиры с расстоянием 15 271 м , что тоже довольно близко\n",
    "5. 1/4 имеют расстояние приблизительно 10 927 м, что еще ближе.\n",
    "\n",
    "Данные имеют нормальное распределение. Пропущенные значения были заменены на медианное значение. (Пункт 2.3.1)"
   ]
  },
  {
   "cell_type": "markdown",
   "metadata": {},
   "source": [
    "#### Гистограмма 9  parks_nearest — расстояние до ближайшего парка (м)"
   ]
  },
  {
   "cell_type": "code",
   "execution_count": 63,
   "metadata": {},
   "outputs": [
    {
     "data": {
      "text/plain": [
       "count    8074.000000\n",
       "mean      490.780778\n",
       "std       342.352695\n",
       "min         1.000000\n",
       "25%       288.000000\n",
       "50%       455.000000\n",
       "75%       612.000000\n",
       "max      3190.000000\n",
       "Name: parks_nearest, dtype: float64"
      ]
     },
     "execution_count": 63,
     "metadata": {},
     "output_type": "execute_result"
    }
   ],
   "source": [
    "data['parks_nearest'].describe()"
   ]
  },
  {
   "cell_type": "code",
   "execution_count": 64,
   "metadata": {
    "scrolled": true
   },
   "outputs": [
    {
     "data": {
      "image/png": "[encoded data removed]",
      "text/plain": [
       "<Figure size 432x288 with 1 Axes>"
      ]
     },
     "metadata": {
      "needs_background": "light"
     },
     "output_type": "display_data"
    }
   ],
   "source": [
    "data['parks_nearest'].plot(kind='hist',\n",
    "                        title='Гистограмма 9 parks_nearest — расстояние до ближайшего парка (м)',\n",
    "                        grid=True,\n",
    "                        )\n",
    "\n",
    "plt.show()"
   ]
  },
  {
   "cell_type": "markdown",
   "metadata": {},
   "source": [
    "**Вывод :**\n",
    "\n",
    "1. min расстояние 1.0 м\n",
    "2. 25% домов имеют расстоние ~ 288.0 м\n",
    "3. 50% домов имеют расстоние ~ 455.0 м\n",
    "4. 75% домов имеют расстоние ~ 612.0 м\n",
    "5. max расстояние 3190.0 м \n",
    "\n",
    "Данные имеют нормальное распределение и большое количество пропущенных значений. Больше половины данных - пропущенные значения. Нельзя заменять их на медианное, это искозит все данные по столбцу."
   ]
  },
  {
   "cell_type": "markdown",
   "metadata": {},
   "source": [
    "#### Как быстро продавались квартиры (столбец days_exposition).\n",
    "\n",
    "Этот параметр показывает, сколько дней было размещено каждое объявление.\n",
    "\n",
    "Постройте гистограмму.\n",
    "\n",
    "Посчитайте среднее и медиану.\n",
    "\n",
    "В ячейке типа markdown опишите, сколько времени обычно занимает продажа. Какие продажи можно считать быстрыми, а какие — необычно долгими?\n"
   ]
  },
  {
   "cell_type": "code",
   "execution_count": 65,
   "metadata": {},
   "outputs": [
    {
     "data": {
      "text/plain": [
       "count    20509.000000\n",
       "mean       180.879614\n",
       "std        219.745266\n",
       "min          1.000000\n",
       "25%         45.000000\n",
       "50%         95.000000\n",
       "75%        232.000000\n",
       "max       1580.000000\n",
       "Name: days_exposition, dtype: float64"
      ]
     },
     "execution_count": 65,
     "metadata": {},
     "output_type": "execute_result"
    }
   ],
   "source": [
    "data['days_exposition'].describe()"
   ]
  },
  {
   "cell_type": "code",
   "execution_count": 66,
   "metadata": {},
   "outputs": [
    {
     "data": {
      "text/plain": [
       "95.0"
      ]
     },
     "execution_count": 66,
     "metadata": {},
     "output_type": "execute_result"
    }
   ],
   "source": [
    "data['days_exposition'].median()"
   ]
  },
  {
   "cell_type": "code",
   "execution_count": 67,
   "metadata": {},
   "outputs": [
    {
     "data": {
      "image/png": "[encoded data removed]",
      "text/plain": [
       "<Figure size 2160x1440 with 1 Axes>"
      ]
     },
     "metadata": {
      "needs_background": "light"
     },
     "output_type": "display_data"
    }
   ],
   "source": [
    "data['days_exposition'].plot(kind='hist',\n",
    "                        title='Гистограмма 10 Как быстро продавались квартиры',\n",
    "                        grid=True,\n",
    "                        figsize=(30, 20), \n",
    "                        range = (0, 1580), \n",
    "                        bins=1000)\n",
    "\n",
    "plt.show()"
   ]
  },
  {
   "cell_type": "code",
   "execution_count": 68,
   "metadata": {},
   "outputs": [
    {
     "ename": "SyntaxError",
     "evalue": "invalid syntax (326821183.py, line 1)",
     "output_type": "error",
     "traceback": [
      "\u001b[0;36m  File \u001b[0;32m\"/tmp/ipykernel_73/326821183.py\"\u001b[0;36m, line \u001b[0;32m1\u001b[0m\n\u001b[0;31m    Видно несколько выбросов, рассмотрим их поближе:\u001b[0m\n\u001b[0m          ^\u001b[0m\n\u001b[0;31mSyntaxError\u001b[0m\u001b[0;31m:\u001b[0m invalid syntax\n"
     ]
    }
   ],
   "source": [
    " Видно несколько выбросов, рассмотрим их поближе:"
   ]
  },
  {
   "cell_type": "code",
   "execution_count": null,
   "metadata": {},
   "outputs": [],
   "source": [
    "data['days_exposition'].plot(kind='hist',\n",
    "                        title='Гистограмма 10.1 Как быстро продавались квартиры',\n",
    "                        grid=True,\n",
    "                        figsize=(30, 20), \n",
    "                        range = (0, 200), \n",
    "                        bins=1000)\n",
    "\n",
    "plt.show()\n",
    "                   \n",
    "\n"
   ]
  },
  {
   "cell_type": "markdown",
   "metadata": {},
   "source": [
    "1. Здесь наблюдается, что за 45 дней было продано наибольшее количество более 820 объектов ,\n",
    "\n",
    "2. за 60 дней было продано более 550 объектов,\n",
    "\n",
    "3. за 30 дней продано чуть больше 200 объектов,\n",
    "\n",
    "4. за неделю продано примерно 220 объектов недвижимости.\n"
   ]
  },
  {
   "cell_type": "markdown",
   "metadata": {},
   "source": [
    "**Вывод :**\n",
    "1. В среднем квартиры продают за 180 - 220 дней - средний\n",
    "\n",
    "2. В большинстве 75% за приблизительно 232 дня - довольно долго\n",
    "\n",
    "3. Половина продает с пределах 95 дней - это средний показатель скорости продажи\n",
    "\n",
    "4. Четверть в пределах 45 дней - это быстрый показатель продажи квартиры\n",
    "\n",
    "5. Самое минимальное это 1 день - самый быстрый, а самое максимальное 1580 дней - самый долгий срок продажи квартиры.\n",
    "\n",
    "Cреднее значение (mean) = 180.9\n",
    "Медианное median = 95.0, что почти в два раза среднего. Среднее значение искажает информацию, т.к это количественные показатели имеющие сильно максимальные значения отличающие от основной массы в 7-8 раз.\n",
    "\n",
    "**Также есть значения Nan которые составляют 3175 значений, возможно это квартиры которые так и не продались. Или возможно данные не загрузились т.к выгружались автоматически и просто неясно сняли объявление из-за продажи, либо передумали продавать**"
   ]
  },
  {
   "cell_type": "markdown",
   "metadata": {},
   "source": [
    "#### Факторы, которые больше всего влияют на общую (полную) стоимость объекта.\n",
    "\n",
    "Изучите, зависит ли цена от:\n",
    "\n",
    "1. общей площади; total_area \n",
    "\n",
    "2. жилой площади; living_area\n",
    "\n",
    "3. площади кухни; kitchen_area\n",
    "\n",
    "4. количества комнат; rooms\n",
    "\n",
    "6. этажа, на котором расположена квартира (первый, последний, другой); floor_type\n",
    "\n",
    "7. даты размещения (день недели, месяц, год).\n",
    "\n",
    "Постройте графики, которые покажут зависимость цены от указанных выше параметров. Для подготовки данных перед визуализацией вы можете использовать сводные таблицы."
   ]
  },
  {
   "cell_type": "markdown",
   "metadata": {},
   "source": [
    "##### Зависимость цены last_price от общей площади; total_area"
   ]
  },
  {
   "cell_type": "code",
   "execution_count": null,
   "metadata": {},
   "outputs": [],
   "source": [
    "addiction_lpta = pd.pivot_table(data, index=[\"total_area\"], values=[\"last_price\"])\n",
    "addiction_lpta.reset_index(inplace=True)\n",
    "addiction_lpta "
   ]
  },
  {
   "cell_type": "code",
   "execution_count": null,
   "metadata": {},
   "outputs": [],
   "source": [
    "print(f\"Коэффициент корреляции составил: {addiction_lpta['total_area'].corr(addiction_lpta['last_price'])}, что говорит о прямой зависимости между ценой и общей площадью\")"
   ]
  },
  {
   "cell_type": "code",
   "execution_count": null,
   "metadata": {
    "scrolled": true
   },
   "outputs": [],
   "source": [
    "addiction_lpta.plot(x='total_area',\n",
    "                    y='last_price',\n",
    "                    title='Зависимость цены last_price от общей площади total_area',\n",
    "                    kind='scatter',\n",
    "                    grid=True,\n",
    "                    figsize=(20, 20))\n",
    "plt.show()"
   ]
  },
  {
   "cell_type": "markdown",
   "metadata": {},
   "source": [
    "**Вывод :**\n",
    "Коэффициент корреляции составил: 0.7236823492384955, что говорит о прямой зависимости между ценой и общей площадью\n",
    "\n",
    "На графике также наблюдается прямая зависимость цены от общей площадью."
   ]
  },
  {
   "cell_type": "markdown",
   "metadata": {},
   "source": [
    "##### Зависимость цены last_price от жилой площади; living_area"
   ]
  },
  {
   "cell_type": "code",
   "execution_count": null,
   "metadata": {
    "scrolled": false
   },
   "outputs": [],
   "source": [
    "addiction_lpla = pd.pivot_table(data, index=[\"living_area\"], values=[\"last_price\"])\n",
    "addiction_lpla.reset_index(inplace=True)\n",
    "addiction_lpla "
   ]
  },
  {
   "cell_type": "code",
   "execution_count": null,
   "metadata": {},
   "outputs": [],
   "source": [
    "print(f\"Коэффициент корреляции составил: {addiction_lpla['living_area'].corr(addiction_lpla['last_price'])}, что говорит о прямой зависимости между ценой и жилой площадью\")"
   ]
  },
  {
   "cell_type": "code",
   "execution_count": null,
   "metadata": {
    "scrolled": true
   },
   "outputs": [],
   "source": [
    "addiction_lpla.plot(x='living_area',\n",
    "                    y='last_price',\n",
    "                    kind='scatter',\n",
    "                    title='Зависимость цены last_price от жилой площади living_area',\n",
    "                    grid=True,\n",
    "                    figsize=(20, 10))\n",
    "plt.show()"
   ]
  },
  {
   "cell_type": "markdown",
   "metadata": {},
   "source": [
    "**Вывод :**\n",
    "Наблюдается прямая зависимость цены от общей площади квартиры\n",
    "\n",
    "Коэффициент корреляции составил: 0.6555227326879295, что говорит о прямой зависимости между ценой и жилой площадью"
   ]
  },
  {
   "cell_type": "markdown",
   "metadata": {},
   "source": [
    "##### Зависимость цены last_price от площади кухни; kitchen_area"
   ]
  },
  {
   "cell_type": "code",
   "execution_count": null,
   "metadata": {},
   "outputs": [],
   "source": [
    "addiction_lpka = pd.pivot_table(data, index=[\"kitchen_area\"], values=[\"last_price\"])\n",
    "addiction_lpka.reset_index(inplace=True)\n",
    "addiction_lpka "
   ]
  },
  {
   "cell_type": "code",
   "execution_count": null,
   "metadata": {},
   "outputs": [],
   "source": [
    "print(f\"Коэффициент корреляции составил: {addiction_lpka['kitchen_area'].corr(addiction_lpka['last_price'])}, что говорит о прямой зависимости между ценой и площадью кухни\")"
   ]
  },
  {
   "cell_type": "code",
   "execution_count": null,
   "metadata": {
    "scrolled": true
   },
   "outputs": [],
   "source": [
    "addiction_lpka.plot(x='kitchen_area', y='last_price', kind='scatter',\n",
    "                     title='Зависимость цены last_price от площади кухни kitchen_area',\n",
    "                    grid=True,\n",
    "                    figsize=(20, 10))\n",
    "plt.show()"
   ]
  },
  {
   "cell_type": "markdown",
   "metadata": {},
   "source": [
    "**Вывод :**\n",
    "Коэффициент корреляции составил: 0.638954420672446, что говорит о прямой зависимости между ценой и площадью кухни\n",
    "    \n",
    "На графике также наблюдается прямая зависимость."
   ]
  },
  {
   "cell_type": "markdown",
   "metadata": {},
   "source": [
    "##### Зависимость цены last_price от количества комнат; rooms"
   ]
  },
  {
   "cell_type": "code",
   "execution_count": null,
   "metadata": {},
   "outputs": [],
   "source": [
    "addiction_lpr = pd.pivot_table(data, index=[\"rooms\"], values=[\"last_price\"])\n",
    "addiction_lpr.reset_index(inplace=True)\n",
    "addiction_lpr"
   ]
  },
  {
   "cell_type": "code",
   "execution_count": null,
   "metadata": {},
   "outputs": [],
   "source": [
    "print(f\"Коэффициент корреляции составил: {addiction_lpr['rooms'].corr(addiction_lpr['last_price'])}, что говорит об отстутствии зависимости между ценой и количеством комнат\")"
   ]
  },
  {
   "cell_type": "code",
   "execution_count": null,
   "metadata": {},
   "outputs": [],
   "source": [
    "addiction_lpr.plot(x='rooms',\n",
    "                   y='last_price',\n",
    "                   kind='scatter',\n",
    "                   grid=True,\n",
    "                   title='Зависимость цены last_price от количества комнат rooms',\n",
    "                   figsize=(20, 10))\n",
    "plt.show()"
   ]
  },
  {
   "cell_type": "markdown",
   "metadata": {},
   "source": [
    "**Вывод:** \n",
    "\n",
    "Коэффициент корреляции составил: 0.2732808355902112, что говорит об отстутствии зависимости между ценой и количеством комнат\n",
    "    \n",
    "На графике также видна низкая зависимость"
   ]
  },
  {
   "cell_type": "markdown",
   "metadata": {},
   "source": [
    "##### Зависимость цены last_price от этажа, на котором расположена квартира (первый, последний, другой);  floor_type"
   ]
  },
  {
   "cell_type": "code",
   "execution_count": null,
   "metadata": {},
   "outputs": [],
   "source": [
    "addiction_lpft = pd.pivot_table(data, index=[\"floor_type\"], values=[\"last_price\"])\n",
    "addiction_lpft.reset_index(inplace=True)\n",
    "addiction_lpft\n"
   ]
  },
  {
   "cell_type": "code",
   "execution_count": null,
   "metadata": {},
   "outputs": [],
   "source": [
    "addiction_lpft.plot(x='floor_type', y='last_price', kind='scatter',\n",
    "                    grid=True,\n",
    "                    title='Зависимость цены last_price от этажа, на котором расположена квартира (первый, последний, другой) floor_type',\n",
    "                    figsize=(20, 10))\n",
    "plt.show()"
   ]
  },
  {
   "cell_type": "markdown",
   "metadata": {},
   "source": [
    "**Вывод :**\n",
    "Есть зависимость цены квартиры от этажа на котором она располагается, ниже всего цена в квартирах на 1 этаже, выше в квартирах не на 1 и последнем этажах, пиковая цена уже в квартирах на самом высоком этаже. Можно предположить, что это Пентхаус. "
   ]
  },
  {
   "cell_type": "markdown",
   "metadata": {},
   "source": [
    "##### Зависимость цены last_price от  даты размещения (день недели, месяц, год); 'weekday', 'month','year'."
   ]
  },
  {
   "cell_type": "code",
   "execution_count": null,
   "metadata": {},
   "outputs": [],
   "source": [
    "addiction_lpwmy = pd.pivot_table(data, index=['weekday', 'month', 'year'], values=[\"last_price\"])\n",
    "addiction_lpwmy.reset_index(inplace=True)\n",
    "addiction_lpwmy\n"
   ]
  },
  {
   "cell_type": "code",
   "execution_count": null,
   "metadata": {},
   "outputs": [],
   "source": [
    "addiction_lpwmy.plot(x='weekday', y='last_price', kind='scatter',\n",
    "                    grid=True,\n",
    "                    title='Зависимость цены last_price от weekday',\n",
    "                    figsize=(20, 10))\n",
    "\n",
    "plt.show()"
   ]
  },
  {
   "cell_type": "markdown",
   "metadata": {},
   "source": [
    "**Вывод :**\n",
    "В целом по графику основные цены не выявляют зависимости от дня недели, но есть выбросы,\n",
    "которые могут соврать что в четверг бывает самая высокая цена. Также по выбросам можно сказать, что бывают цены ниже, если публикация была в субботу)))"
   ]
  },
  {
   "cell_type": "code",
   "execution_count": null,
   "metadata": {},
   "outputs": [],
   "source": [
    "addiction_lpwmy.plot(x='month', y='last_price', kind='scatter',\n",
    "                    grid=True,\n",
    "                    title='Зависимость last_price от month',\n",
    "                    figsize=(20, 10))\n",
    "plt.show()"
   ]
  },
  {
   "cell_type": "code",
   "execution_count": null,
   "metadata": {},
   "outputs": [],
   "source": [
    "addiction_lpwmy.plot(x='year',\n",
    "                     y='last_price',\n",
    "                     kind='scatter',\n",
    "                     title='Зависимость last_price от year',\n",
    "                     grid=True,\n",
    "                     figsize=(20, 10))\n",
    "\n",
    "plt.show()"
   ]
  },
  {
   "cell_type": "markdown",
   "metadata": {},
   "source": [
    "#### Cредняя цена одного квадратного метра в 10 населённых пунктах с наибольшим числом объявлений\n",
    "— постройте сводную таблицу с количеством объявлений и средней ценой квадратного метра для этих населенных пунктов. Выделите населённые пункты с самой высокой и низкой стоимостью квадратного метра.\n",
    "\n",
    "Ранее вы посчитали расстояние до центра в километрах."
   ]
  },
  {
   "cell_type": "markdown",
   "metadata": {},
   "source": [
    "**Рассчитаем сколько всего раз повторяется каждый населенный пункт и определим первые 10 нас.пунктов с наибольшим числом объявлений и их среднюю цену за м2**"
   ]
  },
  {
   "cell_type": "code",
   "execution_count": null,
   "metadata": {},
   "outputs": [],
   "source": [
    "#С помощью сводной таблицы (метод pivot_table отсортируем данные по городам и рассчитаем среднюю цену за м2 и всего объявлений\n",
    "city_mean = data.pivot_table(index='locality_name', values='price_one_metr2', aggfunc='mean')\n",
    "city_mean['count']= data.pivot_table(index='locality_name', values='price_one_metr2', aggfunc='count')\n",
    "# Меняем названия столбцов\n",
    "city_mean.columns = ['mean', 'count'] \n",
    "city_mean = city_mean.sort_values(by='count', ascending=False).reset_index() \n",
    "city_mean_price_count = city_mean.head(10)\n",
    "# Таблица средняя цена одного квадратного метра(mean) в 10 населённых пунктах 'locality_name' с наибольшим числом объявлений\n",
    "city_mean_price_count"
   ]
  },
  {
   "cell_type": "markdown",
   "metadata": {},
   "source": [
    "**Вывод :** \n",
    "\n",
    "Из числа с наибольшим количеством объявлений 10 населенных пунктов:\n",
    "\n",
    "    1   Санкт-Петербург\t114823 р/м2\n",
    "    2   Поселок Мурино\t85681р/м2\n",
    "    3   Пселок Шушары\t78677 р/м2\n",
    "    4\tВсеволожск\t68654 р/м2\n",
    "    5\tПушкин\t103125 р/м2\n",
    "    6\tКолпино\t75424 р/м2\n",
    "    7\tпоселок Парголово\t90175 р/м2\n",
    "    8\tГатчина\t68746 р/м2\n",
    "    9\tдеревня Кудрово\t92473 р/м2\n",
    "    10  Выборг\t58141 р/м2\n",
    "\n",
    "Самая высокая средняя цена за м2 - Санкт-Петербург\n",
    "\n",
    "Самая низкая средняя цена за м2 - Выборг"
   ]
  },
  {
   "cell_type": "markdown",
   "metadata": {},
   "source": [
    "#### Квартиры в Санкт-Петербурге их средняя стоимость на разном удалении от центра\n",
    "Теперь выделите квартиры в Санкт-Петербурге с помощью столбца locality_name\n",
    "\n",
    "и вычислите их среднюю стоимость на разном удалении от центра.\n",
    "\n",
    "Учитывайте каждый километр расстояния: узнайте среднюю цену квартир\n",
    "\n",
    "в одном километре от центра, в двух и так далее.\n",
    "\n",
    "Опишите, как стоимость объектов зависит от расстояния до центра города\n",
    "\n",
    "— постройте график изменения средней цены для каждого километра от центра Петербурга."
   ]
  },
  {
   "cell_type": "code",
   "execution_count": null,
   "metadata": {},
   "outputs": [],
   "source": [
    "spb_mean_km = (\n",
    "    data\n",
    "    .query('locality_name == \"Санкт-Петербург\"')#cортируем по городу ставя условия через метод query\n",
    "    .pivot_table(index='city_centers_nearest_km', values='last_price', aggfunc=['mean'])\n",
    ")\n",
    "spb_mean_km.columns = ['mean_price_spb']\n",
    "# функция reset_index используется для преобразования индекса в столбец данных\n",
    "spb_mean_km.reset_index(inplace=True)\n",
    "spb_mean_km.style.format({'mean': '{:.3f}'})\n"
   ]
  },
  {
   "cell_type": "code",
   "execution_count": null,
   "metadata": {},
   "outputs": [],
   "source": [
    "spb_mean_km.plot(x='city_centers_nearest_km', y='mean_price_spb', style='o-',\n",
    "                    kind='scatter',\n",
    "                    grid=True,\n",
    "                    figsize=(10, 5))\n",
    "# График изменения цены"
   ]
  },
  {
   "cell_type": "markdown",
   "metadata": {},
   "source": [
    "**Вывод:**\n",
    "    в самом центре средняя цена квартиры приблизительно 31 млн\n",
    "    \n",
    "    в 29 км от центра 4 млн"
   ]
  },
  {
   "cell_type": "markdown",
   "metadata": {
    "id": "h7VpzkIDAwb-"
   },
   "source": [
    "### Напишите общий вывод"
   ]
  },
  {
   "cell_type": "markdown",
   "metadata": {
    "id": "3H4lnp_KAwb-"
   },
   "source": [
    "**1. Чтение данных. (Пункт 1)**\n",
    "Данные разделены не запятой,а знаком табуляции, поэтому применим доп параметр sep='\\t'для прочтения данных\n",
    "\n",
    "После открытия данных видим, что много столбцов с пропущенными значениями,\n",
    "\n",
    "также есть столбцы с типом bool, их нужно будеть заменить на числовой тип данных,\n",
    "\n",
    "также есть колонка первый день экспозиции - там дата и время, нужно поменять тип данных со строкового на дататайм.\n",
    "\n",
    "**2. Определение столбцов с пропусками (Пункт 2.1)** \n",
    "\n",
    "Найдено 14 столбцов с пропущенными значениями из 24, 8 из которых не имеют пропущенных значений\n",
    "\n",
    "**2.1 Заменили пропущенные значения ceiling_heigh на медианное значение (Пункт 2.2.1)**\n",
    "\n",
    "В столбце ceiling_height (высота потолков) удалили строки, в которых встречаются аномальные значения.\n",
    "\n",
    "Также те, что похожи на опечаток заменили на обычные значения например 25 м сделали 2.5 м.\n",
    "\n",
    "min высота потолков = 1.75 м\n",
    "\n",
    "25% объявлений имеют высоту потолков = 2.51 м\n",
    "\n",
    "50% объявлений имеют высоту потолков = 2.65 м\n",
    "\n",
    "75% объявлений имеют высоту потолков = 2.80 м\n",
    "\n",
    "max высота потолков = 6.0 м\n",
    "\n",
    "Всего 23689 значений\n",
    "\n",
    "**2.2 Заменили пропущенные значения floors_total на медианное значение (Пункт 2.2.2)**\n",
    "\n",
    "В столбце floors_total (Всего этажей дома) заменили пропущенные значения на значения из столбца floor.\n",
    "\n",
    "min количество этажей 1 этаж\n",
    "\n",
    "25% объявлений имеют в доме всего = 5 этажей\n",
    "\n",
    "50% объявлений имеют в доме всего = 9 этажей\n",
    "\n",
    "75% объявлений имеют в доме всего = 16 этажей\n",
    "\n",
    "max количество этажей = 60 этажей\n",
    "\n",
    "Всего 23689 значений\n",
    "\n",
    "**2.3 Заменили пропущенные значения living_area на медианное значение (Пункт 2.2.3) **\n",
    "\n",
    "В столбце living_area — жилая площадь в квадратных метрах (м²) заменили пропущенные значения на медианное значение 9.\n",
    "\n",
    "min жилая площадь =  2.0 м²\n",
    "\n",
    "25% жилой площади = 19.0 м²\n",
    "\n",
    "50% жилой площади = 30.0 м²\n",
    "\n",
    "75% жилой площади = 41.1 м²\n",
    "\n",
    "max жилая площадь =  409.7 м²\n",
    "\n",
    "Всего 23689 значений\n",
    "\n",
    "**2.4 Замена пропущенных значений kitchen_area на медианное значение (Пункт 2.2.4)**\n",
    "\n",
    "В столбце living_area — площадь кухни в квадратных метрах (м²) заменили пропущенные значения на медианное значение 9.\n",
    "\n",
    "min площадь кухни 1.3 м²\n",
    "\n",
    "25% площади кухни 7.4 м² \n",
    "\n",
    "50% площади кухни 9.1 м²\n",
    "\n",
    "75% площади кухни 11.4 м²\n",
    "\n",
    "max площадь кухни 112.0 м²\n",
    "\n",
    "Всего 23689 значений\n",
    "\n",
    "**2.5 Замена пропущенных значений balcony на 0 (Пункт 2.2.5)**\n",
    "\n",
    "Заменены пропущенные значения столбца (balcony - количество балконов в квартире) на 0 т.к скорее всего написали нет балкона и все значения стали Nan, хотя тип данных числовой.\n",
    "\n",
    "min равно 0 балконов\n",
    "\n",
    "25% имеют 0 балконов\n",
    "\n",
    "50% имеют 1 балкон\n",
    "\n",
    "75% имеют 2 балкона\n",
    "\n",
    "max равно 5 балконов\n",
    "\n",
    "Всего 23689 значений\n",
    "\n",
    "**2.6  Замена пропущенных значений is_apartment и преобразование типа данных (Пункт 2.2.6)**\n",
    "\n",
    "Поменяли буллевые значения на 0 и 1, а пропущенные можно на 0 т.к скорее всего написали нет вместо булевого значения\n",
    "\n",
    "В основном преобладает значение 0 - аппартаменты\n",
    "\n",
    "Всего 23689 значений\n",
    "\n",
    "**2.7 Переименуем столбец \"cityCenters_nearest\" чтобы не было заглавных букв \"city_сenters_nearest\" (Пункт 2.3)**\n",
    "\n",
    "Заменили пропущенные значения на медианное значение 13098.5 (Пункт 2.3.1)\n",
    "\n",
    "min расстояние до центра 181 м\n",
    "\n",
    "25% квартир имеюют расстояние до центра примерно 10927 м\n",
    "\n",
    "50% квартир имеюют расстояние до центра примерно 13098 м\n",
    "\n",
    "75% квартир имеюют расстояние до центра примерно 15250 м\n",
    "\n",
    "max расстояние до центра 65968 м\n",
    "\n",
    "Всего 23689 значений\n",
    "\n",
    "**2.8 Поиск и замена/удаление дубликатов  locality_name (Пункт 2.4)**\n",
    "\n",
    "Нашли и заменили неявные дубликаты в основном они состояли в буквах 'ё', 'е'.\n",
    "\n",
    "Нашли и заменили повторяющиеся названия поселков \n",
    "\n",
    "**2.9 Преобразование типа данных столбцов studio и open_plan (Пункт 2.4)**\n",
    "\n",
    "Заменили булевые значения на числовые  В результате: True становится равным 1, а False — 0.\n",
    "\n",
    "**3. Добавили новые столбцы (Пункт 3)**\n",
    "\n",
    "**3.1 Добавили новый столбец price_one_metr2 - цена одного квадратного метра (Пункт 3.1)**\n",
    "\n",
    "**3.2 Добавили новый столбец weekday - день недели публикации объявления (Пункт 3.2)**\n",
    "\n",
    "**3.3 Добавили новый столбец month - месяц публикации объявления (Пункт 3.3)**\n",
    "\n",
    "**3.4 Добавили новый столбец year - год публикации объявления (Пункт 3.4)**\n",
    "\n",
    "**3.5 Добавили новый столбец floor_type тип этажа квартиры (значения — «‎первый», «последний», «другой») (Пункт 3.4)**\n",
    "\n",
    "**3.5 Добавили новый столбец city_centers_nearest_km расстояние до центра города в километрах\n",
    "\n",
    "**4. Провели исследовательский анализ данных**\n",
    "Изучили параметры и построили по ним гистограммы:\n",
    "\n",
    "**4.1 Гистограмма 1 общей площади - total_area (Пункт 4.1)**\n",
    "1. В среднем продают квартиры с площадью от 35 до 60 м2\n",
    "2. Больше половины продают квартиры с площадью приблизительно равной 69 м2\n",
    "3. Половина продает квартиры с площадью 52 м2\n",
    "4. Четверть продает квартиры с площадью 40 м2\n",
    "5. Самая минимальная площадь продажи квартиры 12 м2 \n",
    "6. Самая максимальная площадь продажи квартиры 900 м2\n",
    "\n",
    "Данные имеют нормальное распределение. Нет пропущенных значений. \n",
    "\n",
    "**4.2 Гистограмма 2 жилой площади - living_area (Пункт 4.2)**\n",
    "1. В среднем жилая площадь квартиры с площадью от 21 до 34 м2\n",
    "2. Больше половины объявлений жилая площадь квартиры ~ 41 м2\n",
    "3. Половина объявлений жилая площадь квартиры ~ 30 м2\n",
    "4. Четверть объявлений жилая площадь квартиры ~ 19 м2\n",
    "5. Самая минимальная площадь продажи квартиры - 2 м2 \n",
    "6. Самая максимальная площадь продажи квартиры  - 409 м2\n",
    "\n",
    "Данные имеют распределение Пуассона. Пропущенные значения в размере 1903 были заменены на медианное значение median_living_area\n",
    "\n",
    "**4.3 Гистограмма 3 площади кухни; kitchen_area (Пункт 4.3)**\n",
    "1. В среднем площади кухни квартиры от 5 до 10 м2\n",
    "2. Больше площади кухни квартиры ~ 11 м2\n",
    "3. Половина объявлений площади кухни квартиры ~ 9 м2\n",
    "4. Четверть объявлений площади кухни квартиры ~ 7 м2\n",
    "5. Самая минимальная площадь кухни квартиры - 1 м2 \n",
    "6. Самая максимальная площадь кухни квартиры  - 112 м2\n",
    "\n",
    "Данные имеют распределение пуассона. Пропущенные значения в размере 2272 были заменены на медианное значение median_kitchen_area\n",
    "\n",
    "**4.4 Гистограмма 4 цена объекта; last_price (Пункт 4.4)**\n",
    "\n",
    "Сложно что-то сказать по гистограмме, лучше сравнить цену с остальными показателями дальше и построить по ним график зависимости. (Пункт 4.11)\n",
    "\n",
    "**4.5 Гистограмма 5 количество комнат; rooms (Пункт 4.5)**\n",
    "\n",
    "1. В большинстве преобладают квартиры с 3 комнатами 75%\n",
    "2. Далее уже 2 комнатные 50%\n",
    "3. А 1 комнатные занимают 4 часть всего рынка недвижимости 25%\n",
    "4. Минимальное значение 0 - студии, комнаты и т.п\n",
    "5. Максимальное значение - 19 комнат\n",
    "\n",
    "Данные имеют нормальное распределение.\n",
    "\n",
    "**4.6  Гистограмма 6 тип этажа квартиры («первый», «последний», «другой»); floor_type (Пункт 4.6)**\n",
    "\n",
    "Больше всего типов этажа квартир Другое (все кроме первого и последнего)\n",
    "Квартир с этажами на первом этаже меньше, чем квартир на последних этажах.\n",
    "\n",
    "**4.7 Гистограмма 7 общее количество этажей в доме; floors_total (Пункт 4.7)**\n",
    "\n",
    "1. В большинстве преобладают дома с 16 этажами 75%\n",
    "2. Далее уже 9-10 этажные 50%\n",
    "3. А 5 этажные занимают 1/4 часть всего рынка недвижимости\n",
    "4. Минимальное значение 1 этажные\n",
    "5. Максимальное значение - 60 этажные здания\n",
    "\n",
    "Данные имеют распределение пуассона. Были пропущенные значения, которые были заменены на медианное значение - 9 \n",
    "\n",
    "**4.8 Гистограмма 8 расстояние до центра города в метрах; city_centers_nearesta (Пункт 4.8)**\n",
    "\n",
    "1. Среднее расстояние квартир от центра города  13 937 м, что довольно близко.\n",
    "2. Максимальное расстояние от центра города 65 968 м, это в 5 раз больше среднего значения.\n",
    "3. Минимальное значение 181 метр - центр города. Возможно и квартиры там дороже.\n",
    "4. в большинстве преодладают квартиры с расстоянием 15 271 м , что тоже довольно близко\n",
    "5. 1/4 имеют расстояние приблизительно 10 927 м, что еще ближе.\n",
    "\n",
    "Данные имеют нормальное распределение. Пропущенные значения были заменены на медианное значение. (Пункт 2.3.1)\n",
    "\n",
    "\n",
    "**4.9 Гистограмма 9 parks_nearest — расстояние до ближайшего парка (м) (Пункт 4.9)**\n",
    "\n",
    "1. min расстояние 1.0 м\n",
    "2. 25% домов имеют расстоние ~ 288.0 м\n",
    "3. 50% домов имеют расстоние ~ 455.0 м\n",
    "4. 75% домов имеют расстоние ~ 612.0 м\n",
    "5. max расстояние 3190.0 м \n",
    "\n",
    "Данные имеют нормальное распределение и большое количество пропущенных значений. Больше половины данных - пропущенные значения. Нельзя заменять их на медианное, это искозит все данные по столбцу.\n",
    "\n",
    "**4.10  Как быстро продавались квартиры (столбец days_exposition) (Пункт 4.10)**\n",
    "\n",
    "1. В среднем квартиры продают за 180 - 220 дней - средний\n",
    "\n",
    "2. В большинстве 75% за приблизительно 232 дня - довольно долго\n",
    "\n",
    "3. Половина продает с пределах 95 дней - это средний показатель скорости продажи\n",
    "\n",
    "4. Четверть в пределах 45 дней - это быстрый показатель продажи квартиры\n",
    "\n",
    "5. Самое минимальное это 1 день - самый быстрый, а самое максимальное 1580 дней - самый долгий срок продажи квартиры.\n",
    "\n",
    "Cреднее значение (mean) = 180.9\n",
    "Медианное median = 95.0, что почти в два раза среднего. Среднее значение искажает информацию,\n",
    "т.к это количественные показатели имеющие сильно максимальные значения отличающие от основной массы в 7-8 раз.\n",
    "\n",
    "Также есть значения Nan которые составляют 3175 значений, возможно это квартиры которые так и не продались. Или возможно данные не загрузились т.к выгружались автоматически и просто неясно сняли объявление из-за продажи, либо передумали продавать\n",
    "\n",
    "**4.11 Факторы, которые больше всего влияют на общую (полную) стоимость объекта**\n",
    "\n",
    "**4.11.1 Зависимость цены last_price от общей площади; total_area (Пункт 4.11.1)**\n",
    "Коэффициент корреляции составил: 0.7236823492384955, что говорит о прямой зависимости между ценой и общей площадью\n",
    "На графике также наблюдается прямая зависимость цены от общей площадью.\n",
    "\n",
    "**4.11.2 Зависимость цены last_price от жилой площади; living_area (Пункт 4.11.2)**\n",
    "\n",
    "Наблюдается прямая зависимость цены от общей площади квартиры\n",
    "Коэффициент корреляции составил: 0.6555227326879295, что говорит о прямой зависимости между ценой и жилой площадью\n",
    "\n",
    "**4.11.3 Зависимость цены last_price от площади кухни; kitchen_area (Пункт 4.11.3)**\n",
    "\n",
    "Коэффициент корреляции составил: 0.638954420672446, что говорит о прямой зависимости между ценой и площадью кухни\n",
    "На графике также наблюдается прямая зависимость.\n",
    "\n",
    "**4.11.4 Зависимость цены last_price от количества комнат; rooms (Пункт 4.11.4)**\n",
    "\n",
    "Коэффициент корреляции составил: 0.2732808355902112, что говорит об отстутствии зависимости между ценой и количеством комнат\n",
    "На графике также видна низкая зависимость\n",
    "\n",
    "**4.11.5 Зависимость цены last_price от этажа, на котором расположена квартира (первый, последний, другой); floor_type (Пункт 4.11.5)**\n",
    "\n",
    "Есть зависимость цены квартиры от этажа на котором она располагается, ниже всего цена в квартирах на 1 этаже, выше в квартирах не на 1 и последнем этажах, пиковая цена уже в квартирах на самом высоком этаже. Можно предположить, что это Пентхаус. \n",
    "\n",
    "**4.11.6 Зависимость цены last_price от  даты размещения (день недели, месяц, год); 'weekday', 'month','year'. (Пункт 4.11.6)**\n",
    "\n",
    "В целом по графику не видна зависимость от дня недели, месяца или года но есть выбросы,\n",
    "\n",
    "которые могут соврать что в четверг бывает самая высокая цена и т.п\n",
    "\n",
    "**4.12 Cредняя цена одного квадратного метра в 10 населённых пунктах с наибольшим числом объявлений ункт (Пункт 4.12)**\n",
    "\n",
    "Из числа с наибольшим количеством объявлений 10 населенных пунктов:\n",
    "\n",
    "    1   Санкт-Петербург\t114823 р/м2\n",
    "    2   Поселок Мурино\t85681р/м2\n",
    "    3   Пселок Шушары\t78677 р/м2\n",
    "    4\tВсеволожск\t68654 р/м2\n",
    "    5\tПушкин\t103125 р/м2\n",
    "    6\tКолпино\t75424 р/м2\n",
    "    7\tпоселок Парголово\t90175 р/м2\n",
    "    8\tГатчина\t68746 р/м2\n",
    "    9\tдеревня Кудрово\t92473 р/м2\n",
    "    10  Выборг\t58141 р/м2\n",
    "\n",
    "Самая высокая средняя цена за м2 - Санкт-Петербург\n",
    "\n",
    "Самая низкая средняя цена за м2 - Выборг\n",
    "\n",
    "**4.13 Квартиры в Санкт-Петербурге их средняя стоимость на разном удалении от центра**\n",
    "\n",
    "Рассчитали среднюю стоимость квартиры на расстоянии от центра города от 1 км до 29 км: \n",
    "\n",
    "в центре средняя стоимость 31 449 115 р\n",
    "в 1 км от центра 21 206 720 р\n",
    "в 29 км от центра 4 236 666 р\n",
    "\n",
    "Построили график где видна средняя стомость квартиры в каждом отдалении на 1 км от центра \n"
   ]
  },
  {
   "cell_type": "markdown",
   "metadata": {},
   "source": [
    "Определили рыночную среднюю стоимость недвижимости и \n",
    "Создали автоматическую систему, которая рассчитает средннюю цену квартиры на расстоянии от 1 км от центра "
   ]
  },
  {
   "cell_type": "markdown",
   "metadata": {
    "id": "A90mc0BgAwb-"
   },
   "source": [
    "**Чек-лист готовности проекта**\n",
    "\n",
    "Поставьте 'x' в выполненных пунктах. Далее нажмите Shift+Enter."
   ]
  },
  {
   "cell_type": "markdown",
   "metadata": {
    "id": "ME3sTWm6Awb-"
   },
   "source": [
    "- [x]  Файл с данными открыт.\n",
    "- [x]  Файл с данными изучен: выведены первые строки, использован метод `info()`, построены гистограммы.\n",
    "- [x]  Найдены пропущенные значения.\n",
    "- [x]  Пропущенные значения заполнены там, где это возможно.\n",
    "- [x]  Объяснено, какие пропущенные значения обнаружены.\n",
    "- [x]  В каждом столбце установлен корректный тип данных.\n",
    "- [x]  Объяснено, в каких столбцах изменён тип данных и почему.\n",
    "- [x]  Устранены неявные дубликаты в названиях населённых пунктов.\n",
    "- [x]  Обработаны редкие и выбивающиеся значения (аномалии).\n",
    "- [x]  В таблицу добавлены новые параметры:\n",
    "       – цена одного квадратного метра;\n",
    "       – день публикации объявления (0 - понедельник, 1 - вторник и т. д.);\n",
    "       – месяц публикации объявления;\n",
    "       – год публикации объявления;\n",
    "       – тип этажа квартиры (значения — «первый», «последний», «другой»);\n",
    "       – расстояние до центра города в километрах.\n",
    "- [x]  Изучены и описаны параметры:\n",
    "        - общая площадь;\n",
    "        - жилая площадь;\n",
    "        - площадь кухни;\n",
    "        - цена объекта;\n",
    "        - количество комнат;\n",
    "        - высота потолков;\n",
    "        - тип этажа квартиры («первый», «последний», «другой»);\n",
    "        - общее количество этажей в доме;\n",
    "        - расстояние до центра города в метрах;\n",
    "        - расстояние до ближайшего парка.\n",
    "- [x]  Выполнено задание «Изучите, как быстро продавались квартиры (столбец `days_exposition`)»:\n",
    "    - построена гистограмма;\n",
    "    - рассчитаны среднее и медиана;\n",
    "    - описано, сколько обычно занимает продажа и указано, какие продажи можно считать быстрыми, а какие — необычно долгими.\n",
    "- [x]  Выполнено задание «Определите факторы, которые больше всего влияют на общую (полную) стоимость объекта». Построены графики, которые показывают зависимость цены от параметров:\n",
    "        - общая площадь;\n",
    "        - жилая площадь;\n",
    "        - площадь кухни;\n",
    "        - количество комнат;\n",
    "        - тип этажа, на котором расположена квартира (первый, последний, другой);\n",
    "        - дата размещения (день недели, месяц, год).\n",
    "- [x]  Выполнено задание «Посчитайте среднюю цену одного квадратного метра в 10 населённых пунктах с наибольшим числом объявлений»:\n",
    "    - выделены населённые пункты с самой высокой и низкой стоимостью квадратного метра.\n",
    "- [x]  Выполнено задание «Выделите квартиры в Санкт-Петербурге с помощью столбца `locality_name` и вычислите их среднюю стоимость на разном удалении от центра»:\n",
    "    -  учтён каждый километр расстояния, известны средние цены квартир в одном километре от центра, в двух и так далее;\n",
    "    -  описано, как стоимость объекта зависит от расстояния до центра города;\n",
    "    -  построен график изменения средней цены для каждого километра от центра Петербурга.\n",
    "- [x]  На каждом этапе сделаны промежуточные выводы.\n",
    "- [x]  В конце проекта сделан общий вывод."
   ]
  },
  {
   "cell_type": "code",
   "execution_count": null,
   "metadata": {},
   "outputs": [],
   "source": []
  }
 ],
 "metadata": {
  "ExecuteTimeLog": [
   {
    "duration": 681,
    "start_time": "2024-03-28T12:45:28.710Z"
   },
   {
    "duration": 16,
    "start_time": "2024-03-28T12:46:03.649Z"
   },
   {
    "duration": 391,
    "start_time": "2024-03-28T12:48:23.682Z"
   },
   {
    "duration": 90,
    "start_time": "2024-03-28T12:50:00.399Z"
   },
   {
    "duration": 107,
    "start_time": "2024-03-28T12:50:39.792Z"
   },
   {
    "duration": 85,
    "start_time": "2024-03-28T12:51:23.493Z"
   },
   {
    "duration": 102,
    "start_time": "2024-03-28T12:51:31.091Z"
   },
   {
    "duration": 14,
    "start_time": "2024-03-28T12:51:35.722Z"
   },
   {
    "duration": 1957,
    "start_time": "2024-03-28T12:56:01.750Z"
   },
   {
    "duration": 81,
    "start_time": "2024-03-28T13:07:07.533Z"
   },
   {
    "duration": 4,
    "start_time": "2024-03-28T13:07:22.916Z"
   },
   {
    "duration": 6,
    "start_time": "2024-03-28T13:07:41.709Z"
   },
   {
    "duration": 4,
    "start_time": "2024-03-28T13:41:49.144Z"
   },
   {
    "duration": 11,
    "start_time": "2024-03-28T13:48:22.208Z"
   },
   {
    "duration": 6,
    "start_time": "2024-03-28T13:56:05.074Z"
   },
   {
    "duration": 3,
    "start_time": "2024-03-28T13:59:55.871Z"
   },
   {
    "duration": 10,
    "start_time": "2024-03-28T14:01:30.613Z"
   },
   {
    "duration": 5,
    "start_time": "2024-03-28T14:04:26.087Z"
   },
   {
    "duration": 9,
    "start_time": "2024-03-28T14:04:39.739Z"
   },
   {
    "duration": 81,
    "start_time": "2024-03-28T14:08:59.110Z"
   },
   {
    "duration": 127,
    "start_time": "2024-03-28T14:10:25.186Z"
   },
   {
    "duration": 144,
    "start_time": "2024-03-28T14:10:44.637Z"
   },
   {
    "duration": 85,
    "start_time": "2024-03-28T14:11:53.252Z"
   },
   {
    "duration": 166,
    "start_time": "2024-03-28T14:11:58.262Z"
   },
   {
    "duration": 133,
    "start_time": "2024-03-28T14:12:17.901Z"
   },
   {
    "duration": 153,
    "start_time": "2024-03-28T14:12:33.449Z"
   },
   {
    "duration": 72,
    "start_time": "2024-03-29T06:58:01.520Z"
   },
   {
    "duration": 692,
    "start_time": "2024-03-29T06:58:09.719Z"
   },
   {
    "duration": 14,
    "start_time": "2024-03-29T06:58:14.182Z"
   },
   {
    "duration": 2479,
    "start_time": "2024-03-29T06:58:17.008Z"
   },
   {
    "duration": 7,
    "start_time": "2024-03-29T06:58:27.577Z"
   },
   {
    "duration": 20,
    "start_time": "2024-03-29T06:58:29.569Z"
   },
   {
    "duration": 6,
    "start_time": "2024-03-29T06:58:32.545Z"
   },
   {
    "duration": 1505,
    "start_time": "2024-03-29T06:58:36.226Z"
   },
   {
    "duration": 11,
    "start_time": "2024-03-29T06:58:45.897Z"
   },
   {
    "duration": 18,
    "start_time": "2024-03-29T07:02:09.449Z"
   },
   {
    "duration": 11,
    "start_time": "2024-03-29T07:02:16.425Z"
   },
   {
    "duration": 5,
    "start_time": "2024-03-29T07:04:55.627Z"
   },
   {
    "duration": 11,
    "start_time": "2024-03-29T07:08:24.835Z"
   },
   {
    "duration": 5,
    "start_time": "2024-03-29T07:08:27.086Z"
   },
   {
    "duration": 4,
    "start_time": "2024-03-29T07:09:53.910Z"
   },
   {
    "duration": 4,
    "start_time": "2024-03-29T07:09:58.505Z"
   },
   {
    "duration": 11,
    "start_time": "2024-03-29T07:10:06.341Z"
   },
   {
    "duration": 5,
    "start_time": "2024-03-29T07:10:12.384Z"
   },
   {
    "duration": 184,
    "start_time": "2024-03-29T07:14:47.955Z"
   },
   {
    "duration": 10,
    "start_time": "2024-03-29T07:15:07.392Z"
   },
   {
    "duration": 6,
    "start_time": "2024-03-29T07:37:33.469Z"
   },
   {
    "duration": 4,
    "start_time": "2024-03-29T07:40:02.060Z"
   },
   {
    "duration": 4,
    "start_time": "2024-03-29T07:42:42.504Z"
   },
   {
    "duration": 17,
    "start_time": "2024-03-29T07:46:18.825Z"
   },
   {
    "duration": 11,
    "start_time": "2024-03-29T07:47:53.180Z"
   },
   {
    "duration": 5,
    "start_time": "2024-03-29T07:49:42.315Z"
   },
   {
    "duration": 6,
    "start_time": "2024-03-29T08:13:28.873Z"
   },
   {
    "duration": 10,
    "start_time": "2024-03-29T08:14:33.729Z"
   },
   {
    "duration": 13,
    "start_time": "2024-03-29T08:18:20.688Z"
   },
   {
    "duration": 6,
    "start_time": "2024-03-29T08:18:23.092Z"
   },
   {
    "duration": 213,
    "start_time": "2024-03-29T08:18:27.711Z"
   },
   {
    "duration": 10,
    "start_time": "2024-03-29T08:18:35.793Z"
   },
   {
    "duration": 5,
    "start_time": "2024-03-29T08:20:47.580Z"
   },
   {
    "duration": 10,
    "start_time": "2024-03-29T08:20:55.206Z"
   },
   {
    "duration": 6,
    "start_time": "2024-03-29T08:22:44.012Z"
   },
   {
    "duration": 13,
    "start_time": "2024-03-29T09:13:14.233Z"
   },
   {
    "duration": 1430,
    "start_time": "2024-03-29T09:17:51.730Z"
   },
   {
    "duration": 6,
    "start_time": "2024-03-29T09:17:59.572Z"
   },
   {
    "duration": 7,
    "start_time": "2024-03-29T09:18:43.653Z"
   },
   {
    "duration": 5,
    "start_time": "2024-03-29T09:20:09.711Z"
   },
   {
    "duration": 9,
    "start_time": "2024-03-29T09:26:29.950Z"
   },
   {
    "duration": 12,
    "start_time": "2024-03-29T09:40:29.387Z"
   },
   {
    "duration": 12,
    "start_time": "2024-03-29T09:40:48.198Z"
   },
   {
    "duration": 11,
    "start_time": "2024-03-29T09:41:56.435Z"
   },
   {
    "duration": 5,
    "start_time": "2024-03-29T09:42:37.025Z"
   },
   {
    "duration": 5,
    "start_time": "2024-03-29T09:42:54.050Z"
   },
   {
    "duration": 9,
    "start_time": "2024-03-29T09:47:05.700Z"
   },
   {
    "duration": 9,
    "start_time": "2024-03-29T09:48:52.246Z"
   },
   {
    "duration": 6,
    "start_time": "2024-03-29T09:49:12.394Z"
   },
   {
    "duration": 8,
    "start_time": "2024-03-29T09:49:39.555Z"
   },
   {
    "duration": 11,
    "start_time": "2024-03-29T09:50:10.022Z"
   },
   {
    "duration": 10,
    "start_time": "2024-03-29T09:50:40.712Z"
   },
   {
    "duration": 12,
    "start_time": "2024-03-29T11:21:12.930Z"
   },
   {
    "duration": 7,
    "start_time": "2024-03-29T11:25:12.103Z"
   },
   {
    "duration": 5,
    "start_time": "2024-03-29T11:27:29.278Z"
   },
   {
    "duration": 4,
    "start_time": "2024-03-29T11:31:54.156Z"
   },
   {
    "duration": 15,
    "start_time": "2024-03-29T11:32:41.711Z"
   },
   {
    "duration": 5,
    "start_time": "2024-03-29T11:35:01.783Z"
   },
   {
    "duration": 10,
    "start_time": "2024-03-29T11:37:18.913Z"
   },
   {
    "duration": 7,
    "start_time": "2024-03-29T11:39:57.917Z"
   },
   {
    "duration": 6,
    "start_time": "2024-03-29T11:43:45.317Z"
   },
   {
    "duration": 23,
    "start_time": "2024-03-29T11:49:08.545Z"
   },
   {
    "duration": 7,
    "start_time": "2024-03-29T11:49:20.723Z"
   },
   {
    "duration": 8,
    "start_time": "2024-03-29T12:06:16.905Z"
   },
   {
    "duration": 28,
    "start_time": "2024-03-29T12:06:23.860Z"
   },
   {
    "duration": 11,
    "start_time": "2024-03-29T12:47:44.534Z"
   },
   {
    "duration": 115,
    "start_time": "2024-03-29T12:48:01.505Z"
   },
   {
    "duration": 15,
    "start_time": "2024-03-29T12:48:04.402Z"
   },
   {
    "duration": 13,
    "start_time": "2024-03-29T12:48:16.711Z"
   },
   {
    "duration": 1812,
    "start_time": "2024-03-29T12:48:46.964Z"
   },
   {
    "duration": 12,
    "start_time": "2024-03-29T12:54:24.324Z"
   },
   {
    "duration": 13,
    "start_time": "2024-03-29T12:55:18.396Z"
   },
   {
    "duration": 12,
    "start_time": "2024-03-29T12:55:36.443Z"
   },
   {
    "duration": 9,
    "start_time": "2024-03-29T12:55:38.632Z"
   },
   {
    "duration": 10,
    "start_time": "2024-03-29T12:55:47.398Z"
   },
   {
    "duration": 10,
    "start_time": "2024-03-29T12:55:53.543Z"
   },
   {
    "duration": 10,
    "start_time": "2024-03-29T12:56:04.739Z"
   },
   {
    "duration": 13,
    "start_time": "2024-03-29T12:56:10.251Z"
   },
   {
    "duration": 10,
    "start_time": "2024-03-29T12:56:24.911Z"
   },
   {
    "duration": 10,
    "start_time": "2024-03-29T12:56:30.682Z"
   },
   {
    "duration": 10,
    "start_time": "2024-03-29T13:11:09.204Z"
   },
   {
    "duration": 7,
    "start_time": "2024-03-29T13:11:22.402Z"
   },
   {
    "duration": 80,
    "start_time": "2024-03-29T13:11:43.120Z"
   },
   {
    "duration": 11,
    "start_time": "2024-03-29T13:11:48.245Z"
   },
   {
    "duration": 6,
    "start_time": "2024-03-29T13:12:56.486Z"
   },
   {
    "duration": 690,
    "start_time": "2024-03-30T08:39:57.450Z"
   },
   {
    "duration": 16,
    "start_time": "2024-03-30T08:40:01.490Z"
   },
   {
    "duration": 2529,
    "start_time": "2024-03-30T08:40:09.313Z"
   },
   {
    "duration": 4,
    "start_time": "2024-03-30T08:40:19.988Z"
   },
   {
    "duration": 11,
    "start_time": "2024-03-30T08:40:26.811Z"
   },
   {
    "duration": 6,
    "start_time": "2024-03-30T08:40:31.913Z"
   },
   {
    "duration": 17,
    "start_time": "2024-03-30T08:40:39.828Z"
   },
   {
    "duration": 7,
    "start_time": "2024-03-30T08:40:42.764Z"
   },
   {
    "duration": 176,
    "start_time": "2024-03-30T08:40:59.573Z"
   },
   {
    "duration": 11,
    "start_time": "2024-03-30T08:41:11.326Z"
   },
   {
    "duration": 5,
    "start_time": "2024-03-30T08:41:17.292Z"
   },
   {
    "duration": 14,
    "start_time": "2024-03-30T08:41:21.944Z"
   },
   {
    "duration": 7,
    "start_time": "2024-03-30T08:41:40.546Z"
   },
   {
    "duration": 11,
    "start_time": "2024-03-30T08:42:28.117Z"
   },
   {
    "duration": 9,
    "start_time": "2024-03-30T08:42:34.174Z"
   },
   {
    "duration": 12,
    "start_time": "2024-03-30T08:48:16.689Z"
   },
   {
    "duration": 5,
    "start_time": "2024-03-30T08:55:09.871Z"
   },
   {
    "duration": 7,
    "start_time": "2024-03-30T09:19:18.968Z"
   },
   {
    "duration": 9,
    "start_time": "2024-03-30T09:19:25.180Z"
   },
   {
    "duration": 12,
    "start_time": "2024-03-30T09:19:37.045Z"
   },
   {
    "duration": 10,
    "start_time": "2024-03-30T09:19:58.610Z"
   },
   {
    "duration": 2,
    "start_time": "2024-03-30T09:26:03.711Z"
   },
   {
    "duration": 6,
    "start_time": "2024-03-30T09:45:38.031Z"
   },
   {
    "duration": 3,
    "start_time": "2024-03-30T09:49:14.559Z"
   },
   {
    "duration": 464,
    "start_time": "2024-03-30T09:53:37.361Z"
   },
   {
    "duration": 83,
    "start_time": "2024-03-30T09:55:21.132Z"
   },
   {
    "duration": 12,
    "start_time": "2024-03-30T09:55:31.809Z"
   },
   {
    "duration": 6,
    "start_time": "2024-03-30T09:57:19.294Z"
   },
   {
    "duration": 10,
    "start_time": "2024-03-30T09:58:12.704Z"
   },
   {
    "duration": 14,
    "start_time": "2024-03-30T10:33:58.344Z"
   },
   {
    "duration": 17,
    "start_time": "2024-03-30T10:34:11.195Z"
   },
   {
    "duration": 19,
    "start_time": "2024-03-30T10:34:30.202Z"
   },
   {
    "duration": 51,
    "start_time": "2024-03-30T10:56:30.124Z"
   },
   {
    "duration": 20,
    "start_time": "2024-03-30T10:56:49.359Z"
   },
   {
    "duration": 16,
    "start_time": "2024-03-30T11:12:00.449Z"
   },
   {
    "duration": 67,
    "start_time": "2024-03-30T11:12:57.809Z"
   },
   {
    "duration": 23,
    "start_time": "2024-03-30T11:13:21.844Z"
   },
   {
    "duration": 117,
    "start_time": "2024-03-30T11:18:11.228Z"
   },
   {
    "duration": 21,
    "start_time": "2024-03-30T11:18:13.129Z"
   },
   {
    "duration": 4,
    "start_time": "2024-03-30T11:54:32.708Z"
   },
   {
    "duration": 11,
    "start_time": "2024-03-30T11:55:16.137Z"
   },
   {
    "duration": 9,
    "start_time": "2024-03-30T11:55:48.916Z"
   },
   {
    "duration": 6,
    "start_time": "2024-03-30T11:56:22.526Z"
   },
   {
    "duration": 10,
    "start_time": "2024-03-30T11:57:32.525Z"
   },
   {
    "duration": 12,
    "start_time": "2024-03-30T11:58:10.444Z"
   },
   {
    "duration": 96,
    "start_time": "2024-03-30T12:41:08.964Z"
   },
   {
    "duration": 17,
    "start_time": "2024-03-30T12:42:42.408Z"
   },
   {
    "duration": 6,
    "start_time": "2024-03-30T12:44:15.309Z"
   },
   {
    "duration": 4,
    "start_time": "2024-03-30T12:44:41.000Z"
   },
   {
    "duration": 5,
    "start_time": "2024-03-30T12:45:15.245Z"
   },
   {
    "duration": 5,
    "start_time": "2024-03-30T12:49:47.225Z"
   },
   {
    "duration": 6,
    "start_time": "2024-03-30T12:49:53.228Z"
   },
   {
    "duration": 4,
    "start_time": "2024-03-30T12:55:56.992Z"
   },
   {
    "duration": 5,
    "start_time": "2024-03-30T13:01:33.433Z"
   },
   {
    "duration": 6,
    "start_time": "2024-03-30T13:01:45.022Z"
   },
   {
    "duration": 5,
    "start_time": "2024-03-30T13:08:06.221Z"
   },
   {
    "duration": 736,
    "start_time": "2024-03-31T08:48:21.353Z"
   },
   {
    "duration": 16,
    "start_time": "2024-03-31T08:48:24.470Z"
   },
   {
    "duration": 2441,
    "start_time": "2024-03-31T08:48:28.244Z"
   },
   {
    "duration": 4,
    "start_time": "2024-03-31T08:48:30.889Z"
   },
   {
    "duration": 10,
    "start_time": "2024-03-31T08:48:37.687Z"
   },
   {
    "duration": 7,
    "start_time": "2024-03-31T08:48:40.701Z"
   },
   {
    "duration": 15,
    "start_time": "2024-03-31T08:48:43.410Z"
   },
   {
    "duration": 5,
    "start_time": "2024-03-31T08:48:45.290Z"
   },
   {
    "duration": 172,
    "start_time": "2024-03-31T08:48:47.325Z"
   },
   {
    "duration": 10,
    "start_time": "2024-03-31T08:48:49.746Z"
   },
   {
    "duration": 5,
    "start_time": "2024-03-31T08:48:51.572Z"
   },
   {
    "duration": 11,
    "start_time": "2024-03-31T08:48:53.526Z"
   },
   {
    "duration": 7,
    "start_time": "2024-03-31T08:48:55.886Z"
   },
   {
    "duration": 11,
    "start_time": "2024-03-31T08:48:59.179Z"
   },
   {
    "duration": 13,
    "start_time": "2024-03-31T08:49:01.569Z"
   },
   {
    "duration": 12,
    "start_time": "2024-03-31T08:49:03.894Z"
   },
   {
    "duration": 6,
    "start_time": "2024-03-31T08:49:06.113Z"
   },
   {
    "duration": 10,
    "start_time": "2024-03-31T08:49:08.573Z"
   },
   {
    "duration": 12,
    "start_time": "2024-03-31T08:49:10.961Z"
   },
   {
    "duration": 11,
    "start_time": "2024-03-31T08:49:13.071Z"
   },
   {
    "duration": 4,
    "start_time": "2024-03-31T08:49:17.057Z"
   },
   {
    "duration": 13,
    "start_time": "2024-03-31T08:49:18.802Z"
   },
   {
    "duration": 9,
    "start_time": "2024-03-31T08:49:20.639Z"
   },
   {
    "duration": 15,
    "start_time": "2024-03-31T08:49:23.572Z"
   },
   {
    "duration": 41,
    "start_time": "2024-03-31T08:49:26.515Z"
   },
   {
    "duration": 176,
    "start_time": "2024-03-31T08:49:29.917Z"
   },
   {
    "duration": 34,
    "start_time": "2024-03-31T08:49:32.120Z"
   },
   {
    "duration": 13,
    "start_time": "2024-03-31T08:49:35.056Z"
   },
   {
    "duration": 17,
    "start_time": "2024-03-31T08:49:41.245Z"
   },
   {
    "duration": 5,
    "start_time": "2024-03-31T08:49:44.802Z"
   },
   {
    "duration": 5,
    "start_time": "2024-03-31T08:49:46.407Z"
   },
   {
    "duration": 5,
    "start_time": "2024-03-31T08:49:50.010Z"
   },
   {
    "duration": 4,
    "start_time": "2024-03-31T08:49:53.818Z"
   },
   {
    "duration": 5,
    "start_time": "2024-03-31T08:49:55.285Z"
   },
   {
    "duration": 6,
    "start_time": "2024-03-31T08:49:57.290Z"
   },
   {
    "duration": 809,
    "start_time": "2024-03-31T08:54:44.412Z"
   },
   {
    "duration": 9,
    "start_time": "2024-03-31T09:03:31.737Z"
   },
   {
    "duration": 20,
    "start_time": "2024-03-31T09:04:00.733Z"
   },
   {
    "duration": 17,
    "start_time": "2024-03-31T09:04:10.071Z"
   },
   {
    "duration": 15,
    "start_time": "2024-03-31T09:04:24.135Z"
   },
   {
    "duration": 3,
    "start_time": "2024-03-31T09:04:25.458Z"
   },
   {
    "duration": 74,
    "start_time": "2024-03-31T09:04:27.088Z"
   },
   {
    "duration": 82,
    "start_time": "2024-03-31T09:05:39.777Z"
   },
   {
    "duration": 10,
    "start_time": "2024-03-31T09:10:49.145Z"
   },
   {
    "duration": 10,
    "start_time": "2024-03-31T09:22:12.620Z"
   },
   {
    "duration": 8,
    "start_time": "2024-03-31T09:22:21.923Z"
   },
   {
    "duration": 9,
    "start_time": "2024-03-31T09:27:01.139Z"
   },
   {
    "duration": 74,
    "start_time": "2024-03-31T10:34:39.304Z"
   },
   {
    "duration": 7,
    "start_time": "2024-03-31T10:35:29.550Z"
   },
   {
    "duration": 6,
    "start_time": "2024-03-31T10:35:53.594Z"
   },
   {
    "duration": 75,
    "start_time": "2024-03-31T10:53:49.001Z"
   },
   {
    "duration": 5,
    "start_time": "2024-03-31T10:53:51.394Z"
   },
   {
    "duration": 14,
    "start_time": "2024-03-31T10:54:05.809Z"
   },
   {
    "duration": 5,
    "start_time": "2024-03-31T10:55:16.911Z"
   },
   {
    "duration": 5,
    "start_time": "2024-03-31T10:58:08.022Z"
   },
   {
    "duration": 7,
    "start_time": "2024-03-31T10:58:21.301Z"
   },
   {
    "duration": 1437,
    "start_time": "2024-03-31T10:59:19.085Z"
   },
   {
    "duration": 5,
    "start_time": "2024-03-31T10:59:29.190Z"
   },
   {
    "duration": 79,
    "start_time": "2024-03-31T11:05:47.236Z"
   },
   {
    "duration": 136,
    "start_time": "2024-03-31T11:05:53.744Z"
   },
   {
    "duration": 78,
    "start_time": "2024-03-31T11:05:59.839Z"
   },
   {
    "duration": 1437,
    "start_time": "2024-03-31T11:15:09.504Z"
   },
   {
    "duration": 1366,
    "start_time": "2024-03-31T11:16:33.318Z"
   },
   {
    "duration": 12,
    "start_time": "2024-03-31T11:17:03.311Z"
   },
   {
    "duration": 540,
    "start_time": "2024-03-31T12:00:23.471Z"
   },
   {
    "duration": 16,
    "start_time": "2024-03-31T12:00:24.014Z"
   },
   {
    "duration": 2294,
    "start_time": "2024-03-31T12:00:24.031Z"
   },
   {
    "duration": 4,
    "start_time": "2024-03-31T12:00:26.327Z"
   },
   {
    "duration": 16,
    "start_time": "2024-03-31T12:00:26.333Z"
   },
   {
    "duration": 14,
    "start_time": "2024-03-31T12:00:26.350Z"
   },
   {
    "duration": 14,
    "start_time": "2024-03-31T12:00:26.366Z"
   },
   {
    "duration": 18,
    "start_time": "2024-03-31T12:00:26.382Z"
   },
   {
    "duration": 272,
    "start_time": "2024-03-31T12:00:26.402Z"
   },
   {
    "duration": 11,
    "start_time": "2024-03-31T12:00:26.676Z"
   },
   {
    "duration": 17,
    "start_time": "2024-03-31T12:00:26.689Z"
   },
   {
    "duration": 15,
    "start_time": "2024-03-31T12:00:26.709Z"
   },
   {
    "duration": 7,
    "start_time": "2024-03-31T12:00:26.725Z"
   },
   {
    "duration": 10,
    "start_time": "2024-03-31T12:00:26.735Z"
   },
   {
    "duration": 12,
    "start_time": "2024-03-31T12:00:26.769Z"
   },
   {
    "duration": 23,
    "start_time": "2024-03-31T12:00:26.783Z"
   },
   {
    "duration": 8,
    "start_time": "2024-03-31T12:00:26.809Z"
   },
   {
    "duration": 24,
    "start_time": "2024-03-31T12:00:26.819Z"
   },
   {
    "duration": 11,
    "start_time": "2024-03-31T12:00:26.844Z"
   },
   {
    "duration": 19,
    "start_time": "2024-03-31T12:00:26.856Z"
   },
   {
    "duration": 23,
    "start_time": "2024-03-31T12:00:26.877Z"
   },
   {
    "duration": 24,
    "start_time": "2024-03-31T12:00:26.902Z"
   },
   {
    "duration": 9,
    "start_time": "2024-03-31T12:00:26.928Z"
   },
   {
    "duration": 14,
    "start_time": "2024-03-31T12:00:26.939Z"
   },
   {
    "duration": 18,
    "start_time": "2024-03-31T12:00:26.955Z"
   },
   {
    "duration": 11,
    "start_time": "2024-03-31T12:00:26.974Z"
   },
   {
    "duration": 21,
    "start_time": "2024-03-31T12:00:26.986Z"
   },
   {
    "duration": 139,
    "start_time": "2024-03-31T12:00:27.008Z"
   },
   {
    "duration": 27,
    "start_time": "2024-03-31T12:00:27.148Z"
   },
   {
    "duration": 14,
    "start_time": "2024-03-31T12:00:27.177Z"
   },
   {
    "duration": 16,
    "start_time": "2024-03-31T12:00:27.193Z"
   },
   {
    "duration": 5,
    "start_time": "2024-03-31T12:00:27.211Z"
   },
   {
    "duration": 19,
    "start_time": "2024-03-31T12:00:27.217Z"
   },
   {
    "duration": 8,
    "start_time": "2024-03-31T12:00:27.237Z"
   },
   {
    "duration": 38,
    "start_time": "2024-03-31T12:00:27.246Z"
   },
   {
    "duration": 6,
    "start_time": "2024-03-31T12:00:27.285Z"
   },
   {
    "duration": 23,
    "start_time": "2024-03-31T12:00:27.293Z"
   },
   {
    "duration": 13,
    "start_time": "2024-03-31T12:00:27.317Z"
   },
   {
    "duration": 9,
    "start_time": "2024-03-31T12:00:27.331Z"
   },
   {
    "duration": 8,
    "start_time": "2024-03-31T12:00:27.342Z"
   },
   {
    "duration": 18,
    "start_time": "2024-03-31T12:00:27.355Z"
   },
   {
    "duration": 7,
    "start_time": "2024-03-31T12:00:27.374Z"
   },
   {
    "duration": 6,
    "start_time": "2024-03-31T12:00:39.637Z"
   },
   {
    "duration": 364,
    "start_time": "2024-03-31T12:00:47.902Z"
   },
   {
    "duration": 79,
    "start_time": "2024-03-31T12:42:45.415Z"
   },
   {
    "duration": 7,
    "start_time": "2024-03-31T12:43:07.515Z"
   },
   {
    "duration": 4,
    "start_time": "2024-03-31T12:43:10.262Z"
   },
   {
    "duration": 84,
    "start_time": "2024-03-31T13:08:26.924Z"
   },
   {
    "duration": 116,
    "start_time": "2024-03-31T13:09:53.007Z"
   },
   {
    "duration": 160,
    "start_time": "2024-03-31T13:13:05.334Z"
   },
   {
    "duration": 191,
    "start_time": "2024-03-31T13:13:21.023Z"
   },
   {
    "duration": 116,
    "start_time": "2024-03-31T13:13:32.709Z"
   },
   {
    "duration": 143,
    "start_time": "2024-03-31T13:13:41.281Z"
   },
   {
    "duration": 114,
    "start_time": "2024-03-31T13:13:55.425Z"
   },
   {
    "duration": 150,
    "start_time": "2024-03-31T13:14:24.573Z"
   },
   {
    "duration": 79,
    "start_time": "2024-03-31T13:15:04.330Z"
   },
   {
    "duration": 9,
    "start_time": "2024-03-31T13:15:09.004Z"
   },
   {
    "duration": 128,
    "start_time": "2024-03-31T13:15:29.477Z"
   },
   {
    "duration": 145,
    "start_time": "2024-03-31T13:16:26.680Z"
   },
   {
    "duration": 122,
    "start_time": "2024-03-31T13:16:51.622Z"
   },
   {
    "duration": 123,
    "start_time": "2024-03-31T13:16:56.108Z"
   },
   {
    "duration": 137,
    "start_time": "2024-03-31T13:17:04.144Z"
   },
   {
    "duration": 116,
    "start_time": "2024-03-31T13:17:12.199Z"
   },
   {
    "duration": 296,
    "start_time": "2024-03-31T13:17:53.387Z"
   },
   {
    "duration": 231,
    "start_time": "2024-03-31T13:18:08.922Z"
   },
   {
    "duration": 242,
    "start_time": "2024-03-31T13:18:15.531Z"
   },
   {
    "duration": 228,
    "start_time": "2024-03-31T13:18:26.642Z"
   },
   {
    "duration": 227,
    "start_time": "2024-03-31T13:18:39.701Z"
   },
   {
    "duration": 3,
    "start_time": "2024-03-31T13:21:27.365Z"
   },
   {
    "duration": 9,
    "start_time": "2024-03-31T13:22:16.969Z"
   },
   {
    "duration": 145,
    "start_time": "2024-03-31T13:22:44.766Z"
   },
   {
    "duration": 3,
    "start_time": "2024-03-31T13:57:28.748Z"
   },
   {
    "duration": 3,
    "start_time": "2024-03-31T13:57:39.973Z"
   },
   {
    "duration": 3,
    "start_time": "2024-03-31T13:58:58.650Z"
   },
   {
    "duration": 11,
    "start_time": "2024-03-31T14:00:02.817Z"
   },
   {
    "duration": 10,
    "start_time": "2024-03-31T14:00:05.247Z"
   },
   {
    "duration": 6,
    "start_time": "2024-03-31T14:00:27.678Z"
   },
   {
    "duration": 8,
    "start_time": "2024-03-31T14:00:47.678Z"
   },
   {
    "duration": 10,
    "start_time": "2024-03-31T14:00:58.414Z"
   },
   {
    "duration": 134,
    "start_time": "2024-03-31T14:01:50.743Z"
   },
   {
    "duration": 242,
    "start_time": "2024-03-31T14:02:12.680Z"
   },
   {
    "duration": 5,
    "start_time": "2024-03-31T14:02:43.867Z"
   },
   {
    "duration": 127,
    "start_time": "2024-03-31T14:02:53.849Z"
   },
   {
    "duration": 136,
    "start_time": "2024-03-31T14:03:04.935Z"
   },
   {
    "duration": 142,
    "start_time": "2024-03-31T14:03:17.960Z"
   },
   {
    "duration": 157,
    "start_time": "2024-03-31T14:03:42.801Z"
   },
   {
    "duration": 8,
    "start_time": "2024-03-31T14:04:09.801Z"
   },
   {
    "duration": 125,
    "start_time": "2024-03-31T14:04:12.061Z"
   },
   {
    "duration": 1435,
    "start_time": "2024-03-31T14:04:28.335Z"
   },
   {
    "duration": 668,
    "start_time": "2024-04-01T06:38:48.604Z"
   },
   {
    "duration": 14,
    "start_time": "2024-04-01T06:38:52.625Z"
   },
   {
    "duration": 2279,
    "start_time": "2024-04-01T06:38:57.696Z"
   },
   {
    "duration": 3,
    "start_time": "2024-04-01T06:39:11.137Z"
   },
   {
    "duration": 14,
    "start_time": "2024-04-01T06:39:15.603Z"
   },
   {
    "duration": 9,
    "start_time": "2024-04-01T06:40:00.628Z"
   },
   {
    "duration": 6,
    "start_time": "2024-04-01T06:40:03.831Z"
   },
   {
    "duration": 13,
    "start_time": "2024-04-01T06:40:07.283Z"
   },
   {
    "duration": 7,
    "start_time": "2024-04-01T06:40:10.088Z"
   },
   {
    "duration": 170,
    "start_time": "2024-04-01T06:40:19.861Z"
   },
   {
    "duration": 10,
    "start_time": "2024-04-01T06:40:26.955Z"
   },
   {
    "duration": 5,
    "start_time": "2024-04-01T06:40:33.006Z"
   },
   {
    "duration": 10,
    "start_time": "2024-04-01T06:40:36.259Z"
   },
   {
    "duration": 6,
    "start_time": "2024-04-01T06:40:39.351Z"
   },
   {
    "duration": 10,
    "start_time": "2024-04-01T06:40:51.501Z"
   },
   {
    "duration": 9,
    "start_time": "2024-04-01T06:40:55.333Z"
   },
   {
    "duration": 15,
    "start_time": "2024-04-01T06:40:57.628Z"
   },
   {
    "duration": 7,
    "start_time": "2024-04-01T06:41:00.505Z"
   },
   {
    "duration": 10,
    "start_time": "2024-04-01T06:41:02.142Z"
   },
   {
    "duration": 11,
    "start_time": "2024-04-01T06:41:03.808Z"
   },
   {
    "duration": 10,
    "start_time": "2024-04-01T06:41:06.768Z"
   },
   {
    "duration": 5,
    "start_time": "2024-04-01T06:41:12.653Z"
   },
   {
    "duration": 12,
    "start_time": "2024-04-01T06:41:14.361Z"
   },
   {
    "duration": 9,
    "start_time": "2024-04-01T06:41:15.695Z"
   },
   {
    "duration": 11,
    "start_time": "2024-04-01T06:41:17.549Z"
   },
   {
    "duration": 12,
    "start_time": "2024-04-01T06:41:21.763Z"
   },
   {
    "duration": 11,
    "start_time": "2024-04-01T06:41:23.683Z"
   },
   {
    "duration": 19,
    "start_time": "2024-04-01T06:41:26.561Z"
   },
   {
    "duration": 106,
    "start_time": "2024-04-01T06:41:30.720Z"
   },
   {
    "duration": 20,
    "start_time": "2024-04-01T06:41:33.154Z"
   },
   {
    "duration": 12,
    "start_time": "2024-04-01T06:42:02.164Z"
   },
   {
    "duration": 15,
    "start_time": "2024-04-01T06:42:03.272Z"
   },
   {
    "duration": 6,
    "start_time": "2024-04-01T06:42:05.474Z"
   },
   {
    "duration": 6,
    "start_time": "2024-04-01T06:42:08.194Z"
   },
   {
    "duration": 4,
    "start_time": "2024-04-01T06:42:13.032Z"
   },
   {
    "duration": 5,
    "start_time": "2024-04-01T06:42:25.193Z"
   },
   {
    "duration": 6,
    "start_time": "2024-04-01T06:42:26.592Z"
   },
   {
    "duration": 5,
    "start_time": "2024-04-01T06:42:29.237Z"
   },
   {
    "duration": 12,
    "start_time": "2024-04-01T06:42:59.914Z"
   },
   {
    "duration": 8,
    "start_time": "2024-04-01T06:43:13.695Z"
   },
   {
    "duration": 10,
    "start_time": "2024-04-01T06:43:20.174Z"
   },
   {
    "duration": 8,
    "start_time": "2024-04-01T06:43:23.127Z"
   },
   {
    "duration": 344,
    "start_time": "2024-04-01T06:43:51.456Z"
   },
   {
    "duration": 8,
    "start_time": "2024-04-01T06:43:58.775Z"
   },
   {
    "duration": 5,
    "start_time": "2024-04-01T06:49:50.755Z"
   },
   {
    "duration": 5,
    "start_time": "2024-04-01T06:50:38.240Z"
   },
   {
    "duration": 3,
    "start_time": "2024-04-01T06:52:07.401Z"
   },
   {
    "duration": 1130,
    "start_time": "2024-04-01T07:07:27.271Z"
   },
   {
    "duration": 1119,
    "start_time": "2024-04-01T07:08:17.850Z"
   },
   {
    "duration": 1165,
    "start_time": "2024-04-01T07:10:02.027Z"
   },
   {
    "duration": 1017,
    "start_time": "2024-04-01T07:10:14.189Z"
   },
   {
    "duration": 1005,
    "start_time": "2024-04-01T07:10:40.103Z"
   },
   {
    "duration": 105,
    "start_time": "2024-04-01T07:11:25.884Z"
   },
   {
    "duration": 6,
    "start_time": "2024-04-01T07:13:08.139Z"
   },
   {
    "duration": 7,
    "start_time": "2024-04-01T07:13:35.557Z"
   },
   {
    "duration": 4,
    "start_time": "2024-04-01T07:13:38.625Z"
   },
   {
    "duration": 1043,
    "start_time": "2024-04-01T07:13:47.207Z"
   },
   {
    "duration": 6,
    "start_time": "2024-04-01T07:14:13.359Z"
   },
   {
    "duration": 1003,
    "start_time": "2024-04-01T07:14:31.868Z"
   },
   {
    "duration": 8,
    "start_time": "2024-04-01T07:26:54.229Z"
   },
   {
    "duration": 293,
    "start_time": "2024-04-01T07:26:56.584Z"
   },
   {
    "duration": 9,
    "start_time": "2024-04-01T07:27:07.320Z"
   },
   {
    "duration": 136,
    "start_time": "2024-04-01T07:27:11.083Z"
   },
   {
    "duration": 9,
    "start_time": "2024-04-01T07:27:13.773Z"
   },
   {
    "duration": 130,
    "start_time": "2024-04-01T07:27:15.542Z"
   },
   {
    "duration": 6,
    "start_time": "2024-04-01T07:27:18.971Z"
   },
   {
    "duration": 138,
    "start_time": "2024-04-01T07:27:21.320Z"
   },
   {
    "duration": 9,
    "start_time": "2024-04-01T07:27:25.206Z"
   },
   {
    "duration": 131,
    "start_time": "2024-04-01T07:27:27.097Z"
   },
   {
    "duration": 1077,
    "start_time": "2024-04-01T07:27:46.879Z"
   },
   {
    "duration": 1001,
    "start_time": "2024-04-01T07:27:58.157Z"
   },
   {
    "duration": 56,
    "start_time": "2024-04-01T07:28:38.245Z"
   },
   {
    "duration": 513,
    "start_time": "2024-04-01T07:28:48.800Z"
   },
   {
    "duration": 15,
    "start_time": "2024-04-01T07:29:02.256Z"
   },
   {
    "duration": 2114,
    "start_time": "2024-04-01T07:29:08.681Z"
   },
   {
    "duration": 3,
    "start_time": "2024-04-01T07:29:15.553Z"
   },
   {
    "duration": 10,
    "start_time": "2024-04-01T07:29:19.801Z"
   },
   {
    "duration": 5,
    "start_time": "2024-04-01T07:29:23.138Z"
   },
   {
    "duration": 14,
    "start_time": "2024-04-01T07:29:35.289Z"
   },
   {
    "duration": 6,
    "start_time": "2024-04-01T07:29:37.540Z"
   },
   {
    "duration": 176,
    "start_time": "2024-04-01T07:29:40.194Z"
   },
   {
    "duration": 9,
    "start_time": "2024-04-01T07:29:49.658Z"
   },
   {
    "duration": 5,
    "start_time": "2024-04-01T07:29:53.061Z"
   },
   {
    "duration": 11,
    "start_time": "2024-04-01T07:29:55.319Z"
   },
   {
    "duration": 7,
    "start_time": "2024-04-01T07:29:57.230Z"
   },
   {
    "duration": 10,
    "start_time": "2024-04-01T07:30:07.078Z"
   },
   {
    "duration": 10,
    "start_time": "2024-04-01T07:30:13.288Z"
   },
   {
    "duration": 12,
    "start_time": "2024-04-01T07:30:16.138Z"
   },
   {
    "duration": 7,
    "start_time": "2024-04-01T07:30:19.363Z"
   },
   {
    "duration": 9,
    "start_time": "2024-04-01T07:30:21.418Z"
   },
   {
    "duration": 11,
    "start_time": "2024-04-01T07:30:24.745Z"
   },
   {
    "duration": 11,
    "start_time": "2024-04-01T07:30:27.489Z"
   },
   {
    "duration": 5,
    "start_time": "2024-04-01T07:30:32.367Z"
   },
   {
    "duration": 12,
    "start_time": "2024-04-01T07:30:34.770Z"
   },
   {
    "duration": 7,
    "start_time": "2024-04-01T07:30:37.061Z"
   },
   {
    "duration": 10,
    "start_time": "2024-04-01T07:30:39.515Z"
   },
   {
    "duration": 6,
    "start_time": "2024-04-01T07:31:30.851Z"
   },
   {
    "duration": 4,
    "start_time": "2024-04-01T07:32:05.462Z"
   },
   {
    "duration": 1006,
    "start_time": "2024-04-01T07:32:33.984Z"
   },
   {
    "duration": 1035,
    "start_time": "2024-04-01T07:32:58.704Z"
   },
   {
    "duration": 45,
    "start_time": "2024-04-01T07:33:31.276Z"
   },
   {
    "duration": 519,
    "start_time": "2024-04-01T07:36:19.423Z"
   },
   {
    "duration": 15,
    "start_time": "2024-04-01T07:36:19.944Z"
   },
   {
    "duration": 2120,
    "start_time": "2024-04-01T07:36:19.963Z"
   },
   {
    "duration": 3,
    "start_time": "2024-04-01T07:36:22.085Z"
   },
   {
    "duration": 28,
    "start_time": "2024-04-01T07:36:22.090Z"
   },
   {
    "duration": 8,
    "start_time": "2024-04-01T07:36:22.119Z"
   },
   {
    "duration": 20,
    "start_time": "2024-04-01T07:36:22.128Z"
   },
   {
    "duration": 6,
    "start_time": "2024-04-01T07:36:22.150Z"
   },
   {
    "duration": 183,
    "start_time": "2024-04-01T07:36:22.158Z"
   },
   {
    "duration": 9,
    "start_time": "2024-04-01T07:36:22.343Z"
   },
   {
    "duration": 8,
    "start_time": "2024-04-01T07:36:22.353Z"
   },
   {
    "duration": 18,
    "start_time": "2024-04-01T07:36:22.363Z"
   },
   {
    "duration": 6,
    "start_time": "2024-04-01T07:36:22.384Z"
   },
   {
    "duration": 28,
    "start_time": "2024-04-01T07:36:22.391Z"
   },
   {
    "duration": 9,
    "start_time": "2024-04-01T07:36:22.420Z"
   },
   {
    "duration": 19,
    "start_time": "2024-04-01T07:36:22.430Z"
   },
   {
    "duration": 8,
    "start_time": "2024-04-01T07:36:22.450Z"
   },
   {
    "duration": 19,
    "start_time": "2024-04-01T07:36:22.459Z"
   },
   {
    "duration": 22,
    "start_time": "2024-04-01T07:36:22.480Z"
   },
   {
    "duration": 18,
    "start_time": "2024-04-01T07:36:22.504Z"
   },
   {
    "duration": 5,
    "start_time": "2024-04-01T07:36:22.523Z"
   },
   {
    "duration": 27,
    "start_time": "2024-04-01T07:36:22.530Z"
   },
   {
    "duration": 29,
    "start_time": "2024-04-01T07:36:22.558Z"
   },
   {
    "duration": 13,
    "start_time": "2024-04-01T07:36:22.588Z"
   },
   {
    "duration": 1010,
    "start_time": "2024-04-01T07:36:22.602Z"
   },
   {
    "duration": 0,
    "start_time": "2024-04-01T07:36:23.615Z"
   },
   {
    "duration": 0,
    "start_time": "2024-04-01T07:36:23.616Z"
   },
   {
    "duration": 0,
    "start_time": "2024-04-01T07:36:23.618Z"
   },
   {
    "duration": 0,
    "start_time": "2024-04-01T07:36:23.619Z"
   },
   {
    "duration": 0,
    "start_time": "2024-04-01T07:36:23.620Z"
   },
   {
    "duration": 0,
    "start_time": "2024-04-01T07:36:23.623Z"
   },
   {
    "duration": 0,
    "start_time": "2024-04-01T07:36:23.624Z"
   },
   {
    "duration": 0,
    "start_time": "2024-04-01T07:36:23.626Z"
   },
   {
    "duration": 0,
    "start_time": "2024-04-01T07:36:23.627Z"
   },
   {
    "duration": 0,
    "start_time": "2024-04-01T07:36:23.628Z"
   },
   {
    "duration": 0,
    "start_time": "2024-04-01T07:36:23.630Z"
   },
   {
    "duration": 0,
    "start_time": "2024-04-01T07:36:23.631Z"
   },
   {
    "duration": 0,
    "start_time": "2024-04-01T07:36:23.633Z"
   },
   {
    "duration": 0,
    "start_time": "2024-04-01T07:36:23.633Z"
   },
   {
    "duration": 0,
    "start_time": "2024-04-01T07:36:23.635Z"
   },
   {
    "duration": 0,
    "start_time": "2024-04-01T07:36:23.636Z"
   },
   {
    "duration": 0,
    "start_time": "2024-04-01T07:36:23.638Z"
   },
   {
    "duration": 0,
    "start_time": "2024-04-01T07:36:23.638Z"
   },
   {
    "duration": 0,
    "start_time": "2024-04-01T07:36:23.639Z"
   },
   {
    "duration": 0,
    "start_time": "2024-04-01T07:36:23.640Z"
   },
   {
    "duration": 0,
    "start_time": "2024-04-01T07:36:23.642Z"
   },
   {
    "duration": 0,
    "start_time": "2024-04-01T07:36:23.644Z"
   },
   {
    "duration": 0,
    "start_time": "2024-04-01T07:36:23.646Z"
   },
   {
    "duration": 0,
    "start_time": "2024-04-01T07:36:23.647Z"
   },
   {
    "duration": 0,
    "start_time": "2024-04-01T07:36:23.648Z"
   },
   {
    "duration": 0,
    "start_time": "2024-04-01T07:36:23.650Z"
   },
   {
    "duration": 0,
    "start_time": "2024-04-01T07:36:23.651Z"
   },
   {
    "duration": 0,
    "start_time": "2024-04-01T07:36:23.652Z"
   },
   {
    "duration": 0,
    "start_time": "2024-04-01T07:36:23.653Z"
   },
   {
    "duration": 0,
    "start_time": "2024-04-01T07:36:23.654Z"
   },
   {
    "duration": 0,
    "start_time": "2024-04-01T07:36:23.656Z"
   },
   {
    "duration": 0,
    "start_time": "2024-04-01T07:36:23.657Z"
   },
   {
    "duration": 0,
    "start_time": "2024-04-01T07:36:23.658Z"
   },
   {
    "duration": 0,
    "start_time": "2024-04-01T07:36:23.718Z"
   },
   {
    "duration": 0,
    "start_time": "2024-04-01T07:36:23.719Z"
   },
   {
    "duration": 0,
    "start_time": "2024-04-01T07:36:23.720Z"
   },
   {
    "duration": 105,
    "start_time": "2024-04-01T07:36:59.046Z"
   },
   {
    "duration": 15,
    "start_time": "2024-04-01T07:37:02.039Z"
   },
   {
    "duration": 1807,
    "start_time": "2024-04-01T07:37:03.776Z"
   },
   {
    "duration": 3,
    "start_time": "2024-04-01T07:37:05.841Z"
   },
   {
    "duration": 12,
    "start_time": "2024-04-01T07:37:11.370Z"
   },
   {
    "duration": 6,
    "start_time": "2024-04-01T07:37:14.053Z"
   },
   {
    "duration": 11,
    "start_time": "2024-04-01T07:37:16.336Z"
   },
   {
    "duration": 6,
    "start_time": "2024-04-01T07:37:19.516Z"
   },
   {
    "duration": 174,
    "start_time": "2024-04-01T07:37:20.228Z"
   },
   {
    "duration": 8,
    "start_time": "2024-04-01T07:37:20.534Z"
   },
   {
    "duration": 5,
    "start_time": "2024-04-01T07:37:20.980Z"
   },
   {
    "duration": 10,
    "start_time": "2024-04-01T07:37:22.181Z"
   },
   {
    "duration": 7,
    "start_time": "2024-04-01T07:37:22.955Z"
   },
   {
    "duration": 10,
    "start_time": "2024-04-01T07:37:24.069Z"
   },
   {
    "duration": 8,
    "start_time": "2024-04-01T07:37:24.822Z"
   },
   {
    "duration": 11,
    "start_time": "2024-04-01T07:37:25.986Z"
   },
   {
    "duration": 7,
    "start_time": "2024-04-01T07:37:26.364Z"
   },
   {
    "duration": 8,
    "start_time": "2024-04-01T07:37:26.722Z"
   },
   {
    "duration": 11,
    "start_time": "2024-04-01T07:37:27.700Z"
   },
   {
    "duration": 11,
    "start_time": "2024-04-01T07:37:28.175Z"
   },
   {
    "duration": 5,
    "start_time": "2024-04-01T07:37:28.587Z"
   },
   {
    "duration": 12,
    "start_time": "2024-04-01T07:37:28.974Z"
   },
   {
    "duration": 7,
    "start_time": "2024-04-01T07:37:29.176Z"
   },
   {
    "duration": 10,
    "start_time": "2024-04-01T07:37:29.379Z"
   },
   {
    "duration": 1078,
    "start_time": "2024-04-01T07:37:30.001Z"
   },
   {
    "duration": 0,
    "start_time": "2024-04-01T07:37:31.080Z"
   },
   {
    "duration": 0,
    "start_time": "2024-04-01T07:37:31.081Z"
   },
   {
    "duration": 1017,
    "start_time": "2024-04-01T07:37:31.113Z"
   },
   {
    "duration": 49,
    "start_time": "2024-04-01T07:38:03.246Z"
   },
   {
    "duration": 447,
    "start_time": "2024-04-01T07:38:11.681Z"
   },
   {
    "duration": 15,
    "start_time": "2024-04-01T07:38:17.640Z"
   },
   {
    "duration": 2214,
    "start_time": "2024-04-01T07:38:20.749Z"
   },
   {
    "duration": 4,
    "start_time": "2024-04-01T07:38:32.172Z"
   },
   {
    "duration": 9,
    "start_time": "2024-04-01T07:38:39.859Z"
   },
   {
    "duration": 6,
    "start_time": "2024-04-01T07:38:42.634Z"
   },
   {
    "duration": 14,
    "start_time": "2024-04-01T07:38:46.731Z"
   },
   {
    "duration": 6,
    "start_time": "2024-04-01T07:38:49.067Z"
   },
   {
    "duration": 176,
    "start_time": "2024-04-01T07:38:52.413Z"
   },
   {
    "duration": 9,
    "start_time": "2024-04-01T07:39:00.176Z"
   },
   {
    "duration": 5,
    "start_time": "2024-04-01T07:39:09.966Z"
   },
   {
    "duration": 10,
    "start_time": "2024-04-01T07:42:50.436Z"
   },
   {
    "duration": 7,
    "start_time": "2024-04-01T07:42:52.303Z"
   },
   {
    "duration": 10,
    "start_time": "2024-04-01T07:42:56.278Z"
   },
   {
    "duration": 9,
    "start_time": "2024-04-01T07:42:57.195Z"
   },
   {
    "duration": 12,
    "start_time": "2024-04-01T07:42:57.863Z"
   },
   {
    "duration": 6,
    "start_time": "2024-04-01T07:42:58.069Z"
   },
   {
    "duration": 9,
    "start_time": "2024-04-01T07:42:58.283Z"
   },
   {
    "duration": 11,
    "start_time": "2024-04-01T07:42:58.866Z"
   },
   {
    "duration": 10,
    "start_time": "2024-04-01T07:43:00.098Z"
   },
   {
    "duration": 5,
    "start_time": "2024-04-01T07:43:03.883Z"
   },
   {
    "duration": 12,
    "start_time": "2024-04-01T07:43:06.847Z"
   },
   {
    "duration": 6,
    "start_time": "2024-04-01T07:43:07.331Z"
   },
   {
    "duration": 9,
    "start_time": "2024-04-01T07:43:07.742Z"
   },
   {
    "duration": 1088,
    "start_time": "2024-04-01T07:43:11.189Z"
   },
   {
    "duration": 27,
    "start_time": "2024-04-01T07:44:12.188Z"
   },
   {
    "duration": 9,
    "start_time": "2024-04-01T07:47:34.345Z"
   },
   {
    "duration": 12,
    "start_time": "2024-04-01T07:47:40.501Z"
   },
   {
    "duration": 8,
    "start_time": "2024-04-01T07:47:47.039Z"
   },
   {
    "duration": 10,
    "start_time": "2024-04-01T07:47:58.630Z"
   },
   {
    "duration": 6,
    "start_time": "2024-04-01T07:48:04.609Z"
   },
   {
    "duration": 19,
    "start_time": "2024-04-01T07:48:09.739Z"
   },
   {
    "duration": 107,
    "start_time": "2024-04-01T07:48:12.083Z"
   },
   {
    "duration": 21,
    "start_time": "2024-04-01T07:48:13.619Z"
   },
   {
    "duration": 1016,
    "start_time": "2024-04-01T07:48:15.962Z"
   },
   {
    "duration": 12,
    "start_time": "2024-04-01T07:48:28.436Z"
   },
   {
    "duration": 9,
    "start_time": "2024-04-01T07:48:53.149Z"
   },
   {
    "duration": 15,
    "start_time": "2024-04-01T07:48:58.370Z"
   },
   {
    "duration": 5,
    "start_time": "2024-04-01T07:49:05.250Z"
   },
   {
    "duration": 6,
    "start_time": "2024-04-01T07:49:07.713Z"
   },
   {
    "duration": 5,
    "start_time": "2024-04-01T07:49:11.874Z"
   },
   {
    "duration": 4,
    "start_time": "2024-04-01T07:49:15.515Z"
   },
   {
    "duration": 5,
    "start_time": "2024-04-01T07:49:17.117Z"
   },
   {
    "duration": 5,
    "start_time": "2024-04-01T07:49:25.365Z"
   },
   {
    "duration": 12,
    "start_time": "2024-04-01T07:49:31.606Z"
   },
   {
    "duration": 9,
    "start_time": "2024-04-01T07:49:34.851Z"
   },
   {
    "duration": 8,
    "start_time": "2024-04-01T07:49:37.692Z"
   },
   {
    "duration": 8,
    "start_time": "2024-04-01T07:49:40.362Z"
   },
   {
    "duration": 320,
    "start_time": "2024-04-01T07:49:44.184Z"
   },
   {
    "duration": 7,
    "start_time": "2024-04-01T07:49:50.115Z"
   },
   {
    "duration": 9,
    "start_time": "2024-04-01T07:57:51.707Z"
   },
   {
    "duration": 222,
    "start_time": "2024-04-01T07:58:03.737Z"
   },
   {
    "duration": 9,
    "start_time": "2024-04-01T07:58:16.494Z"
   },
   {
    "duration": 211,
    "start_time": "2024-04-01T07:58:17.832Z"
   },
   {
    "duration": 8,
    "start_time": "2024-04-01T07:58:20.574Z"
   },
   {
    "duration": 124,
    "start_time": "2024-04-01T07:58:22.264Z"
   },
   {
    "duration": 5,
    "start_time": "2024-04-01T07:58:24.522Z"
   },
   {
    "duration": 139,
    "start_time": "2024-04-01T07:58:29.712Z"
   },
   {
    "duration": 8,
    "start_time": "2024-04-01T07:59:01.445Z"
   },
   {
    "duration": 158,
    "start_time": "2024-04-01T07:59:02.729Z"
   },
   {
    "duration": 9,
    "start_time": "2024-04-01T07:59:05.375Z"
   },
   {
    "duration": 125,
    "start_time": "2024-04-01T07:59:07.051Z"
   },
   {
    "duration": 9,
    "start_time": "2024-04-01T07:59:09.481Z"
   },
   {
    "duration": 131,
    "start_time": "2024-04-01T07:59:10.705Z"
   },
   {
    "duration": 9,
    "start_time": "2024-04-01T07:59:36.858Z"
   },
   {
    "duration": 139,
    "start_time": "2024-04-01T07:59:52.434Z"
   },
   {
    "duration": 10,
    "start_time": "2024-04-01T08:00:07.565Z"
   },
   {
    "duration": 133,
    "start_time": "2024-04-01T08:00:34.236Z"
   },
   {
    "duration": 9,
    "start_time": "2024-04-01T08:25:33.364Z"
   },
   {
    "duration": 9,
    "start_time": "2024-04-01T08:26:04.273Z"
   },
   {
    "duration": 240,
    "start_time": "2024-04-01T08:26:56.459Z"
   },
   {
    "duration": 301,
    "start_time": "2024-04-01T08:27:07.801Z"
   },
   {
    "duration": 6,
    "start_time": "2024-04-01T08:34:45.815Z"
   },
   {
    "duration": 10,
    "start_time": "2024-04-01T08:35:47.272Z"
   },
   {
    "duration": 165,
    "start_time": "2024-04-01T08:45:11.561Z"
   },
   {
    "duration": 106,
    "start_time": "2024-04-01T10:54:19.435Z"
   },
   {
    "duration": 24,
    "start_time": "2024-04-01T11:32:58.027Z"
   },
   {
    "duration": 19,
    "start_time": "2024-04-01T11:35:35.665Z"
   },
   {
    "duration": 9,
    "start_time": "2024-04-01T11:36:53.816Z"
   },
   {
    "duration": 8,
    "start_time": "2024-04-01T11:37:00.048Z"
   },
   {
    "duration": 16,
    "start_time": "2024-04-01T11:37:12.855Z"
   },
   {
    "duration": 15,
    "start_time": "2024-04-01T11:37:21.371Z"
   },
   {
    "duration": 146,
    "start_time": "2024-04-01T11:42:02.584Z"
   },
   {
    "duration": 1098,
    "start_time": "2024-04-01T12:02:32.353Z"
   },
   {
    "duration": 1130,
    "start_time": "2024-04-01T12:02:57.820Z"
   },
   {
    "duration": 3,
    "start_time": "2024-04-01T12:04:12.348Z"
   },
   {
    "duration": 144,
    "start_time": "2024-04-01T12:04:56.860Z"
   },
   {
    "duration": 168,
    "start_time": "2024-04-01T12:05:13.308Z"
   },
   {
    "duration": 199,
    "start_time": "2024-04-01T12:05:21.593Z"
   },
   {
    "duration": 15,
    "start_time": "2024-04-01T12:05:41.524Z"
   },
   {
    "duration": 19,
    "start_time": "2024-04-01T12:06:31.030Z"
   },
   {
    "duration": 15,
    "start_time": "2024-04-01T12:06:35.658Z"
   },
   {
    "duration": 11,
    "start_time": "2024-04-01T12:36:48.176Z"
   },
   {
    "duration": 17,
    "start_time": "2024-04-01T12:37:00.916Z"
   },
   {
    "duration": 212,
    "start_time": "2024-04-01T12:37:20.296Z"
   },
   {
    "duration": 206,
    "start_time": "2024-04-01T12:39:09.903Z"
   },
   {
    "duration": 206,
    "start_time": "2024-04-01T12:40:05.965Z"
   },
   {
    "duration": 228,
    "start_time": "2024-04-01T12:40:28.564Z"
   },
   {
    "duration": 231,
    "start_time": "2024-04-01T12:40:46.082Z"
   },
   {
    "duration": 200,
    "start_time": "2024-04-01T12:41:06.783Z"
   },
   {
    "duration": 28416,
    "start_time": "2024-04-01T12:43:41.298Z"
   },
   {
    "duration": 9,
    "start_time": "2024-04-01T12:46:02.462Z"
   },
   {
    "duration": 9,
    "start_time": "2024-04-01T12:46:31.033Z"
   },
   {
    "duration": 10,
    "start_time": "2024-04-01T12:46:37.548Z"
   },
   {
    "duration": 10,
    "start_time": "2024-04-01T12:46:40.645Z"
   },
   {
    "duration": 9,
    "start_time": "2024-04-01T12:46:48.421Z"
   },
   {
    "duration": 3,
    "start_time": "2024-04-01T12:46:58.075Z"
   },
   {
    "duration": 129,
    "start_time": "2024-04-01T12:47:08.823Z"
   },
   {
    "duration": 114,
    "start_time": "2024-04-01T12:47:20.672Z"
   },
   {
    "duration": 27365,
    "start_time": "2024-04-01T12:47:27.013Z"
   },
   {
    "duration": 56,
    "start_time": "2024-04-01T12:48:39.036Z"
   },
   {
    "duration": 3162,
    "start_time": "2024-04-01T12:48:48.257Z"
   },
   {
    "duration": 10,
    "start_time": "2024-04-01T12:49:33.743Z"
   },
   {
    "duration": 4301,
    "start_time": "2024-04-01T12:50:29.426Z"
   },
   {
    "duration": 217,
    "start_time": "2024-04-01T12:50:38.019Z"
   },
   {
    "duration": 193,
    "start_time": "2024-04-01T12:51:34.004Z"
   },
   {
    "duration": 153,
    "start_time": "2024-04-01T12:52:09.646Z"
   },
   {
    "duration": 158,
    "start_time": "2024-04-01T12:52:54.799Z"
   },
   {
    "duration": 220,
    "start_time": "2024-04-01T12:53:30.051Z"
   },
   {
    "duration": 3,
    "start_time": "2024-04-01T13:09:05.206Z"
   },
   {
    "duration": 225,
    "start_time": "2024-04-01T13:10:08.332Z"
   },
   {
    "duration": 215,
    "start_time": "2024-04-01T13:10:26.787Z"
   },
   {
    "duration": 232,
    "start_time": "2024-04-01T13:10:50.471Z"
   },
   {
    "duration": 235,
    "start_time": "2024-04-01T13:12:08.165Z"
   },
   {
    "duration": 16,
    "start_time": "2024-04-01T13:12:45.993Z"
   },
   {
    "duration": 208,
    "start_time": "2024-04-01T13:13:19.144Z"
   },
   {
    "duration": 16,
    "start_time": "2024-04-01T13:19:41.684Z"
   },
   {
    "duration": 219,
    "start_time": "2024-04-01T13:20:35.101Z"
   },
   {
    "duration": 14,
    "start_time": "2024-04-01T13:23:25.765Z"
   },
   {
    "duration": 1065,
    "start_time": "2024-04-01T13:24:02.849Z"
   },
   {
    "duration": 221,
    "start_time": "2024-04-01T13:24:21.872Z"
   },
   {
    "duration": 8,
    "start_time": "2024-04-01T13:26:28.660Z"
   },
   {
    "duration": 14,
    "start_time": "2024-04-01T13:26:32.411Z"
   },
   {
    "duration": 183,
    "start_time": "2024-04-01T13:26:47.693Z"
   },
   {
    "duration": 19,
    "start_time": "2024-04-01T13:29:24.107Z"
   },
   {
    "duration": 230,
    "start_time": "2024-04-01T13:40:55.614Z"
   },
   {
    "duration": 13,
    "start_time": "2024-04-01T13:41:39.752Z"
   },
   {
    "duration": 209,
    "start_time": "2024-04-01T13:41:52.560Z"
   },
   {
    "duration": 202,
    "start_time": "2024-04-01T13:42:19.823Z"
   },
   {
    "duration": 268,
    "start_time": "2024-04-01T13:42:29.604Z"
   },
   {
    "duration": 226,
    "start_time": "2024-04-01T13:44:54.068Z"
   },
   {
    "duration": 217,
    "start_time": "2024-04-01T13:45:12.272Z"
   },
   {
    "duration": 102,
    "start_time": "2024-04-01T13:45:19.876Z"
   },
   {
    "duration": 1024,
    "start_time": "2024-04-01T13:45:46.880Z"
   },
   {
    "duration": 119,
    "start_time": "2024-04-01T13:45:53.908Z"
   },
   {
    "duration": 201,
    "start_time": "2024-04-01T13:46:17.783Z"
   },
   {
    "duration": 675,
    "start_time": "2024-04-02T06:08:09.737Z"
   },
   {
    "duration": 15,
    "start_time": "2024-04-02T06:08:13.850Z"
   },
   {
    "duration": 5,
    "start_time": "2024-04-02T06:11:51.990Z"
   },
   {
    "duration": 2371,
    "start_time": "2024-04-02T06:11:58.696Z"
   },
   {
    "duration": 10,
    "start_time": "2024-04-02T06:12:06.378Z"
   },
   {
    "duration": 6,
    "start_time": "2024-04-02T06:12:09.622Z"
   },
   {
    "duration": 14,
    "start_time": "2024-04-02T06:12:12.370Z"
   },
   {
    "duration": 6,
    "start_time": "2024-04-02T06:12:14.617Z"
   },
   {
    "duration": 170,
    "start_time": "2024-04-02T06:12:17.358Z"
   },
   {
    "duration": 10,
    "start_time": "2024-04-02T06:12:21.616Z"
   },
   {
    "duration": 5,
    "start_time": "2024-04-02T06:12:33.838Z"
   },
   {
    "duration": 13,
    "start_time": "2024-04-02T06:12:36.536Z"
   },
   {
    "duration": 7,
    "start_time": "2024-04-02T06:12:39.648Z"
   },
   {
    "duration": 10,
    "start_time": "2024-04-02T06:12:43.456Z"
   },
   {
    "duration": 10,
    "start_time": "2024-04-02T06:12:45.341Z"
   },
   {
    "duration": 12,
    "start_time": "2024-04-02T06:12:47.606Z"
   },
   {
    "duration": 6,
    "start_time": "2024-04-02T06:12:50.610Z"
   },
   {
    "duration": 8,
    "start_time": "2024-04-02T06:12:51.989Z"
   },
   {
    "duration": 11,
    "start_time": "2024-04-02T06:13:01.068Z"
   },
   {
    "duration": 11,
    "start_time": "2024-04-02T06:13:08.526Z"
   },
   {
    "duration": 6,
    "start_time": "2024-04-02T06:13:11.972Z"
   },
   {
    "duration": 19,
    "start_time": "2024-04-02T06:13:13.701Z"
   },
   {
    "duration": 6,
    "start_time": "2024-04-02T06:13:14.987Z"
   },
   {
    "duration": 9,
    "start_time": "2024-04-02T06:13:15.993Z"
   },
   {
    "duration": 9,
    "start_time": "2024-04-02T06:13:18.537Z"
   },
   {
    "duration": 11,
    "start_time": "2024-04-02T06:13:19.987Z"
   },
   {
    "duration": 12,
    "start_time": "2024-04-02T06:13:22.714Z"
   },
   {
    "duration": 5,
    "start_time": "2024-04-02T06:13:25.722Z"
   },
   {
    "duration": 19,
    "start_time": "2024-04-02T06:13:28.211Z"
   },
   {
    "duration": 113,
    "start_time": "2024-04-02T06:13:30.009Z"
   },
   {
    "duration": 20,
    "start_time": "2024-04-02T06:13:31.732Z"
   },
   {
    "duration": 12,
    "start_time": "2024-04-02T06:13:38.846Z"
   },
   {
    "duration": 18,
    "start_time": "2024-04-02T06:13:44.255Z"
   },
   {
    "duration": 6,
    "start_time": "2024-04-02T06:13:46.674Z"
   },
   {
    "duration": 5,
    "start_time": "2024-04-02T06:13:48.288Z"
   },
   {
    "duration": 5,
    "start_time": "2024-04-02T06:13:51.978Z"
   },
   {
    "duration": 4,
    "start_time": "2024-04-02T06:13:55.860Z"
   },
   {
    "duration": 7,
    "start_time": "2024-04-02T06:13:58.506Z"
   },
   {
    "duration": 5,
    "start_time": "2024-04-02T06:14:00.283Z"
   },
   {
    "duration": 11,
    "start_time": "2024-04-02T06:14:03.701Z"
   },
   {
    "duration": 8,
    "start_time": "2024-04-02T06:14:05.856Z"
   },
   {
    "duration": 7,
    "start_time": "2024-04-02T06:14:07.767Z"
   },
   {
    "duration": 8,
    "start_time": "2024-04-02T06:14:09.656Z"
   },
   {
    "duration": 323,
    "start_time": "2024-04-02T06:14:12.193Z"
   },
   {
    "duration": 388,
    "start_time": "2024-04-02T06:14:18.429Z"
   },
   {
    "duration": 7,
    "start_time": "2024-04-02T06:14:22.670Z"
   },
   {
    "duration": 225,
    "start_time": "2024-04-02T06:23:50.372Z"
   },
   {
    "duration": 11,
    "start_time": "2024-04-02T06:23:58.696Z"
   },
   {
    "duration": 9,
    "start_time": "2024-04-02T06:24:02.100Z"
   },
   {
    "duration": 137,
    "start_time": "2024-04-02T06:24:04.139Z"
   },
   {
    "duration": 9,
    "start_time": "2024-04-02T06:24:09.112Z"
   },
   {
    "duration": 129,
    "start_time": "2024-04-02T06:24:10.776Z"
   },
   {
    "duration": 6,
    "start_time": "2024-04-02T06:24:12.938Z"
   },
   {
    "duration": 156,
    "start_time": "2024-04-02T06:24:14.626Z"
   },
   {
    "duration": 8,
    "start_time": "2024-04-02T06:28:38.450Z"
   },
   {
    "duration": 166,
    "start_time": "2024-04-02T06:28:40.663Z"
   },
   {
    "duration": 69,
    "start_time": "2024-04-02T06:33:01.782Z"
   },
   {
    "duration": 9,
    "start_time": "2024-04-02T06:34:21.841Z"
   },
   {
    "duration": 148,
    "start_time": "2024-04-02T06:35:01.155Z"
   },
   {
    "duration": 11,
    "start_time": "2024-04-02T06:50:30.440Z"
   },
   {
    "duration": 136,
    "start_time": "2024-04-02T06:50:37.377Z"
   },
   {
    "duration": 11,
    "start_time": "2024-04-02T07:50:58.377Z"
   },
   {
    "duration": 26,
    "start_time": "2024-04-02T07:51:18.345Z"
   },
   {
    "duration": 119,
    "start_time": "2024-04-02T07:51:33.268Z"
   },
   {
    "duration": 9,
    "start_time": "2024-04-02T07:51:36.496Z"
   },
   {
    "duration": 202,
    "start_time": "2024-04-02T07:51:38.454Z"
   },
   {
    "duration": 8,
    "start_time": "2024-04-02T07:51:44.003Z"
   },
   {
    "duration": 126,
    "start_time": "2024-04-02T07:51:47.133Z"
   },
   {
    "duration": 10,
    "start_time": "2024-04-02T07:51:50.893Z"
   },
   {
    "duration": 141,
    "start_time": "2024-04-02T07:51:52.863Z"
   },
   {
    "duration": 15,
    "start_time": "2024-04-02T07:51:55.155Z"
   },
   {
    "duration": 145,
    "start_time": "2024-04-02T07:51:57.043Z"
   },
   {
    "duration": 17,
    "start_time": "2024-04-02T07:52:00.956Z"
   },
   {
    "duration": 60,
    "start_time": "2024-04-02T07:52:22.170Z"
   },
   {
    "duration": 191,
    "start_time": "2024-04-02T07:52:28.922Z"
   },
   {
    "duration": 54,
    "start_time": "2024-04-02T07:52:47.836Z"
   },
   {
    "duration": 60,
    "start_time": "2024-04-02T07:53:01.088Z"
   },
   {
    "duration": 178,
    "start_time": "2024-04-02T07:53:08.278Z"
   },
   {
    "duration": 256,
    "start_time": "2024-04-02T07:53:12.684Z"
   },
   {
    "duration": 18,
    "start_time": "2024-04-02T07:53:35.509Z"
   },
   {
    "duration": 259,
    "start_time": "2024-04-02T07:53:51.753Z"
   },
   {
    "duration": 202,
    "start_time": "2024-04-02T07:54:08.521Z"
   },
   {
    "duration": 167,
    "start_time": "2024-04-02T07:54:15.233Z"
   },
   {
    "duration": 196,
    "start_time": "2024-04-02T07:54:26.391Z"
   },
   {
    "duration": 189,
    "start_time": "2024-04-02T07:54:35.563Z"
   },
   {
    "duration": 219,
    "start_time": "2024-04-02T07:54:43.026Z"
   },
   {
    "duration": 16,
    "start_time": "2024-04-02T07:55:08.124Z"
   },
   {
    "duration": 193,
    "start_time": "2024-04-02T07:55:24.226Z"
   },
   {
    "duration": 18,
    "start_time": "2024-04-02T07:55:52.950Z"
   },
   {
    "duration": 188,
    "start_time": "2024-04-02T07:55:59.134Z"
   },
   {
    "duration": 15,
    "start_time": "2024-04-02T07:56:44.616Z"
   },
   {
    "duration": 172,
    "start_time": "2024-04-02T07:56:51.543Z"
   },
   {
    "duration": 18,
    "start_time": "2024-04-02T07:57:03.545Z"
   },
   {
    "duration": 205,
    "start_time": "2024-04-02T07:57:09.828Z"
   },
   {
    "duration": 291,
    "start_time": "2024-04-02T08:53:13.479Z"
   },
   {
    "duration": 225,
    "start_time": "2024-04-02T09:18:29.135Z"
   },
   {
    "duration": 7,
    "start_time": "2024-04-02T09:45:01.016Z"
   },
   {
    "duration": 28,
    "start_time": "2024-04-02T09:45:14.416Z"
   },
   {
    "duration": 5,
    "start_time": "2024-04-02T09:45:23.331Z"
   },
   {
    "duration": 8,
    "start_time": "2024-04-02T09:45:38.604Z"
   },
   {
    "duration": 10,
    "start_time": "2024-04-02T09:45:56.698Z"
   },
   {
    "duration": 5,
    "start_time": "2024-04-02T09:46:38.799Z"
   },
   {
    "duration": 9,
    "start_time": "2024-04-02T09:47:12.982Z"
   },
   {
    "duration": 8,
    "start_time": "2024-04-02T09:47:40.127Z"
   },
   {
    "duration": 7,
    "start_time": "2024-04-02T09:57:55.490Z"
   },
   {
    "duration": 19,
    "start_time": "2024-04-02T09:58:05.930Z"
   },
   {
    "duration": 12,
    "start_time": "2024-04-02T09:58:58.995Z"
   },
   {
    "duration": 11,
    "start_time": "2024-04-02T09:59:05.593Z"
   },
   {
    "duration": 11,
    "start_time": "2024-04-02T09:59:25.476Z"
   },
   {
    "duration": 12,
    "start_time": "2024-04-02T09:59:32.021Z"
   },
   {
    "duration": 9,
    "start_time": "2024-04-02T09:59:44.869Z"
   },
   {
    "duration": 64,
    "start_time": "2024-04-02T10:08:11.668Z"
   },
   {
    "duration": 10,
    "start_time": "2024-04-02T10:08:33.277Z"
   },
   {
    "duration": 8,
    "start_time": "2024-04-02T10:08:44.409Z"
   },
   {
    "duration": 9,
    "start_time": "2024-04-02T10:08:57.466Z"
   },
   {
    "duration": 9,
    "start_time": "2024-04-02T11:24:09.673Z"
   },
   {
    "duration": 17,
    "start_time": "2024-04-02T11:24:18.744Z"
   },
   {
    "duration": 107,
    "start_time": "2024-04-02T11:29:21.246Z"
   },
   {
    "duration": 37,
    "start_time": "2024-04-02T11:30:06.554Z"
   },
   {
    "duration": 17,
    "start_time": "2024-04-02T11:33:16.410Z"
   },
   {
    "duration": 17,
    "start_time": "2024-04-02T11:33:33.917Z"
   },
   {
    "duration": 17,
    "start_time": "2024-04-02T11:34:18.497Z"
   },
   {
    "duration": 19,
    "start_time": "2024-04-02T11:34:24.109Z"
   },
   {
    "duration": 17,
    "start_time": "2024-04-02T11:34:33.496Z"
   },
   {
    "duration": 45,
    "start_time": "2024-04-02T11:47:54.167Z"
   },
   {
    "duration": 652,
    "start_time": "2024-04-02T11:48:28.292Z"
   },
   {
    "duration": 15,
    "start_time": "2024-04-02T11:48:28.946Z"
   },
   {
    "duration": 2192,
    "start_time": "2024-04-02T11:48:28.963Z"
   },
   {
    "duration": 3,
    "start_time": "2024-04-02T11:48:31.158Z"
   },
   {
    "duration": 88,
    "start_time": "2024-04-02T11:48:31.163Z"
   },
   {
    "duration": 77,
    "start_time": "2024-04-02T11:48:31.253Z"
   },
   {
    "duration": 94,
    "start_time": "2024-04-02T11:48:31.332Z"
   },
   {
    "duration": 50,
    "start_time": "2024-04-02T11:48:31.428Z"
   },
   {
    "duration": 276,
    "start_time": "2024-04-02T11:48:31.479Z"
   },
   {
    "duration": 14,
    "start_time": "2024-04-02T11:48:31.758Z"
   },
   {
    "duration": 26,
    "start_time": "2024-04-02T11:48:31.773Z"
   },
   {
    "duration": 27,
    "start_time": "2024-04-02T11:48:31.801Z"
   },
   {
    "duration": 16,
    "start_time": "2024-04-02T11:48:31.830Z"
   },
   {
    "duration": 43,
    "start_time": "2024-04-02T11:48:31.848Z"
   },
   {
    "duration": 16,
    "start_time": "2024-04-02T11:48:31.893Z"
   },
   {
    "duration": 30,
    "start_time": "2024-04-02T11:48:31.910Z"
   },
   {
    "duration": 8,
    "start_time": "2024-04-02T11:48:31.942Z"
   },
   {
    "duration": 15,
    "start_time": "2024-04-02T11:48:31.952Z"
   },
   {
    "duration": 22,
    "start_time": "2024-04-02T11:48:31.969Z"
   },
   {
    "duration": 17,
    "start_time": "2024-04-02T11:48:31.992Z"
   },
   {
    "duration": 12,
    "start_time": "2024-04-02T11:48:32.011Z"
   },
   {
    "duration": 20,
    "start_time": "2024-04-02T11:48:32.024Z"
   },
   {
    "duration": 13,
    "start_time": "2024-04-02T11:48:32.046Z"
   },
   {
    "duration": 27,
    "start_time": "2024-04-02T11:48:32.061Z"
   },
   {
    "duration": 11,
    "start_time": "2024-04-02T11:48:32.090Z"
   },
   {
    "duration": 19,
    "start_time": "2024-04-02T11:48:32.102Z"
   },
   {
    "duration": 34,
    "start_time": "2024-04-02T11:48:32.122Z"
   },
   {
    "duration": 7,
    "start_time": "2024-04-02T11:48:32.162Z"
   },
   {
    "duration": 31,
    "start_time": "2024-04-02T11:48:32.171Z"
   },
   {
    "duration": 115,
    "start_time": "2024-04-02T11:48:32.203Z"
   },
   {
    "duration": 20,
    "start_time": "2024-04-02T11:48:32.320Z"
   },
   {
    "duration": 10,
    "start_time": "2024-04-02T11:48:32.341Z"
   },
   {
    "duration": 14,
    "start_time": "2024-04-02T11:48:32.365Z"
   },
   {
    "duration": 5,
    "start_time": "2024-04-02T11:48:32.381Z"
   },
   {
    "duration": 5,
    "start_time": "2024-04-02T11:48:32.387Z"
   },
   {
    "duration": 5,
    "start_time": "2024-04-02T11:48:32.394Z"
   },
   {
    "duration": 4,
    "start_time": "2024-04-02T11:48:32.401Z"
   },
   {
    "duration": 5,
    "start_time": "2024-04-02T11:48:32.407Z"
   },
   {
    "duration": 7,
    "start_time": "2024-04-02T11:48:32.414Z"
   },
   {
    "duration": 44,
    "start_time": "2024-04-02T11:48:32.422Z"
   },
   {
    "duration": 7,
    "start_time": "2024-04-02T11:48:32.468Z"
   },
   {
    "duration": 7,
    "start_time": "2024-04-02T11:48:32.476Z"
   },
   {
    "duration": 7,
    "start_time": "2024-04-02T11:48:32.484Z"
   },
   {
    "duration": 349,
    "start_time": "2024-04-02T11:48:32.492Z"
   },
   {
    "duration": 6,
    "start_time": "2024-04-02T11:48:32.843Z"
   },
   {
    "duration": 20,
    "start_time": "2024-04-02T11:48:32.850Z"
   },
   {
    "duration": 220,
    "start_time": "2024-04-02T11:48:32.871Z"
   },
   {
    "duration": 8,
    "start_time": "2024-04-02T11:48:33.092Z"
   },
   {
    "duration": 219,
    "start_time": "2024-04-02T11:48:33.101Z"
   },
   {
    "duration": 9,
    "start_time": "2024-04-02T11:48:33.322Z"
   },
   {
    "duration": 139,
    "start_time": "2024-04-02T11:48:33.332Z"
   },
   {
    "duration": 9,
    "start_time": "2024-04-02T11:48:33.472Z"
   },
   {
    "duration": 143,
    "start_time": "2024-04-02T11:48:33.482Z"
   },
   {
    "duration": 8,
    "start_time": "2024-04-02T11:48:33.627Z"
   },
   {
    "duration": 166,
    "start_time": "2024-04-02T11:48:33.636Z"
   },
   {
    "duration": 10,
    "start_time": "2024-04-02T11:48:33.804Z"
   },
   {
    "duration": 134,
    "start_time": "2024-04-02T11:48:33.815Z"
   },
   {
    "duration": 16,
    "start_time": "2024-04-02T11:48:33.951Z"
   },
   {
    "duration": 129,
    "start_time": "2024-04-02T11:48:33.969Z"
   },
   {
    "duration": 9,
    "start_time": "2024-04-02T11:48:34.099Z"
   },
   {
    "duration": 142,
    "start_time": "2024-04-02T11:48:34.110Z"
   },
   {
    "duration": 20,
    "start_time": "2024-04-02T11:48:34.254Z"
   },
   {
    "duration": 146,
    "start_time": "2024-04-02T11:48:34.276Z"
   },
   {
    "duration": 10,
    "start_time": "2024-04-02T11:48:34.424Z"
   },
   {
    "duration": 151,
    "start_time": "2024-04-02T11:48:34.436Z"
   },
   {
    "duration": 20,
    "start_time": "2024-04-02T11:48:34.588Z"
   },
   {
    "duration": 276,
    "start_time": "2024-04-02T11:48:34.609Z"
   },
   {
    "duration": 16,
    "start_time": "2024-04-02T11:48:34.887Z"
   },
   {
    "duration": 217,
    "start_time": "2024-04-02T11:48:34.905Z"
   },
   {
    "duration": 16,
    "start_time": "2024-04-02T11:48:35.123Z"
   },
   {
    "duration": 215,
    "start_time": "2024-04-02T11:48:35.141Z"
   },
   {
    "duration": 20,
    "start_time": "2024-04-02T11:48:35.357Z"
   },
   {
    "duration": 195,
    "start_time": "2024-04-02T11:48:35.378Z"
   },
   {
    "duration": 14,
    "start_time": "2024-04-02T11:48:35.574Z"
   },
   {
    "duration": 168,
    "start_time": "2024-04-02T11:48:35.590Z"
   },
   {
    "duration": 19,
    "start_time": "2024-04-02T11:48:35.765Z"
   },
   {
    "duration": 319,
    "start_time": "2024-04-02T11:48:35.785Z"
   },
   {
    "duration": 211,
    "start_time": "2024-04-02T11:48:36.105Z"
   },
   {
    "duration": 204,
    "start_time": "2024-04-02T11:48:36.317Z"
   },
   {
    "duration": 60,
    "start_time": "2024-04-02T11:48:36.523Z"
   },
   {
    "duration": 0,
    "start_time": "2024-04-02T11:48:36.584Z"
   },
   {
    "duration": 0,
    "start_time": "2024-04-02T11:48:36.586Z"
   },
   {
    "duration": 7,
    "start_time": "2024-04-02T11:49:08.108Z"
   },
   {
    "duration": 46,
    "start_time": "2024-04-02T11:49:38.304Z"
   },
   {
    "duration": 677,
    "start_time": "2024-04-02T11:49:46.356Z"
   },
   {
    "duration": 15,
    "start_time": "2024-04-02T11:49:47.035Z"
   },
   {
    "duration": 2155,
    "start_time": "2024-04-02T11:49:47.052Z"
   },
   {
    "duration": 4,
    "start_time": "2024-04-02T11:49:49.210Z"
   },
   {
    "duration": 14,
    "start_time": "2024-04-02T11:49:49.216Z"
   },
   {
    "duration": 7,
    "start_time": "2024-04-02T11:49:49.232Z"
   },
   {
    "duration": 15,
    "start_time": "2024-04-02T11:49:49.241Z"
   },
   {
    "duration": 10,
    "start_time": "2024-04-02T11:49:49.257Z"
   },
   {
    "duration": 191,
    "start_time": "2024-04-02T11:49:49.269Z"
   },
   {
    "duration": 12,
    "start_time": "2024-04-02T11:49:49.463Z"
   },
   {
    "duration": 6,
    "start_time": "2024-04-02T11:49:49.476Z"
   },
   {
    "duration": 35,
    "start_time": "2024-04-02T11:49:49.484Z"
   },
   {
    "duration": 7,
    "start_time": "2024-04-02T11:49:49.521Z"
   },
   {
    "duration": 13,
    "start_time": "2024-04-02T11:49:49.530Z"
   },
   {
    "duration": 22,
    "start_time": "2024-04-02T11:49:49.544Z"
   },
   {
    "duration": 14,
    "start_time": "2024-04-02T11:49:49.568Z"
   },
   {
    "duration": 8,
    "start_time": "2024-04-02T11:49:49.583Z"
   },
   {
    "duration": 30,
    "start_time": "2024-04-02T11:49:49.593Z"
   },
   {
    "duration": 22,
    "start_time": "2024-04-02T11:49:49.624Z"
   },
   {
    "duration": 18,
    "start_time": "2024-04-02T11:49:49.648Z"
   },
   {
    "duration": 37,
    "start_time": "2024-04-02T11:49:49.667Z"
   },
   {
    "duration": 17,
    "start_time": "2024-04-02T11:49:49.706Z"
   },
   {
    "duration": 14,
    "start_time": "2024-04-02T11:49:49.724Z"
   },
   {
    "duration": 19,
    "start_time": "2024-04-02T11:49:49.739Z"
   },
   {
    "duration": 9,
    "start_time": "2024-04-02T11:49:49.759Z"
   },
   {
    "duration": 10,
    "start_time": "2024-04-02T11:49:49.770Z"
   },
   {
    "duration": 28,
    "start_time": "2024-04-02T11:49:49.781Z"
   },
   {
    "duration": 6,
    "start_time": "2024-04-02T11:49:49.813Z"
   },
   {
    "duration": 28,
    "start_time": "2024-04-02T11:49:49.821Z"
   },
   {
    "duration": 109,
    "start_time": "2024-04-02T11:49:49.851Z"
   },
   {
    "duration": 20,
    "start_time": "2024-04-02T11:49:49.961Z"
   },
   {
    "duration": 10,
    "start_time": "2024-04-02T11:49:49.983Z"
   },
   {
    "duration": 15,
    "start_time": "2024-04-02T11:49:49.995Z"
   },
   {
    "duration": 6,
    "start_time": "2024-04-02T11:49:50.012Z"
   },
   {
    "duration": 22,
    "start_time": "2024-04-02T11:49:50.019Z"
   },
   {
    "duration": 32,
    "start_time": "2024-04-02T11:49:50.043Z"
   },
   {
    "duration": 23,
    "start_time": "2024-04-02T11:49:50.076Z"
   },
   {
    "duration": 25,
    "start_time": "2024-04-02T11:49:50.101Z"
   },
   {
    "duration": 17,
    "start_time": "2024-04-02T11:49:50.128Z"
   },
   {
    "duration": 19,
    "start_time": "2024-04-02T11:49:50.146Z"
   },
   {
    "duration": 10,
    "start_time": "2024-04-02T11:49:50.166Z"
   },
   {
    "duration": 7,
    "start_time": "2024-04-02T11:49:50.178Z"
   },
   {
    "duration": 12,
    "start_time": "2024-04-02T11:49:50.186Z"
   },
   {
    "duration": 341,
    "start_time": "2024-04-02T11:49:50.200Z"
   },
   {
    "duration": 7,
    "start_time": "2024-04-02T11:49:50.542Z"
   },
   {
    "duration": 18,
    "start_time": "2024-04-02T11:49:50.550Z"
   },
   {
    "duration": 249,
    "start_time": "2024-04-02T11:49:50.570Z"
   },
   {
    "duration": 9,
    "start_time": "2024-04-02T11:49:50.821Z"
   },
   {
    "duration": 238,
    "start_time": "2024-04-02T11:49:50.831Z"
   },
   {
    "duration": 8,
    "start_time": "2024-04-02T11:49:51.071Z"
   },
   {
    "duration": 154,
    "start_time": "2024-04-02T11:49:51.081Z"
   },
   {
    "duration": 9,
    "start_time": "2024-04-02T11:49:51.237Z"
   },
   {
    "duration": 143,
    "start_time": "2024-04-02T11:49:51.248Z"
   },
   {
    "duration": 9,
    "start_time": "2024-04-02T11:49:51.393Z"
   },
   {
    "duration": 162,
    "start_time": "2024-04-02T11:49:51.403Z"
   },
   {
    "duration": 9,
    "start_time": "2024-04-02T11:49:51.567Z"
   },
   {
    "duration": 145,
    "start_time": "2024-04-02T11:49:51.578Z"
   },
   {
    "duration": 9,
    "start_time": "2024-04-02T11:49:51.725Z"
   },
   {
    "duration": 136,
    "start_time": "2024-04-02T11:49:51.736Z"
   },
   {
    "duration": 9,
    "start_time": "2024-04-02T11:49:51.873Z"
   },
   {
    "duration": 154,
    "start_time": "2024-04-02T11:49:51.884Z"
   },
   {
    "duration": 10,
    "start_time": "2024-04-02T11:49:52.040Z"
   },
   {
    "duration": 154,
    "start_time": "2024-04-02T11:49:52.051Z"
   },
   {
    "duration": 9,
    "start_time": "2024-04-02T11:49:52.207Z"
   },
   {
    "duration": 154,
    "start_time": "2024-04-02T11:49:52.218Z"
   },
   {
    "duration": 20,
    "start_time": "2024-04-02T11:49:52.374Z"
   },
   {
    "duration": 271,
    "start_time": "2024-04-02T11:49:52.396Z"
   },
   {
    "duration": 18,
    "start_time": "2024-04-02T11:49:52.669Z"
   },
   {
    "duration": 209,
    "start_time": "2024-04-02T11:49:52.689Z"
   },
   {
    "duration": 16,
    "start_time": "2024-04-02T11:49:52.899Z"
   },
   {
    "duration": 208,
    "start_time": "2024-04-02T11:49:52.917Z"
   },
   {
    "duration": 14,
    "start_time": "2024-04-02T11:49:53.126Z"
   },
   {
    "duration": 195,
    "start_time": "2024-04-02T11:49:53.141Z"
   },
   {
    "duration": 14,
    "start_time": "2024-04-02T11:49:53.337Z"
   },
   {
    "duration": 168,
    "start_time": "2024-04-02T11:49:53.353Z"
   },
   {
    "duration": 18,
    "start_time": "2024-04-02T11:49:53.523Z"
   },
   {
    "duration": 297,
    "start_time": "2024-04-02T11:49:53.543Z"
   },
   {
    "duration": 212,
    "start_time": "2024-04-02T11:49:53.842Z"
   },
   {
    "duration": 228,
    "start_time": "2024-04-02T11:49:54.055Z"
   },
   {
    "duration": 55,
    "start_time": "2024-04-02T11:49:54.285Z"
   },
   {
    "duration": 0,
    "start_time": "2024-04-02T11:49:54.342Z"
   },
   {
    "duration": 0,
    "start_time": "2024-04-02T11:49:54.343Z"
   },
   {
    "duration": 20,
    "start_time": "2024-04-02T11:50:07.480Z"
   },
   {
    "duration": 43,
    "start_time": "2024-04-02T12:01:20.344Z"
   },
   {
    "duration": 2599,
    "start_time": "2024-04-02T12:03:05.086Z"
   },
   {
    "duration": 13,
    "start_time": "2024-04-02T12:03:20.378Z"
   },
   {
    "duration": 1115,
    "start_time": "2024-04-02T12:03:33.539Z"
   },
   {
    "duration": 8,
    "start_time": "2024-04-02T12:03:46.081Z"
   },
   {
    "duration": 43,
    "start_time": "2024-04-02T12:03:53.818Z"
   },
   {
    "duration": 15,
    "start_time": "2024-04-02T12:06:05.585Z"
   },
   {
    "duration": 7,
    "start_time": "2024-04-02T12:08:34.152Z"
   },
   {
    "duration": 13,
    "start_time": "2024-04-02T12:08:40.791Z"
   },
   {
    "duration": 15,
    "start_time": "2024-04-02T12:09:43.460Z"
   },
   {
    "duration": 21,
    "start_time": "2024-04-02T12:10:04.377Z"
   },
   {
    "duration": 26,
    "start_time": "2024-04-02T12:16:09.003Z"
   },
   {
    "duration": 23,
    "start_time": "2024-04-02T12:16:35.370Z"
   },
   {
    "duration": 17,
    "start_time": "2024-04-02T12:17:50.629Z"
   },
   {
    "duration": 46,
    "start_time": "2024-04-02T12:19:39.515Z"
   },
   {
    "duration": 999,
    "start_time": "2024-04-02T12:19:52.773Z"
   },
   {
    "duration": 22,
    "start_time": "2024-04-02T12:20:43.860Z"
   },
   {
    "duration": 28,
    "start_time": "2024-04-02T12:21:02.773Z"
   },
   {
    "duration": 35,
    "start_time": "2024-04-02T12:21:15.695Z"
   },
   {
    "duration": 21,
    "start_time": "2024-04-02T12:21:44.921Z"
   },
   {
    "duration": 16,
    "start_time": "2024-04-02T12:26:36.114Z"
   },
   {
    "duration": 16,
    "start_time": "2024-04-02T12:26:43.562Z"
   },
   {
    "duration": 17,
    "start_time": "2024-04-02T12:27:10.831Z"
   },
   {
    "duration": 14,
    "start_time": "2024-04-02T12:27:18.827Z"
   },
   {
    "duration": 17,
    "start_time": "2024-04-02T12:27:58.381Z"
   },
   {
    "duration": 18,
    "start_time": "2024-04-02T12:28:11.509Z"
   },
   {
    "duration": 15,
    "start_time": "2024-04-02T12:29:43.896Z"
   },
   {
    "duration": 17,
    "start_time": "2024-04-02T12:30:27.922Z"
   },
   {
    "duration": 15,
    "start_time": "2024-04-02T12:31:07.228Z"
   },
   {
    "duration": 17,
    "start_time": "2024-04-02T12:34:04.065Z"
   },
   {
    "duration": 20,
    "start_time": "2024-04-02T12:35:43.943Z"
   },
   {
    "duration": 16,
    "start_time": "2024-04-02T12:35:52.201Z"
   },
   {
    "duration": 23,
    "start_time": "2024-04-02T12:36:25.278Z"
   },
   {
    "duration": 21,
    "start_time": "2024-04-02T12:36:48.094Z"
   },
   {
    "duration": 24,
    "start_time": "2024-04-02T12:36:57.289Z"
   },
   {
    "duration": 24,
    "start_time": "2024-04-02T12:37:08.311Z"
   },
   {
    "duration": 21,
    "start_time": "2024-04-02T12:37:34.262Z"
   },
   {
    "duration": 18,
    "start_time": "2024-04-02T12:43:21.997Z"
   },
   {
    "duration": 22,
    "start_time": "2024-04-02T12:45:23.563Z"
   },
   {
    "duration": 11,
    "start_time": "2024-04-02T12:46:23.235Z"
   },
   {
    "duration": 22,
    "start_time": "2024-04-02T12:50:38.031Z"
   },
   {
    "duration": 24,
    "start_time": "2024-04-02T12:58:04.805Z"
   },
   {
    "duration": 25,
    "start_time": "2024-04-02T12:58:30.051Z"
   },
   {
    "duration": 63,
    "start_time": "2024-04-02T13:20:02.717Z"
   },
   {
    "duration": 20,
    "start_time": "2024-04-02T13:42:12.727Z"
   },
   {
    "duration": 20,
    "start_time": "2024-04-02T13:42:18.335Z"
   },
   {
    "duration": 27,
    "start_time": "2024-04-02T13:42:44.657Z"
   },
   {
    "duration": 19,
    "start_time": "2024-04-02T13:48:30.208Z"
   },
   {
    "duration": 25,
    "start_time": "2024-04-02T13:49:00.255Z"
   },
   {
    "duration": 18,
    "start_time": "2024-04-02T13:50:06.902Z"
   },
   {
    "duration": 11,
    "start_time": "2024-04-02T13:50:10.866Z"
   },
   {
    "duration": 39880,
    "start_time": "2024-04-02T13:50:59.680Z"
   },
   {
    "duration": 8,
    "start_time": "2024-04-02T13:51:39.571Z"
   },
   {
    "duration": 39694,
    "start_time": "2024-04-02T13:51:44.263Z"
   },
   {
    "duration": 27,
    "start_time": "2024-04-02T13:54:42.708Z"
   },
   {
    "duration": 485,
    "start_time": "2024-04-02T13:55:25.998Z"
   },
   {
    "duration": 15,
    "start_time": "2024-04-02T13:55:26.484Z"
   },
   {
    "duration": 2190,
    "start_time": "2024-04-02T13:55:26.501Z"
   },
   {
    "duration": 4,
    "start_time": "2024-04-02T13:55:28.693Z"
   },
   {
    "duration": 14,
    "start_time": "2024-04-02T13:55:28.699Z"
   },
   {
    "duration": 6,
    "start_time": "2024-04-02T13:55:28.714Z"
   },
   {
    "duration": 15,
    "start_time": "2024-04-02T13:55:28.722Z"
   },
   {
    "duration": 6,
    "start_time": "2024-04-02T13:55:28.739Z"
   },
   {
    "duration": 210,
    "start_time": "2024-04-02T13:55:28.746Z"
   },
   {
    "duration": 11,
    "start_time": "2024-04-02T13:55:28.965Z"
   },
   {
    "duration": 8,
    "start_time": "2024-04-02T13:55:28.978Z"
   },
   {
    "duration": 28,
    "start_time": "2024-04-02T13:55:28.988Z"
   },
   {
    "duration": 6,
    "start_time": "2024-04-02T13:55:29.018Z"
   },
   {
    "duration": 14,
    "start_time": "2024-04-02T13:55:29.025Z"
   },
   {
    "duration": 26,
    "start_time": "2024-04-02T13:55:29.040Z"
   },
   {
    "duration": 11,
    "start_time": "2024-04-02T13:55:29.068Z"
   },
   {
    "duration": 7,
    "start_time": "2024-04-02T13:55:29.080Z"
   },
   {
    "duration": 11,
    "start_time": "2024-04-02T13:55:29.089Z"
   },
   {
    "duration": 11,
    "start_time": "2024-04-02T13:55:29.102Z"
   },
   {
    "duration": 14,
    "start_time": "2024-04-02T13:55:29.115Z"
   },
   {
    "duration": 5,
    "start_time": "2024-04-02T13:55:29.166Z"
   },
   {
    "duration": 23,
    "start_time": "2024-04-02T13:55:29.173Z"
   },
   {
    "duration": 9,
    "start_time": "2024-04-02T13:55:29.198Z"
   },
   {
    "duration": 11,
    "start_time": "2024-04-02T13:55:29.208Z"
   },
   {
    "duration": 11,
    "start_time": "2024-04-02T13:55:29.220Z"
   },
   {
    "duration": 39,
    "start_time": "2024-04-02T13:55:29.233Z"
   },
   {
    "duration": 12,
    "start_time": "2024-04-02T13:55:29.274Z"
   },
   {
    "duration": 6,
    "start_time": "2024-04-02T13:55:29.289Z"
   },
   {
    "duration": 29,
    "start_time": "2024-04-02T13:55:29.297Z"
   },
   {
    "duration": 137,
    "start_time": "2024-04-02T13:55:29.328Z"
   },
   {
    "duration": 19,
    "start_time": "2024-04-02T13:55:29.467Z"
   },
   {
    "duration": 9,
    "start_time": "2024-04-02T13:55:29.488Z"
   },
   {
    "duration": 14,
    "start_time": "2024-04-02T13:55:29.499Z"
   },
   {
    "duration": 5,
    "start_time": "2024-04-02T13:55:29.514Z"
   },
   {
    "duration": 31,
    "start_time": "2024-04-02T13:55:29.521Z"
   },
   {
    "duration": 13,
    "start_time": "2024-04-02T13:55:29.553Z"
   },
   {
    "duration": 5,
    "start_time": "2024-04-02T13:55:29.568Z"
   },
   {
    "duration": 6,
    "start_time": "2024-04-02T13:55:29.575Z"
   },
   {
    "duration": 6,
    "start_time": "2024-04-02T13:55:29.582Z"
   },
   {
    "duration": 12,
    "start_time": "2024-04-02T13:55:29.590Z"
   },
   {
    "duration": 12,
    "start_time": "2024-04-02T13:55:29.604Z"
   },
   {
    "duration": 8,
    "start_time": "2024-04-02T13:55:29.618Z"
   },
   {
    "duration": 44,
    "start_time": "2024-04-02T13:55:29.627Z"
   },
   {
    "duration": 350,
    "start_time": "2024-04-02T13:55:29.672Z"
   },
   {
    "duration": 7,
    "start_time": "2024-04-02T13:55:30.023Z"
   },
   {
    "duration": 50,
    "start_time": "2024-04-02T13:55:30.032Z"
   },
   {
    "duration": 252,
    "start_time": "2024-04-02T13:55:30.084Z"
   },
   {
    "duration": 9,
    "start_time": "2024-04-02T13:55:30.338Z"
   },
   {
    "duration": 296,
    "start_time": "2024-04-02T13:55:30.348Z"
   },
   {
    "duration": 21,
    "start_time": "2024-04-02T13:55:30.646Z"
   },
   {
    "duration": 171,
    "start_time": "2024-04-02T13:55:30.669Z"
   },
   {
    "duration": 9,
    "start_time": "2024-04-02T13:55:30.842Z"
   },
   {
    "duration": 172,
    "start_time": "2024-04-02T13:55:30.852Z"
   },
   {
    "duration": 8,
    "start_time": "2024-04-02T13:55:31.025Z"
   },
   {
    "duration": 198,
    "start_time": "2024-04-02T13:55:31.034Z"
   },
   {
    "duration": 9,
    "start_time": "2024-04-02T13:55:31.233Z"
   },
   {
    "duration": 160,
    "start_time": "2024-04-02T13:55:31.244Z"
   },
   {
    "duration": 8,
    "start_time": "2024-04-02T13:55:31.405Z"
   },
   {
    "duration": 151,
    "start_time": "2024-04-02T13:55:31.414Z"
   },
   {
    "duration": 8,
    "start_time": "2024-04-02T13:55:31.567Z"
   },
   {
    "duration": 147,
    "start_time": "2024-04-02T13:55:31.576Z"
   },
   {
    "duration": 9,
    "start_time": "2024-04-02T13:55:31.724Z"
   },
   {
    "duration": 148,
    "start_time": "2024-04-02T13:55:31.734Z"
   },
   {
    "duration": 8,
    "start_time": "2024-04-02T13:55:31.884Z"
   },
   {
    "duration": 154,
    "start_time": "2024-04-02T13:55:31.894Z"
   },
   {
    "duration": 28,
    "start_time": "2024-04-02T13:55:32.050Z"
   },
   {
    "duration": 273,
    "start_time": "2024-04-02T13:55:32.079Z"
   },
   {
    "duration": 20,
    "start_time": "2024-04-02T13:55:32.354Z"
   },
   {
    "duration": 207,
    "start_time": "2024-04-02T13:55:32.375Z"
   },
   {
    "duration": 16,
    "start_time": "2024-04-02T13:55:32.583Z"
   },
   {
    "duration": 196,
    "start_time": "2024-04-02T13:55:32.601Z"
   },
   {
    "duration": 13,
    "start_time": "2024-04-02T13:55:32.799Z"
   },
   {
    "duration": 189,
    "start_time": "2024-04-02T13:55:32.814Z"
   },
   {
    "duration": 13,
    "start_time": "2024-04-02T13:55:33.005Z"
   },
   {
    "duration": 162,
    "start_time": "2024-04-02T13:55:33.020Z"
   },
   {
    "duration": 19,
    "start_time": "2024-04-02T13:55:33.184Z"
   },
   {
    "duration": 294,
    "start_time": "2024-04-02T13:55:33.204Z"
   },
   {
    "duration": 231,
    "start_time": "2024-04-02T13:55:33.500Z"
   },
   {
    "duration": 199,
    "start_time": "2024-04-02T13:55:33.732Z"
   },
   {
    "duration": 33,
    "start_time": "2024-04-02T13:55:33.933Z"
   },
   {
    "duration": 22,
    "start_time": "2024-04-02T13:55:33.968Z"
   },
   {
    "duration": 86,
    "start_time": "2024-04-02T13:56:23.863Z"
   },
   {
    "duration": 21,
    "start_time": "2024-04-02T13:56:35.010Z"
   },
   {
    "duration": 53,
    "start_time": "2024-04-02T13:57:40.963Z"
   },
   {
    "duration": 19,
    "start_time": "2024-04-02T13:57:57.468Z"
   },
   {
    "duration": 21,
    "start_time": "2024-04-02T13:58:05.878Z"
   },
   {
    "duration": 20,
    "start_time": "2024-04-02T13:58:11.299Z"
   },
   {
    "duration": 19,
    "start_time": "2024-04-02T13:58:28.397Z"
   },
   {
    "duration": 22,
    "start_time": "2024-04-02T13:58:38.739Z"
   },
   {
    "duration": 22,
    "start_time": "2024-04-02T13:59:18.259Z"
   },
   {
    "duration": 19,
    "start_time": "2024-04-02T13:59:57.675Z"
   },
   {
    "duration": 19,
    "start_time": "2024-04-02T14:00:36.197Z"
   },
   {
    "duration": 18,
    "start_time": "2024-04-02T14:02:14.591Z"
   },
   {
    "duration": 19,
    "start_time": "2024-04-02T14:07:07.205Z"
   },
   {
    "duration": 4,
    "start_time": "2024-04-02T14:09:32.401Z"
   },
   {
    "duration": 9,
    "start_time": "2024-04-02T14:09:38.423Z"
   },
   {
    "duration": 8,
    "start_time": "2024-04-02T14:09:52.913Z"
   },
   {
    "duration": 149,
    "start_time": "2024-04-02T14:10:07.344Z"
   },
   {
    "duration": 238,
    "start_time": "2024-04-02T14:11:01.098Z"
   },
   {
    "duration": 1143,
    "start_time": "2024-04-02T14:12:51.263Z"
   },
   {
    "duration": 241,
    "start_time": "2024-04-02T14:12:58.849Z"
   },
   {
    "duration": 227,
    "start_time": "2024-04-02T14:15:24.523Z"
   },
   {
    "duration": 244,
    "start_time": "2024-04-02T14:15:39.210Z"
   },
   {
    "duration": 237,
    "start_time": "2024-04-02T14:18:38.135Z"
   },
   {
    "duration": 238,
    "start_time": "2024-04-02T14:18:49.329Z"
   },
   {
    "duration": 173,
    "start_time": "2024-04-02T14:19:03.945Z"
   },
   {
    "duration": 173,
    "start_time": "2024-04-02T14:19:14.228Z"
   },
   {
    "duration": 171,
    "start_time": "2024-04-02T14:19:43.003Z"
   },
   {
    "duration": 175,
    "start_time": "2024-04-02T14:20:48.185Z"
   },
   {
    "duration": 159,
    "start_time": "2024-04-02T14:20:54.849Z"
   },
   {
    "duration": 314,
    "start_time": "2024-04-02T14:21:04.522Z"
   },
   {
    "duration": 138,
    "start_time": "2024-04-02T14:21:13.775Z"
   },
   {
    "duration": 7,
    "start_time": "2024-04-03T07:11:44.342Z"
   },
   {
    "duration": 3,
    "start_time": "2024-04-03T07:11:57.065Z"
   },
   {
    "duration": 606,
    "start_time": "2024-04-03T07:21:17.552Z"
   },
   {
    "duration": 12,
    "start_time": "2024-04-03T07:21:21.942Z"
   },
   {
    "duration": 1823,
    "start_time": "2024-04-03T07:21:25.910Z"
   },
   {
    "duration": 3,
    "start_time": "2024-04-03T07:21:30.690Z"
   },
   {
    "duration": 7,
    "start_time": "2024-04-03T07:21:36.175Z"
   },
   {
    "duration": 4,
    "start_time": "2024-04-03T07:21:39.778Z"
   },
   {
    "duration": 69,
    "start_time": "2024-04-03T07:22:51.439Z"
   },
   {
    "duration": 11,
    "start_time": "2024-04-03T07:23:09.556Z"
   },
   {
    "duration": 4,
    "start_time": "2024-04-03T07:23:16.049Z"
   },
   {
    "duration": 10,
    "start_time": "2024-04-03T07:24:14.180Z"
   },
   {
    "duration": 10,
    "start_time": "2024-04-03T07:24:59.647Z"
   },
   {
    "duration": 5,
    "start_time": "2024-04-03T07:25:02.053Z"
   },
   {
    "duration": 10,
    "start_time": "2024-04-03T07:26:46.179Z"
   },
   {
    "duration": 5,
    "start_time": "2024-04-03T07:26:47.437Z"
   },
   {
    "duration": 10,
    "start_time": "2024-04-03T07:27:10.110Z"
   },
   {
    "duration": 5,
    "start_time": "2024-04-03T07:27:13.379Z"
   },
   {
    "duration": 10,
    "start_time": "2024-04-03T07:27:54.839Z"
   },
   {
    "duration": 4,
    "start_time": "2024-04-03T07:27:57.257Z"
   },
   {
    "duration": 9,
    "start_time": "2024-04-03T07:28:49.657Z"
   },
   {
    "duration": 4,
    "start_time": "2024-04-03T07:28:52.599Z"
   },
   {
    "duration": 9,
    "start_time": "2024-04-03T07:29:27.593Z"
   },
   {
    "duration": 4,
    "start_time": "2024-04-03T07:29:29.779Z"
   },
   {
    "duration": 11,
    "start_time": "2024-04-03T07:30:07.548Z"
   },
   {
    "duration": 6,
    "start_time": "2024-04-03T07:30:10.139Z"
   },
   {
    "duration": 88,
    "start_time": "2024-04-03T07:31:18.832Z"
   },
   {
    "duration": 12,
    "start_time": "2024-04-03T07:31:24.021Z"
   },
   {
    "duration": 11,
    "start_time": "2024-04-03T07:31:50.004Z"
   },
   {
    "duration": 4,
    "start_time": "2024-04-03T07:31:53.479Z"
   },
   {
    "duration": 11,
    "start_time": "2024-04-03T07:32:19.696Z"
   },
   {
    "duration": 4,
    "start_time": "2024-04-03T07:32:23.167Z"
   },
   {
    "duration": 9,
    "start_time": "2024-04-03T07:33:24.825Z"
   },
   {
    "duration": 144,
    "start_time": "2024-04-03T07:34:10.187Z"
   },
   {
    "duration": 3,
    "start_time": "2024-04-03T07:34:45.356Z"
   },
   {
    "duration": 78,
    "start_time": "2024-04-03T07:53:21.276Z"
   },
   {
    "duration": 5,
    "start_time": "2024-04-03T08:00:52.158Z"
   },
   {
    "duration": 5,
    "start_time": "2024-04-03T08:01:09.030Z"
   },
   {
    "duration": 4,
    "start_time": "2024-04-03T08:02:32.024Z"
   },
   {
    "duration": 3,
    "start_time": "2024-04-03T08:03:23.692Z"
   },
   {
    "duration": 9,
    "start_time": "2024-04-03T08:03:33.248Z"
   },
   {
    "duration": 9,
    "start_time": "2024-04-03T08:04:00.647Z"
   },
   {
    "duration": 7,
    "start_time": "2024-04-03T08:04:09.310Z"
   },
   {
    "duration": 4,
    "start_time": "2024-04-03T08:04:13.101Z"
   },
   {
    "duration": 8,
    "start_time": "2024-04-03T08:04:15.224Z"
   },
   {
    "duration": 7,
    "start_time": "2024-04-03T08:08:12.678Z"
   },
   {
    "duration": 8,
    "start_time": "2024-04-03T08:14:00.306Z"
   },
   {
    "duration": 7,
    "start_time": "2024-04-03T08:14:03.675Z"
   },
   {
    "duration": 8,
    "start_time": "2024-04-03T08:19:17.046Z"
   },
   {
    "duration": 9,
    "start_time": "2024-04-03T08:19:20.624Z"
   },
   {
    "duration": 7,
    "start_time": "2024-04-03T08:19:22.997Z"
   },
   {
    "duration": 5,
    "start_time": "2024-04-03T08:23:47.934Z"
   },
   {
    "duration": 7,
    "start_time": "2024-04-03T08:24:37.602Z"
   },
   {
    "duration": 83,
    "start_time": "2024-04-03T08:27:56.008Z"
   },
   {
    "duration": 5,
    "start_time": "2024-04-03T08:31:59.109Z"
   },
   {
    "duration": 7,
    "start_time": "2024-04-03T08:32:11.443Z"
   },
   {
    "duration": 7,
    "start_time": "2024-04-03T08:32:20.614Z"
   },
   {
    "duration": 7,
    "start_time": "2024-04-03T08:54:37.540Z"
   },
   {
    "duration": 7,
    "start_time": "2024-04-03T08:58:27.964Z"
   },
   {
    "duration": 78,
    "start_time": "2024-04-03T09:02:27.580Z"
   },
   {
    "duration": 5,
    "start_time": "2024-04-03T09:06:29.728Z"
   },
   {
    "duration": 10,
    "start_time": "2024-04-03T09:06:31.902Z"
   },
   {
    "duration": 6,
    "start_time": "2024-04-03T09:06:40.627Z"
   },
   {
    "duration": 7,
    "start_time": "2024-04-03T09:08:13.804Z"
   },
   {
    "duration": 9,
    "start_time": "2024-04-03T09:22:06.097Z"
   },
   {
    "duration": 8,
    "start_time": "2024-04-03T09:22:34.887Z"
   },
   {
    "duration": 4,
    "start_time": "2024-04-03T09:25:07.866Z"
   },
   {
    "duration": 16,
    "start_time": "2024-04-03T09:33:54.352Z"
   },
   {
    "duration": 92,
    "start_time": "2024-04-03T09:34:56.179Z"
   },
   {
    "duration": 113,
    "start_time": "2024-04-03T09:35:28.047Z"
   },
   {
    "duration": 110,
    "start_time": "2024-04-03T09:36:10.524Z"
   },
   {
    "duration": 12,
    "start_time": "2024-04-03T09:37:14.935Z"
   },
   {
    "duration": 78,
    "start_time": "2024-04-03T09:40:11.510Z"
   },
   {
    "duration": 7,
    "start_time": "2024-04-03T10:07:19.100Z"
   },
   {
    "duration": 74,
    "start_time": "2024-04-03T10:08:55.725Z"
   },
   {
    "duration": 4,
    "start_time": "2024-04-03T10:32:35.909Z"
   },
   {
    "duration": 9,
    "start_time": "2024-04-03T10:32:38.059Z"
   },
   {
    "duration": 7,
    "start_time": "2024-04-03T10:32:40.039Z"
   },
   {
    "duration": 7,
    "start_time": "2024-04-03T10:32:41.901Z"
   },
   {
    "duration": 6,
    "start_time": "2024-04-03T10:32:43.423Z"
   },
   {
    "duration": 322,
    "start_time": "2024-04-03T10:32:45.199Z"
   },
   {
    "duration": 7,
    "start_time": "2024-04-03T10:32:48.355Z"
   },
   {
    "duration": 9,
    "start_time": "2024-04-03T10:32:52.915Z"
   },
   {
    "duration": 236,
    "start_time": "2024-04-03T10:32:57.953Z"
   },
   {
    "duration": 9,
    "start_time": "2024-04-03T10:33:27.322Z"
   },
   {
    "duration": 125,
    "start_time": "2024-04-03T10:33:29.108Z"
   },
   {
    "duration": 8,
    "start_time": "2024-04-03T10:33:35.213Z"
   },
   {
    "duration": 110,
    "start_time": "2024-04-03T10:33:36.993Z"
   },
   {
    "duration": 14,
    "start_time": "2024-04-03T10:35:24.584Z"
   },
   {
    "duration": 108,
    "start_time": "2024-04-03T10:35:27.038Z"
   },
   {
    "duration": 16,
    "start_time": "2024-04-03T10:49:27.078Z"
   },
   {
    "duration": 137,
    "start_time": "2024-04-03T10:49:29.460Z"
   },
   {
    "duration": 14,
    "start_time": "2024-04-03T10:54:17.978Z"
   },
   {
    "duration": 4,
    "start_time": "2024-04-03T11:12:16.096Z"
   },
   {
    "duration": 6,
    "start_time": "2024-04-03T11:22:54.576Z"
   },
   {
    "duration": 18,
    "start_time": "2024-04-03T11:22:58.351Z"
   },
   {
    "duration": 4,
    "start_time": "2024-04-03T11:23:00.471Z"
   },
   {
    "duration": 76,
    "start_time": "2024-04-03T11:24:25.815Z"
   },
   {
    "duration": 77,
    "start_time": "2024-04-03T11:25:09.121Z"
   },
   {
    "duration": 4,
    "start_time": "2024-04-03T11:25:36.127Z"
   },
   {
    "duration": 3,
    "start_time": "2024-04-03T11:25:53.567Z"
   },
   {
    "duration": 4,
    "start_time": "2024-04-03T11:27:33.379Z"
   },
   {
    "duration": 6,
    "start_time": "2024-04-03T11:29:27.277Z"
   },
   {
    "duration": 121,
    "start_time": "2024-04-03T11:29:33.838Z"
   },
   {
    "duration": 16,
    "start_time": "2024-04-03T11:29:37.693Z"
   },
   {
    "duration": 4,
    "start_time": "2024-04-03T11:29:40.866Z"
   },
   {
    "duration": 4,
    "start_time": "2024-04-03T11:32:05.843Z"
   },
   {
    "duration": 15,
    "start_time": "2024-04-03T11:32:17.624Z"
   },
   {
    "duration": 4,
    "start_time": "2024-04-03T11:32:24.538Z"
   },
   {
    "duration": 199,
    "start_time": "2024-04-03T11:32:27.360Z"
   },
   {
    "duration": 16,
    "start_time": "2024-04-03T11:32:55.948Z"
   },
   {
    "duration": 4,
    "start_time": "2024-04-03T11:33:53.395Z"
   },
   {
    "duration": 253,
    "start_time": "2024-04-03T11:35:24.433Z"
   },
   {
    "duration": 13,
    "start_time": "2024-04-03T11:37:46.017Z"
   },
   {
    "duration": 4,
    "start_time": "2024-04-03T11:38:05.335Z"
   },
   {
    "duration": 4,
    "start_time": "2024-04-03T11:38:39.714Z"
   },
   {
    "duration": 3,
    "start_time": "2024-04-03T11:40:05.190Z"
   },
   {
    "duration": 12,
    "start_time": "2024-04-03T11:43:18.486Z"
   },
   {
    "duration": 154,
    "start_time": "2024-04-03T11:43:54.231Z"
   },
   {
    "duration": 17,
    "start_time": "2024-04-03T11:48:20.489Z"
   },
   {
    "duration": 215,
    "start_time": "2024-04-03T11:48:22.549Z"
   },
   {
    "duration": 175,
    "start_time": "2024-04-03T11:48:27.500Z"
   },
   {
    "duration": 20,
    "start_time": "2024-04-03T11:52:07.546Z"
   },
   {
    "duration": 20,
    "start_time": "2024-04-03T11:57:41.904Z"
   },
   {
    "duration": 483,
    "start_time": "2024-04-03T12:18:54.271Z"
   },
   {
    "duration": 11,
    "start_time": "2024-04-03T12:18:54.756Z"
   },
   {
    "duration": 1829,
    "start_time": "2024-04-03T12:18:54.768Z"
   },
   {
    "duration": 4,
    "start_time": "2024-04-03T12:18:56.599Z"
   },
   {
    "duration": 11,
    "start_time": "2024-04-03T12:18:56.604Z"
   },
   {
    "duration": 10,
    "start_time": "2024-04-03T12:18:56.617Z"
   },
   {
    "duration": 18,
    "start_time": "2024-04-03T12:18:56.628Z"
   },
   {
    "duration": 14,
    "start_time": "2024-04-03T12:18:56.647Z"
   },
   {
    "duration": 15,
    "start_time": "2024-04-03T12:18:56.662Z"
   },
   {
    "duration": 15,
    "start_time": "2024-04-03T12:18:56.679Z"
   },
   {
    "duration": 8,
    "start_time": "2024-04-03T12:18:56.696Z"
   },
   {
    "duration": 9,
    "start_time": "2024-04-03T12:18:56.705Z"
   },
   {
    "duration": 4,
    "start_time": "2024-04-03T12:18:56.716Z"
   },
   {
    "duration": 8,
    "start_time": "2024-04-03T12:18:56.721Z"
   },
   {
    "duration": 7,
    "start_time": "2024-04-03T12:18:56.730Z"
   },
   {
    "duration": 7,
    "start_time": "2024-04-03T12:18:56.739Z"
   },
   {
    "duration": 37,
    "start_time": "2024-04-03T12:18:56.748Z"
   },
   {
    "duration": 13,
    "start_time": "2024-04-03T12:18:56.787Z"
   },
   {
    "duration": 7,
    "start_time": "2024-04-03T12:18:56.802Z"
   },
   {
    "duration": 6,
    "start_time": "2024-04-03T12:18:56.810Z"
   },
   {
    "duration": 8,
    "start_time": "2024-04-03T12:18:56.818Z"
   },
   {
    "duration": 8,
    "start_time": "2024-04-03T12:18:56.827Z"
   },
   {
    "duration": 17,
    "start_time": "2024-04-03T12:18:56.836Z"
   },
   {
    "duration": 6,
    "start_time": "2024-04-03T12:18:56.854Z"
   },
   {
    "duration": 30,
    "start_time": "2024-04-03T12:18:56.861Z"
   },
   {
    "duration": 9,
    "start_time": "2024-04-03T12:18:56.893Z"
   },
   {
    "duration": 9,
    "start_time": "2024-04-03T12:18:56.904Z"
   },
   {
    "duration": 15,
    "start_time": "2024-04-03T12:18:56.917Z"
   },
   {
    "duration": 7,
    "start_time": "2024-04-03T12:18:56.934Z"
   },
   {
    "duration": 15,
    "start_time": "2024-04-03T12:18:56.943Z"
   },
   {
    "duration": 134,
    "start_time": "2024-04-03T12:18:56.959Z"
   },
   {
    "duration": 13,
    "start_time": "2024-04-03T12:18:57.095Z"
   },
   {
    "duration": 5,
    "start_time": "2024-04-03T12:18:57.110Z"
   },
   {
    "duration": 8,
    "start_time": "2024-04-03T12:18:57.117Z"
   },
   {
    "duration": 4,
    "start_time": "2024-04-03T12:18:57.127Z"
   },
   {
    "duration": 7,
    "start_time": "2024-04-03T12:18:57.132Z"
   },
   {
    "duration": 4,
    "start_time": "2024-04-03T12:18:57.140Z"
   },
   {
    "duration": 43,
    "start_time": "2024-04-03T12:18:57.145Z"
   },
   {
    "duration": 6,
    "start_time": "2024-04-03T12:18:57.189Z"
   },
   {
    "duration": 12,
    "start_time": "2024-04-03T12:18:57.196Z"
   },
   {
    "duration": 7,
    "start_time": "2024-04-03T12:18:57.209Z"
   },
   {
    "duration": 317,
    "start_time": "2024-04-03T12:18:57.217Z"
   },
   {
    "duration": 5,
    "start_time": "2024-04-03T12:18:57.536Z"
   },
   {
    "duration": 11,
    "start_time": "2024-04-03T12:18:57.542Z"
   },
   {
    "duration": 178,
    "start_time": "2024-04-03T12:18:57.554Z"
   },
   {
    "duration": 7,
    "start_time": "2024-04-03T12:18:57.733Z"
   },
   {
    "duration": 117,
    "start_time": "2024-04-03T12:18:57.741Z"
   },
   {
    "duration": 6,
    "start_time": "2024-04-03T12:18:57.860Z"
   },
   {
    "duration": 163,
    "start_time": "2024-04-03T12:18:57.867Z"
   },
   {
    "duration": 80,
    "start_time": "2024-04-03T12:18:58.032Z"
   },
   {
    "duration": 0,
    "start_time": "2024-04-03T12:18:58.113Z"
   },
   {
    "duration": 0,
    "start_time": "2024-04-03T12:18:58.114Z"
   },
   {
    "duration": 0,
    "start_time": "2024-04-03T12:18:58.115Z"
   },
   {
    "duration": 0,
    "start_time": "2024-04-03T12:18:58.116Z"
   },
   {
    "duration": 0,
    "start_time": "2024-04-03T12:18:58.117Z"
   },
   {
    "duration": 0,
    "start_time": "2024-04-03T12:18:58.117Z"
   },
   {
    "duration": 0,
    "start_time": "2024-04-03T12:18:58.118Z"
   },
   {
    "duration": 0,
    "start_time": "2024-04-03T12:18:58.119Z"
   },
   {
    "duration": 0,
    "start_time": "2024-04-03T12:18:58.120Z"
   },
   {
    "duration": 0,
    "start_time": "2024-04-03T12:18:58.121Z"
   },
   {
    "duration": 0,
    "start_time": "2024-04-03T12:18:58.121Z"
   },
   {
    "duration": 0,
    "start_time": "2024-04-03T12:18:58.122Z"
   },
   {
    "duration": 0,
    "start_time": "2024-04-03T12:18:58.123Z"
   },
   {
    "duration": 0,
    "start_time": "2024-04-03T12:18:58.124Z"
   },
   {
    "duration": 1,
    "start_time": "2024-04-03T12:18:58.124Z"
   },
   {
    "duration": 0,
    "start_time": "2024-04-03T12:18:58.125Z"
   },
   {
    "duration": 0,
    "start_time": "2024-04-03T12:18:58.126Z"
   },
   {
    "duration": 0,
    "start_time": "2024-04-03T12:18:58.127Z"
   },
   {
    "duration": 0,
    "start_time": "2024-04-03T12:18:58.128Z"
   },
   {
    "duration": 1,
    "start_time": "2024-04-03T12:18:58.128Z"
   },
   {
    "duration": 0,
    "start_time": "2024-04-03T12:18:58.129Z"
   },
   {
    "duration": 0,
    "start_time": "2024-04-03T12:18:58.130Z"
   },
   {
    "duration": 0,
    "start_time": "2024-04-03T12:18:58.131Z"
   },
   {
    "duration": 0,
    "start_time": "2024-04-03T12:18:58.132Z"
   },
   {
    "duration": 0,
    "start_time": "2024-04-03T12:18:58.133Z"
   },
   {
    "duration": 0,
    "start_time": "2024-04-03T12:18:58.133Z"
   },
   {
    "duration": 0,
    "start_time": "2024-04-03T12:18:58.134Z"
   },
   {
    "duration": 0,
    "start_time": "2024-04-03T12:18:58.135Z"
   },
   {
    "duration": 0,
    "start_time": "2024-04-03T12:18:58.136Z"
   },
   {
    "duration": 0,
    "start_time": "2024-04-03T12:18:58.136Z"
   },
   {
    "duration": 0,
    "start_time": "2024-04-03T12:18:58.137Z"
   },
   {
    "duration": 0,
    "start_time": "2024-04-03T12:18:58.138Z"
   },
   {
    "duration": 0,
    "start_time": "2024-04-03T12:18:58.139Z"
   },
   {
    "duration": 0,
    "start_time": "2024-04-03T12:18:58.139Z"
   },
   {
    "duration": 0,
    "start_time": "2024-04-03T12:18:58.140Z"
   },
   {
    "duration": 699,
    "start_time": "2024-04-03T20:02:40.392Z"
   },
   {
    "duration": 14,
    "start_time": "2024-04-03T20:02:41.093Z"
   },
   {
    "duration": 2308,
    "start_time": "2024-04-03T20:02:41.109Z"
   },
   {
    "duration": 3,
    "start_time": "2024-04-03T20:02:43.419Z"
   },
   {
    "duration": 24,
    "start_time": "2024-04-03T20:02:43.424Z"
   },
   {
    "duration": 6,
    "start_time": "2024-04-03T20:02:43.449Z"
   },
   {
    "duration": 23,
    "start_time": "2024-04-03T20:02:43.457Z"
   },
   {
    "duration": 5,
    "start_time": "2024-04-03T20:02:43.481Z"
   },
   {
    "duration": 5,
    "start_time": "2024-04-03T20:02:43.487Z"
   },
   {
    "duration": 14,
    "start_time": "2024-04-03T20:02:43.494Z"
   },
   {
    "duration": 7,
    "start_time": "2024-04-03T20:02:43.509Z"
   },
   {
    "duration": 7,
    "start_time": "2024-04-03T20:02:43.518Z"
   },
   {
    "duration": 7,
    "start_time": "2024-04-03T20:02:43.526Z"
   },
   {
    "duration": 36,
    "start_time": "2024-04-03T20:02:43.534Z"
   },
   {
    "duration": 7,
    "start_time": "2024-04-03T20:02:43.572Z"
   },
   {
    "duration": 8,
    "start_time": "2024-04-03T20:02:43.580Z"
   },
   {
    "duration": 5,
    "start_time": "2024-04-03T20:02:43.589Z"
   },
   {
    "duration": 7,
    "start_time": "2024-04-03T20:02:43.596Z"
   },
   {
    "duration": 9,
    "start_time": "2024-04-03T20:02:43.604Z"
   },
   {
    "duration": 8,
    "start_time": "2024-04-03T20:02:43.615Z"
   },
   {
    "duration": 50,
    "start_time": "2024-04-03T20:02:43.624Z"
   },
   {
    "duration": 8,
    "start_time": "2024-04-03T20:02:43.676Z"
   },
   {
    "duration": 25,
    "start_time": "2024-04-03T20:02:43.686Z"
   },
   {
    "duration": 9,
    "start_time": "2024-04-03T20:02:43.712Z"
   },
   {
    "duration": 19,
    "start_time": "2024-04-03T20:02:43.723Z"
   },
   {
    "duration": 14,
    "start_time": "2024-04-03T20:02:43.744Z"
   },
   {
    "duration": 14,
    "start_time": "2024-04-03T20:02:43.760Z"
   },
   {
    "duration": 28,
    "start_time": "2024-04-03T20:02:43.778Z"
   },
   {
    "duration": 32,
    "start_time": "2024-04-03T20:02:43.807Z"
   },
   {
    "duration": 25,
    "start_time": "2024-04-03T20:02:43.841Z"
   },
   {
    "duration": 142,
    "start_time": "2024-04-03T20:02:43.868Z"
   },
   {
    "duration": 15,
    "start_time": "2024-04-03T20:02:44.011Z"
   },
   {
    "duration": 26,
    "start_time": "2024-04-03T20:02:44.028Z"
   },
   {
    "duration": 25,
    "start_time": "2024-04-03T20:02:44.055Z"
   },
   {
    "duration": 10,
    "start_time": "2024-04-03T20:02:44.081Z"
   },
   {
    "duration": 9,
    "start_time": "2024-04-03T20:02:44.093Z"
   },
   {
    "duration": 5,
    "start_time": "2024-04-03T20:02:44.103Z"
   },
   {
    "duration": 13,
    "start_time": "2024-04-03T20:02:44.110Z"
   },
   {
    "duration": 9,
    "start_time": "2024-04-03T20:02:44.125Z"
   },
   {
    "duration": 7,
    "start_time": "2024-04-03T20:02:44.135Z"
   },
   {
    "duration": 31,
    "start_time": "2024-04-03T20:02:44.144Z"
   },
   {
    "duration": 328,
    "start_time": "2024-04-03T20:02:44.177Z"
   },
   {
    "duration": 6,
    "start_time": "2024-04-03T20:02:44.507Z"
   },
   {
    "duration": 23,
    "start_time": "2024-04-03T20:02:44.514Z"
   },
   {
    "duration": 227,
    "start_time": "2024-04-03T20:02:44.539Z"
   },
   {
    "duration": 8,
    "start_time": "2024-04-03T20:02:44.769Z"
   },
   {
    "duration": 204,
    "start_time": "2024-04-03T20:02:44.778Z"
   },
   {
    "duration": 7,
    "start_time": "2024-04-03T20:02:44.984Z"
   },
   {
    "duration": 140,
    "start_time": "2024-04-03T20:02:44.992Z"
   },
   {
    "duration": 92,
    "start_time": "2024-04-03T20:02:45.133Z"
   },
   {
    "duration": 0,
    "start_time": "2024-04-03T20:02:45.227Z"
   },
   {
    "duration": 0,
    "start_time": "2024-04-03T20:02:45.228Z"
   },
   {
    "duration": 0,
    "start_time": "2024-04-03T20:02:45.229Z"
   },
   {
    "duration": 0,
    "start_time": "2024-04-03T20:02:45.230Z"
   },
   {
    "duration": 0,
    "start_time": "2024-04-03T20:02:45.231Z"
   },
   {
    "duration": 0,
    "start_time": "2024-04-03T20:02:45.232Z"
   },
   {
    "duration": 0,
    "start_time": "2024-04-03T20:02:45.233Z"
   },
   {
    "duration": 0,
    "start_time": "2024-04-03T20:02:45.234Z"
   },
   {
    "duration": 0,
    "start_time": "2024-04-03T20:02:45.235Z"
   },
   {
    "duration": 0,
    "start_time": "2024-04-03T20:02:45.236Z"
   },
   {
    "duration": 1,
    "start_time": "2024-04-03T20:02:45.236Z"
   },
   {
    "duration": 0,
    "start_time": "2024-04-03T20:02:45.238Z"
   },
   {
    "duration": 0,
    "start_time": "2024-04-03T20:02:45.239Z"
   },
   {
    "duration": 0,
    "start_time": "2024-04-03T20:02:45.240Z"
   },
   {
    "duration": 0,
    "start_time": "2024-04-03T20:02:45.241Z"
   },
   {
    "duration": 0,
    "start_time": "2024-04-03T20:02:45.242Z"
   },
   {
    "duration": 0,
    "start_time": "2024-04-03T20:02:45.243Z"
   },
   {
    "duration": 0,
    "start_time": "2024-04-03T20:02:45.244Z"
   },
   {
    "duration": 0,
    "start_time": "2024-04-03T20:02:45.246Z"
   },
   {
    "duration": 0,
    "start_time": "2024-04-03T20:02:45.247Z"
   },
   {
    "duration": 0,
    "start_time": "2024-04-03T20:02:45.248Z"
   },
   {
    "duration": 0,
    "start_time": "2024-04-03T20:02:45.249Z"
   },
   {
    "duration": 0,
    "start_time": "2024-04-03T20:02:45.250Z"
   },
   {
    "duration": 0,
    "start_time": "2024-04-03T20:02:45.252Z"
   },
   {
    "duration": 0,
    "start_time": "2024-04-03T20:02:45.253Z"
   },
   {
    "duration": 0,
    "start_time": "2024-04-03T20:02:45.254Z"
   },
   {
    "duration": 0,
    "start_time": "2024-04-03T20:02:45.255Z"
   },
   {
    "duration": 0,
    "start_time": "2024-04-03T20:02:45.256Z"
   },
   {
    "duration": 0,
    "start_time": "2024-04-03T20:02:45.257Z"
   },
   {
    "duration": 0,
    "start_time": "2024-04-03T20:02:45.258Z"
   },
   {
    "duration": 0,
    "start_time": "2024-04-03T20:02:45.259Z"
   },
   {
    "duration": 0,
    "start_time": "2024-04-03T20:02:45.260Z"
   },
   {
    "duration": 0,
    "start_time": "2024-04-03T20:02:45.261Z"
   },
   {
    "duration": 0,
    "start_time": "2024-04-03T20:02:45.263Z"
   },
   {
    "duration": 0,
    "start_time": "2024-04-03T20:02:45.269Z"
   },
   {
    "duration": 619,
    "start_time": "2024-04-04T06:57:14.202Z"
   },
   {
    "duration": 3,
    "start_time": "2024-04-04T07:03:39.010Z"
   },
   {
    "duration": 93,
    "start_time": "2024-04-04T07:03:41.065Z"
   },
   {
    "duration": 16,
    "start_time": "2024-04-04T07:03:44.032Z"
   },
   {
    "duration": 18,
    "start_time": "2024-04-04T07:03:59.510Z"
   },
   {
    "duration": 2408,
    "start_time": "2024-04-04T07:04:05.128Z"
   },
   {
    "duration": 2009,
    "start_time": "2024-04-04T07:04:33.081Z"
   },
   {
    "duration": 2017,
    "start_time": "2024-04-04T07:06:04.505Z"
   },
   {
    "duration": 3,
    "start_time": "2024-04-04T07:13:06.446Z"
   },
   {
    "duration": 94,
    "start_time": "2024-04-04T07:13:09.221Z"
   },
   {
    "duration": 92,
    "start_time": "2024-04-04T07:13:14.745Z"
   },
   {
    "duration": 15,
    "start_time": "2024-04-04T07:13:17.329Z"
   },
   {
    "duration": 17,
    "start_time": "2024-04-04T07:13:23.374Z"
   },
   {
    "duration": 1858,
    "start_time": "2024-04-04T07:13:41.058Z"
   },
   {
    "duration": 4,
    "start_time": "2024-04-04T07:14:04.554Z"
   },
   {
    "duration": 3212,
    "start_time": "2024-04-04T07:16:29.769Z"
   },
   {
    "duration": 1166,
    "start_time": "2024-04-04T07:18:03.339Z"
   },
   {
    "duration": 99,
    "start_time": "2024-04-04T07:18:07.410Z"
   },
   {
    "duration": 15,
    "start_time": "2024-04-04T07:18:10.950Z"
   },
   {
    "duration": 15,
    "start_time": "2024-04-04T07:18:16.015Z"
   },
   {
    "duration": 4,
    "start_time": "2024-04-04T07:18:20.224Z"
   },
   {
    "duration": 1137,
    "start_time": "2024-04-04T07:19:06.459Z"
   },
   {
    "duration": 12,
    "start_time": "2024-04-04T07:30:57.425Z"
   },
   {
    "duration": 9,
    "start_time": "2024-04-04T07:37:38.560Z"
   },
   {
    "duration": 10,
    "start_time": "2024-04-04T07:54:57.379Z"
   },
   {
    "duration": 53,
    "start_time": "2024-04-04T07:56:48.001Z"
   },
   {
    "duration": 59,
    "start_time": "2024-04-04T07:57:03.513Z"
   },
   {
    "duration": 67,
    "start_time": "2024-04-04T08:06:39.872Z"
   },
   {
    "duration": 1136,
    "start_time": "2024-04-04T08:21:17.109Z"
   },
   {
    "duration": 98,
    "start_time": "2024-04-04T08:21:20.262Z"
   },
   {
    "duration": 22,
    "start_time": "2024-04-04T08:21:23.377Z"
   },
   {
    "duration": 16,
    "start_time": "2024-04-04T08:21:26.963Z"
   },
   {
    "duration": 2067,
    "start_time": "2024-04-04T08:21:31.665Z"
   },
   {
    "duration": 3,
    "start_time": "2024-04-04T08:21:38.762Z"
   },
   {
    "duration": 10,
    "start_time": "2024-04-04T08:21:42.447Z"
   },
   {
    "duration": 1002,
    "start_time": "2024-04-04T08:21:44.657Z"
   },
   {
    "duration": 6,
    "start_time": "2024-04-04T08:21:49.544Z"
   },
   {
    "duration": 15,
    "start_time": "2024-04-04T08:21:53.659Z"
   },
   {
    "duration": 6,
    "start_time": "2024-04-04T08:21:55.973Z"
   },
   {
    "duration": 8,
    "start_time": "2024-04-04T08:21:59.986Z"
   },
   {
    "duration": 18,
    "start_time": "2024-04-04T08:22:05.589Z"
   },
   {
    "duration": 9,
    "start_time": "2024-04-04T08:22:07.931Z"
   },
   {
    "duration": 11,
    "start_time": "2024-04-04T08:22:11.592Z"
   },
   {
    "duration": 11,
    "start_time": "2024-04-04T08:22:13.487Z"
   },
   {
    "duration": 9,
    "start_time": "2024-04-04T08:22:27.661Z"
   },
   {
    "duration": 13,
    "start_time": "2024-04-04T08:22:53.585Z"
   },
   {
    "duration": 6,
    "start_time": "2024-04-04T08:22:59.049Z"
   },
   {
    "duration": 9,
    "start_time": "2024-04-04T08:23:05.355Z"
   },
   {
    "duration": 9,
    "start_time": "2024-04-04T08:23:08.968Z"
   },
   {
    "duration": 6,
    "start_time": "2024-04-04T08:23:19.541Z"
   },
   {
    "duration": 9,
    "start_time": "2024-04-04T08:23:21.852Z"
   },
   {
    "duration": 9,
    "start_time": "2024-04-04T08:23:31.308Z"
   },
   {
    "duration": 9,
    "start_time": "2024-04-04T08:23:37.530Z"
   },
   {
    "duration": 6,
    "start_time": "2024-04-04T08:23:47.957Z"
   },
   {
    "duration": 24,
    "start_time": "2024-04-04T08:23:49.475Z"
   },
   {
    "duration": 6,
    "start_time": "2024-04-04T08:23:51.424Z"
   },
   {
    "duration": 9,
    "start_time": "2024-04-04T08:23:53.211Z"
   },
   {
    "duration": 10,
    "start_time": "2024-04-04T08:23:59.127Z"
   },
   {
    "duration": 11,
    "start_time": "2024-04-04T08:24:09.060Z"
   },
   {
    "duration": 29,
    "start_time": "2024-04-04T08:24:23.866Z"
   },
   {
    "duration": 140,
    "start_time": "2024-04-04T08:24:27.825Z"
   },
   {
    "duration": 16,
    "start_time": "2024-04-04T08:24:59.227Z"
   },
   {
    "duration": 5,
    "start_time": "2024-04-04T08:25:04.613Z"
   },
   {
    "duration": 5,
    "start_time": "2024-04-04T08:25:06.512Z"
   },
   {
    "duration": 356,
    "start_time": "2024-04-04T08:29:31.479Z"
   },
   {
    "duration": 124,
    "start_time": "2024-04-04T08:31:02.972Z"
   },
   {
    "duration": 235,
    "start_time": "2024-04-04T08:31:33.952Z"
   },
   {
    "duration": 60,
    "start_time": "2024-04-04T08:42:47.757Z"
   },
   {
    "duration": 1151,
    "start_time": "2024-04-04T08:49:19.528Z"
   },
   {
    "duration": 100,
    "start_time": "2024-04-04T08:49:20.681Z"
   },
   {
    "duration": 16,
    "start_time": "2024-04-04T08:49:20.782Z"
   },
   {
    "duration": 17,
    "start_time": "2024-04-04T08:49:20.801Z"
   },
   {
    "duration": 1996,
    "start_time": "2024-04-04T08:49:20.820Z"
   },
   {
    "duration": 5,
    "start_time": "2024-04-04T08:49:22.818Z"
   },
   {
    "duration": 21,
    "start_time": "2024-04-04T08:49:22.825Z"
   },
   {
    "duration": 1109,
    "start_time": "2024-04-04T08:49:22.848Z"
   },
   {
    "duration": 6,
    "start_time": "2024-04-04T08:49:23.958Z"
   },
   {
    "duration": 27,
    "start_time": "2024-04-04T08:49:23.966Z"
   },
   {
    "duration": 5,
    "start_time": "2024-04-04T08:49:23.995Z"
   },
   {
    "duration": 8,
    "start_time": "2024-04-04T08:49:24.001Z"
   },
   {
    "duration": 11,
    "start_time": "2024-04-04T08:49:24.010Z"
   },
   {
    "duration": 9,
    "start_time": "2024-04-04T08:49:24.023Z"
   },
   {
    "duration": 9,
    "start_time": "2024-04-04T08:49:24.033Z"
   },
   {
    "duration": 39,
    "start_time": "2024-04-04T08:49:24.044Z"
   },
   {
    "duration": 10,
    "start_time": "2024-04-04T08:49:24.085Z"
   },
   {
    "duration": 13,
    "start_time": "2024-04-04T08:49:24.096Z"
   },
   {
    "duration": 24,
    "start_time": "2024-04-04T08:49:24.111Z"
   },
   {
    "duration": 8,
    "start_time": "2024-04-04T08:49:24.137Z"
   },
   {
    "duration": 24,
    "start_time": "2024-04-04T08:49:24.147Z"
   },
   {
    "duration": 24,
    "start_time": "2024-04-04T08:49:24.173Z"
   },
   {
    "duration": 14,
    "start_time": "2024-04-04T08:49:24.199Z"
   },
   {
    "duration": 40,
    "start_time": "2024-04-04T08:49:24.214Z"
   },
   {
    "duration": 9,
    "start_time": "2024-04-04T08:49:24.256Z"
   },
   {
    "duration": 14,
    "start_time": "2024-04-04T08:49:24.266Z"
   },
   {
    "duration": 49,
    "start_time": "2024-04-04T08:49:24.282Z"
   },
   {
    "duration": 15,
    "start_time": "2024-04-04T08:49:24.335Z"
   },
   {
    "duration": 27,
    "start_time": "2024-04-04T08:49:24.351Z"
   },
   {
    "duration": 23,
    "start_time": "2024-04-04T08:49:24.380Z"
   },
   {
    "duration": 16,
    "start_time": "2024-04-04T08:49:24.405Z"
   },
   {
    "duration": 38,
    "start_time": "2024-04-04T08:49:24.423Z"
   },
   {
    "duration": 130,
    "start_time": "2024-04-04T08:49:24.462Z"
   },
   {
    "duration": 14,
    "start_time": "2024-04-04T08:49:24.593Z"
   },
   {
    "duration": 21,
    "start_time": "2024-04-04T08:49:24.608Z"
   },
   {
    "duration": 30,
    "start_time": "2024-04-04T08:49:24.630Z"
   },
   {
    "duration": 20,
    "start_time": "2024-04-04T08:49:24.661Z"
   },
   {
    "duration": 26,
    "start_time": "2024-04-04T08:49:24.682Z"
   },
   {
    "duration": 21,
    "start_time": "2024-04-04T08:49:24.709Z"
   },
   {
    "duration": 26,
    "start_time": "2024-04-04T08:49:24.731Z"
   },
   {
    "duration": 41,
    "start_time": "2024-04-04T08:49:24.759Z"
   },
   {
    "duration": 17,
    "start_time": "2024-04-04T08:49:24.802Z"
   },
   {
    "duration": 26,
    "start_time": "2024-04-04T08:49:24.820Z"
   },
   {
    "duration": 340,
    "start_time": "2024-04-04T08:49:24.847Z"
   },
   {
    "duration": 7,
    "start_time": "2024-04-04T08:49:25.189Z"
   },
   {
    "duration": 28,
    "start_time": "2024-04-04T08:49:25.198Z"
   },
   {
    "duration": 242,
    "start_time": "2024-04-04T08:49:25.229Z"
   },
   {
    "duration": 11,
    "start_time": "2024-04-04T08:49:25.472Z"
   },
   {
    "duration": 167,
    "start_time": "2024-04-04T08:49:25.484Z"
   },
   {
    "duration": 9,
    "start_time": "2024-04-04T08:49:25.653Z"
   },
   {
    "duration": 154,
    "start_time": "2024-04-04T08:49:25.663Z"
   },
   {
    "duration": 9,
    "start_time": "2024-04-04T08:49:25.818Z"
   },
   {
    "duration": 162,
    "start_time": "2024-04-04T08:49:25.829Z"
   },
   {
    "duration": 9,
    "start_time": "2024-04-04T08:49:25.993Z"
   },
   {
    "duration": 258,
    "start_time": "2024-04-04T08:49:26.003Z"
   },
   {
    "duration": 12,
    "start_time": "2024-04-04T08:49:26.263Z"
   },
   {
    "duration": 133,
    "start_time": "2024-04-04T08:49:26.282Z"
   },
   {
    "duration": 9,
    "start_time": "2024-04-04T08:49:26.417Z"
   },
   {
    "duration": 138,
    "start_time": "2024-04-04T08:49:26.428Z"
   },
   {
    "duration": 17,
    "start_time": "2024-04-04T08:49:26.568Z"
   },
   {
    "duration": 158,
    "start_time": "2024-04-04T08:49:26.586Z"
   },
   {
    "duration": 10,
    "start_time": "2024-04-04T08:49:26.745Z"
   },
   {
    "duration": 153,
    "start_time": "2024-04-04T08:49:26.757Z"
   },
   {
    "duration": 9,
    "start_time": "2024-04-04T08:49:26.912Z"
   },
   {
    "duration": 12,
    "start_time": "2024-04-04T08:49:26.923Z"
   },
   {
    "duration": 157,
    "start_time": "2024-04-04T08:49:26.937Z"
   },
   {
    "duration": 20,
    "start_time": "2024-04-04T08:49:27.096Z"
   },
   {
    "duration": 4,
    "start_time": "2024-04-04T08:49:27.118Z"
   },
   {
    "duration": 264,
    "start_time": "2024-04-04T08:49:27.123Z"
   },
   {
    "duration": 17,
    "start_time": "2024-04-04T08:49:27.389Z"
   },
   {
    "duration": 4,
    "start_time": "2024-04-04T08:49:27.408Z"
   },
   {
    "duration": 220,
    "start_time": "2024-04-04T08:49:27.413Z"
   },
   {
    "duration": 17,
    "start_time": "2024-04-04T08:49:27.634Z"
   },
   {
    "duration": 4,
    "start_time": "2024-04-04T08:49:27.652Z"
   },
   {
    "duration": 205,
    "start_time": "2024-04-04T08:49:27.658Z"
   },
   {
    "duration": 25,
    "start_time": "2024-04-04T08:49:27.865Z"
   },
   {
    "duration": 5,
    "start_time": "2024-04-04T08:49:27.892Z"
   },
   {
    "duration": 221,
    "start_time": "2024-04-04T08:49:27.899Z"
   },
   {
    "duration": 19,
    "start_time": "2024-04-04T08:49:28.122Z"
   },
   {
    "duration": 181,
    "start_time": "2024-04-04T08:49:28.143Z"
   },
   {
    "duration": 18,
    "start_time": "2024-04-04T08:49:28.326Z"
   },
   {
    "duration": 217,
    "start_time": "2024-04-04T08:49:28.350Z"
   },
   {
    "duration": 199,
    "start_time": "2024-04-04T08:49:28.569Z"
   },
   {
    "duration": 285,
    "start_time": "2024-04-04T08:49:28.769Z"
   },
   {
    "duration": 31,
    "start_time": "2024-04-04T08:49:29.056Z"
   },
   {
    "duration": 55,
    "start_time": "2024-04-04T08:49:29.088Z"
   },
   {
    "duration": 165,
    "start_time": "2024-04-04T08:49:29.144Z"
   },
   {
    "duration": 232,
    "start_time": "2024-04-04T08:50:59.739Z"
   },
   {
    "duration": 377,
    "start_time": "2024-04-04T08:53:51.443Z"
   },
   {
    "duration": 352,
    "start_time": "2024-04-04T08:54:19.147Z"
   },
   {
    "duration": 309,
    "start_time": "2024-04-04T08:54:35.810Z"
   },
   {
    "duration": 375,
    "start_time": "2024-04-04T08:54:44.123Z"
   },
   {
    "duration": 259,
    "start_time": "2024-04-04T08:55:12.223Z"
   },
   {
    "duration": 271,
    "start_time": "2024-04-04T08:55:52.713Z"
   },
   {
    "duration": 296,
    "start_time": "2024-04-04T08:56:33.806Z"
   },
   {
    "duration": 272,
    "start_time": "2024-04-04T08:58:01.106Z"
   },
   {
    "duration": 412,
    "start_time": "2024-04-04T08:58:26.620Z"
   },
   {
    "duration": 310,
    "start_time": "2024-04-04T08:58:43.453Z"
   },
   {
    "duration": 301,
    "start_time": "2024-04-04T09:01:43.798Z"
   },
   {
    "duration": 321,
    "start_time": "2024-04-04T09:03:39.808Z"
   },
   {
    "duration": 288,
    "start_time": "2024-04-04T09:04:20.554Z"
   },
   {
    "duration": 189,
    "start_time": "2024-04-04T09:04:39.030Z"
   },
   {
    "duration": 407,
    "start_time": "2024-04-04T09:05:06.935Z"
   },
   {
    "duration": 159,
    "start_time": "2024-04-04T09:05:16.729Z"
   },
   {
    "duration": 315,
    "start_time": "2024-04-04T09:05:52.054Z"
   },
   {
    "duration": 303,
    "start_time": "2024-04-04T09:05:59.466Z"
   },
   {
    "duration": 15,
    "start_time": "2024-04-04T09:09:50.357Z"
   },
   {
    "duration": 231,
    "start_time": "2024-04-04T09:10:45.908Z"
   },
   {
    "duration": 15,
    "start_time": "2024-04-04T09:10:50.331Z"
   },
   {
    "duration": 55,
    "start_time": "2024-04-04T09:11:10.849Z"
   },
   {
    "duration": 150,
    "start_time": "2024-04-04T09:11:50.905Z"
   },
   {
    "duration": 153,
    "start_time": "2024-04-04T09:11:58.382Z"
   },
   {
    "duration": 15,
    "start_time": "2024-04-04T09:12:16.463Z"
   },
   {
    "duration": 14,
    "start_time": "2024-04-04T09:12:20.905Z"
   },
   {
    "duration": 142,
    "start_time": "2024-04-04T09:12:33.093Z"
   },
   {
    "duration": 133,
    "start_time": "2024-04-04T09:13:09.003Z"
   },
   {
    "duration": 309,
    "start_time": "2024-04-04T09:14:14.390Z"
   },
   {
    "duration": 324,
    "start_time": "2024-04-04T09:14:36.233Z"
   },
   {
    "duration": 201,
    "start_time": "2024-04-04T09:14:49.435Z"
   },
   {
    "duration": 157,
    "start_time": "2024-04-04T09:15:00.073Z"
   },
   {
    "duration": 164,
    "start_time": "2024-04-04T09:15:10.362Z"
   },
   {
    "duration": 160,
    "start_time": "2024-04-04T09:15:22.705Z"
   },
   {
    "duration": 160,
    "start_time": "2024-04-04T09:15:39.780Z"
   },
   {
    "duration": 139,
    "start_time": "2024-04-04T09:16:10.121Z"
   },
   {
    "duration": 172,
    "start_time": "2024-04-04T09:16:42.358Z"
   },
   {
    "duration": 9,
    "start_time": "2024-04-04T09:17:03.535Z"
   },
   {
    "duration": 161,
    "start_time": "2024-04-04T09:17:52.411Z"
   },
   {
    "duration": 175,
    "start_time": "2024-04-04T09:18:23.073Z"
   },
   {
    "duration": 174,
    "start_time": "2024-04-04T09:18:36.910Z"
   },
   {
    "duration": 11,
    "start_time": "2024-04-04T09:19:11.825Z"
   },
   {
    "duration": 5,
    "start_time": "2024-04-04T09:19:13.929Z"
   },
   {
    "duration": 154,
    "start_time": "2024-04-04T09:19:15.272Z"
   },
   {
    "duration": 194,
    "start_time": "2024-04-04T09:20:01.272Z"
   },
   {
    "duration": 164,
    "start_time": "2024-04-04T09:20:46.687Z"
   },
   {
    "duration": 16,
    "start_time": "2024-04-04T09:20:59.133Z"
   },
   {
    "duration": 6,
    "start_time": "2024-04-04T09:21:02.398Z"
   },
   {
    "duration": 257,
    "start_time": "2024-04-04T09:21:09.754Z"
   },
   {
    "duration": 199,
    "start_time": "2024-04-04T09:21:34.260Z"
   },
   {
    "duration": 423,
    "start_time": "2024-04-04T09:22:32.211Z"
   },
   {
    "duration": 259,
    "start_time": "2024-04-04T09:22:46.682Z"
   },
   {
    "duration": 26,
    "start_time": "2024-04-04T09:22:55.275Z"
   },
   {
    "duration": 5,
    "start_time": "2024-04-04T09:22:57.571Z"
   },
   {
    "duration": 204,
    "start_time": "2024-04-04T09:23:42.967Z"
   },
   {
    "duration": 4,
    "start_time": "2024-04-04T09:24:25.954Z"
   },
   {
    "duration": 5,
    "start_time": "2024-04-04T09:24:34.951Z"
   },
   {
    "duration": 5,
    "start_time": "2024-04-04T09:24:57.587Z"
   },
   {
    "duration": 5,
    "start_time": "2024-04-04T09:25:25.540Z"
   },
   {
    "duration": 16,
    "start_time": "2024-04-04T09:25:30.415Z"
   },
   {
    "duration": 5,
    "start_time": "2024-04-04T09:25:34.135Z"
   },
   {
    "duration": 184,
    "start_time": "2024-04-04T09:26:25.463Z"
   },
   {
    "duration": 13,
    "start_time": "2024-04-04T09:26:35.749Z"
   },
   {
    "duration": 209,
    "start_time": "2024-04-04T09:27:55.441Z"
   },
   {
    "duration": 16,
    "start_time": "2024-04-04T09:28:20.199Z"
   },
   {
    "duration": 65,
    "start_time": "2024-04-04T09:29:09.380Z"
   },
   {
    "duration": 182,
    "start_time": "2024-04-04T09:29:31.578Z"
   },
   {
    "duration": 21,
    "start_time": "2024-04-04T09:29:42.712Z"
   },
   {
    "duration": 218,
    "start_time": "2024-04-04T09:30:49.472Z"
   },
   {
    "duration": 216,
    "start_time": "2024-04-04T09:31:04.647Z"
   },
   {
    "duration": 207,
    "start_time": "2024-04-04T09:31:33.982Z"
   },
   {
    "duration": 211,
    "start_time": "2024-04-04T09:32:10.550Z"
   },
   {
    "duration": 26,
    "start_time": "2024-04-04T09:32:23.037Z"
   },
   {
    "duration": 22,
    "start_time": "2024-04-04T09:32:29.851Z"
   },
   {
    "duration": 147,
    "start_time": "2024-04-04T09:32:41.502Z"
   },
   {
    "duration": 1206,
    "start_time": "2024-04-04T09:34:04.722Z"
   },
   {
    "duration": 106,
    "start_time": "2024-04-04T09:34:05.930Z"
   },
   {
    "duration": 17,
    "start_time": "2024-04-04T09:34:06.037Z"
   },
   {
    "duration": 15,
    "start_time": "2024-04-04T09:34:06.056Z"
   },
   {
    "duration": 2118,
    "start_time": "2024-04-04T09:34:06.082Z"
   },
   {
    "duration": 4,
    "start_time": "2024-04-04T09:34:08.202Z"
   },
   {
    "duration": 32,
    "start_time": "2024-04-04T09:34:08.208Z"
   },
   {
    "duration": 1060,
    "start_time": "2024-04-04T09:34:08.242Z"
   },
   {
    "duration": 7,
    "start_time": "2024-04-04T09:34:09.304Z"
   },
   {
    "duration": 30,
    "start_time": "2024-04-04T09:34:09.314Z"
   },
   {
    "duration": 6,
    "start_time": "2024-04-04T09:34:09.345Z"
   },
   {
    "duration": 8,
    "start_time": "2024-04-04T09:34:09.352Z"
   },
   {
    "duration": 28,
    "start_time": "2024-04-04T09:34:09.362Z"
   },
   {
    "duration": 8,
    "start_time": "2024-04-04T09:34:09.392Z"
   },
   {
    "duration": 10,
    "start_time": "2024-04-04T09:34:09.402Z"
   },
   {
    "duration": 9,
    "start_time": "2024-04-04T09:34:09.413Z"
   },
   {
    "duration": 10,
    "start_time": "2024-04-04T09:34:09.423Z"
   },
   {
    "duration": 55,
    "start_time": "2024-04-04T09:34:09.435Z"
   },
   {
    "duration": 7,
    "start_time": "2024-04-04T09:34:09.493Z"
   },
   {
    "duration": 9,
    "start_time": "2024-04-04T09:34:09.502Z"
   },
   {
    "duration": 14,
    "start_time": "2024-04-04T09:34:09.513Z"
   },
   {
    "duration": 53,
    "start_time": "2024-04-04T09:34:09.529Z"
   },
   {
    "duration": 9,
    "start_time": "2024-04-04T09:34:09.584Z"
   },
   {
    "duration": 15,
    "start_time": "2024-04-04T09:34:09.596Z"
   },
   {
    "duration": 11,
    "start_time": "2024-04-04T09:34:09.613Z"
   },
   {
    "duration": 7,
    "start_time": "2024-04-04T09:34:09.626Z"
   },
   {
    "duration": 54,
    "start_time": "2024-04-04T09:34:09.635Z"
   },
   {
    "duration": 7,
    "start_time": "2024-04-04T09:34:09.696Z"
   },
   {
    "duration": 12,
    "start_time": "2024-04-04T09:34:09.704Z"
   },
   {
    "duration": 19,
    "start_time": "2024-04-04T09:34:09.717Z"
   },
   {
    "duration": 12,
    "start_time": "2024-04-04T09:34:09.738Z"
   },
   {
    "duration": 48,
    "start_time": "2024-04-04T09:34:09.752Z"
   },
   {
    "duration": 166,
    "start_time": "2024-04-04T09:34:09.802Z"
   },
   {
    "duration": 26,
    "start_time": "2024-04-04T09:34:09.969Z"
   },
   {
    "duration": 8,
    "start_time": "2024-04-04T09:34:09.997Z"
   },
   {
    "duration": 12,
    "start_time": "2024-04-04T09:34:10.007Z"
   },
   {
    "duration": 13,
    "start_time": "2024-04-04T09:34:10.022Z"
   },
   {
    "duration": 12,
    "start_time": "2024-04-04T09:34:10.037Z"
   },
   {
    "duration": 32,
    "start_time": "2024-04-04T09:34:10.050Z"
   },
   {
    "duration": 14,
    "start_time": "2024-04-04T09:34:10.084Z"
   },
   {
    "duration": 12,
    "start_time": "2024-04-04T09:34:10.099Z"
   },
   {
    "duration": 9,
    "start_time": "2024-04-04T09:34:10.113Z"
   },
   {
    "duration": 10,
    "start_time": "2024-04-04T09:34:10.124Z"
   },
   {
    "duration": 390,
    "start_time": "2024-04-04T09:34:10.136Z"
   },
   {
    "duration": 7,
    "start_time": "2024-04-04T09:34:10.527Z"
   },
   {
    "duration": 8,
    "start_time": "2024-04-04T09:34:10.536Z"
   },
   {
    "duration": 314,
    "start_time": "2024-04-04T09:34:10.546Z"
   },
   {
    "duration": 22,
    "start_time": "2024-04-04T09:34:10.862Z"
   },
   {
    "duration": 170,
    "start_time": "2024-04-04T09:34:10.889Z"
   },
   {
    "duration": 23,
    "start_time": "2024-04-04T09:34:11.060Z"
   },
   {
    "duration": 187,
    "start_time": "2024-04-04T09:34:11.086Z"
   },
   {
    "duration": 11,
    "start_time": "2024-04-04T09:34:11.275Z"
   },
   {
    "duration": 166,
    "start_time": "2024-04-04T09:34:11.288Z"
   },
   {
    "duration": 9,
    "start_time": "2024-04-04T09:34:11.456Z"
   },
   {
    "duration": 304,
    "start_time": "2024-04-04T09:34:11.466Z"
   },
   {
    "duration": 15,
    "start_time": "2024-04-04T09:34:11.772Z"
   },
   {
    "duration": 153,
    "start_time": "2024-04-04T09:34:11.789Z"
   },
   {
    "duration": 11,
    "start_time": "2024-04-04T09:34:11.943Z"
   },
   {
    "duration": 172,
    "start_time": "2024-04-04T09:34:11.956Z"
   },
   {
    "duration": 9,
    "start_time": "2024-04-04T09:34:12.130Z"
   },
   {
    "duration": 196,
    "start_time": "2024-04-04T09:34:12.141Z"
   },
   {
    "duration": 9,
    "start_time": "2024-04-04T09:34:12.339Z"
   },
   {
    "duration": 202,
    "start_time": "2024-04-04T09:34:12.349Z"
   },
   {
    "duration": 10,
    "start_time": "2024-04-04T09:34:12.554Z"
   },
   {
    "duration": 18,
    "start_time": "2024-04-04T09:34:12.566Z"
   },
   {
    "duration": 195,
    "start_time": "2024-04-04T09:34:12.587Z"
   },
   {
    "duration": 28,
    "start_time": "2024-04-04T09:34:12.785Z"
   },
   {
    "duration": 5,
    "start_time": "2024-04-04T09:34:12.815Z"
   },
   {
    "duration": 329,
    "start_time": "2024-04-04T09:34:12.821Z"
   },
   {
    "duration": 31,
    "start_time": "2024-04-04T09:34:13.152Z"
   },
   {
    "duration": 12,
    "start_time": "2024-04-04T09:34:13.186Z"
   },
   {
    "duration": 248,
    "start_time": "2024-04-04T09:34:13.200Z"
   },
   {
    "duration": 16,
    "start_time": "2024-04-04T09:34:13.450Z"
   },
   {
    "duration": 4,
    "start_time": "2024-04-04T09:34:13.468Z"
   },
   {
    "duration": 221,
    "start_time": "2024-04-04T09:34:13.484Z"
   },
   {
    "duration": 15,
    "start_time": "2024-04-04T09:34:13.707Z"
   },
   {
    "duration": 4,
    "start_time": "2024-04-04T09:34:13.723Z"
   },
   {
    "duration": 239,
    "start_time": "2024-04-04T09:34:13.729Z"
   },
   {
    "duration": 23,
    "start_time": "2024-04-04T09:34:13.970Z"
   },
   {
    "duration": 230,
    "start_time": "2024-04-04T09:34:13.995Z"
   },
   {
    "duration": 21,
    "start_time": "2024-04-04T09:34:14.227Z"
   },
   {
    "duration": 344,
    "start_time": "2024-04-04T09:34:14.254Z"
   },
   {
    "duration": 232,
    "start_time": "2024-04-04T09:34:14.600Z"
   },
   {
    "duration": 229,
    "start_time": "2024-04-04T09:34:14.833Z"
   },
   {
    "duration": 39,
    "start_time": "2024-04-04T09:34:15.064Z"
   },
   {
    "duration": 110,
    "start_time": "2024-04-04T09:34:15.105Z"
   },
   {
    "duration": 190,
    "start_time": "2024-04-04T09:34:15.216Z"
   },
   {
    "duration": 425,
    "start_time": "2024-04-05T07:02:09.681Z"
   },
   {
    "duration": 0,
    "start_time": "2024-04-05T07:02:10.110Z"
   },
   {
    "duration": 0,
    "start_time": "2024-04-05T07:02:10.111Z"
   },
   {
    "duration": 0,
    "start_time": "2024-04-05T07:02:10.112Z"
   },
   {
    "duration": 0,
    "start_time": "2024-04-05T07:02:10.113Z"
   },
   {
    "duration": 0,
    "start_time": "2024-04-05T07:02:10.114Z"
   },
   {
    "duration": 0,
    "start_time": "2024-04-05T07:02:10.114Z"
   },
   {
    "duration": 0,
    "start_time": "2024-04-05T07:02:10.115Z"
   },
   {
    "duration": 0,
    "start_time": "2024-04-05T07:02:10.116Z"
   },
   {
    "duration": 0,
    "start_time": "2024-04-05T07:02:10.117Z"
   },
   {
    "duration": 0,
    "start_time": "2024-04-05T07:02:10.118Z"
   },
   {
    "duration": 0,
    "start_time": "2024-04-05T07:02:10.118Z"
   },
   {
    "duration": 0,
    "start_time": "2024-04-05T07:02:10.119Z"
   },
   {
    "duration": 0,
    "start_time": "2024-04-05T07:02:10.120Z"
   },
   {
    "duration": 0,
    "start_time": "2024-04-05T07:02:10.121Z"
   },
   {
    "duration": 0,
    "start_time": "2024-04-05T07:02:10.122Z"
   },
   {
    "duration": 0,
    "start_time": "2024-04-05T07:02:10.123Z"
   },
   {
    "duration": 0,
    "start_time": "2024-04-05T07:02:10.123Z"
   },
   {
    "duration": 0,
    "start_time": "2024-04-05T07:02:10.124Z"
   },
   {
    "duration": 0,
    "start_time": "2024-04-05T07:02:10.124Z"
   },
   {
    "duration": 0,
    "start_time": "2024-04-05T07:02:10.125Z"
   },
   {
    "duration": 0,
    "start_time": "2024-04-05T07:02:10.125Z"
   },
   {
    "duration": 0,
    "start_time": "2024-04-05T07:02:10.126Z"
   },
   {
    "duration": 1,
    "start_time": "2024-04-05T07:02:10.126Z"
   },
   {
    "duration": 0,
    "start_time": "2024-04-05T07:02:10.127Z"
   },
   {
    "duration": 1,
    "start_time": "2024-04-05T07:02:10.127Z"
   },
   {
    "duration": 0,
    "start_time": "2024-04-05T07:02:10.128Z"
   },
   {
    "duration": 0,
    "start_time": "2024-04-05T07:02:10.130Z"
   },
   {
    "duration": 0,
    "start_time": "2024-04-05T07:02:10.131Z"
   },
   {
    "duration": 0,
    "start_time": "2024-04-05T07:02:10.132Z"
   },
   {
    "duration": 0,
    "start_time": "2024-04-05T07:02:10.133Z"
   },
   {
    "duration": 0,
    "start_time": "2024-04-05T07:02:10.134Z"
   },
   {
    "duration": 0,
    "start_time": "2024-04-05T07:02:10.135Z"
   },
   {
    "duration": 0,
    "start_time": "2024-04-05T07:02:10.136Z"
   },
   {
    "duration": 0,
    "start_time": "2024-04-05T07:02:10.137Z"
   },
   {
    "duration": 0,
    "start_time": "2024-04-05T07:02:10.138Z"
   },
   {
    "duration": 0,
    "start_time": "2024-04-05T07:02:10.184Z"
   },
   {
    "duration": 0,
    "start_time": "2024-04-05T07:02:10.185Z"
   },
   {
    "duration": 0,
    "start_time": "2024-04-05T07:02:10.186Z"
   },
   {
    "duration": 0,
    "start_time": "2024-04-05T07:02:10.187Z"
   },
   {
    "duration": 0,
    "start_time": "2024-04-05T07:02:10.187Z"
   },
   {
    "duration": 0,
    "start_time": "2024-04-05T07:02:10.188Z"
   },
   {
    "duration": 0,
    "start_time": "2024-04-05T07:02:10.189Z"
   },
   {
    "duration": 0,
    "start_time": "2024-04-05T07:02:10.190Z"
   },
   {
    "duration": 0,
    "start_time": "2024-04-05T07:02:10.190Z"
   },
   {
    "duration": 0,
    "start_time": "2024-04-05T07:02:10.191Z"
   },
   {
    "duration": 0,
    "start_time": "2024-04-05T07:02:10.192Z"
   },
   {
    "duration": 0,
    "start_time": "2024-04-05T07:02:10.193Z"
   },
   {
    "duration": 0,
    "start_time": "2024-04-05T07:02:10.195Z"
   },
   {
    "duration": 0,
    "start_time": "2024-04-05T07:02:10.195Z"
   },
   {
    "duration": 0,
    "start_time": "2024-04-05T07:02:10.196Z"
   },
   {
    "duration": 0,
    "start_time": "2024-04-05T07:02:10.197Z"
   },
   {
    "duration": 0,
    "start_time": "2024-04-05T07:02:10.198Z"
   },
   {
    "duration": 0,
    "start_time": "2024-04-05T07:02:10.199Z"
   },
   {
    "duration": 0,
    "start_time": "2024-04-05T07:02:10.200Z"
   },
   {
    "duration": 0,
    "start_time": "2024-04-05T07:02:10.200Z"
   },
   {
    "duration": 0,
    "start_time": "2024-04-05T07:02:10.201Z"
   },
   {
    "duration": 0,
    "start_time": "2024-04-05T07:02:10.202Z"
   },
   {
    "duration": 0,
    "start_time": "2024-04-05T07:02:10.202Z"
   },
   {
    "duration": 0,
    "start_time": "2024-04-05T07:02:10.203Z"
   },
   {
    "duration": 0,
    "start_time": "2024-04-05T07:02:10.204Z"
   },
   {
    "duration": 0,
    "start_time": "2024-04-05T07:02:10.204Z"
   },
   {
    "duration": 0,
    "start_time": "2024-04-05T07:02:10.205Z"
   },
   {
    "duration": 0,
    "start_time": "2024-04-05T07:02:10.206Z"
   },
   {
    "duration": 0,
    "start_time": "2024-04-05T07:02:10.207Z"
   },
   {
    "duration": 0,
    "start_time": "2024-04-05T07:02:10.208Z"
   },
   {
    "duration": 0,
    "start_time": "2024-04-05T07:02:10.209Z"
   },
   {
    "duration": 0,
    "start_time": "2024-04-05T07:02:10.210Z"
   },
   {
    "duration": 0,
    "start_time": "2024-04-05T07:02:10.210Z"
   },
   {
    "duration": 0,
    "start_time": "2024-04-05T07:02:10.211Z"
   },
   {
    "duration": 0,
    "start_time": "2024-04-05T07:02:10.212Z"
   },
   {
    "duration": 0,
    "start_time": "2024-04-05T07:02:10.213Z"
   },
   {
    "duration": 0,
    "start_time": "2024-04-05T07:02:10.214Z"
   },
   {
    "duration": 0,
    "start_time": "2024-04-05T07:02:10.214Z"
   },
   {
    "duration": 0,
    "start_time": "2024-04-05T07:02:10.215Z"
   },
   {
    "duration": 0,
    "start_time": "2024-04-05T07:02:10.216Z"
   },
   {
    "duration": 0,
    "start_time": "2024-04-05T07:02:10.217Z"
   },
   {
    "duration": 0,
    "start_time": "2024-04-05T07:02:10.217Z"
   },
   {
    "duration": 0,
    "start_time": "2024-04-05T07:02:10.218Z"
   },
   {
    "duration": 0,
    "start_time": "2024-04-05T07:02:10.219Z"
   },
   {
    "duration": 0,
    "start_time": "2024-04-05T07:02:10.220Z"
   },
   {
    "duration": 0,
    "start_time": "2024-04-05T07:02:10.221Z"
   },
   {
    "duration": 0,
    "start_time": "2024-04-05T07:02:10.284Z"
   },
   {
    "duration": 0,
    "start_time": "2024-04-05T07:02:10.285Z"
   },
   {
    "duration": 0,
    "start_time": "2024-04-05T07:02:10.286Z"
   },
   {
    "duration": 0,
    "start_time": "2024-04-05T07:02:10.287Z"
   },
   {
    "duration": 0,
    "start_time": "2024-04-05T07:02:10.288Z"
   },
   {
    "duration": 398,
    "start_time": "2024-04-05T07:02:37.943Z"
   },
   {
    "duration": 0,
    "start_time": "2024-04-05T07:02:38.344Z"
   },
   {
    "duration": 0,
    "start_time": "2024-04-05T07:02:38.345Z"
   },
   {
    "duration": 0,
    "start_time": "2024-04-05T07:02:38.346Z"
   },
   {
    "duration": 0,
    "start_time": "2024-04-05T07:02:38.347Z"
   },
   {
    "duration": 0,
    "start_time": "2024-04-05T07:02:38.348Z"
   },
   {
    "duration": 0,
    "start_time": "2024-04-05T07:02:38.349Z"
   },
   {
    "duration": 0,
    "start_time": "2024-04-05T07:02:38.350Z"
   },
   {
    "duration": 0,
    "start_time": "2024-04-05T07:02:38.351Z"
   },
   {
    "duration": 0,
    "start_time": "2024-04-05T07:02:38.351Z"
   },
   {
    "duration": 0,
    "start_time": "2024-04-05T07:02:38.352Z"
   },
   {
    "duration": 0,
    "start_time": "2024-04-05T07:02:38.353Z"
   },
   {
    "duration": 0,
    "start_time": "2024-04-05T07:02:38.354Z"
   },
   {
    "duration": 0,
    "start_time": "2024-04-05T07:02:38.355Z"
   },
   {
    "duration": 0,
    "start_time": "2024-04-05T07:02:38.355Z"
   },
   {
    "duration": 0,
    "start_time": "2024-04-05T07:02:38.356Z"
   },
   {
    "duration": 0,
    "start_time": "2024-04-05T07:02:38.357Z"
   },
   {
    "duration": 0,
    "start_time": "2024-04-05T07:02:38.387Z"
   },
   {
    "duration": 0,
    "start_time": "2024-04-05T07:02:38.390Z"
   },
   {
    "duration": 0,
    "start_time": "2024-04-05T07:02:38.391Z"
   },
   {
    "duration": 0,
    "start_time": "2024-04-05T07:02:38.392Z"
   },
   {
    "duration": 0,
    "start_time": "2024-04-05T07:02:38.393Z"
   },
   {
    "duration": 0,
    "start_time": "2024-04-05T07:02:38.395Z"
   },
   {
    "duration": 0,
    "start_time": "2024-04-05T07:02:38.396Z"
   },
   {
    "duration": 0,
    "start_time": "2024-04-05T07:02:38.397Z"
   },
   {
    "duration": 0,
    "start_time": "2024-04-05T07:02:38.398Z"
   },
   {
    "duration": 0,
    "start_time": "2024-04-05T07:02:38.399Z"
   },
   {
    "duration": 0,
    "start_time": "2024-04-05T07:02:38.400Z"
   },
   {
    "duration": 0,
    "start_time": "2024-04-05T07:02:38.401Z"
   },
   {
    "duration": 0,
    "start_time": "2024-04-05T07:02:38.401Z"
   },
   {
    "duration": 0,
    "start_time": "2024-04-05T07:02:38.402Z"
   },
   {
    "duration": 0,
    "start_time": "2024-04-05T07:02:38.402Z"
   },
   {
    "duration": 0,
    "start_time": "2024-04-05T07:02:38.404Z"
   },
   {
    "duration": 0,
    "start_time": "2024-04-05T07:02:38.404Z"
   },
   {
    "duration": 0,
    "start_time": "2024-04-05T07:02:38.405Z"
   },
   {
    "duration": 0,
    "start_time": "2024-04-05T07:02:38.406Z"
   },
   {
    "duration": 0,
    "start_time": "2024-04-05T07:02:38.407Z"
   },
   {
    "duration": 0,
    "start_time": "2024-04-05T07:02:38.407Z"
   },
   {
    "duration": 0,
    "start_time": "2024-04-05T07:02:38.408Z"
   },
   {
    "duration": 0,
    "start_time": "2024-04-05T07:02:38.409Z"
   },
   {
    "duration": 0,
    "start_time": "2024-04-05T07:02:38.409Z"
   },
   {
    "duration": 0,
    "start_time": "2024-04-05T07:02:38.410Z"
   },
   {
    "duration": 0,
    "start_time": "2024-04-05T07:02:38.411Z"
   },
   {
    "duration": 0,
    "start_time": "2024-04-05T07:02:38.412Z"
   },
   {
    "duration": 0,
    "start_time": "2024-04-05T07:02:38.412Z"
   },
   {
    "duration": 0,
    "start_time": "2024-04-05T07:02:38.413Z"
   },
   {
    "duration": 0,
    "start_time": "2024-04-05T07:02:38.414Z"
   },
   {
    "duration": 0,
    "start_time": "2024-04-05T07:02:38.414Z"
   },
   {
    "duration": 0,
    "start_time": "2024-04-05T07:02:38.415Z"
   },
   {
    "duration": 0,
    "start_time": "2024-04-05T07:02:38.416Z"
   },
   {
    "duration": 0,
    "start_time": "2024-04-05T07:02:38.416Z"
   },
   {
    "duration": 0,
    "start_time": "2024-04-05T07:02:38.417Z"
   },
   {
    "duration": 0,
    "start_time": "2024-04-05T07:02:38.418Z"
   },
   {
    "duration": 0,
    "start_time": "2024-04-05T07:02:38.419Z"
   },
   {
    "duration": 0,
    "start_time": "2024-04-05T07:02:38.420Z"
   },
   {
    "duration": 0,
    "start_time": "2024-04-05T07:02:38.421Z"
   },
   {
    "duration": 0,
    "start_time": "2024-04-05T07:02:38.422Z"
   },
   {
    "duration": 0,
    "start_time": "2024-04-05T07:02:38.423Z"
   },
   {
    "duration": 0,
    "start_time": "2024-04-05T07:02:38.423Z"
   },
   {
    "duration": 0,
    "start_time": "2024-04-05T07:02:38.424Z"
   },
   {
    "duration": 0,
    "start_time": "2024-04-05T07:02:38.487Z"
   },
   {
    "duration": 0,
    "start_time": "2024-04-05T07:02:38.488Z"
   },
   {
    "duration": 0,
    "start_time": "2024-04-05T07:02:38.489Z"
   },
   {
    "duration": 0,
    "start_time": "2024-04-05T07:02:38.490Z"
   },
   {
    "duration": 0,
    "start_time": "2024-04-05T07:02:38.491Z"
   },
   {
    "duration": 0,
    "start_time": "2024-04-05T07:02:38.491Z"
   },
   {
    "duration": 0,
    "start_time": "2024-04-05T07:02:38.493Z"
   },
   {
    "duration": 0,
    "start_time": "2024-04-05T07:02:38.494Z"
   },
   {
    "duration": 0,
    "start_time": "2024-04-05T07:02:38.495Z"
   },
   {
    "duration": 0,
    "start_time": "2024-04-05T07:02:38.496Z"
   },
   {
    "duration": 0,
    "start_time": "2024-04-05T07:02:38.497Z"
   },
   {
    "duration": 0,
    "start_time": "2024-04-05T07:02:38.498Z"
   },
   {
    "duration": 0,
    "start_time": "2024-04-05T07:02:38.499Z"
   },
   {
    "duration": 0,
    "start_time": "2024-04-05T07:02:38.500Z"
   },
   {
    "duration": 0,
    "start_time": "2024-04-05T07:02:38.501Z"
   },
   {
    "duration": 0,
    "start_time": "2024-04-05T07:02:38.502Z"
   },
   {
    "duration": 0,
    "start_time": "2024-04-05T07:02:38.503Z"
   },
   {
    "duration": 0,
    "start_time": "2024-04-05T07:02:38.504Z"
   },
   {
    "duration": 0,
    "start_time": "2024-04-05T07:02:38.505Z"
   },
   {
    "duration": 0,
    "start_time": "2024-04-05T07:02:38.506Z"
   },
   {
    "duration": 0,
    "start_time": "2024-04-05T07:02:38.506Z"
   },
   {
    "duration": 0,
    "start_time": "2024-04-05T07:02:38.507Z"
   },
   {
    "duration": 0,
    "start_time": "2024-04-05T07:02:38.508Z"
   },
   {
    "duration": 0,
    "start_time": "2024-04-05T07:02:38.508Z"
   },
   {
    "duration": 0,
    "start_time": "2024-04-05T07:02:38.509Z"
   },
   {
    "duration": 0,
    "start_time": "2024-04-05T07:02:38.510Z"
   },
   {
    "duration": 0,
    "start_time": "2024-04-05T07:02:38.510Z"
   },
   {
    "duration": 3380,
    "start_time": "2024-04-05T07:04:53.220Z"
   },
   {
    "duration": 840,
    "start_time": "2024-04-05T07:05:06.121Z"
   },
   {
    "duration": 273,
    "start_time": "2024-04-05T07:05:14.362Z"
   },
   {
    "duration": 1079,
    "start_time": "2024-04-05T07:05:53.808Z"
   },
   {
    "duration": 90,
    "start_time": "2024-04-05T07:06:00.978Z"
   },
   {
    "duration": 13,
    "start_time": "2024-04-05T07:06:04.545Z"
   },
   {
    "duration": 14,
    "start_time": "2024-04-05T07:06:29.804Z"
   },
   {
    "duration": 1782,
    "start_time": "2024-04-05T07:06:32.209Z"
   },
   {
    "duration": 5,
    "start_time": "2024-04-05T07:06:37.973Z"
   },
   {
    "duration": 8,
    "start_time": "2024-04-05T07:06:42.630Z"
   },
   {
    "duration": 1014,
    "start_time": "2024-04-05T07:06:44.161Z"
   },
   {
    "duration": 10,
    "start_time": "2024-04-05T07:07:17.590Z"
   },
   {
    "duration": 31,
    "start_time": "2024-04-05T07:07:23.171Z"
   },
   {
    "duration": 10,
    "start_time": "2024-04-05T07:07:26.390Z"
   },
   {
    "duration": 4,
    "start_time": "2024-04-05T07:07:28.340Z"
   },
   {
    "duration": 9,
    "start_time": "2024-04-05T07:07:31.802Z"
   },
   {
    "duration": 8,
    "start_time": "2024-04-05T07:07:33.901Z"
   },
   {
    "duration": 8,
    "start_time": "2024-04-05T07:07:36.248Z"
   },
   {
    "duration": 7,
    "start_time": "2024-04-05T07:07:38.962Z"
   },
   {
    "duration": 7,
    "start_time": "2024-04-05T07:08:26.655Z"
   },
   {
    "duration": 8,
    "start_time": "2024-04-05T07:08:29.195Z"
   },
   {
    "duration": 5,
    "start_time": "2024-04-05T07:08:31.558Z"
   },
   {
    "duration": 7,
    "start_time": "2024-04-05T07:08:39.163Z"
   },
   {
    "duration": 7,
    "start_time": "2024-04-05T07:08:41.023Z"
   },
   {
    "duration": 12,
    "start_time": "2024-04-05T07:08:42.792Z"
   },
   {
    "duration": 8,
    "start_time": "2024-04-05T07:08:43.179Z"
   },
   {
    "duration": 7,
    "start_time": "2024-04-05T07:08:44.539Z"
   },
   {
    "duration": 6,
    "start_time": "2024-04-05T07:08:45.375Z"
   },
   {
    "duration": 5,
    "start_time": "2024-04-05T07:08:49.258Z"
   },
   {
    "duration": 10,
    "start_time": "2024-04-05T07:08:51.755Z"
   },
   {
    "duration": 5,
    "start_time": "2024-04-05T07:08:52.972Z"
   },
   {
    "duration": 12,
    "start_time": "2024-04-05T07:08:53.392Z"
   },
   {
    "duration": 9,
    "start_time": "2024-04-05T07:08:54.253Z"
   },
   {
    "duration": 9,
    "start_time": "2024-04-05T07:08:55.699Z"
   },
   {
    "duration": 15,
    "start_time": "2024-04-05T07:08:57.661Z"
   },
   {
    "duration": 108,
    "start_time": "2024-04-05T07:08:58.156Z"
   },
   {
    "duration": 10,
    "start_time": "2024-04-05T07:08:59.713Z"
   },
   {
    "duration": 4,
    "start_time": "2024-04-05T07:09:00.834Z"
   },
   {
    "duration": 8,
    "start_time": "2024-04-05T07:09:01.293Z"
   },
   {
    "duration": 4,
    "start_time": "2024-04-05T07:09:07.258Z"
   },
   {
    "duration": 6,
    "start_time": "2024-04-05T07:09:08.797Z"
   },
   {
    "duration": 4,
    "start_time": "2024-04-05T07:09:09.312Z"
   },
   {
    "duration": 10,
    "start_time": "2024-04-05T07:09:11.114Z"
   },
   {
    "duration": 5,
    "start_time": "2024-04-05T07:09:11.702Z"
   },
   {
    "duration": 5,
    "start_time": "2024-04-05T07:09:12.868Z"
   },
   {
    "duration": 6,
    "start_time": "2024-04-05T07:09:18.833Z"
   },
   {
    "duration": 317,
    "start_time": "2024-04-05T07:09:21.373Z"
   },
   {
    "duration": 9,
    "start_time": "2024-04-05T07:09:26.588Z"
   },
   {
    "duration": 7,
    "start_time": "2024-04-05T07:09:32.063Z"
   },
   {
    "duration": 239,
    "start_time": "2024-04-05T07:09:32.590Z"
   },
   {
    "duration": 14,
    "start_time": "2024-04-05T07:09:48.080Z"
   },
   {
    "duration": 114,
    "start_time": "2024-04-05T07:09:48.853Z"
   },
   {
    "duration": 7,
    "start_time": "2024-04-05T07:09:57.301Z"
   },
   {
    "duration": 128,
    "start_time": "2024-04-05T07:09:58.593Z"
   },
   {
    "duration": 7,
    "start_time": "2024-04-05T07:10:02.643Z"
   },
   {
    "duration": 123,
    "start_time": "2024-04-05T07:10:07.495Z"
   },
   {
    "duration": 6,
    "start_time": "2024-04-05T07:10:14.467Z"
   },
   {
    "duration": 214,
    "start_time": "2024-04-05T07:10:15.665Z"
   },
   {
    "duration": 7,
    "start_time": "2024-04-05T07:10:21.945Z"
   },
   {
    "duration": 117,
    "start_time": "2024-04-05T07:10:22.713Z"
   },
   {
    "duration": 7,
    "start_time": "2024-04-05T07:10:26.554Z"
   },
   {
    "duration": 113,
    "start_time": "2024-04-05T07:10:27.207Z"
   },
   {
    "duration": 13,
    "start_time": "2024-04-05T07:10:31.084Z"
   },
   {
    "duration": 131,
    "start_time": "2024-04-05T07:10:31.766Z"
   },
   {
    "duration": 8,
    "start_time": "2024-04-05T07:10:36.324Z"
   },
   {
    "duration": 133,
    "start_time": "2024-04-05T07:10:37.495Z"
   },
   {
    "duration": 7,
    "start_time": "2024-04-05T07:10:40.862Z"
   },
   {
    "duration": 5,
    "start_time": "2024-04-05T07:10:42.215Z"
   },
   {
    "duration": 136,
    "start_time": "2024-04-05T07:10:43.007Z"
   },
   {
    "duration": 16,
    "start_time": "2024-04-05T07:13:16.946Z"
   },
   {
    "duration": 4,
    "start_time": "2024-04-05T07:13:19.647Z"
   },
   {
    "duration": 244,
    "start_time": "2024-04-05T07:13:20.742Z"
   },
   {
    "duration": 13,
    "start_time": "2024-04-05T07:13:29.413Z"
   },
   {
    "duration": 3,
    "start_time": "2024-04-05T07:13:30.003Z"
   },
   {
    "duration": 173,
    "start_time": "2024-04-05T07:13:31.523Z"
   },
   {
    "duration": 78,
    "start_time": "2024-04-05T07:14:10.503Z"
   },
   {
    "duration": 241,
    "start_time": "2024-04-05T07:14:14.345Z"
   },
   {
    "duration": 317,
    "start_time": "2024-04-05T07:16:10.690Z"
   },
   {
    "duration": 375,
    "start_time": "2024-04-05T07:16:35.732Z"
   },
   {
    "duration": 250,
    "start_time": "2024-04-05T07:16:59.583Z"
   },
   {
    "duration": 1203,
    "start_time": "2024-04-05T07:17:10.932Z"
   },
   {
    "duration": 92,
    "start_time": "2024-04-05T07:18:41.818Z"
   },
   {
    "duration": 1914,
    "start_time": "2024-04-05T07:19:21.924Z"
   },
   {
    "duration": 4,
    "start_time": "2024-04-05T07:19:23.840Z"
   },
   {
    "duration": 1346,
    "start_time": "2024-04-05T07:19:46.586Z"
   },
   {
    "duration": 1336,
    "start_time": "2024-04-05T07:19:59.601Z"
   },
   {
    "duration": 413,
    "start_time": "2024-04-05T07:21:46.704Z"
   },
   {
    "duration": 1383,
    "start_time": "2024-04-05T07:22:09.718Z"
   },
   {
    "duration": 1419,
    "start_time": "2024-04-05T07:22:52.819Z"
   },
   {
    "duration": 1380,
    "start_time": "2024-04-05T07:23:34.350Z"
   },
   {
    "duration": 1361,
    "start_time": "2024-04-05T07:24:44.704Z"
   },
   {
    "duration": 415,
    "start_time": "2024-04-05T07:25:18.611Z"
   },
   {
    "duration": 489,
    "start_time": "2024-04-05T07:25:29.464Z"
   },
   {
    "duration": 1313,
    "start_time": "2024-04-05T07:25:35.988Z"
   },
   {
    "duration": 1376,
    "start_time": "2024-04-05T07:25:42.267Z"
   },
   {
    "duration": 1232,
    "start_time": "2024-04-05T07:30:39.186Z"
   },
   {
    "duration": 1227,
    "start_time": "2024-04-05T07:31:07.163Z"
   },
   {
    "duration": 14,
    "start_time": "2024-04-05T07:40:42.066Z"
   },
   {
    "duration": 4,
    "start_time": "2024-04-05T07:40:45.135Z"
   },
   {
    "duration": 163,
    "start_time": "2024-04-05T07:40:46.992Z"
   },
   {
    "duration": 11,
    "start_time": "2024-04-05T07:40:49.232Z"
   },
   {
    "duration": 167,
    "start_time": "2024-04-05T07:40:51.808Z"
   },
   {
    "duration": 12,
    "start_time": "2024-04-05T07:40:55.006Z"
   },
   {
    "duration": 149,
    "start_time": "2024-04-05T07:40:56.698Z"
   },
   {
    "duration": 17,
    "start_time": "2024-04-05T07:41:07.975Z"
   },
   {
    "duration": 190,
    "start_time": "2024-04-05T07:41:09.564Z"
   },
   {
    "duration": 179,
    "start_time": "2024-04-05T07:41:13.240Z"
   },
   {
    "duration": 211,
    "start_time": "2024-04-05T07:41:14.818Z"
   },
   {
    "duration": 18,
    "start_time": "2024-04-05T07:41:21.510Z"
   },
   {
    "duration": 46,
    "start_time": "2024-04-05T07:41:31.853Z"
   },
   {
    "duration": 84,
    "start_time": "2024-04-05T07:44:20.877Z"
   },
   {
    "duration": 76,
    "start_time": "2024-04-05T07:49:04.951Z"
   },
   {
    "duration": 75,
    "start_time": "2024-04-05T07:49:28.689Z"
   },
   {
    "duration": 475,
    "start_time": "2024-10-21T09:17:48.061Z"
   },
   {
    "duration": 0,
    "start_time": "2024-10-21T09:17:48.540Z"
   },
   {
    "duration": 0,
    "start_time": "2024-10-21T09:17:48.541Z"
   },
   {
    "duration": 0,
    "start_time": "2024-10-21T09:17:48.542Z"
   },
   {
    "duration": 0,
    "start_time": "2024-10-21T09:17:48.543Z"
   },
   {
    "duration": 0,
    "start_time": "2024-10-21T09:17:48.544Z"
   },
   {
    "duration": 0,
    "start_time": "2024-10-21T09:17:48.545Z"
   },
   {
    "duration": 0,
    "start_time": "2024-10-21T09:17:48.546Z"
   },
   {
    "duration": 0,
    "start_time": "2024-10-21T09:17:48.547Z"
   },
   {
    "duration": 0,
    "start_time": "2024-10-21T09:17:48.548Z"
   },
   {
    "duration": 0,
    "start_time": "2024-10-21T09:17:48.548Z"
   },
   {
    "duration": 0,
    "start_time": "2024-10-21T09:17:48.549Z"
   },
   {
    "duration": 0,
    "start_time": "2024-10-21T09:17:48.550Z"
   },
   {
    "duration": 0,
    "start_time": "2024-10-21T09:17:48.551Z"
   },
   {
    "duration": 0,
    "start_time": "2024-10-21T09:17:48.552Z"
   },
   {
    "duration": 0,
    "start_time": "2024-10-21T09:17:48.553Z"
   },
   {
    "duration": 0,
    "start_time": "2024-10-21T09:17:48.554Z"
   },
   {
    "duration": 0,
    "start_time": "2024-10-21T09:17:48.555Z"
   },
   {
    "duration": 0,
    "start_time": "2024-10-21T09:17:48.556Z"
   },
   {
    "duration": 0,
    "start_time": "2024-10-21T09:17:48.557Z"
   },
   {
    "duration": 0,
    "start_time": "2024-10-21T09:17:48.558Z"
   },
   {
    "duration": 0,
    "start_time": "2024-10-21T09:17:48.559Z"
   },
   {
    "duration": 0,
    "start_time": "2024-10-21T09:17:48.560Z"
   },
   {
    "duration": 0,
    "start_time": "2024-10-21T09:17:48.561Z"
   },
   {
    "duration": 0,
    "start_time": "2024-10-21T09:17:48.562Z"
   },
   {
    "duration": 0,
    "start_time": "2024-10-21T09:17:48.562Z"
   },
   {
    "duration": 0,
    "start_time": "2024-10-21T09:17:48.563Z"
   },
   {
    "duration": 0,
    "start_time": "2024-10-21T09:17:48.605Z"
   },
   {
    "duration": 0,
    "start_time": "2024-10-21T09:17:48.607Z"
   },
   {
    "duration": 0,
    "start_time": "2024-10-21T09:17:48.609Z"
   },
   {
    "duration": 0,
    "start_time": "2024-10-21T09:17:48.610Z"
   },
   {
    "duration": 0,
    "start_time": "2024-10-21T09:17:48.612Z"
   },
   {
    "duration": 0,
    "start_time": "2024-10-21T09:17:48.613Z"
   },
   {
    "duration": 0,
    "start_time": "2024-10-21T09:17:48.614Z"
   },
   {
    "duration": 0,
    "start_time": "2024-10-21T09:17:48.616Z"
   },
   {
    "duration": 0,
    "start_time": "2024-10-21T09:17:48.618Z"
   },
   {
    "duration": 0,
    "start_time": "2024-10-21T09:17:48.619Z"
   },
   {
    "duration": 0,
    "start_time": "2024-10-21T09:17:48.620Z"
   },
   {
    "duration": 0,
    "start_time": "2024-10-21T09:17:48.621Z"
   },
   {
    "duration": 0,
    "start_time": "2024-10-21T09:17:48.623Z"
   },
   {
    "duration": 0,
    "start_time": "2024-10-21T09:17:48.624Z"
   },
   {
    "duration": 0,
    "start_time": "2024-10-21T09:17:48.625Z"
   },
   {
    "duration": 0,
    "start_time": "2024-10-21T09:17:48.627Z"
   },
   {
    "duration": 0,
    "start_time": "2024-10-21T09:17:48.629Z"
   },
   {
    "duration": 0,
    "start_time": "2024-10-21T09:17:48.630Z"
   },
   {
    "duration": 0,
    "start_time": "2024-10-21T09:17:48.631Z"
   },
   {
    "duration": 0,
    "start_time": "2024-10-21T09:17:48.632Z"
   },
   {
    "duration": 0,
    "start_time": "2024-10-21T09:17:48.633Z"
   },
   {
    "duration": 0,
    "start_time": "2024-10-21T09:17:48.635Z"
   },
   {
    "duration": 0,
    "start_time": "2024-10-21T09:17:48.640Z"
   },
   {
    "duration": 0,
    "start_time": "2024-10-21T09:17:48.641Z"
   },
   {
    "duration": 0,
    "start_time": "2024-10-21T09:17:48.642Z"
   },
   {
    "duration": 0,
    "start_time": "2024-10-21T09:17:48.699Z"
   },
   {
    "duration": 0,
    "start_time": "2024-10-21T09:17:48.701Z"
   },
   {
    "duration": 0,
    "start_time": "2024-10-21T09:17:48.703Z"
   },
   {
    "duration": 0,
    "start_time": "2024-10-21T09:17:48.709Z"
   },
   {
    "duration": 0,
    "start_time": "2024-10-21T09:17:48.710Z"
   },
   {
    "duration": 0,
    "start_time": "2024-10-21T09:17:48.711Z"
   },
   {
    "duration": 0,
    "start_time": "2024-10-21T09:17:48.713Z"
   },
   {
    "duration": 0,
    "start_time": "2024-10-21T09:17:48.714Z"
   },
   {
    "duration": 0,
    "start_time": "2024-10-21T09:17:48.715Z"
   },
   {
    "duration": 0,
    "start_time": "2024-10-21T09:17:48.716Z"
   },
   {
    "duration": 0,
    "start_time": "2024-10-21T09:17:48.718Z"
   },
   {
    "duration": 0,
    "start_time": "2024-10-21T09:17:48.719Z"
   },
   {
    "duration": 0,
    "start_time": "2024-10-21T09:17:48.720Z"
   },
   {
    "duration": 0,
    "start_time": "2024-10-21T09:17:48.721Z"
   },
   {
    "duration": 0,
    "start_time": "2024-10-21T09:17:48.722Z"
   },
   {
    "duration": 0,
    "start_time": "2024-10-21T09:17:48.724Z"
   },
   {
    "duration": 0,
    "start_time": "2024-10-21T09:17:48.725Z"
   },
   {
    "duration": 0,
    "start_time": "2024-10-21T09:17:48.727Z"
   },
   {
    "duration": 0,
    "start_time": "2024-10-21T09:17:48.728Z"
   },
   {
    "duration": 0,
    "start_time": "2024-10-21T09:17:48.729Z"
   },
   {
    "duration": 0,
    "start_time": "2024-10-21T09:17:48.730Z"
   },
   {
    "duration": 0,
    "start_time": "2024-10-21T09:17:48.731Z"
   },
   {
    "duration": 0,
    "start_time": "2024-10-21T09:17:48.732Z"
   },
   {
    "duration": 0,
    "start_time": "2024-10-21T09:17:48.733Z"
   },
   {
    "duration": 0,
    "start_time": "2024-10-21T09:17:48.735Z"
   },
   {
    "duration": 0,
    "start_time": "2024-10-21T09:17:48.736Z"
   },
   {
    "duration": 0,
    "start_time": "2024-10-21T09:17:48.737Z"
   },
   {
    "duration": 0,
    "start_time": "2024-10-21T09:17:48.737Z"
   },
   {
    "duration": 0,
    "start_time": "2024-10-21T09:17:48.738Z"
   },
   {
    "duration": 0,
    "start_time": "2024-10-21T09:17:48.739Z"
   },
   {
    "duration": 0,
    "start_time": "2024-10-21T09:17:48.800Z"
   },
   {
    "duration": 0,
    "start_time": "2024-10-21T09:17:48.802Z"
   },
   {
    "duration": 0,
    "start_time": "2024-10-21T09:17:48.803Z"
   },
   {
    "duration": 0,
    "start_time": "2024-10-21T09:17:48.804Z"
   },
   {
    "duration": 0,
    "start_time": "2024-10-21T09:17:48.806Z"
   },
   {
    "duration": 0,
    "start_time": "2024-10-21T09:17:48.807Z"
   },
   {
    "duration": 0,
    "start_time": "2024-10-21T09:17:48.808Z"
   },
   {
    "duration": 0,
    "start_time": "2024-10-21T09:17:48.809Z"
   },
   {
    "duration": 3492,
    "start_time": "2024-10-21T09:20:15.338Z"
   },
   {
    "duration": 2629,
    "start_time": "2024-10-21T09:20:25.264Z"
   },
   {
    "duration": 2524,
    "start_time": "2024-10-21T09:20:27.895Z"
   },
   {
    "duration": 175,
    "start_time": "2024-10-21T09:20:30.421Z"
   },
   {
    "duration": 20,
    "start_time": "2024-10-21T09:20:30.598Z"
   },
   {
    "duration": 88,
    "start_time": "2024-10-21T09:20:30.620Z"
   },
   {
    "duration": 2378,
    "start_time": "2024-10-21T09:20:30.711Z"
   },
   {
    "duration": 5,
    "start_time": "2024-10-21T09:20:33.092Z"
   },
   {
    "duration": 35,
    "start_time": "2024-10-21T09:20:33.099Z"
   },
   {
    "duration": 1225,
    "start_time": "2024-10-21T09:20:33.136Z"
   },
   {
    "duration": 7,
    "start_time": "2024-10-21T09:20:34.363Z"
   },
   {
    "duration": 54,
    "start_time": "2024-10-21T09:20:34.372Z"
   },
   {
    "duration": 10,
    "start_time": "2024-10-21T09:20:34.427Z"
   },
   {
    "duration": 9,
    "start_time": "2024-10-21T09:20:34.439Z"
   },
   {
    "duration": 14,
    "start_time": "2024-10-21T09:20:34.453Z"
   },
   {
    "duration": 32,
    "start_time": "2024-10-21T09:20:34.470Z"
   },
   {
    "duration": 15,
    "start_time": "2024-10-21T09:20:34.504Z"
   },
   {
    "duration": 39,
    "start_time": "2024-10-21T09:20:34.521Z"
   },
   {
    "duration": 12,
    "start_time": "2024-10-21T09:20:34.562Z"
   },
   {
    "duration": 34,
    "start_time": "2024-10-21T09:20:34.576Z"
   },
   {
    "duration": 29,
    "start_time": "2024-10-21T09:20:34.611Z"
   },
   {
    "duration": 20,
    "start_time": "2024-10-21T09:20:34.642Z"
   },
   {
    "duration": 11,
    "start_time": "2024-10-21T09:20:34.664Z"
   },
   {
    "duration": 29,
    "start_time": "2024-10-21T09:20:34.677Z"
   },
   {
    "duration": 17,
    "start_time": "2024-10-21T09:20:34.708Z"
   },
   {
    "duration": 19,
    "start_time": "2024-10-21T09:20:34.727Z"
   },
   {
    "duration": 50,
    "start_time": "2024-10-21T09:20:34.748Z"
   },
   {
    "duration": 7,
    "start_time": "2024-10-21T09:20:34.800Z"
   },
   {
    "duration": 22,
    "start_time": "2024-10-21T09:20:34.809Z"
   },
   {
    "duration": 29,
    "start_time": "2024-10-21T09:20:34.833Z"
   },
   {
    "duration": 19,
    "start_time": "2024-10-21T09:20:34.864Z"
   },
   {
    "duration": 25,
    "start_time": "2024-10-21T09:20:34.885Z"
   },
   {
    "duration": 13,
    "start_time": "2024-10-21T09:20:34.912Z"
   },
   {
    "duration": 31,
    "start_time": "2024-10-21T09:20:34.927Z"
   },
   {
    "duration": 143,
    "start_time": "2024-10-21T09:20:34.960Z"
   },
   {
    "duration": 24,
    "start_time": "2024-10-21T09:20:35.106Z"
   },
   {
    "duration": 23,
    "start_time": "2024-10-21T09:20:35.132Z"
   },
   {
    "duration": 43,
    "start_time": "2024-10-21T09:20:35.156Z"
   },
   {
    "duration": 19,
    "start_time": "2024-10-21T09:20:35.202Z"
   },
   {
    "duration": 100,
    "start_time": "2024-10-21T09:20:35.224Z"
   },
   {
    "duration": 84,
    "start_time": "2024-10-21T09:20:35.326Z"
   },
   {
    "duration": 28,
    "start_time": "2024-10-21T09:20:35.415Z"
   },
   {
    "duration": 38,
    "start_time": "2024-10-21T09:20:35.444Z"
   },
   {
    "duration": 32,
    "start_time": "2024-10-21T09:20:35.484Z"
   },
   {
    "duration": 33,
    "start_time": "2024-10-21T09:20:35.517Z"
   },
   {
    "duration": 373,
    "start_time": "2024-10-21T09:20:35.552Z"
   },
   {
    "duration": 8,
    "start_time": "2024-10-21T09:20:35.928Z"
   },
   {
    "duration": 34,
    "start_time": "2024-10-21T09:20:35.938Z"
   },
   {
    "duration": 308,
    "start_time": "2024-10-21T09:20:35.974Z"
   },
   {
    "duration": 32,
    "start_time": "2024-10-21T09:20:36.284Z"
   },
   {
    "duration": 154,
    "start_time": "2024-10-21T09:20:36.325Z"
   },
   {
    "duration": 9,
    "start_time": "2024-10-21T09:20:36.481Z"
   },
   {
    "duration": 168,
    "start_time": "2024-10-21T09:20:36.500Z"
   },
   {
    "duration": 9,
    "start_time": "2024-10-21T09:20:36.670Z"
   },
   {
    "duration": 381,
    "start_time": "2024-10-21T09:20:36.681Z"
   },
   {
    "duration": 9,
    "start_time": "2024-10-21T09:20:37.064Z"
   },
   {
    "duration": 186,
    "start_time": "2024-10-21T09:20:37.074Z"
   },
   {
    "duration": 9,
    "start_time": "2024-10-21T09:20:37.262Z"
   },
   {
    "duration": 187,
    "start_time": "2024-10-21T09:20:37.273Z"
   },
   {
    "duration": 8,
    "start_time": "2024-10-21T09:20:37.461Z"
   },
   {
    "duration": 165,
    "start_time": "2024-10-21T09:20:37.471Z"
   },
   {
    "duration": 8,
    "start_time": "2024-10-21T09:20:37.638Z"
   },
   {
    "duration": 222,
    "start_time": "2024-10-21T09:20:37.648Z"
   },
   {
    "duration": 10,
    "start_time": "2024-10-21T09:20:37.872Z"
   },
   {
    "duration": 190,
    "start_time": "2024-10-21T09:20:37.884Z"
   },
   {
    "duration": 10,
    "start_time": "2024-10-21T09:20:38.076Z"
   },
   {
    "duration": 83,
    "start_time": "2024-10-21T09:20:38.101Z"
   },
   {
    "duration": 1806,
    "start_time": "2024-10-21T09:20:38.186Z"
   },
   {
    "duration": 78,
    "start_time": "2024-10-21T09:20:39.993Z"
   },
   {
    "duration": 0,
    "start_time": "2024-10-21T09:20:40.073Z"
   },
   {
    "duration": 0,
    "start_time": "2024-10-21T09:20:40.075Z"
   },
   {
    "duration": 0,
    "start_time": "2024-10-21T09:20:40.076Z"
   },
   {
    "duration": 0,
    "start_time": "2024-10-21T09:20:40.077Z"
   },
   {
    "duration": 0,
    "start_time": "2024-10-21T09:20:40.079Z"
   },
   {
    "duration": 0,
    "start_time": "2024-10-21T09:20:40.080Z"
   },
   {
    "duration": 0,
    "start_time": "2024-10-21T09:20:40.082Z"
   },
   {
    "duration": 0,
    "start_time": "2024-10-21T09:20:40.083Z"
   },
   {
    "duration": 0,
    "start_time": "2024-10-21T09:20:40.084Z"
   },
   {
    "duration": 0,
    "start_time": "2024-10-21T09:20:40.085Z"
   },
   {
    "duration": 0,
    "start_time": "2024-10-21T09:20:40.087Z"
   },
   {
    "duration": 0,
    "start_time": "2024-10-21T09:20:40.088Z"
   },
   {
    "duration": 0,
    "start_time": "2024-10-21T09:20:40.090Z"
   },
   {
    "duration": 0,
    "start_time": "2024-10-21T09:20:40.091Z"
   },
   {
    "duration": 0,
    "start_time": "2024-10-21T09:20:40.092Z"
   },
   {
    "duration": 0,
    "start_time": "2024-10-21T09:20:40.093Z"
   },
   {
    "duration": 0,
    "start_time": "2024-10-21T09:20:40.094Z"
   },
   {
    "duration": 0,
    "start_time": "2024-10-21T09:20:40.096Z"
   },
   {
    "duration": 0,
    "start_time": "2024-10-21T09:20:40.096Z"
   },
   {
    "duration": 0,
    "start_time": "2024-10-21T09:20:40.097Z"
   },
   {
    "duration": 0,
    "start_time": "2024-10-21T09:20:40.098Z"
   },
   {
    "duration": 0,
    "start_time": "2024-10-21T09:20:40.104Z"
   }
  ],
  "colab": {
   "provenance": []
  },
  "kernelspec": {
   "display_name": "Python 3 (ipykernel)",
   "language": "python",
   "name": "python3"
  },
  "language_info": {
   "codemirror_mode": {
    "name": "ipython",
    "version": 3
   },
   "file_extension": ".py",
   "mimetype": "text/x-python",
   "name": "python",
   "nbconvert_exporter": "python",
   "pygments_lexer": "ipython3",
   "version": "3.9.5"
  },
  "toc": {
   "base_numbering": 1,
   "nav_menu": {},
   "number_sections": true,
   "sideBar": true,
   "skip_h1_title": true,
   "title_cell": "Table of Contents",
   "title_sidebar": "Contents",
   "toc_cell": false,
   "toc_position": {
    "height": "calc(100% - 180px)",
    "left": "10px",
    "top": "150px",
    "width": "299.5px"
   },
   "toc_section_display": true,
   "toc_window_display": true
  }
 },
 "nbformat": 4,
 "nbformat_minor": 1
}
